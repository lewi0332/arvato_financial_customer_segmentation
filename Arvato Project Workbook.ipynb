{
 "cells": [
  {
   "cell_type": "markdown",
   "metadata": {},
   "source": [
    "# Capstone Project: Create a Customer Segmentation Report for Arvato Financial Services\n",
    "\n",
    "In this project, you will analyze demographics data for customers of a mail-order sales company in Germany, comparing it against demographics information for the general population. You'll use unsupervised learning techniques to perform customer segmentation, identifying the parts of the population that best describe the core customer base of the company. Then, you'll apply what you've learned on a third dataset with demographics information for targets of a marketing campaign for the company, and use a model to predict which individuals are most likely to convert into becoming customers for the company. The data that you will use has been provided by our partners at Bertelsmann Arvato Analytics, and represents a real-life data science task.\n",
    "\n",
    "If you completed the first term of this program, you will be familiar with the first part of this project, from the unsupervised learning project. The versions of those two datasets used in this project will include many more features and has not been pre-cleaned. You are also free to choose whatever approach you'd like to analyzing the data rather than follow pre-determined steps. In your work on this project, make sure that you carefully document your steps and decisions, since your main deliverable for this project will be a blog post reporting your findings."
   ]
  },
  {
   "cell_type": "code",
   "execution_count": 2,
   "metadata": {},
   "outputs": [
    {
     "name": "stderr",
     "output_type": "stream",
     "text": [
      "Intel(R) Extension for Scikit-learn* enabled (https://github.com/intel/scikit-learn-intelex)\n"
     ]
    }
   ],
   "source": [
    "from sklearnex import patch_sklearn\n",
    "patch_sklearn()\n",
    "\n",
    "# import libraries here; add more as necessary\n",
    "import numpy as np\n",
    "import pandas as pd\n",
    "import pickle as pkl\n",
    "from pandas_profiling import ProfileReport\n",
    "from sklearn.decomposition import PCA\n",
    "from sklearn.preprocessing import StandardScaler\n",
    "from sklearn.impute import SimpleImputer, MissingIndicator\n",
    "from sklearn.pipeline import FeatureUnion, make_pipeline\n",
    "from sklearn.cluster import KMeans, MiniBatchKMeans\n",
    "from sklearn.metrics import roc_curve, auc\n",
    "from sklearn.model_selection import train_test_split, GridSearchCV\n",
    "from sklearn.pipeline import FeatureUnion, make_pipeline\n",
    "from sklearn.ensemble import AdaBoostClassifier\n",
    "import xgboost as xgb\n",
    "\n",
    "\n",
    "import plotly.graph_objects as go \n",
    "import plotly.express as px\n",
    "pd.options.plotting.backend = \"plotly\"\n",
    "\n",
    "import fohr_theme_light\n",
    "\n",
    "import plotly.io as pio\n",
    "pio.renderers.default = \"notebook_connected\"\n",
    "import chart_studio.plotly as py\n"
   ]
  },
  {
   "cell_type": "markdown",
   "metadata": {},
   "source": [
    "## Udacity Workspace not Useable. \n",
    "\n",
    "First step in this project is to move the data out of the Udacity workspace as the IDE on the site was not nearly capable of working on this project. The Udacity supplied IDE took 22 minutes just to load the data into memory. Thus, it clearly did not have the resources to perform machine learning tasks on such a large data set. \n",
    "\n",
    "So, the first step in this project was to get the data out of the Udacity Workspace and download it to my local maching. The workspace was so underpowered that I could not even convert the files to Parquet first to reduce network traffic and ease the burden of downloading to my local computer. In fact, it could not even handle the conda install to _attempt_ to get the libraries needed to save the file in Parquet format.\n",
    "\n",
    "**Convert Udacity Supplied data into Parquet format**. Once the data was on my local machine I decided to conver the data to Parquet anyway. Parquet is binary format that is not only compressed (uses 10x less space) but maintains data type. While Pandas has logic built in to determine the data type, in this case it was confused when given multiple data types in a single column and throws an error. Not only do I perfer to use parquet files to CSV for these and other reasons such as future compatibility with Spark, but, in this case, by converting to Parquet now I solve this datatype issue once. All future attempts to load the data in order to work on this project will be quicker and datatype-error free.\n",
    "\n",
    "1.  Fix the two columns in each csv file with multiple datatypes - The columns are categorical in nature and use an integer to label each category. As Integers are lightweight and respond to Sklearn's categorical features, I will convert the columns to integers \n",
    "\n",
    "2. Store the resulting dataframes as parquet files to use less space on my local machine and load faster on subsequent working sessions. "
   ]
  },
  {
   "cell_type": "code",
   "execution_count": 3,
   "metadata": {},
   "outputs": [
    {
     "data": {
      "text/plain": [
       "' \\nItems in this cell were run once to convert the data files into a Parquet format. \\n\\nTwo columns had to be pre-cleaned in order to store the parquet file in the correct \\ndata type. This is a key component of the project. Therefore I left this convert cell\\nto show the steps needed and will later clean more columns in a similar way.\\n'"
      ]
     },
     "execution_count": 3,
     "metadata": {},
     "output_type": "execute_result"
    }
   ],
   "source": [
    "''' \n",
    "Items in this cell were run once to convert the data files into a Parquet format. \n",
    "\n",
    "Two columns had to be pre-cleaned in order to store the parquet file in the correct \n",
    "data type. This is a key component of the project. Therefore I left this convert cell\n",
    "to show the steps needed and will later clean more columns in a similar way.\n",
    "'''\n",
    "\n",
    "# # load in the data\n",
    "# azdias = pd.read_csv('Udacity_AZDIAS_052018.csv')\n",
    "# customers = pd.read_csv('Udacity_CUSTOMERS_052018.csv')\n",
    "\n",
    "# # According to data map supplied \"-1\" means unknown. Fill non-integer numbers with np.nan and convert to float\n",
    "# azdias.CAMEO_DEUG_2015 = azdias.CAMEO_DEUG_2015.replace('X', np.NaN).astype(float)\n",
    "# azdias.CAMEO_INTL_2015 = azdias.CAMEO_INTL_2015.replace('XX', np.NaN).astype(float)\n",
    "\n",
    "# # According to data map supplied \"-1\" means unknown. Fill non-integer numbers with np.nan and convert to float\n",
    "# customers.CAMEO_DEUG_2015 = customers.CAMEO_DEUG_2015.replace('X',  np.NaN).astype(float)\n",
    "# customers.CAMEO_INTL_2015 = customers.CAMEO_INTL_2015.replace('XX',  np.NaN).astype(float)\n",
    "\n",
    "# azdias.to_parquet('Udacity_AZDIAS_052018.parquet')\n",
    "# customers.to_parquet('Udacity_CUSTOMERS_052018.parquet')"
   ]
  },
  {
   "cell_type": "markdown",
   "metadata": {},
   "source": [
    "## Part 0: Get to Know the Data\n",
    "\n",
    "There are four data files associated with this project:\n",
    "\n",
    "- `Udacity_AZDIAS_052018.csv`: Demographics data for the general population of Germany; 891 211 persons (rows) x 366 features (columns).\n",
    "- `Udacity_CUSTOMERS_052018.csv`: Demographics data for customers of a mail-order company; 191 652 persons (rows) x 369 features (columns).\n",
    "- `Udacity_MAILOUT_052018_TRAIN.csv`: Demographics data for individuals who were targets of a marketing campaign; 42 982 persons (rows) x 367 (columns).\n",
    "- `Udacity_MAILOUT_052018_TEST.csv`: Demographics data for individuals who were targets of a marketing campaign; 42 833 persons (rows) x 366 (columns).\n",
    "\n",
    "Each row of the demographics files represents a single person, but also includes information outside of individuals, including information about their household, building, and neighborhood. Use the information from the first two files to figure out how customers (\"CUSTOMERS\") are similar to or differ from the general population at large (\"AZDIAS\"), then use your analysis to make predictions on the other two files (\"MAILOUT\"), predicting which recipients are most likely to become a customer for the mail-order company.\n",
    "\n",
    "The \"CUSTOMERS\" file contains three extra columns ('CUSTOMER_GROUP', 'ONLINE_PURCHASE', and 'PRODUCT_GROUP'), which provide broad information about the customers depicted in the file. The original \"MAILOUT\" file included one additional column, \"RESPONSE\", which indicated whether or not each recipient became a customer of the company. For the \"TRAIN\" subset, this column has been retained, but in the \"TEST\" subset it has been removed; it is against that withheld column that your final predictions will be assessed in the Kaggle competition.\n",
    "\n",
    "Otherwise, all of the remaining columns are the same between the three data files. For more information about the columns depicted in the files, you can refer to two Excel spreadsheets provided in the workspace. [One of them](./DIAS Information Levels - Attributes 2017.xlsx) is a top-level list of attributes and descriptions, organized by informational category. [The other](./DIAS Attributes - Values 2017.xlsx) is a detailed mapping of data values for each feature in alphabetical order.\n",
    "\n",
    "In the below cell, we've provided some initial code to load in the first two datasets. Note for all of the `.csv` data files in this project that they're semicolon (`;`) delimited, so an additional argument in the [`read_csv()`](https://pandas.pydata.org/pandas-docs/stable/generated/pandas.read_csv.html) call has been included to read in the data properly. Also, considering the size of the datasets, it may take some time for them to load completely.\n",
    "\n",
    "You'll notice when the data is loaded in that a warning message will immediately pop up. Before you really start digging into the modeling and analysis, you're going to need to perform some cleaning. Take some time to browse the structure of the data and look over the informational spreadsheets to understand the data values. Make some decisions on which features to keep, which features to drop, and if any revisions need to be made on data formats. It'll be a good idea to create a function with pre-processing steps, since you'll need to clean all of the datasets before you work with them."
   ]
  },
  {
   "cell_type": "code",
   "execution_count": 4,
   "metadata": {},
   "outputs": [],
   "source": [
    "azdias = pd.read_parquet('Udacity_AZDIAS_052018.parquet')"
   ]
  },
  {
   "cell_type": "code",
   "execution_count": 5,
   "metadata": {},
   "outputs": [],
   "source": [
    "# profile = ProfileReport(azdias, minimal=True)"
   ]
  },
  {
   "cell_type": "code",
   "execution_count": 6,
   "metadata": {},
   "outputs": [],
   "source": [
    "# profile.to_file(\"output.html\")"
   ]
  },
  {
   "cell_type": "markdown",
   "metadata": {},
   "source": [
    "## Pandas Profile report\n",
    "One of my favorite tools for EDA is the Pandas Profiling library. This library automates the EDA tasks data scientists take on each day. The report outlines the distrobution of each column, its missing values, its data type and some very helpful tools in categorical columns. \n",
    "\n",
    "**In the real world** I would do most of my learning about the data and make most decision here with this html document. However, for the scope of this project, it is difficult to show the process with this tool. Thus I will create a few visuals to show highlight *some* of the decisions. \n",
    "\n",
    "![Data Profile html visual](pandasprofile.png)\n",
    "![categorical data](pandasprofilecategorical.png)\n",
    "\n",
    "### Example\n",
    "\n",
    "In the first visual for the `LNR` feature, Pandas Profiler has clearly shown that this feature has unique values for all rows and is likely an ID or another type of value that will not help our model. It will be dropped from the dataset before clustering. \n"
   ]
  },
  {
   "cell_type": "markdown",
   "metadata": {},
   "source": [
    "## Part 0.1\n",
    "Read in the customer data file.  These two files will be used in comparison after creating clusters from the data. I will check for differences in the data. "
   ]
  },
  {
   "cell_type": "code",
   "execution_count": 7,
   "metadata": {},
   "outputs": [],
   "source": [
    "customers = pd.read_parquet('Udacity_CUSTOMERS_052018.parquet')"
   ]
  },
  {
   "cell_type": "code",
   "execution_count": 8,
   "metadata": {},
   "outputs": [
    {
     "name": "stdout",
     "output_type": "stream",
     "text": [
      "(891221, 366)\n",
      "(191652, 369)\n"
     ]
    }
   ],
   "source": [
    "print(azdias.shape)\n",
    "print(customers.shape)"
   ]
  },
  {
   "cell_type": "markdown",
   "metadata": {},
   "source": [
    "The project brief mentioned the three additional columns in the customers dataset. However we need to check to see that the remaining 366 columns are the same. Here I use Python `.intersection()` method to compare two sets of column names."
   ]
  },
  {
   "cell_type": "code",
   "execution_count": 9,
   "metadata": {},
   "outputs": [
    {
     "name": "stdout",
     "output_type": "stream",
     "text": [
      "366\n",
      "366\n"
     ]
    }
   ],
   "source": [
    "print(len(set(azdias.columns).intersection(customers.drop(['CUSTOMER_GROUP', 'ONLINE_PURCHASE', 'PRODUCT_GROUP'], axis=1).columns)))\n",
    "print(len(set(customers.drop(['CUSTOMER_GROUP', 'ONLINE_PURCHASE', 'PRODUCT_GROUP'], axis=1).columns).intersection(azdias.columns)))\n"
   ]
  },
  {
   "cell_type": "markdown",
   "metadata": {},
   "source": [
    "## Part 0.2 Read in Data Dictionary - Convert unknown values to NaN\n",
    "\n",
    "Next I will better understand the columns with information from the data dictionary files `DIAS Attributes - Values 2017.xlsx` and `DIAS Information Levels - Attributes 2017.xlsx`. In these files we can learn more about the meanings of each value code. Certain value codes represent `unknown` or `missing`. These values were not collected or completely unknown. Our machine learning algorithms will respond better to `NaN` values in their place. Thus, I must discover and replace all value codes that are `unknown` or `missing`. "
   ]
  },
  {
   "cell_type": "code",
   "execution_count": 10,
   "metadata": {},
   "outputs": [],
   "source": [
    "values = pd.read_excel('DIAS Attributes - Values 2017.xlsx', sheet_name='Tabelle1', header=1, engine='openpyxl')"
   ]
  },
  {
   "cell_type": "code",
   "execution_count": 11,
   "metadata": {},
   "outputs": [
    {
     "data": {
      "text/html": [
       "<div>\n",
       "<style scoped>\n",
       "    .dataframe tbody tr th:only-of-type {\n",
       "        vertical-align: middle;\n",
       "    }\n",
       "\n",
       "    .dataframe tbody tr th {\n",
       "        vertical-align: top;\n",
       "    }\n",
       "\n",
       "    .dataframe thead th {\n",
       "        text-align: right;\n",
       "    }\n",
       "</style>\n",
       "<table border=\"1\" class=\"dataframe\">\n",
       "  <thead>\n",
       "    <tr style=\"text-align: right;\">\n",
       "      <th></th>\n",
       "      <th>Unnamed: 0</th>\n",
       "      <th>Attribute</th>\n",
       "      <th>Description</th>\n",
       "      <th>Value</th>\n",
       "      <th>Meaning</th>\n",
       "    </tr>\n",
       "  </thead>\n",
       "  <tbody>\n",
       "    <tr>\n",
       "      <th>0</th>\n",
       "      <td>NaN</td>\n",
       "      <td>AGER_TYP</td>\n",
       "      <td>best-ager typology</td>\n",
       "      <td>-1</td>\n",
       "      <td>unknown</td>\n",
       "    </tr>\n",
       "    <tr>\n",
       "      <th>1</th>\n",
       "      <td>NaN</td>\n",
       "      <td>NaN</td>\n",
       "      <td>NaN</td>\n",
       "      <td>0</td>\n",
       "      <td>no classification possible</td>\n",
       "    </tr>\n",
       "    <tr>\n",
       "      <th>2</th>\n",
       "      <td>NaN</td>\n",
       "      <td>NaN</td>\n",
       "      <td>NaN</td>\n",
       "      <td>1</td>\n",
       "      <td>passive elderly</td>\n",
       "    </tr>\n",
       "    <tr>\n",
       "      <th>3</th>\n",
       "      <td>NaN</td>\n",
       "      <td>NaN</td>\n",
       "      <td>NaN</td>\n",
       "      <td>2</td>\n",
       "      <td>cultural elderly</td>\n",
       "    </tr>\n",
       "    <tr>\n",
       "      <th>4</th>\n",
       "      <td>NaN</td>\n",
       "      <td>NaN</td>\n",
       "      <td>NaN</td>\n",
       "      <td>3</td>\n",
       "      <td>experience-driven elderly</td>\n",
       "    </tr>\n",
       "    <tr>\n",
       "      <th>5</th>\n",
       "      <td>NaN</td>\n",
       "      <td>ALTERSKATEGORIE_GROB</td>\n",
       "      <td>age classification through prename analysis</td>\n",
       "      <td>-1, 0</td>\n",
       "      <td>unknown</td>\n",
       "    </tr>\n",
       "    <tr>\n",
       "      <th>6</th>\n",
       "      <td>NaN</td>\n",
       "      <td>NaN</td>\n",
       "      <td>NaN</td>\n",
       "      <td>1</td>\n",
       "      <td>&lt; 30 years</td>\n",
       "    </tr>\n",
       "    <tr>\n",
       "      <th>7</th>\n",
       "      <td>NaN</td>\n",
       "      <td>NaN</td>\n",
       "      <td>NaN</td>\n",
       "      <td>2</td>\n",
       "      <td>30 - 45 years</td>\n",
       "    </tr>\n",
       "    <tr>\n",
       "      <th>8</th>\n",
       "      <td>NaN</td>\n",
       "      <td>NaN</td>\n",
       "      <td>NaN</td>\n",
       "      <td>3</td>\n",
       "      <td>46 - 60 years</td>\n",
       "    </tr>\n",
       "    <tr>\n",
       "      <th>9</th>\n",
       "      <td>NaN</td>\n",
       "      <td>NaN</td>\n",
       "      <td>NaN</td>\n",
       "      <td>4</td>\n",
       "      <td>&gt; 60 years</td>\n",
       "    </tr>\n",
       "  </tbody>\n",
       "</table>\n",
       "</div>"
      ],
      "text/plain": [
       "   Unnamed: 0             Attribute  \\\n",
       "0         NaN              AGER_TYP   \n",
       "1         NaN                   NaN   \n",
       "2         NaN                   NaN   \n",
       "3         NaN                   NaN   \n",
       "4         NaN                   NaN   \n",
       "5         NaN  ALTERSKATEGORIE_GROB   \n",
       "6         NaN                   NaN   \n",
       "7         NaN                   NaN   \n",
       "8         NaN                   NaN   \n",
       "9         NaN                   NaN   \n",
       "\n",
       "                                    Description  Value  \\\n",
       "0                            best-ager typology     -1   \n",
       "1                                           NaN      0   \n",
       "2                                           NaN      1   \n",
       "3                                           NaN      2   \n",
       "4                                           NaN      3   \n",
       "5  age classification through prename analysis   -1, 0   \n",
       "6                                           NaN      1   \n",
       "7                                           NaN      2   \n",
       "8                                           NaN      3   \n",
       "9                                           NaN      4   \n",
       "\n",
       "                      Meaning  \n",
       "0                     unknown  \n",
       "1  no classification possible  \n",
       "2             passive elderly  \n",
       "3            cultural elderly  \n",
       "4   experience-driven elderly  \n",
       "5                     unknown  \n",
       "6                  < 30 years  \n",
       "7               30 - 45 years  \n",
       "8               46 - 60 years  \n",
       "9                  > 60 years  "
      ]
     },
     "execution_count": 11,
     "metadata": {},
     "output_type": "execute_result"
    }
   ],
   "source": [
    "values.head(10)"
   ]
  },
  {
   "cell_type": "markdown",
   "metadata": {},
   "source": [
    "Give the size of the dataset, perhaps I can use a bit of string matching to find each attributes specfic code and programitically remove these values. \n",
    "\n",
    "I will first build a list of only `attribute` and `value` that can be stored and reused in future data cleaning. \n",
    "\n",
    "With these data dictionary documents open in Excel, a quick visual scan helped me see that there are basically 4 distinct string values that represent an unknown value: 'unknown', 'unknown / no main age detectable', 'no transaction known', and 'no transactions known'"
   ]
  },
  {
   "cell_type": "code",
   "execution_count": 12,
   "metadata": {},
   "outputs": [],
   "source": [
    "# Forward fill the attribute values. \n",
    "values['Attribute'] = values['Attribute'].ffill()"
   ]
  },
  {
   "cell_type": "code",
   "execution_count": 13,
   "metadata": {},
   "outputs": [
    {
     "data": {
      "text/html": [
       "<div>\n",
       "<style scoped>\n",
       "    .dataframe tbody tr th:only-of-type {\n",
       "        vertical-align: middle;\n",
       "    }\n",
       "\n",
       "    .dataframe tbody tr th {\n",
       "        vertical-align: top;\n",
       "    }\n",
       "\n",
       "    .dataframe thead th {\n",
       "        text-align: right;\n",
       "    }\n",
       "</style>\n",
       "<table border=\"1\" class=\"dataframe\">\n",
       "  <thead>\n",
       "    <tr style=\"text-align: right;\">\n",
       "      <th></th>\n",
       "      <th>Unnamed: 0</th>\n",
       "      <th>Attribute</th>\n",
       "      <th>Description</th>\n",
       "      <th>Value</th>\n",
       "      <th>Meaning</th>\n",
       "    </tr>\n",
       "  </thead>\n",
       "  <tbody>\n",
       "    <tr>\n",
       "      <th>0</th>\n",
       "      <td>NaN</td>\n",
       "      <td>AGER_TYP</td>\n",
       "      <td>best-ager typology</td>\n",
       "      <td>-1</td>\n",
       "      <td>unknown</td>\n",
       "    </tr>\n",
       "    <tr>\n",
       "      <th>5</th>\n",
       "      <td>NaN</td>\n",
       "      <td>ALTERSKATEGORIE_GROB</td>\n",
       "      <td>age classification through prename analysis</td>\n",
       "      <td>-1, 0</td>\n",
       "      <td>unknown</td>\n",
       "    </tr>\n",
       "    <tr>\n",
       "      <th>11</th>\n",
       "      <td>NaN</td>\n",
       "      <td>ALTER_HH</td>\n",
       "      <td>main age within the household</td>\n",
       "      <td>0</td>\n",
       "      <td>unknown / no main age detectable</td>\n",
       "    </tr>\n",
       "    <tr>\n",
       "      <th>33</th>\n",
       "      <td>NaN</td>\n",
       "      <td>ANREDE_KZ</td>\n",
       "      <td>gender</td>\n",
       "      <td>-1, 0</td>\n",
       "      <td>unknown</td>\n",
       "    </tr>\n",
       "    <tr>\n",
       "      <th>40</th>\n",
       "      <td>NaN</td>\n",
       "      <td>BALLRAUM</td>\n",
       "      <td>distance to next urban centre</td>\n",
       "      <td>-1</td>\n",
       "      <td>unknown</td>\n",
       "    </tr>\n",
       "    <tr>\n",
       "      <th>48</th>\n",
       "      <td>NaN</td>\n",
       "      <td>BIP_FLAG</td>\n",
       "      <td>business-flag indicating companies in the buil...</td>\n",
       "      <td>-1</td>\n",
       "      <td>unknown</td>\n",
       "    </tr>\n",
       "    <tr>\n",
       "      <th>51</th>\n",
       "      <td>NaN</td>\n",
       "      <td>CAMEO_DEUG_2015</td>\n",
       "      <td>CAMEO classification 2015 - Uppergroup</td>\n",
       "      <td>-1</td>\n",
       "      <td>unknown</td>\n",
       "    </tr>\n",
       "    <tr>\n",
       "      <th>105</th>\n",
       "      <td>NaN</td>\n",
       "      <td>CAMEO_DEUINTL_2015</td>\n",
       "      <td>CAMEO classification 2015 - international typo...</td>\n",
       "      <td>-1</td>\n",
       "      <td>unknown</td>\n",
       "    </tr>\n",
       "    <tr>\n",
       "      <th>131</th>\n",
       "      <td>NaN</td>\n",
       "      <td>CJT_GESAMTTYP</td>\n",
       "      <td>customer journey typology</td>\n",
       "      <td>0</td>\n",
       "      <td>unknown</td>\n",
       "    </tr>\n",
       "    <tr>\n",
       "      <th>138</th>\n",
       "      <td>NaN</td>\n",
       "      <td>D19_BANKEN_ANZ_12</td>\n",
       "      <td>transaction activity BANKS in the last 12 months</td>\n",
       "      <td>0</td>\n",
       "      <td>no transactions known</td>\n",
       "    </tr>\n",
       "  </tbody>\n",
       "</table>\n",
       "</div>"
      ],
      "text/plain": [
       "     Unnamed: 0             Attribute  \\\n",
       "0           NaN              AGER_TYP   \n",
       "5           NaN  ALTERSKATEGORIE_GROB   \n",
       "11          NaN              ALTER_HH   \n",
       "33          NaN             ANREDE_KZ   \n",
       "40          NaN              BALLRAUM   \n",
       "48          NaN              BIP_FLAG   \n",
       "51          NaN       CAMEO_DEUG_2015   \n",
       "105         NaN    CAMEO_DEUINTL_2015   \n",
       "131         NaN         CJT_GESAMTTYP   \n",
       "138         NaN     D19_BANKEN_ANZ_12   \n",
       "\n",
       "                                           Description  Value  \\\n",
       "0                                   best-ager typology     -1   \n",
       "5         age classification through prename analysis   -1, 0   \n",
       "11                       main age within the household      0   \n",
       "33                                              gender  -1, 0   \n",
       "40                      distance to next urban centre      -1   \n",
       "48   business-flag indicating companies in the buil...     -1   \n",
       "51              CAMEO classification 2015 - Uppergroup     -1   \n",
       "105  CAMEO classification 2015 - international typo...     -1   \n",
       "131                          customer journey typology      0   \n",
       "138   transaction activity BANKS in the last 12 months      0   \n",
       "\n",
       "                              Meaning  \n",
       "0                             unknown  \n",
       "5                             unknown  \n",
       "11   unknown / no main age detectable  \n",
       "33                            unknown  \n",
       "40                            unknown  \n",
       "48                            unknown  \n",
       "51                            unknown  \n",
       "105                           unknown  \n",
       "131                           unknown  \n",
       "138             no transactions known  "
      ]
     },
     "execution_count": 13,
     "metadata": {},
     "output_type": "execute_result"
    }
   ],
   "source": [
    "value_unknown_codes = values.loc[(values['Meaning'].str.contains(pat='unknown', case=False, regex=False, na=False)) | (values['Meaning'].str.contains(pat='no transaction', case=False, regex=False, na=False))]\n",
    "value_unknown_codes.head(10)"
   ]
  },
  {
   "cell_type": "markdown",
   "metadata": {},
   "source": [
    "This looked like it worked. Test for all types. "
   ]
  },
  {
   "cell_type": "code",
   "execution_count": 14,
   "metadata": {},
   "outputs": [
    {
     "data": {
      "text/plain": [
       "array(['unknown', 'unknown / no main age detectable',\n",
       "       'no transactions known', 'no transaction known'], dtype=object)"
      ]
     },
     "execution_count": 14,
     "metadata": {},
     "output_type": "execute_result"
    }
   ],
   "source": [
    "value_unknown_codes['Meaning'].unique()"
   ]
  },
  {
   "cell_type": "markdown",
   "metadata": {},
   "source": [
    "That is all four of the unknown meanings that I could see in the file. It looks like our string matching was successful and we are able to parse and retain all of them.\n",
    "\n",
    "Next, the values on the unknown fields are sometimes multiple integers seperated by a comma. We will need to seperate these and give them their own row as both values will need to be convertied to NaN values."
   ]
  },
  {
   "cell_type": "code",
   "execution_count": 15,
   "metadata": {},
   "outputs": [
    {
     "data": {
      "text/plain": [
       "'-1, 0'"
      ]
     },
     "execution_count": 15,
     "metadata": {},
     "output_type": "execute_result"
    }
   ],
   "source": [
    "value_unknown_codes['Value'].values[1]"
   ]
  },
  {
   "cell_type": "code",
   "execution_count": 16,
   "metadata": {},
   "outputs": [],
   "source": [
    "value_unknown_codes = value_unknown_codes[['Attribute']].join(value_unknown_codes['Value'].astype('str').str.split(',', expand=True)).melt(id_vars='Attribute').drop('variable', axis=1)"
   ]
  },
  {
   "cell_type": "code",
   "execution_count": 17,
   "metadata": {},
   "outputs": [],
   "source": [
    "value_unknown_codes.dropna(inplace=True)"
   ]
  },
  {
   "cell_type": "code",
   "execution_count": 18,
   "metadata": {},
   "outputs": [
    {
     "data": {
      "text/html": [
       "<div>\n",
       "<style scoped>\n",
       "    .dataframe tbody tr th:only-of-type {\n",
       "        vertical-align: middle;\n",
       "    }\n",
       "\n",
       "    .dataframe tbody tr th {\n",
       "        vertical-align: top;\n",
       "    }\n",
       "\n",
       "    .dataframe thead th {\n",
       "        text-align: right;\n",
       "    }\n",
       "</style>\n",
       "<table border=\"1\" class=\"dataframe\">\n",
       "  <thead>\n",
       "    <tr style=\"text-align: right;\">\n",
       "      <th></th>\n",
       "      <th>Attribute</th>\n",
       "      <th>value</th>\n",
       "    </tr>\n",
       "  </thead>\n",
       "  <tbody>\n",
       "    <tr>\n",
       "      <th>count</th>\n",
       "      <td>380</td>\n",
       "      <td>380</td>\n",
       "    </tr>\n",
       "    <tr>\n",
       "      <th>unique</th>\n",
       "      <td>289</td>\n",
       "      <td>5</td>\n",
       "    </tr>\n",
       "    <tr>\n",
       "      <th>top</th>\n",
       "      <td>KBA05_MOD2</td>\n",
       "      <td>-1</td>\n",
       "    </tr>\n",
       "    <tr>\n",
       "      <th>freq</th>\n",
       "      <td>2</td>\n",
       "      <td>230</td>\n",
       "    </tr>\n",
       "  </tbody>\n",
       "</table>\n",
       "</div>"
      ],
      "text/plain": [
       "         Attribute value\n",
       "count          380   380\n",
       "unique         289     5\n",
       "top     KBA05_MOD2    -1\n",
       "freq             2   230"
      ]
     },
     "execution_count": 18,
     "metadata": {},
     "output_type": "execute_result"
    }
   ],
   "source": [
    "value_unknown_codes.describe()"
   ]
  },
  {
   "cell_type": "code",
   "execution_count": 19,
   "metadata": {},
   "outputs": [
    {
     "data": {
      "text/plain": [
       "array(['-1', '0', '10', ' 0', ' 9'], dtype=object)"
      ]
     },
     "execution_count": 19,
     "metadata": {},
     "output_type": "execute_result"
    }
   ],
   "source": [
    "value_unknown_codes['value'].unique()"
   ]
  },
  {
   "cell_type": "markdown",
   "metadata": {},
   "source": [
    "This file will now be used in a future data cleaning process to convert missing values to proper `np.nan` values"
   ]
  },
  {
   "cell_type": "code",
   "execution_count": 20,
   "metadata": {},
   "outputs": [],
   "source": [
    "value_unknown_codes.value = value_unknown_codes.value.astype('int')"
   ]
  },
  {
   "cell_type": "code",
   "execution_count": 21,
   "metadata": {},
   "outputs": [
    {
     "data": {
      "text/plain": [
       "33493669"
      ]
     },
     "execution_count": 21,
     "metadata": {},
     "output_type": "execute_result"
    }
   ],
   "source": [
    "azdias.isna().sum().sum()"
   ]
  },
  {
   "cell_type": "code",
   "execution_count": 22,
   "metadata": {},
   "outputs": [
    {
     "data": {
      "text/plain": [
       "Index(['LNR', 'AGER_TYP', 'AKT_DAT_KL', 'ALTER_HH', 'ALTER_KIND1',\n",
       "       'ALTER_KIND2', 'ALTER_KIND3', 'ALTER_KIND4', 'ALTERSKATEGORIE_FEIN',\n",
       "       'ANZ_HAUSHALTE_AKTIV',\n",
       "       ...\n",
       "       'VHN', 'VK_DHT4A', 'VK_DISTANZ', 'VK_ZG11', 'W_KEIT_KIND_HH',\n",
       "       'WOHNDAUER_2008', 'WOHNLAGE', 'ZABEOTYP', 'ANREDE_KZ',\n",
       "       'ALTERSKATEGORIE_GROB'],\n",
       "      dtype='object', length=366)"
      ]
     },
     "execution_count": 22,
     "metadata": {},
     "output_type": "execute_result"
    }
   ],
   "source": [
    "azdias.isna().sum().index"
   ]
  },
  {
   "cell_type": "code",
   "execution_count": 23,
   "metadata": {},
   "outputs": [],
   "source": [
    "def plot_missing_values(dff, renderer='notebook_connected'):\n",
    "    \"\"\"\n",
    "    Visualize the missing values per column in a dataset\n",
    "\n",
    "    INPUT  - dff : Pandas Dataframe, \n",
    "            renderer : Choice of plotly rendering tools. Default of \"notebook_connected\".capitaliz\n",
    "                        Other options include \"chrome\", \"firefox\", \"jpg\" etc.  \n",
    "\n",
    "    OUTPUT - Ploty chart\n",
    "    \"\"\"\n",
    "    temp_missing_values = dff.isna().sum()\n",
    "    temp_missing_values.sort_values(ascending=False, inplace=True)\n",
    "    fig = go.Figure()\n",
    "    fig.add_trace(go.Bar(\n",
    "        x=temp_missing_values.index,\n",
    "        y=temp_missing_values/len(dff)\n",
    "    ))\n",
    "    fig.update_yaxes(title='Rate of Missing Values', tickformat='%')\n",
    "    fig.update_xaxes(title = 'Column name')\n",
    "    fig.update_layout(title= \"Missing Values per Column\")\n",
    "    return fig"
   ]
  },
  {
   "cell_type": "code",
   "execution_count": 24,
   "metadata": {},
   "outputs": [
    {
     "data": {
      "text/html": [
       "        <script type=\"text/javascript\">\n",
       "        window.PlotlyConfig = {MathJaxConfig: 'local'};\n",
       "        if (window.MathJax) {MathJax.Hub.Config({SVG: {font: \"STIX-Web\"}});}\n",
       "        if (typeof require !== 'undefined') {\n",
       "        require.undef(\"plotly\");\n",
       "        requirejs.config({\n",
       "            paths: {\n",
       "                'plotly': ['https://cdn.plot.ly/plotly-latest.min']\n",
       "            }\n",
       "        });\n",
       "        require(['plotly'], function(Plotly) {\n",
       "            window._Plotly = Plotly;\n",
       "        });\n",
       "        }\n",
       "        </script>\n",
       "        "
      ]
     },
     "metadata": {},
     "output_type": "display_data"
    },
    {
     "data": {
      "text/html": [
       "<div>                            <div id=\"00e1a65b-08a8-4c80-be6e-830253e737b9\" class=\"plotly-graph-div\" style=\"height:525px; width:100%;\"></div>            <script type=\"text/javascript\">                require([\"plotly\"], function(Plotly) {                    window.PLOTLYENV=window.PLOTLYENV || {};                                    if (document.getElementById(\"00e1a65b-08a8-4c80-be6e-830253e737b9\")) {                    Plotly.newPlot(                        \"00e1a65b-08a8-4c80-be6e-830253e737b9\",                        [{\"type\": \"bar\", \"x\": [\"ALTER_KIND4\", \"ALTER_KIND3\", \"ALTER_KIND2\", \"ALTER_KIND1\", \"EXTSEL992\", \"KK_KUNDENTYP\", \"ALTERSKATEGORIE_FEIN\", \"D19_VERSAND_ONLINE_QUOTE_12\", \"D19_LOTTO\", \"D19_BANKEN_ONLINE_QUOTE_12\", \"D19_LETZTER_KAUF_BRANCHE\", \"D19_SOZIALES\", \"D19_GESAMT_ONLINE_QUOTE_12\", \"D19_KONSUMTYP\", \"D19_VERSI_ONLINE_QUOTE_12\", \"D19_TELKO_ONLINE_QUOTE_12\", \"KBA05_DIESEL\", \"KBA05_CCM4\", \"KBA05_GBZ\", \"KBA05_FRAU\", \"KBA05_ZUL4\", \"KBA05_HERST1\", \"KBA05_HERST2\", \"KBA05_HERST3\", \"KBA05_CCM3\", \"KBA05_HERST5\", \"KBA05_KRSAQUOT\", \"KBA05_HERST4\", \"KBA05_AUTOQUOT\", \"KBA05_CCM2\", \"KBA05_CCM1\", \"KBA05_BAUMAX\", \"KBA05_KRSHERST2\", \"KBA05_ANTG4\", \"KBA05_ANTG3\", \"KBA05_ANTG2\", \"KBA05_ANTG1\", \"KBA05_ANHANG\", \"KBA05_ALTER4\", \"KBA05_ALTER3\", \"KBA05_ALTER2\", \"KBA05_ALTER1\", \"KBA05_KRSHERST1\", \"KBA05_KRSZUL\", \"KBA05_KRSHERST3\", \"KBA05_SEG8\", \"KBA05_SEG2\", \"KBA05_SEG3\", \"KBA05_SEG4\", \"KBA05_SEG5\", \"KBA05_SEG6\", \"KBA05_SEG7\", \"KBA05_SEG9\", \"KBA05_SEG1\", \"KBA05_VORB0\", \"KBA05_VORB1\", \"KBA05_VORB2\", \"KBA05_ZUL1\", \"KBA05_ZUL2\", \"KBA05_ZUL3\", \"KBA05_SEG10\", \"KBA05_MOTRAD\", \"KBA05_KRSOBER\", \"KBA05_MAXHERST\", \"KBA05_KRSVAN\", \"KBA05_KW1\", \"KBA05_KW2\", \"KBA05_KW3\", \"KBA05_MAXAH\", \"KBA05_MAXBJ\", \"KBA05_MAXSEG\", \"KBA05_MOTOR\", \"KBA05_MAXVORB\", \"KBA05_MOD1\", \"KBA05_MOD2\", \"KBA05_MOD3\", \"KBA05_MOD4\", \"KBA05_MOD8\", \"MOBI_REGIO\", \"KBA05_KRSKLEIN\", \"VHN\", \"REGIOTYP\", \"KKK\", \"PLZ8_ANTG4\", \"PLZ8_HHZ\", \"PLZ8_GBZ\", \"PLZ8_BAUMAX\", \"PLZ8_ANTG2\", \"PLZ8_ANTG3\", \"PLZ8_ANTG1\", \"W_KEIT_KIND_HH\", \"HH_DELTA_FLAG\", \"KBA13_HALTER_25\", \"KBA13_HALTER_30\", \"KBA13_HALTER_35\", \"KBA13_KMH_110\", \"KBA13_KMH_0_140\", \"KBA13_HHZ\", \"KBA13_HALTER_40\", \"KBA13_HALTER_45\", \"KBA13_HALTER_50\", \"KBA13_HERST_SONST\", \"KBA13_HERST_FORD_OPEL\", \"KBA13_HALTER_55\", \"KBA13_HALTER_60\", \"KBA13_HALTER_65\", \"KBA13_GBZ\", \"KBA13_HALTER_66\", \"KBA13_HERST_ASIEN\", \"KBA13_HERST_AUDI_VW\", \"KBA13_HERST_BMW_BENZ\", \"KBA13_HERST_EUROPA\", \"KBA13_HALTER_20\", \"KBA13_FAB_ASIEN\", \"KBA13_FORD\", \"KBA13_FIAT\", \"KBA13_BAUMAX\", \"KBA13_BJ_1999\", \"KBA13_BJ_2000\", \"KBA13_BJ_2004\", \"KBA13_BJ_2006\", \"KBA13_BJ_2008\", \"KBA13_BJ_2009\", \"KBA13_BMW\", \"KBA13_CCM_0_1400\", \"KBA13_CCM_1000\", \"KBA13_CCM_1200\", \"KBA13_CCM_1400\", \"KBA13_CCM_1401_2500\", \"KBA13_CCM_1500\", \"KBA13_CCM_1600\", \"KBA13_CCM_1800\", \"KBA13_CCM_2000\", \"KBA13_CCM_2500\", \"KBA13_CCM_2501\", \"KBA13_CCM_3000\", \"KBA13_CCM_3001\", \"KBA13_KMH_140_210\", \"KBA13_FAB_SONSTIGE\", \"KBA13_KMH_140\", \"KBA13_KMH_250\", \"KBA13_KMH_180\", \"KBA13_SEG_MINIWAGEN\", \"KBA13_NISSAN\", \"KBA13_OPEL\", \"KBA13_PEUGEOT\", \"KBA13_RENAULT\", \"KBA13_SEG_GELAENDEWAGEN\", \"KBA13_SEG_GROSSRAUMVANS\", \"KBA13_SEG_KLEINST\", \"KBA13_SEG_KLEINWAGEN\", \"KBA13_SEG_KOMPAKTKLASSE\", \"KBA13_SEG_MINIVANS\", \"KBA13_SEG_MITTELKLASSE\", \"KBA13_MERCEDES\", \"KBA13_SEG_OBEREMITTELKLASSE\", \"KBA13_SEG_OBERKLASSE\", \"KBA13_SEG_SONSTIGE\", \"KBA13_SEG_SPORTWAGEN\", \"KBA13_SEG_UTILITIES\", \"KBA13_SEG_VAN\", \"KBA13_SEG_WOHNMOBILE\", \"KBA13_SITZE_4\", \"KBA13_SITZE_5\", \"KBA13_SITZE_6\", \"KBA13_MOTOR\", \"KBA13_MAZDA\", \"KBA13_KMH_210\", \"KBA13_KRSZUL_NEU\", \"KBA13_KMH_211\", \"KBA13_AUDI\", \"KBA13_KMH_251\", \"KBA13_KRSAQUOT\", \"KBA13_KRSHERST_AUDI_VW\", \"KBA13_KRSHERST_BMW_BENZ\", \"KBA13_KRSHERST_FORD_OPEL\", \"KBA13_KRSSEG_KLEIN\", \"KBA13_KRSSEG_OBER\", \"KBA13_KRSSEG_VAN\", \"KBA13_KW_0_60\", \"KBA13_KW_90\", \"KBA13_KW_110\", \"KBA13_KW_120\", \"KBA13_KW_121\", \"KBA13_KW_30\", \"KBA13_KW_40\", \"KBA13_KW_50\", \"KBA13_KW_60\", \"KBA13_KW_61_120\", \"KBA13_KW_70\", \"KBA13_KW_80\", \"KBA13_AUTOQUOTE\", \"KBA13_ALTERHALTER_61\", \"KBA13_ANZAHL_PKW\", \"KBA13_VORB_1\", \"KBA13_VW\", \"KBA13_VORB_3\", \"KBA13_VORB_2\", \"KBA13_VORB_1_2\", \"KBA13_ANTG4\", \"KBA13_VORB_0\", \"KBA13_TOYOTA\", \"KBA13_ANTG3\", \"KBA13_ANTG1\", \"KBA13_ALTERHALTER_30\", \"KBA13_ALTERHALTER_45\", \"KBA13_ALTERHALTER_60\", \"KBA13_ANTG2\", \"CAMEO_DEUG_2015\", \"CAMEO_INTL_2015\", \"CAMEO_DEU_2015\", \"UMFELD_ALT\", \"UMFELD_JUNG\", \"STRUKTURTYP\", \"VERDICHTUNGSRAUM\", \"GEMEINDETYP\", \"ORTSGR_KLS9\", \"RELAT_AB\", \"ARBEIT\", \"ANZ_HH_TITEL\", \"BALLRAUM\", \"EWDICHTE\", \"INNENSTADT\", \"KONSUMZELLE\", \"GEBAEUDETYP_RASTER\", \"FIRMENDICHTE\", \"DSL_FLAG\", \"MIN_GEBAEUDEJAHR\", \"KBA05_HERSTTEMP\", \"ANZ_HAUSHALTE_AKTIV\", \"GEBAEUDETYP\", \"ANZ_STATISTISCHE_HAUSHALTE\", \"MOBI_RASTER\", \"EINGEFUEGT_AM\", \"WOHNLAGE\", \"OST_WEST_KZ\", \"KBA05_MODTEMP\", \"VK_DISTANZ\", \"VK_ZG11\", \"VK_DHT4A\", \"KONSUMNAEHE\", \"ALTER_HH\", \"EINGEZOGENAM_HH_JAHR\", \"AKT_DAT_KL\", \"TITEL_KZ\", \"ANZ_KINDER\", \"ANZ_PERSONEN\", \"UNGLEICHENN_FLAG\", \"ANZ_TITEL\", \"SOHO_KZ\", \"VHA\", \"WOHNDAUER_2008\", \"RT_UEBERGROESSE\", \"HH_EINKOMMEN_SCORE\", \"CJT_TYP_2\", \"GFK_URLAUBERTYP\", \"CJT_TYP_1\", \"CJT_TYP_4\", \"CJT_KATALOGNUTZER\", \"CJT_GESAMTTYP\", \"CJT_TYP_3\", \"RT_KEIN_ANREIZ\", \"CJT_TYP_5\", \"RETOURTYP_BK_S\", \"RT_SCHNAEPPCHEN\", \"LP_FAMILIE_FEIN\", \"CJT_TYP_6\", \"ONLINE_AFFINITAET\", \"LP_FAMILIE_GROB\", \"LP_LEBENSPHASE_FEIN\", \"LP_LEBENSPHASE_GROB\", \"LP_STATUS_FEIN\", \"LP_STATUS_GROB\", \"NATIONALITAET_KZ\", \"SEMIO_PFLICHT\", \"KOMBIALTER\", \"SEMIO_RAT\", \"ANREDE_KZ\", \"ZABEOTYP\", \"VERS_TYP\", \"SHOPPER_TYP\", \"SEMIO_TRADV\", \"SEMIO_SOZ\", \"SEMIO_REL\", \"SEMIO_MAT\", \"PRAEGENDE_JUGENDJAHRE\", \"SEMIO_LUST\", \"SEMIO_KULT\", \"SEMIO_KRIT\", \"SEMIO_KAEM\", \"SEMIO_FAM\", \"SEMIO_ERL\", \"SEMIO_DOM\", \"SEMIO_VERT\", \"LNR\", \"AGER_TYP\", \"D19_HANDWERK\", \"D19_GARTEN\", \"D19_GESAMT_ANZ_12\", \"D19_GESAMT_ANZ_24\", \"D19_GESAMT_DATUM\", \"D19_GESAMT_OFFLINE_DATUM\", \"D19_GESAMT_ONLINE_DATUM\", \"D19_HAUS_DEKO\", \"D19_ENERGIE\", \"D19_KINDERARTIKEL\", \"D19_KONSUMTYP_MAX\", \"D19_KOSMETIK\", \"D19_LEBENSMITTEL\", \"D19_NAHRUNGSERGAENZUNG\", \"D19_RATGEBER\", \"D19_FREIZEIT\", \"D19_DROGERIEARTIKEL\", \"D19_SAMMELARTIKEL\", \"D19_BANKEN_OFFLINE_DATUM\", \"D19_BANKEN_ANZ_12\", \"D19_BANKEN_ANZ_24\", \"D19_BANKEN_DATUM\", \"D19_BANKEN_DIREKT\", \"D19_BANKEN_GROSS\", \"D19_BANKEN_LOKAL\", \"D19_BANKEN_ONLINE_DATUM\", \"D19_DIGIT_SERV\", \"D19_BANKEN_REST\", \"D19_BEKLEIDUNG_GEH\", \"D19_BEKLEIDUNG_REST\", \"D19_BILDUNG\", \"D19_BIO_OEKO\", \"D19_BUCH_CD\", \"D19_REISEN\", \"D19_SCHUHE\", \"HEALTH_TYP\", \"FINANZ_HAUSBAUER\", \"D19_VERSI_OFFLINE_DATUM\", \"D19_VERSI_ONLINE_DATUM\", \"D19_VERSICHERUNGEN\", \"D19_VOLLSORTIMENT\", \"D19_WEIN_FEINKOST\", \"FINANZ_ANLEGER\", \"FINANZ_MINIMALIST\", \"D19_VERSI_ANZ_24\", \"FINANZ_SPARER\", \"FINANZ_UNAUFFAELLIGER\", \"FINANZ_VORSORGER\", \"FINANZTYP\", \"GEBURTSJAHR\", \"GREEN_AVANTGARDE\", \"D19_VERSI_DATUM\", \"D19_VERSI_ANZ_12\", \"D19_SONSTIGE\", \"D19_TELKO_ONLINE_DATUM\", \"D19_TECHNIK\", \"D19_TELKO_ANZ_12\", \"D19_TELKO_ANZ_24\", \"D19_TELKO_DATUM\", \"D19_TELKO_MOBILE\", \"D19_TELKO_OFFLINE_DATUM\", \"D19_TELKO_REST\", \"D19_VERSAND_REST\", \"D19_TIERARTIKEL\", \"D19_VERSAND_ANZ_12\", \"D19_VERSAND_ANZ_24\", \"D19_VERSAND_DATUM\", \"D19_VERSAND_OFFLINE_DATUM\", \"D19_VERSAND_ONLINE_DATUM\", \"ALTERSKATEGORIE_GROB\"], \"y\": [0.9986479223447383, 0.9930769135826019, 0.9669004657655059, 0.9090483729624863, 0.7339963937115486, 0.6559674873011295, 0.29504129727643313, 0.2884952217239046, 0.2884952217239046, 0.2884952217239046, 0.2884952217239046, 0.2884952217239046, 0.2884952217239046, 0.2884952217239046, 0.2884952217239046, 0.2884952217239046, 0.14959701353536328, 0.14959701353536328, 0.14959701353536328, 0.14959701353536328, 0.14959701353536328, 0.14959701353536328, 0.14959701353536328, 0.14959701353536328, 0.14959701353536328, 0.14959701353536328, 0.14959701353536328, 0.14959701353536328, 0.14959701353536328, 0.14959701353536328, 0.14959701353536328, 0.14959701353536328, 0.14959701353536328, 0.14959701353536328, 0.14959701353536328, 0.14959701353536328, 0.14959701353536328, 0.14959701353536328, 0.14959701353536328, 0.14959701353536328, 0.14959701353536328, 0.14959701353536328, 0.14959701353536328, 0.14959701353536328, 0.14959701353536328, 0.14959701353536328, 0.14959701353536328, 0.14959701353536328, 0.14959701353536328, 0.14959701353536328, 0.14959701353536328, 0.14959701353536328, 0.14959701353536328, 0.14959701353536328, 0.14959701353536328, 0.14959701353536328, 0.14959701353536328, 0.14959701353536328, 0.14959701353536328, 0.14959701353536328, 0.14959701353536328, 0.14959701353536328, 0.14959701353536328, 0.14959701353536328, 0.14959701353536328, 0.14959701353536328, 0.14959701353536328, 0.14959701353536328, 0.14959701353536328, 0.14959701353536328, 0.14959701353536328, 0.14959701353536328, 0.14959701353536328, 0.14959701353536328, 0.14959701353536328, 0.14959701353536328, 0.14959701353536328, 0.14959701353536328, 0.14959701353536328, 0.14959701353536328, 0.1359887166034014, 0.1359887166034014, 0.1359887166034014, 0.13073637178657146, 0.13073637178657146, 0.13073637178657146, 0.13073637178657146, 0.13073637178657146, 0.13073637178657146, 0.13073637178657146, 0.12073548536221655, 0.12073548536221655, 0.11871354018812394, 0.11871354018812394, 0.11871354018812394, 0.11871354018812394, 0.11871354018812394, 0.11871354018812394, 0.11871354018812394, 0.11871354018812394, 0.11871354018812394, 0.11871354018812394, 0.11871354018812394, 0.11871354018812394, 0.11871354018812394, 0.11871354018812394, 0.11871354018812394, 0.11871354018812394, 0.11871354018812394, 0.11871354018812394, 0.11871354018812394, 0.11871354018812394, 0.11871354018812394, 0.11871354018812394, 0.11871354018812394, 0.11871354018812394, 0.11871354018812394, 0.11871354018812394, 0.11871354018812394, 0.11871354018812394, 0.11871354018812394, 0.11871354018812394, 0.11871354018812394, 0.11871354018812394, 0.11871354018812394, 0.11871354018812394, 0.11871354018812394, 0.11871354018812394, 0.11871354018812394, 0.11871354018812394, 0.11871354018812394, 0.11871354018812394, 0.11871354018812394, 0.11871354018812394, 0.11871354018812394, 0.11871354018812394, 0.11871354018812394, 0.11871354018812394, 0.11871354018812394, 0.11871354018812394, 0.11871354018812394, 0.11871354018812394, 0.11871354018812394, 0.11871354018812394, 0.11871354018812394, 0.11871354018812394, 0.11871354018812394, 0.11871354018812394, 0.11871354018812394, 0.11871354018812394, 0.11871354018812394, 0.11871354018812394, 0.11871354018812394, 0.11871354018812394, 0.11871354018812394, 0.11871354018812394, 0.11871354018812394, 0.11871354018812394, 0.11871354018812394, 0.11871354018812394, 0.11871354018812394, 0.11871354018812394, 0.11871354018812394, 0.11871354018812394, 0.11871354018812394, 0.11871354018812394, 0.11871354018812394, 0.11871354018812394, 0.11871354018812394, 0.11871354018812394, 0.11871354018812394, 0.11871354018812394, 0.11871354018812394, 0.11871354018812394, 0.11871354018812394, 0.11871354018812394, 0.11871354018812394, 0.11871354018812394, 0.11871354018812394, 0.11871354018812394, 0.11871354018812394, 0.11871354018812394, 0.11871354018812394, 0.11871354018812394, 0.11871354018812394, 0.11871354018812394, 0.11871354018812394, 0.11871354018812394, 0.11871354018812394, 0.11871354018812394, 0.11871354018812394, 0.11871354018812394, 0.11871354018812394, 0.11871354018812394, 0.11871354018812394, 0.11871354018812394, 0.11871354018812394, 0.11871354018812394, 0.11871354018812394, 0.11871354018812394, 0.11871354018812394, 0.11871354018812394, 0.11871354018812394, 0.11871354018812394, 0.11871354018812394, 0.11871354018812394, 0.11871354018812394, 0.11871354018812394, 0.11147852216229195, 0.11147852216229195, 0.11105999522004081, 0.10972138223852446, 0.10972138223852446, 0.1091468894920564, 0.1091468894920564, 0.1091468894920564, 0.10908181023562057, 0.10908181023562057, 0.10908181023562057, 0.10884842255736793, 0.10518154307405234, 0.10518154307405234, 0.10518154307405234, 0.10452514022896678, 0.10452514022896678, 0.10452514022896678, 0.10451728583594866, 0.10451728583594866, 0.10451728583594866, 0.10451728583594866, 0.10451728583594866, 0.10451728583594866, 0.10451728583594866, 0.10451728583594866, 0.10451728583594866, 0.10451728583594866, 0.10451728583594866, 0.08518313639377888, 0.08518313639377888, 0.08518313639377888, 0.08299737102245122, 0.08247000463409188, 0.08247000463409188, 0.08247000463409188, 0.08247000463409188, 0.08247000463409188, 0.08247000463409188, 0.08247000463409188, 0.08247000463409188, 0.08247000463409188, 0.08247000463409188, 0.08247000463409188, 0.05747844810658636, 0.020587486156632306, 0.005446460529992, 0.005446460529992, 0.005446460529992, 0.005446460529992, 0.005446460529992, 0.005446460529992, 0.005446460529992, 0.005446460529992, 0.005446460529992, 0.005446460529992, 0.005446460529992, 0.005446460529992, 0.005446460529992, 0.005446460529992, 0.005446460529992, 0.005446460529992, 0.005446460529992, 0.005446460529992, 0.005446460529992, 0.0, 0.0, 0.0, 0.0, 0.0, 0.0, 0.0, 0.0, 0.0, 0.0, 0.0, 0.0, 0.0, 0.0, 0.0, 0.0, 0.0, 0.0, 0.0, 0.0, 0.0, 0.0, 0.0, 0.0, 0.0, 0.0, 0.0, 0.0, 0.0, 0.0, 0.0, 0.0, 0.0, 0.0, 0.0, 0.0, 0.0, 0.0, 0.0, 0.0, 0.0, 0.0, 0.0, 0.0, 0.0, 0.0, 0.0, 0.0, 0.0, 0.0, 0.0, 0.0, 0.0, 0.0, 0.0, 0.0, 0.0, 0.0, 0.0, 0.0, 0.0, 0.0, 0.0, 0.0, 0.0, 0.0, 0.0, 0.0, 0.0, 0.0, 0.0, 0.0, 0.0, 0.0, 0.0, 0.0, 0.0, 0.0, 0.0, 0.0, 0.0, 0.0, 0.0, 0.0, 0.0, 0.0, 0.0, 0.0, 0.0, 0.0, 0.0, 0.0, 0.0]}],                        {\"template\": {\"layout\": {\"annotationdefaults\": {\"arrowcolor\": \"#f2f5fa\", \"arrowhead\": 0, \"arrowwidth\": 1}, \"coloraxis\": {\"colorbar\": {\"outlinewidth\": 0, \"ticks\": \"\"}}, \"colorscale\": {\"diverging\": [[0, \"#8e0152\"], [0.1, \"#c51b7d\"], [0.2, \"#de77ae\"], [0.3, \"#f1b6da\"], [0.4, \"#fde0ef\"], [0.5, \"#f7f7f7\"], [0.6, \"#e6f5d0\"], [0.7, \"#b8e186\"], [0.8, \"#7fbc41\"], [0.9, \"#4d9221\"], [1, \"#276419\"]], \"sequential\": [[0.0, \"#0d0887\"], [0.1111111111111111, \"#46039f\"], [0.2222222222222222, \"#7201a8\"], [0.3333333333333333, \"#9c179e\"], [0.4444444444444444, \"#bd3786\"], [0.5555555555555556, \"#d8576b\"], [0.6666666666666666, \"#ed7953\"], [0.7777777777777778, \"#fb9f3a\"], [0.8888888888888888, \"#fdca26\"], [1.0, \"#f0f921\"]], \"sequentialminus\": [[0.0, \"#0d0887\"], [0.1111111111111111, \"#46039f\"], [0.2222222222222222, \"#7201a8\"], [0.3333333333333333, \"#9c179e\"], [0.4444444444444444, \"#bd3786\"], [0.5555555555555556, \"#d8576b\"], [0.6666666666666666, \"#ed7953\"], [0.7777777777777778, \"#fb9f3a\"], [0.8888888888888888, \"#fdca26\"], [1.0, \"#f0f921\"]]}, \"colorway\": [\"rgba(0, 203, 166, 0.7)\", \"rgba(168, 168, 168, 0.7)\", \"#19d3f3\", \"#00cc96\", \"#ab63fa\", \"#00CBA6\", \"#FF6692\", \"#B6E880\", \"#FF97FF\", \"#FECB52\"], \"font\": {\"color\": \"#2a3f5f\", \"family\": \"plain\"}, \"geo\": {\"bgcolor\": \"black\", \"lakecolor\": \"white\", \"landcolor\": \"white\", \"showlakes\": true, \"showland\": true, \"subunitcolor\": \"#506784\"}, \"hoverlabel\": {\"align\": \"left\"}, \"hovermode\": \"closest\", \"images\": [{\"layer\": \"below\", \"opacity\": 0.05, \"sizex\": 0.7, \"sizey\": 0.7, \"source\": \"https://product-derrick.s3.amazonaws.com/logoWhite.png\", \"x\": 0.15, \"xref\": \"paper\", \"y\": 0.75, \"yref\": \"paper\"}], \"mapbox\": {\"style\": \"light\"}, \"paper_bgcolor\": \"white\", \"plot_bgcolor\": \"white\", \"polar\": {\"angularaxis\": {\"gridcolor\": \"#506784\", \"linecolor\": \"#506784\", \"ticks\": \"\"}, \"bgcolor\": \"white\", \"radialaxis\": {\"gridcolor\": \"#506784\", \"linecolor\": \"#506784\", \"ticks\": \"\"}}, \"scene\": {\"xaxis\": {\"backgroundcolor\": \"white\", \"gridcolor\": \"#506784\", \"gridwidth\": 2, \"linecolor\": \"#506784\", \"showbackground\": true, \"ticks\": \"\", \"zerolinecolor\": \"#C8D4E3\"}, \"yaxis\": {\"backgroundcolor\": \"white\", \"gridcolor\": \"#506784\", \"gridwidth\": 2, \"linecolor\": \"#506784\", \"showbackground\": true, \"ticks\": \"\", \"zerolinecolor\": \"#C8D4E3\"}, \"zaxis\": {\"backgroundcolor\": \"rgb(17,17,17)\", \"gridcolor\": \"#506784\", \"gridwidth\": 2, \"linecolor\": \"#506784\", \"showbackground\": true, \"ticks\": \"\", \"zerolinecolor\": \"#C8D4E3\"}}, \"shapedefaults\": {\"line\": {\"color\": \"#f2f5fa\"}}, \"sliderdefaults\": {\"bgcolor\": \"#C8D4E3\", \"bordercolor\": \"rgb(17,17,17)\", \"borderwidth\": 1, \"tickwidth\": 0}, \"ternary\": {\"aaxis\": {\"gridcolor\": \"#506784\", \"linecolor\": \"#506784\", \"ticks\": \"\"}, \"baxis\": {\"gridcolor\": \"#506784\", \"linecolor\": \"#506784\", \"ticks\": \"\"}, \"bgcolor\": \"rgb(17,17,17)\", \"caxis\": {\"gridcolor\": \"#506784\", \"linecolor\": \"#506784\", \"ticks\": \"\"}}, \"title\": {\"font\": {\"size\": 24}, \"x\": 0.05}, \"updatemenudefaults\": {\"bgcolor\": \"#506784\", \"borderwidth\": 0}, \"xaxis\": {\"automargin\": true, \"gridcolor\": \"#DFE8F3\", \"linecolor\": \"#A2B1C6\", \"tickfont\": {\"color\": \"#2a3f5f\", \"family\": \"InterstateMono\", \"size\": 10}, \"ticks\": \"\", \"title\": {\"font\": {\"family\": \"Plain\", \"size\": 18}}, \"zerolinecolor\": \"#DFE8F3\", \"zerolinewidth\": 2}, \"yaxis\": {\"automargin\": true, \"gridcolor\": \"#DFE8F3\", \"linecolor\": \"#A2B1C6\", \"tickfont\": {\"color\": \"#2a3f5f\", \"family\": \"InterstateMono\", \"size\": 10}, \"ticks\": \"\", \"title\": {\"font\": {\"family\": \"plain\", \"size\": 18}}, \"zerolinecolor\": \"#DFE8F3\", \"zerolinewidth\": 2}}}, \"title\": {\"text\": \"Missing Values per Column\"}, \"xaxis\": {\"title\": {\"text\": \"Column name\"}}, \"yaxis\": {\"tickformat\": \"%\", \"title\": {\"text\": \"Rate of Missing Values\"}}},                        {\"responsive\": true}                    ).then(function(){\n",
       "                            \n",
       "var gd = document.getElementById('00e1a65b-08a8-4c80-be6e-830253e737b9');\n",
       "var x = new MutationObserver(function (mutations, observer) {{\n",
       "        var display = window.getComputedStyle(gd).display;\n",
       "        if (!display || display === 'none') {{\n",
       "            console.log([gd, 'removed!']);\n",
       "            Plotly.purge(gd);\n",
       "            observer.disconnect();\n",
       "        }}\n",
       "}});\n",
       "\n",
       "// Listen for the removal of the full notebook cells\n",
       "var notebookContainer = gd.closest('#notebook-container');\n",
       "if (notebookContainer) {{\n",
       "    x.observe(notebookContainer, {childList: true});\n",
       "}}\n",
       "\n",
       "// Listen for the clearing of the current output cell\n",
       "var outputEl = gd.closest('.output');\n",
       "if (outputEl) {{\n",
       "    x.observe(outputEl, {childList: true});\n",
       "}}\n",
       "\n",
       "                        })                };                });            </script>        </div>"
      ]
     },
     "metadata": {},
     "output_type": "display_data"
    }
   ],
   "source": [
    "fig = plot_missing_values(azdias)\n",
    "fig.show()\n",
    "# py.plot(fig, filename = 'udsnd_1_missing', auto_open=False)"
   ]
  },
  {
   "cell_type": "code",
   "execution_count": 25,
   "metadata": {
    "tags": []
   },
   "outputs": [],
   "source": [
    "missing_attributes = []\n",
    "for idx, row in value_unknown_codes.iterrows():\n",
    "    try:\n",
    "        azdias.loc[azdias[row['Attribute']] == row['value'], row['Attribute']] = np.nan\n",
    "    except KeyError:\n",
    "        missing_attributes.append(row['Attribute'])"
   ]
  },
  {
   "cell_type": "code",
   "execution_count": 26,
   "metadata": {},
   "outputs": [
    {
     "data": {
      "text/plain": [
       "51863595"
      ]
     },
     "execution_count": 26,
     "metadata": {},
     "output_type": "execute_result"
    }
   ],
   "source": [
    "azdias.isna().sum().sum()"
   ]
  },
  {
   "cell_type": "markdown",
   "metadata": {},
   "source": [
    "Plot the missing values again after converting any of the explicit value codes to a NaN value."
   ]
  },
  {
   "cell_type": "code",
   "execution_count": 27,
   "metadata": {},
   "outputs": [
    {
     "data": {
      "text/html": [
       "<div>                            <div id=\"facdf315-bd8b-4e19-8f12-d2f4e9d29565\" class=\"plotly-graph-div\" style=\"height:525px; width:100%;\"></div>            <script type=\"text/javascript\">                require([\"plotly\"], function(Plotly) {                    window.PLOTLYENV=window.PLOTLYENV || {};                                    if (document.getElementById(\"facdf315-bd8b-4e19-8f12-d2f4e9d29565\")) {                    Plotly.newPlot(                        \"facdf315-bd8b-4e19-8f12-d2f4e9d29565\",                        [{\"type\": \"bar\", \"x\": [\"ALTER_KIND4\", \"TITEL_KZ\", \"ALTER_KIND3\", \"D19_TELKO_ONLINE_DATUM\", \"D19_BANKEN_OFFLINE_DATUM\", \"ALTER_KIND2\", \"D19_TELKO_ANZ_12\", \"D19_BANKEN_ANZ_12\", \"D19_TELKO_ANZ_24\", \"D19_VERSI_ANZ_12\", \"D19_TELKO_OFFLINE_DATUM\", \"ALTER_KIND1\", \"D19_BANKEN_ANZ_24\", \"D19_VERSI_ANZ_24\", \"D19_BANKEN_ONLINE_DATUM\", \"D19_BANKEN_DATUM\", \"AGER_TYP\", \"D19_TELKO_DATUM\", \"EXTSEL992\", \"D19_VERSAND_ANZ_12\", \"D19_VERSAND_OFFLINE_DATUM\", \"D19_GESAMT_ANZ_12\", \"KK_KUNDENTYP\", \"D19_VERSAND_ANZ_24\", \"D19_GESAMT_OFFLINE_DATUM\", \"D19_GESAMT_ANZ_24\", \"D19_VERSAND_ONLINE_DATUM\", \"KBA05_BAUMAX\", \"D19_GESAMT_ONLINE_DATUM\", \"D19_VERSAND_DATUM\", \"D19_GESAMT_DATUM\", \"ALTER_HH\", \"ALTERSKATEGORIE_FEIN\", \"D19_TELKO_ONLINE_QUOTE_12\", \"D19_LETZTER_KAUF_BRANCHE\", \"D19_VERSAND_ONLINE_QUOTE_12\", \"D19_VERSI_ONLINE_QUOTE_12\", \"D19_BANKEN_ONLINE_QUOTE_12\", \"D19_GESAMT_ONLINE_QUOTE_12\", \"D19_LOTTO\", \"D19_SOZIALES\", \"D19_KONSUMTYP\", \"REGIOTYP\", \"KKK\", \"KBA05_AUTOQUOT\", \"KBA05_KW3\", \"KBA05_VORB0\", \"KBA05_SEG3\", \"KBA05_DIESEL\", \"KBA05_SEG4\", \"KBA05_SEG5\", \"KBA05_SEG6\", \"KBA05_CCM4\", \"KBA05_CCM3\", \"KBA05_SEG7\", \"KBA05_SEG8\", \"KBA05_SEG9\", \"KBA05_VORB2\", \"KBA05_VORB1\", \"KBA05_SEG10\", \"KBA05_CCM2\", \"KBA05_ZUL1\", \"KBA05_ZUL2\", \"KBA05_CCM1\", \"KBA05_ZUL3\", \"KBA05_ALTER4\", \"KBA05_ALTER3\", \"KBA05_ALTER2\", \"KBA05_ALTER1\", \"KBA05_SEG2\", \"KBA05_FRAU\", \"KBA05_KW2\", \"KBA05_KRSKLEIN\", \"KBA05_KW1\", \"KBA05_KRSZUL\", \"KBA05_KRSVAN\", \"KBA05_MAXAH\", \"KBA05_MAXBJ\", \"KBA05_MAXHERST\", \"KBA05_MAXSEG\", \"KBA05_MOD1\", \"KBA05_MOD2\", \"KBA05_KRSOBER\", \"KBA05_MOD3\", \"KBA05_MOD4\", \"KBA05_SEG1\", \"KBA05_KRSHERST3\", \"KBA05_KRSHERST2\", \"KBA05_KRSHERST1\", \"KBA05_MOD8\", \"KBA05_MOTOR\", \"KBA05_KRSAQUOT\", \"KBA05_HERST5\", \"KBA05_HERST4\", \"KBA05_HERST3\", \"KBA05_HERST2\", \"KBA05_HERST1\", \"KBA05_ZUL4\", \"KBA05_MAXVORB\", \"W_KEIT_KIND_HH\", \"KBA05_ANHANG\", \"KBA05_MOTRAD\", \"KBA05_ANTG2\", \"MOBI_REGIO\", \"KBA05_ANTG3\", \"KBA05_ANTG4\", \"KBA05_GBZ\", \"KBA05_ANTG1\", \"VHN\", \"PLZ8_ANTG4\", \"PLZ8_BAUMAX\", \"PLZ8_GBZ\", \"PLZ8_ANTG3\", \"PLZ8_HHZ\", \"PLZ8_ANTG2\", \"PLZ8_ANTG1\", \"SHOPPER_TYP\", \"HEALTH_TYP\", \"VERS_TYP\", \"KBA05_HERSTTEMP\", \"NATIONALITAET_KZ\", \"PRAEGENDE_JUGENDJAHRE\", \"HH_DELTA_FLAG\", \"KBA13_BAUMAX\", \"KBA13_ANTG2\", \"KBA13_ANTG1\", \"KBA13_CCM_3000\", \"KBA13_CCM_2501\", \"KBA13_CCM_2500\", \"KBA13_CCM_2000\", \"KBA13_CCM_1800\", \"KBA13_CCM_1600\", \"KBA13_KRSHERST_AUDI_VW\", \"KBA13_CCM_1401_2500\", \"KBA13_CCM_1400\", \"KBA13_CCM_1200\", \"KBA13_ANTG3\", \"KBA13_BJ_1999\", \"KBA13_CCM_1000\", \"KBA13_CCM_0_1400\", \"KBA13_BMW\", \"KBA13_BJ_2009\", \"KBA13_BJ_2008\", \"KBA13_BJ_2006\", \"KBA13_BJ_2004\", \"KBA13_ANTG4\", \"KBA13_ANZAHL_PKW\", \"KBA13_AUDI\", \"KBA13_AUTOQUOTE\", \"KBA13_BJ_2000\", \"KBA13_CCM_3001\", \"KBA13_CCM_1500\", \"KBA13_FAB_ASIEN\", \"KBA13_HERST_ASIEN\", \"KBA13_KMH_250\", \"KBA13_KMH_211\", \"KBA13_KMH_210\", \"KBA13_KMH_180\", \"KBA13_KMH_140_210\", \"KBA13_KMH_140\", \"KBA13_KMH_110\", \"KBA13_KMH_0_140\", \"KBA13_HHZ\", \"KBA13_HERST_SONST\", \"KBA13_HERST_FORD_OPEL\", \"KBA13_HERST_EUROPA\", \"KBA13_HERST_BMW_BENZ\", \"KBA13_HERST_AUDI_VW\", \"KBA13_HALTER_66\", \"KBA13_FAB_SONSTIGE\", \"KBA13_HALTER_65\", \"KBA13_HALTER_60\", \"KBA13_HALTER_55\", \"KBA13_HALTER_50\", \"KBA13_HALTER_45\", \"KBA13_HALTER_40\", \"KBA13_HALTER_35\", \"KBA13_ALTERHALTER_60\", \"KBA13_HALTER_30\", \"KBA13_HALTER_25\", \"KBA13_HALTER_20\", \"KBA13_GBZ\", \"KBA13_FORD\", \"KBA13_FIAT\", \"KBA13_ALTERHALTER_61\", \"KBA13_KW_110\", \"KBA13_ALTERHALTER_45\", \"KBA13_PEUGEOT\", \"KBA13_ALTERHALTER_30\", \"KBA13_SEG_GROSSRAUMVANS\", \"KBA13_SEG_KLEINST\", \"KBA13_SEG_KLEINWAGEN\", \"KBA13_SEG_KOMPAKTKLASSE\", \"KBA13_SEG_MINIVANS\", \"KBA13_SEG_MINIWAGEN\", \"KBA13_SEG_MITTELKLASSE\", \"KBA13_SEG_OBEREMITTELKLASSE\", \"KBA13_SEG_OBERKLASSE\", \"KBA13_SEG_SONSTIGE\", \"KBA13_SEG_SPORTWAGEN\", \"KBA13_SEG_UTILITIES\", \"KBA13_SEG_VAN\", \"KBA13_SEG_WOHNMOBILE\", \"KBA13_SITZE_4\", \"KBA13_SITZE_5\", \"KBA13_SITZE_6\", \"KBA13_TOYOTA\", \"KBA13_VORB_0\", \"KBA13_VORB_1\", \"KBA13_VORB_1_2\", \"KBA13_VORB_2\", \"KBA13_VORB_3\", \"KBA13_VW\", \"KBA13_RENAULT\", \"KBA13_SEG_GELAENDEWAGEN\", \"KBA13_OPEL\", \"KBA13_KW_50\", \"KBA13_KRSHERST_BMW_BENZ\", \"KBA13_KRSHERST_FORD_OPEL\", \"KBA13_KRSSEG_KLEIN\", \"KBA13_KRSSEG_OBER\", \"KBA13_KRSSEG_VAN\", \"KBA13_KRSZUL_NEU\", \"KBA13_KW_0_60\", \"KBA13_KRSAQUOT\", \"KBA13_KW_120\", \"KBA13_KW_121\", \"KBA13_KW_40\", \"KBA13_KW_30\", \"KBA13_KW_60\", \"KBA13_KW_61_120\", \"KBA13_NISSAN\", \"KBA13_MOTOR\", \"KBA13_MERCEDES\", \"KBA13_MAZDA\", \"KBA13_KW_90\", \"KBA13_KW_80\", \"KBA13_KW_70\", \"KBA13_KMH_251\", \"CAMEO_INTL_2015\", \"CAMEO_DEUG_2015\", \"CAMEO_DEU_2015\", \"UMFELD_ALT\", \"UMFELD_JUNG\", \"RELAT_AB\", \"STRUKTURTYP\", \"GEMEINDETYP\", \"VERDICHTUNGSRAUM\", \"ORTSGR_KLS9\", \"ARBEIT\", \"ANZ_HH_TITEL\", \"EWDICHTE\", \"BALLRAUM\", \"INNENSTADT\", \"FIRMENDICHTE\", \"KONSUMZELLE\", \"GEBAEUDETYP_RASTER\", \"ANZ_HAUSHALTE_AKTIV\", \"DSL_FLAG\", \"KBA05_MODTEMP\", \"WOHNLAGE\", \"GEBAEUDETYP\", \"OST_WEST_KZ\", \"MIN_GEBAEUDEJAHR\", \"MOBI_RASTER\", \"ANZ_STATISTISCHE_HAUSHALTE\", \"EINGEFUEGT_AM\", \"VK_ZG11\", \"VK_DISTANZ\", \"VK_DHT4A\", \"KONSUMNAEHE\", \"SOHO_KZ\", \"UNGLEICHENN_FLAG\", \"AKT_DAT_KL\", \"EINGEZOGENAM_HH_JAHR\", \"VHA\", \"ANZ_PERSONEN\", \"ANZ_TITEL\", \"WOHNDAUER_2008\", \"ANZ_KINDER\", \"RT_UEBERGROESSE\", \"HH_EINKOMMEN_SCORE\", \"CJT_TYP_1\", \"GFK_URLAUBERTYP\", \"CJT_TYP_5\", \"CJT_TYP_4\", \"CJT_TYP_3\", \"CJT_TYP_2\", \"CJT_KATALOGNUTZER\", \"ONLINE_AFFINITAET\", \"LP_FAMILIE_FEIN\", \"LP_LEBENSPHASE_FEIN\", \"LP_LEBENSPHASE_GROB\", \"LP_STATUS_FEIN\", \"LP_STATUS_GROB\", \"CJT_GESAMTTYP\", \"LP_FAMILIE_GROB\", \"CJT_TYP_6\", \"RT_KEIN_ANREIZ\", \"RT_SCHNAEPPCHEN\", \"RETOURTYP_BK_S\", \"ANREDE_KZ\", \"ZABEOTYP\", \"SEMIO_VERT\", \"SEMIO_TRADV\", \"SEMIO_SOZ\", \"SEMIO_REL\", \"SEMIO_RAT\", \"SEMIO_PFLICHT\", \"SEMIO_KULT\", \"SEMIO_LUST\", \"SEMIO_KRIT\", \"SEMIO_KAEM\", \"SEMIO_FAM\", \"SEMIO_ERL\", \"SEMIO_DOM\", \"SEMIO_MAT\", \"LNR\", \"KOMBIALTER\", \"GREEN_AVANTGARDE\", \"D19_NAHRUNGSERGAENZUNG\", \"D19_LEBENSMITTEL\", \"D19_KOSMETIK\", \"D19_KONSUMTYP_MAX\", \"D19_KINDERARTIKEL\", \"D19_HAUS_DEKO\", \"D19_HANDWERK\", \"D19_GARTEN\", \"D19_FREIZEIT\", \"D19_ENERGIE\", \"D19_DROGERIEARTIKEL\", \"D19_DIGIT_SERV\", \"D19_BUCH_CD\", \"D19_BIO_OEKO\", \"D19_BILDUNG\", \"D19_BEKLEIDUNG_REST\", \"D19_BEKLEIDUNG_GEH\", \"D19_BANKEN_REST\", \"D19_BANKEN_LOKAL\", \"D19_BANKEN_GROSS\", \"D19_BANKEN_DIREKT\", \"D19_RATGEBER\", \"D19_REISEN\", \"D19_SAMMELARTIKEL\", \"D19_VOLLSORTIMENT\", \"GEBURTSJAHR\", \"FINANZTYP\", \"FINANZ_VORSORGER\", \"FINANZ_UNAUFFAELLIGER\", \"FINANZ_SPARER\", \"FINANZ_MINIMALIST\", \"FINANZ_HAUSBAUER\", \"FINANZ_ANLEGER\", \"D19_WEIN_FEINKOST\", \"D19_VERSICHERUNGEN\", \"D19_SCHUHE\", \"D19_VERSI_ONLINE_DATUM\", \"D19_VERSI_OFFLINE_DATUM\", \"D19_VERSI_DATUM\", \"D19_VERSAND_REST\", \"D19_TIERARTIKEL\", \"D19_TELKO_REST\", \"D19_TELKO_MOBILE\", \"D19_TECHNIK\", \"D19_SONSTIGE\", \"ALTERSKATEGORIE_GROB\"], \"y\": [0.9986479223447383, 0.9975763587258379, 0.9930769135826019, 0.9907957734389113, 0.9779112027207617, 0.9669004657655059, 0.9627129522307037, 0.9332522460758892, 0.9270517638161578, 0.9215323696367119, 0.9190918975203681, 0.9090483729624863, 0.8910247850981967, 0.8718791410884618, 0.815714620728192, 0.7611254671961276, 0.7601964047076988, 0.7470627375252603, 0.7339963937115486, 0.7158404032220964, 0.711645035294276, 0.656175067688037, 0.6559674873011295, 0.6326354518127378, 0.626733436487695, 0.5669783364619999, 0.5548163699015172, 0.5346866826522265, 0.5060417113151507, 0.49133267730450697, 0.39739862503239937, 0.34813699407890975, 0.29504129727643313, 0.2884952217239046, 0.2884952217239046, 0.2884952217239046, 0.2884952217239046, 0.2884952217239046, 0.2884952217239046, 0.2884952217239046, 0.2884952217239046, 0.2884952217239046, 0.17735668257368262, 0.17735668257368262, 0.1661933459826463, 0.16618773570191905, 0.16618773570191905, 0.16618773570191905, 0.16618773570191905, 0.16618773570191905, 0.16618773570191905, 0.16618773570191905, 0.16618773570191905, 0.16618773570191905, 0.16618773570191905, 0.16618773570191905, 0.16618773570191905, 0.16618773570191905, 0.16618773570191905, 0.16618773570191905, 0.16618773570191905, 0.16618773570191905, 0.16618773570191905, 0.16618773570191905, 0.16618773570191905, 0.16618773570191905, 0.16618773570191905, 0.16618773570191905, 0.16618773570191905, 0.16618773570191905, 0.16618773570191905, 0.16618773570191905, 0.16618773570191905, 0.16618773570191905, 0.16618773570191905, 0.16618773570191905, 0.16618773570191905, 0.16618773570191905, 0.16618773570191905, 0.16618773570191905, 0.16618773570191905, 0.16618773570191905, 0.16618773570191905, 0.16618773570191905, 0.16618773570191905, 0.16618773570191905, 0.16618773570191905, 0.16618773570191905, 0.16618773570191905, 0.16618773570191905, 0.16618773570191905, 0.16618773570191905, 0.16618773570191905, 0.16618773570191905, 0.16618773570191905, 0.16618773570191905, 0.16618773570191905, 0.16618773570191905, 0.16618773570191905, 0.16605084485217472, 0.16516778666570917, 0.164421619328988, 0.14959701353536328, 0.14959701353536328, 0.14959701353536328, 0.14959701353536328, 0.14959701353536328, 0.14959701353536328, 0.1359887166034014, 0.13073637178657146, 0.13073637178657146, 0.13073637178657146, 0.13073637178657146, 0.13073637178657146, 0.13073637178657146, 0.13073637178657146, 0.12476815514894735, 0.12476815514894735, 0.12476815514894735, 0.12346769207637612, 0.12153551139391913, 0.12136608091595687, 0.12073548536221655, 0.11871354018812394, 0.11871354018812394, 0.11871354018812394, 0.11871354018812394, 0.11871354018812394, 0.11871354018812394, 0.11871354018812394, 0.11871354018812394, 0.11871354018812394, 0.11871354018812394, 0.11871354018812394, 0.11871354018812394, 0.11871354018812394, 0.11871354018812394, 0.11871354018812394, 0.11871354018812394, 0.11871354018812394, 0.11871354018812394, 0.11871354018812394, 0.11871354018812394, 0.11871354018812394, 0.11871354018812394, 0.11871354018812394, 0.11871354018812394, 0.11871354018812394, 0.11871354018812394, 0.11871354018812394, 0.11871354018812394, 0.11871354018812394, 0.11871354018812394, 0.11871354018812394, 0.11871354018812394, 0.11871354018812394, 0.11871354018812394, 0.11871354018812394, 0.11871354018812394, 0.11871354018812394, 0.11871354018812394, 0.11871354018812394, 0.11871354018812394, 0.11871354018812394, 0.11871354018812394, 0.11871354018812394, 0.11871354018812394, 0.11871354018812394, 0.11871354018812394, 0.11871354018812394, 0.11871354018812394, 0.11871354018812394, 0.11871354018812394, 0.11871354018812394, 0.11871354018812394, 0.11871354018812394, 0.11871354018812394, 0.11871354018812394, 0.11871354018812394, 0.11871354018812394, 0.11871354018812394, 0.11871354018812394, 0.11871354018812394, 0.11871354018812394, 0.11871354018812394, 0.11871354018812394, 0.11871354018812394, 0.11871354018812394, 0.11871354018812394, 0.11871354018812394, 0.11871354018812394, 0.11871354018812394, 0.11871354018812394, 0.11871354018812394, 0.11871354018812394, 0.11871354018812394, 0.11871354018812394, 0.11871354018812394, 0.11871354018812394, 0.11871354018812394, 0.11871354018812394, 0.11871354018812394, 0.11871354018812394, 0.11871354018812394, 0.11871354018812394, 0.11871354018812394, 0.11871354018812394, 0.11871354018812394, 0.11871354018812394, 0.11871354018812394, 0.11871354018812394, 0.11871354018812394, 0.11871354018812394, 0.11871354018812394, 0.11871354018812394, 0.11871354018812394, 0.11871354018812394, 0.11871354018812394, 0.11871354018812394, 0.11871354018812394, 0.11871354018812394, 0.11871354018812394, 0.11871354018812394, 0.11871354018812394, 0.11871354018812394, 0.11871354018812394, 0.11871354018812394, 0.11871354018812394, 0.11871354018812394, 0.11871354018812394, 0.11871354018812394, 0.11871354018812394, 0.11871354018812394, 0.11871354018812394, 0.11871354018812394, 0.11871354018812394, 0.11871354018812394, 0.11871354018812394, 0.11871354018812394, 0.11147852216229195, 0.11147852216229195, 0.11105999522004081, 0.10972138223852446, 0.10972138223852446, 0.10926021716274639, 0.1091468894920564, 0.1091468894920564, 0.1091468894920564, 0.10908181023562057, 0.10908181023562057, 0.10884842255736793, 0.10518154307405234, 0.10518154307405234, 0.10518154307405234, 0.10452514022896678, 0.10452514022896678, 0.10452514022896678, 0.10451728583594866, 0.10451728583594866, 0.10451728583594866, 0.10451728583594866, 0.10451728583594866, 0.10451728583594866, 0.10451728583594866, 0.10451728583594866, 0.10451728583594866, 0.10451728583594866, 0.08518313639377888, 0.08518313639377888, 0.08518313639377888, 0.08299737102245122, 0.08247000463409188, 0.08247000463409188, 0.08247000463409188, 0.08247000463409188, 0.08247000463409188, 0.08247000463409188, 0.08247000463409188, 0.08247000463409188, 0.08247000463409188, 0.05747844810658636, 0.020587486156632306, 0.005446460529992, 0.005446460529992, 0.005446460529992, 0.005446460529992, 0.005446460529992, 0.005446460529992, 0.005446460529992, 0.005446460529992, 0.005446460529992, 0.005446460529992, 0.005446460529992, 0.005446460529992, 0.005446460529992, 0.005446460529992, 0.005446460529992, 0.005446460529992, 0.005446460529992, 0.005446460529992, 0.005446460529992, 0.0, 0.0, 0.0, 0.0, 0.0, 0.0, 0.0, 0.0, 0.0, 0.0, 0.0, 0.0, 0.0, 0.0, 0.0, 0.0, 0.0, 0.0, 0.0, 0.0, 0.0, 0.0, 0.0, 0.0, 0.0, 0.0, 0.0, 0.0, 0.0, 0.0, 0.0, 0.0, 0.0, 0.0, 0.0, 0.0, 0.0, 0.0, 0.0, 0.0, 0.0, 0.0, 0.0, 0.0, 0.0, 0.0, 0.0, 0.0, 0.0, 0.0, 0.0, 0.0, 0.0, 0.0, 0.0, 0.0, 0.0, 0.0, 0.0, 0.0, 0.0, 0.0, 0.0, 0.0, 0.0]}],                        {\"template\": {\"layout\": {\"annotationdefaults\": {\"arrowcolor\": \"#f2f5fa\", \"arrowhead\": 0, \"arrowwidth\": 1}, \"coloraxis\": {\"colorbar\": {\"outlinewidth\": 0, \"ticks\": \"\"}}, \"colorscale\": {\"diverging\": [[0, \"#8e0152\"], [0.1, \"#c51b7d\"], [0.2, \"#de77ae\"], [0.3, \"#f1b6da\"], [0.4, \"#fde0ef\"], [0.5, \"#f7f7f7\"], [0.6, \"#e6f5d0\"], [0.7, \"#b8e186\"], [0.8, \"#7fbc41\"], [0.9, \"#4d9221\"], [1, \"#276419\"]], \"sequential\": [[0.0, \"#0d0887\"], [0.1111111111111111, \"#46039f\"], [0.2222222222222222, \"#7201a8\"], [0.3333333333333333, \"#9c179e\"], [0.4444444444444444, \"#bd3786\"], [0.5555555555555556, \"#d8576b\"], [0.6666666666666666, \"#ed7953\"], [0.7777777777777778, \"#fb9f3a\"], [0.8888888888888888, \"#fdca26\"], [1.0, \"#f0f921\"]], \"sequentialminus\": [[0.0, \"#0d0887\"], [0.1111111111111111, \"#46039f\"], [0.2222222222222222, \"#7201a8\"], [0.3333333333333333, \"#9c179e\"], [0.4444444444444444, \"#bd3786\"], [0.5555555555555556, \"#d8576b\"], [0.6666666666666666, \"#ed7953\"], [0.7777777777777778, \"#fb9f3a\"], [0.8888888888888888, \"#fdca26\"], [1.0, \"#f0f921\"]]}, \"colorway\": [\"rgba(0, 203, 166, 0.7)\", \"rgba(168, 168, 168, 0.7)\", \"#19d3f3\", \"#00cc96\", \"#ab63fa\", \"#00CBA6\", \"#FF6692\", \"#B6E880\", \"#FF97FF\", \"#FECB52\"], \"font\": {\"color\": \"#2a3f5f\", \"family\": \"plain\"}, \"geo\": {\"bgcolor\": \"black\", \"lakecolor\": \"white\", \"landcolor\": \"white\", \"showlakes\": true, \"showland\": true, \"subunitcolor\": \"#506784\"}, \"hoverlabel\": {\"align\": \"left\"}, \"hovermode\": \"closest\", \"images\": [{\"layer\": \"below\", \"opacity\": 0.05, \"sizex\": 0.7, \"sizey\": 0.7, \"source\": \"https://product-derrick.s3.amazonaws.com/logoWhite.png\", \"x\": 0.15, \"xref\": \"paper\", \"y\": 0.75, \"yref\": \"paper\"}], \"mapbox\": {\"style\": \"light\"}, \"paper_bgcolor\": \"white\", \"plot_bgcolor\": \"white\", \"polar\": {\"angularaxis\": {\"gridcolor\": \"#506784\", \"linecolor\": \"#506784\", \"ticks\": \"\"}, \"bgcolor\": \"white\", \"radialaxis\": {\"gridcolor\": \"#506784\", \"linecolor\": \"#506784\", \"ticks\": \"\"}}, \"scene\": {\"xaxis\": {\"backgroundcolor\": \"white\", \"gridcolor\": \"#506784\", \"gridwidth\": 2, \"linecolor\": \"#506784\", \"showbackground\": true, \"ticks\": \"\", \"zerolinecolor\": \"#C8D4E3\"}, \"yaxis\": {\"backgroundcolor\": \"white\", \"gridcolor\": \"#506784\", \"gridwidth\": 2, \"linecolor\": \"#506784\", \"showbackground\": true, \"ticks\": \"\", \"zerolinecolor\": \"#C8D4E3\"}, \"zaxis\": {\"backgroundcolor\": \"rgb(17,17,17)\", \"gridcolor\": \"#506784\", \"gridwidth\": 2, \"linecolor\": \"#506784\", \"showbackground\": true, \"ticks\": \"\", \"zerolinecolor\": \"#C8D4E3\"}}, \"shapedefaults\": {\"line\": {\"color\": \"#f2f5fa\"}}, \"sliderdefaults\": {\"bgcolor\": \"#C8D4E3\", \"bordercolor\": \"rgb(17,17,17)\", \"borderwidth\": 1, \"tickwidth\": 0}, \"ternary\": {\"aaxis\": {\"gridcolor\": \"#506784\", \"linecolor\": \"#506784\", \"ticks\": \"\"}, \"baxis\": {\"gridcolor\": \"#506784\", \"linecolor\": \"#506784\", \"ticks\": \"\"}, \"bgcolor\": \"rgb(17,17,17)\", \"caxis\": {\"gridcolor\": \"#506784\", \"linecolor\": \"#506784\", \"ticks\": \"\"}}, \"title\": {\"font\": {\"size\": 24}, \"x\": 0.05}, \"updatemenudefaults\": {\"bgcolor\": \"#506784\", \"borderwidth\": 0}, \"xaxis\": {\"automargin\": true, \"gridcolor\": \"#DFE8F3\", \"linecolor\": \"#A2B1C6\", \"tickfont\": {\"color\": \"#2a3f5f\", \"family\": \"InterstateMono\", \"size\": 10}, \"ticks\": \"\", \"title\": {\"font\": {\"family\": \"Plain\", \"size\": 18}}, \"zerolinecolor\": \"#DFE8F3\", \"zerolinewidth\": 2}, \"yaxis\": {\"automargin\": true, \"gridcolor\": \"#DFE8F3\", \"linecolor\": \"#A2B1C6\", \"tickfont\": {\"color\": \"#2a3f5f\", \"family\": \"InterstateMono\", \"size\": 10}, \"ticks\": \"\", \"title\": {\"font\": {\"family\": \"plain\", \"size\": 18}}, \"zerolinecolor\": \"#DFE8F3\", \"zerolinewidth\": 2}}}, \"title\": {\"text\": \"Missing Values per Column\"}, \"xaxis\": {\"title\": {\"text\": \"Column name\"}}, \"yaxis\": {\"tickformat\": \"%\", \"title\": {\"text\": \"Rate of Missing Values\"}}},                        {\"responsive\": true}                    ).then(function(){\n",
       "                            \n",
       "var gd = document.getElementById('facdf315-bd8b-4e19-8f12-d2f4e9d29565');\n",
       "var x = new MutationObserver(function (mutations, observer) {{\n",
       "        var display = window.getComputedStyle(gd).display;\n",
       "        if (!display || display === 'none') {{\n",
       "            console.log([gd, 'removed!']);\n",
       "            Plotly.purge(gd);\n",
       "            observer.disconnect();\n",
       "        }}\n",
       "}});\n",
       "\n",
       "// Listen for the removal of the full notebook cells\n",
       "var notebookContainer = gd.closest('#notebook-container');\n",
       "if (notebookContainer) {{\n",
       "    x.observe(notebookContainer, {childList: true});\n",
       "}}\n",
       "\n",
       "// Listen for the clearing of the current output cell\n",
       "var outputEl = gd.closest('.output');\n",
       "if (outputEl) {{\n",
       "    x.observe(outputEl, {childList: true});\n",
       "}}\n",
       "\n",
       "                        })                };                });            </script>        </div>"
      ]
     },
     "metadata": {},
     "output_type": "display_data"
    }
   ],
   "source": [
    "fig = plot_missing_values(azdias)\n",
    "fig.show()"
   ]
  },
  {
   "cell_type": "markdown",
   "metadata": {},
   "source": [
    "Lets look at which attributes were in the data dictionary, but not in our `azdias` dataset:"
   ]
  },
  {
   "cell_type": "code",
   "execution_count": 28,
   "metadata": {},
   "outputs": [
    {
     "data": {
      "text/plain": [
       "['BIP_FLAG',\n",
       " 'CAMEO_DEUINTL_2015',\n",
       " 'D19_BANKEN_DIREKT_RZ',\n",
       " 'D19_BANKEN_GROSS_RZ',\n",
       " 'D19_BANKEN_LOKAL_RZ',\n",
       " 'D19_BANKEN_REST_RZ',\n",
       " 'D19_BEKLEIDUNG_GEH_RZ',\n",
       " 'D19_BEKLEIDUNG_REST_RZ',\n",
       " 'D19_BILDUNG_RZ',\n",
       " 'D19_BIO_OEKO_RZ',\n",
       " 'D19_BUCH_RZ',\n",
       " 'D19_DIGIT_SERV_RZ',\n",
       " 'D19_DROGERIEARTIKEL_RZ',\n",
       " 'D19_ENERGIE_RZ',\n",
       " 'D19_FREIZEIT_RZ',\n",
       " 'D19_GARTEN_RZ',\n",
       " 'D19_HANDWERK_RZ',\n",
       " 'D19_HAUS_DEKO_RZ',\n",
       " 'D19_KINDERARTIKEL_RZ',\n",
       " 'D19_KK_KUNDENTYP',\n",
       " 'D19_KOSMETIK_RZ',\n",
       " 'D19_LEBENSMITTEL_RZ',\n",
       " 'D19_LOTTO_RZ',\n",
       " 'D19_NAHRUNGSERGAENZUNG_RZ',\n",
       " 'D19_RATGEBER_RZ',\n",
       " 'D19_REISEN_RZ',\n",
       " 'D19_SAMMELARTIKEL_RZ',\n",
       " 'D19_SCHUHE_RZ',\n",
       " 'D19_SONSTIGE_RZ',\n",
       " 'D19_TECHNIK_RZ',\n",
       " 'D19_TELKO_MOBILE_RZ',\n",
       " 'D19_TELKO_REST_RZ',\n",
       " 'D19_TIERARTIKEL_RZ',\n",
       " 'D19_VERSAND_REST_RZ',\n",
       " 'D19_VERSICHERUNGEN_RZ',\n",
       " 'D19_VOLLSORTIMENT_RZ',\n",
       " 'D19_WEIN_FEINKOST_RZ',\n",
       " 'GEOSCORE_KLS7',\n",
       " 'HAUSHALTSSTRUKTUR',\n",
       " 'KBA13_CCM_1400_2500',\n",
       " 'SOHO_FLAG',\n",
       " 'WACHSTUMSGEBIET_NB',\n",
       " 'GEOSCORE_KLS7',\n",
       " 'HAUSHALTSSTRUKTUR',\n",
       " 'WACHSTUMSGEBIET_NB']"
      ]
     },
     "execution_count": 28,
     "metadata": {},
     "output_type": "execute_result"
    }
   ],
   "source": [
    "# Items in the attribute dictionary that are not represented in the dataset:\n",
    "missing_attributes"
   ]
  },
  {
   "cell_type": "markdown",
   "metadata": {},
   "source": [
    "Importantly, we must look to see which attributes are in our dataset that are **not** in our data dictionary. \n",
    "\n",
    "These items we will not know their meaning. Thus, we do not know if there is a `missing` or `unknown` coded value"
   ]
  },
  {
   "cell_type": "code",
   "execution_count": 29,
   "metadata": {},
   "outputs": [],
   "source": [
    "azdias_attr = list(azdias.columns)\n",
    "values_attr = values.Attribute.unique()\n",
    "azdias_missing_attr = [element for element in azdias_attr if element not in values_attr]"
   ]
  },
  {
   "cell_type": "code",
   "execution_count": 30,
   "metadata": {},
   "outputs": [
    {
     "data": {
      "text/plain": [
       "94"
      ]
     },
     "execution_count": 30,
     "metadata": {},
     "output_type": "execute_result"
    }
   ],
   "source": [
    "# 94 columns in azdias that we do not find in our data dictionary\n",
    "len(azdias_missing_attr)"
   ]
  },
  {
   "cell_type": "code",
   "execution_count": 31,
   "metadata": {
    "tags": [
     "outputPrepend"
    ]
   },
   "outputs": [
    {
     "name": "stdout",
     "output_type": "stream",
     "text": [
      "<class 'pandas.core.frame.DataFrame'>\n",
      "RangeIndex: 891221 entries, 0 to 891220\n",
      "Data columns (total 94 columns):\n",
      " #   Column                      Non-Null Count   Dtype  \n",
      "---  ------                      --------------   -----  \n",
      " 0   LNR                         891221 non-null  int64  \n",
      " 1   AKT_DAT_KL                  817722 non-null  float64\n",
      " 2   ALTER_KIND1                 81058 non-null   float64\n",
      " 3   ALTER_KIND2                 29499 non-null   float64\n",
      " 4   ALTER_KIND3                 6170 non-null    float64\n",
      " 5   ALTER_KIND4                 1205 non-null    float64\n",
      " 6   ALTERSKATEGORIE_FEIN        628274 non-null  float64\n",
      " 7   ANZ_KINDER                  817722 non-null  float64\n",
      " 8   ANZ_STATISTISCHE_HAUSHALTE  798073 non-null  float64\n",
      " 9   ARBEIT                      794005 non-null  float64\n",
      " 10  CAMEO_INTL_2015             791869 non-null  float64\n",
      " 11  CJT_KATALOGNUTZER           886367 non-null  float64\n",
      " 12  CJT_TYP_1                   886367 non-null  float64\n",
      " 13  CJT_TYP_2                   886367 non-null  float64\n",
      " 14  CJT_TYP_3                   886367 non-null  float64\n",
      " 15  CJT_TYP_4                   886367 non-null  float64\n",
      " 16  CJT_TYP_5                   886367 non-null  float64\n",
      " 17  CJT_TYP_6                   886367 non-null  float64\n",
      " 18  D19_BANKEN_DIREKT           891221 non-null  int64  \n",
      " 19  D19_BANKEN_GROSS            891221 non-null  int64  \n",
      " 20  D19_BANKEN_LOKAL            891221 non-null  int64  \n",
      " 21  D19_BANKEN_REST             891221 non-null  int64  \n",
      " 22  D19_BEKLEIDUNG_GEH          891221 non-null  int64  \n",
      " 23  D19_BEKLEIDUNG_REST         891221 non-null  int64  \n",
      " 24  D19_BILDUNG                 891221 non-null  int64  \n",
      " 25  D19_BIO_OEKO                891221 non-null  int64  \n",
      " 26  D19_BUCH_CD                 891221 non-null  int64  \n",
      " 27  D19_DIGIT_SERV              891221 non-null  int64  \n",
      " 28  D19_DROGERIEARTIKEL         891221 non-null  int64  \n",
      " 29  D19_ENERGIE                 891221 non-null  int64  \n",
      " 30  D19_FREIZEIT                891221 non-null  int64  \n",
      " 31  D19_GARTEN                  891221 non-null  int64  \n",
      " 32  D19_HANDWERK                891221 non-null  int64  \n",
      " 33  D19_HAUS_DEKO               891221 non-null  int64  \n",
      " 34  D19_KINDERARTIKEL           891221 non-null  int64  \n",
      " 35  D19_KONSUMTYP_MAX           891221 non-null  int64  \n",
      " 36  D19_KOSMETIK                891221 non-null  int64  \n",
      " 37  D19_LEBENSMITTEL            891221 non-null  int64  \n",
      " 38  D19_LETZTER_KAUF_BRANCHE    634108 non-null  object \n",
      " 39  D19_LOTTO                   634108 non-null  float64\n",
      " 40  D19_NAHRUNGSERGAENZUNG      891221 non-null  int64  \n",
      " 41  D19_RATGEBER                891221 non-null  int64  \n",
      " 42  D19_REISEN                  891221 non-null  int64  \n",
      " 43  D19_SAMMELARTIKEL           891221 non-null  int64  \n",
      " 44  D19_SCHUHE                  891221 non-null  int64  \n",
      " 45  D19_SONSTIGE                891221 non-null  int64  \n",
      " 46  D19_SOZIALES                634108 non-null  float64\n",
      " 47  D19_TECHNIK                 891221 non-null  int64  \n",
      " 48  D19_TELKO_MOBILE            891221 non-null  int64  \n",
      " 49  D19_TELKO_ONLINE_QUOTE_12   634108 non-null  float64\n",
      " 50  D19_TELKO_REST              891221 non-null  int64  \n",
      " 51  D19_TIERARTIKEL             891221 non-null  int64  \n",
      " 52  D19_VERSAND_REST            891221 non-null  int64  \n",
      " 53  D19_VERSI_DATUM             891221 non-null  int64  \n",
      " 54  D19_VERSI_OFFLINE_DATUM     891221 non-null  int64  \n",
      " 55  D19_VERSI_ONLINE_DATUM      891221 non-null  int64  \n",
      " 56  D19_VERSI_ONLINE_QUOTE_12   634108 non-null  float64\n",
      " 57  D19_VERSICHERUNGEN          891221 non-null  int64  \n",
      " 58  D19_VOLLSORTIMENT           891221 non-null  int64  \n",
      " 59  D19_WEIN_FEINKOST           891221 non-null  int64  \n",
      " 60  DSL_FLAG                    798073 non-null  float64\n",
      " 61  EINGEFUEGT_AM               798073 non-null  object \n",
      " 62  EINGEZOGENAM_HH_JAHR        817722 non-null  float64\n",
      " 63  EXTSEL992                   237068 non-null  float64\n",
      " 64  FIRMENDICHTE                798066 non-null  float64\n",
      " 65  GEMEINDETYP                 793947 non-null  float64\n",
      " 66  HH_DELTA_FLAG               783619 non-null  float64\n",
      " 67  KBA13_ANTG1                 785421 non-null  float64\n",
      " 68  KBA13_ANTG2                 785421 non-null  float64\n",
      " 69  KBA13_ANTG3                 785421 non-null  float64\n",
      " 70  KBA13_ANTG4                 785421 non-null  float64\n",
      " 71  KBA13_BAUMAX                785421 non-null  float64\n",
      " 72  KBA13_CCM_1401_2500         785421 non-null  float64\n",
      " 73  KBA13_GBZ                   785421 non-null  float64\n",
      " 74  KBA13_HHZ                   785421 non-null  float64\n",
      " 75  KBA13_KMH_210               785421 non-null  float64\n",
      " 76  KK_KUNDENTYP                306609 non-null  float64\n",
      " 77  KOMBIALTER                  891221 non-null  int64  \n",
      " 78  KONSUMZELLE                 798066 non-null  float64\n",
      " 79  MOBI_RASTER                 798073 non-null  float64\n",
      " 80  RT_KEIN_ANREIZ              886367 non-null  float64\n",
      " 81  RT_SCHNAEPPCHEN             886367 non-null  float64\n",
      " 82  RT_UEBERGROESSE             839995 non-null  float64\n",
      " 83  SOHO_KZ                     817722 non-null  float64\n",
      " 84  STRUKTURTYP                 793947 non-null  float64\n",
      " 85  UMFELD_ALT                  793435 non-null  float64\n",
      " 86  UMFELD_JUNG                 793435 non-null  float64\n",
      " 87  UNGLEICHENN_FLAG            817722 non-null  float64\n",
      " 88  VERDICHTUNGSRAUM            793947 non-null  float64\n",
      " 89  VHA                         817722 non-null  float64\n",
      " 90  VHN                         770025 non-null  float64\n",
      " 91  VK_DHT4A                    815304 non-null  float64\n",
      " 92  VK_DISTANZ                  815304 non-null  float64\n",
      " 93  VK_ZG11                     815304 non-null  float64\n",
      "dtypes: float64(53), int64(39), object(2)\n",
      "memory usage: 639.2+ MB\n"
     ]
    }
   ],
   "source": [
    "# Perhaps these missing attributes are of a specific type? \n",
    "azdias[azdias_missing_attr].info()"
   ]
  },
  {
   "cell_type": "markdown",
   "metadata": {},
   "source": [
    "Looks like there were only 2 columns of type \"object\". All others are `float` or `int` \n",
    "\n"
   ]
  },
  {
   "cell_type": "code",
   "execution_count": 32,
   "metadata": {},
   "outputs": [
    {
     "data": {
      "text/plain": [
       "9421748"
      ]
     },
     "execution_count": 32,
     "metadata": {},
     "output_type": "execute_result"
    }
   ],
   "source": [
    "azdias[azdias_missing_attr].isna().sum().sum()"
   ]
  },
  {
   "cell_type": "code",
   "execution_count": 33,
   "metadata": {},
   "outputs": [
    {
     "data": {
      "text/html": [
       "<div>                            <div id=\"0109c347-fb08-4222-a9a5-8e32e69df09c\" class=\"plotly-graph-div\" style=\"height:525px; width:100%;\"></div>            <script type=\"text/javascript\">                require([\"plotly\"], function(Plotly) {                    window.PLOTLYENV=window.PLOTLYENV || {};                                    if (document.getElementById(\"0109c347-fb08-4222-a9a5-8e32e69df09c\")) {                    Plotly.newPlot(                        \"0109c347-fb08-4222-a9a5-8e32e69df09c\",                        [{\"type\": \"bar\", \"x\": [\"ALTER_KIND4\", \"ALTER_KIND3\", \"ALTER_KIND2\", \"ALTER_KIND1\", \"EXTSEL992\", \"KK_KUNDENTYP\", \"ALTERSKATEGORIE_FEIN\", \"D19_LOTTO\", \"D19_SOZIALES\", \"D19_TELKO_ONLINE_QUOTE_12\", \"D19_VERSI_ONLINE_QUOTE_12\", \"D19_LETZTER_KAUF_BRANCHE\", \"VHN\", \"HH_DELTA_FLAG\", \"KBA13_BAUMAX\", \"KBA13_GBZ\", \"KBA13_CCM_1401_2500\", \"KBA13_ANTG1\", \"KBA13_ANTG4\", \"KBA13_HHZ\", \"KBA13_ANTG3\", \"KBA13_ANTG2\", \"KBA13_KMH_210\", \"CAMEO_INTL_2015\", \"UMFELD_JUNG\", \"UMFELD_ALT\", \"VERDICHTUNGSRAUM\", \"STRUKTURTYP\", \"GEMEINDETYP\", \"ARBEIT\", \"KONSUMZELLE\", \"FIRMENDICHTE\", \"DSL_FLAG\", \"MOBI_RASTER\", \"ANZ_STATISTISCHE_HAUSHALTE\", \"EINGEFUEGT_AM\", \"VK_ZG11\", \"VK_DHT4A\", \"VK_DISTANZ\", \"AKT_DAT_KL\", \"SOHO_KZ\", \"VHA\", \"EINGEZOGENAM_HH_JAHR\", \"ANZ_KINDER\", \"UNGLEICHENN_FLAG\", \"RT_UEBERGROESSE\", \"RT_SCHNAEPPCHEN\", \"RT_KEIN_ANREIZ\", \"CJT_TYP_6\", \"CJT_TYP_5\", \"CJT_TYP_4\", \"CJT_TYP_3\", \"CJT_TYP_2\", \"CJT_TYP_1\", \"CJT_KATALOGNUTZER\", \"KOMBIALTER\", \"D19_VOLLSORTIMENT\", \"D19_WEIN_FEINKOST\", \"LNR\", \"D19_VERSICHERUNGEN\", \"D19_BIO_OEKO\", \"D19_GARTEN\", \"D19_FREIZEIT\", \"D19_ENERGIE\", \"D19_DROGERIEARTIKEL\", \"D19_DIGIT_SERV\", \"D19_BUCH_CD\", \"D19_BILDUNG\", \"D19_HAUS_DEKO\", \"D19_BEKLEIDUNG_REST\", \"D19_BEKLEIDUNG_GEH\", \"D19_BANKEN_REST\", \"D19_BANKEN_LOKAL\", \"D19_BANKEN_GROSS\", \"D19_BANKEN_DIREKT\", \"D19_HANDWERK\", \"D19_KINDERARTIKEL\", \"D19_VERSI_ONLINE_DATUM\", \"D19_SONSTIGE\", \"D19_VERSI_OFFLINE_DATUM\", \"D19_VERSI_DATUM\", \"D19_VERSAND_REST\", \"D19_TIERARTIKEL\", \"D19_TELKO_REST\", \"D19_TELKO_MOBILE\", \"D19_SCHUHE\", \"D19_KONSUMTYP_MAX\", \"D19_SAMMELARTIKEL\", \"D19_REISEN\", \"D19_RATGEBER\", \"D19_NAHRUNGSERGAENZUNG\", \"D19_LEBENSMITTEL\", \"D19_KOSMETIK\", \"D19_TECHNIK\"], \"y\": [0.9986479223447383, 0.9930769135826019, 0.9669004657655059, 0.9090483729624863, 0.7339963937115486, 0.6559674873011295, 0.29504129727643313, 0.2884952217239046, 0.2884952217239046, 0.2884952217239046, 0.2884952217239046, 0.2884952217239046, 0.1359887166034014, 0.12073548536221655, 0.11871354018812394, 0.11871354018812394, 0.11871354018812394, 0.11871354018812394, 0.11871354018812394, 0.11871354018812394, 0.11871354018812394, 0.11871354018812394, 0.11871354018812394, 0.11147852216229195, 0.10972138223852446, 0.10972138223852446, 0.1091468894920564, 0.1091468894920564, 0.1091468894920564, 0.10908181023562057, 0.10452514022896678, 0.10452514022896678, 0.10451728583594866, 0.10451728583594866, 0.10451728583594866, 0.10451728583594866, 0.08518313639377888, 0.08518313639377888, 0.08518313639377888, 0.08247000463409188, 0.08247000463409188, 0.08247000463409188, 0.08247000463409188, 0.08247000463409188, 0.08247000463409188, 0.05747844810658636, 0.005446460529992, 0.005446460529992, 0.005446460529992, 0.005446460529992, 0.005446460529992, 0.005446460529992, 0.005446460529992, 0.005446460529992, 0.005446460529992, 0.0, 0.0, 0.0, 0.0, 0.0, 0.0, 0.0, 0.0, 0.0, 0.0, 0.0, 0.0, 0.0, 0.0, 0.0, 0.0, 0.0, 0.0, 0.0, 0.0, 0.0, 0.0, 0.0, 0.0, 0.0, 0.0, 0.0, 0.0, 0.0, 0.0, 0.0, 0.0, 0.0, 0.0, 0.0, 0.0, 0.0, 0.0, 0.0]}],                        {\"template\": {\"layout\": {\"annotationdefaults\": {\"arrowcolor\": \"#f2f5fa\", \"arrowhead\": 0, \"arrowwidth\": 1}, \"coloraxis\": {\"colorbar\": {\"outlinewidth\": 0, \"ticks\": \"\"}}, \"colorscale\": {\"diverging\": [[0, \"#8e0152\"], [0.1, \"#c51b7d\"], [0.2, \"#de77ae\"], [0.3, \"#f1b6da\"], [0.4, \"#fde0ef\"], [0.5, \"#f7f7f7\"], [0.6, \"#e6f5d0\"], [0.7, \"#b8e186\"], [0.8, \"#7fbc41\"], [0.9, \"#4d9221\"], [1, \"#276419\"]], \"sequential\": [[0.0, \"#0d0887\"], [0.1111111111111111, \"#46039f\"], [0.2222222222222222, \"#7201a8\"], [0.3333333333333333, \"#9c179e\"], [0.4444444444444444, \"#bd3786\"], [0.5555555555555556, \"#d8576b\"], [0.6666666666666666, \"#ed7953\"], [0.7777777777777778, \"#fb9f3a\"], [0.8888888888888888, \"#fdca26\"], [1.0, \"#f0f921\"]], \"sequentialminus\": [[0.0, \"#0d0887\"], [0.1111111111111111, \"#46039f\"], [0.2222222222222222, \"#7201a8\"], [0.3333333333333333, \"#9c179e\"], [0.4444444444444444, \"#bd3786\"], [0.5555555555555556, \"#d8576b\"], [0.6666666666666666, \"#ed7953\"], [0.7777777777777778, \"#fb9f3a\"], [0.8888888888888888, \"#fdca26\"], [1.0, \"#f0f921\"]]}, \"colorway\": [\"rgba(0, 203, 166, 0.7)\", \"rgba(168, 168, 168, 0.7)\", \"#19d3f3\", \"#00cc96\", \"#ab63fa\", \"#00CBA6\", \"#FF6692\", \"#B6E880\", \"#FF97FF\", \"#FECB52\"], \"font\": {\"color\": \"#2a3f5f\", \"family\": \"plain\"}, \"geo\": {\"bgcolor\": \"black\", \"lakecolor\": \"white\", \"landcolor\": \"white\", \"showlakes\": true, \"showland\": true, \"subunitcolor\": \"#506784\"}, \"hoverlabel\": {\"align\": \"left\"}, \"hovermode\": \"closest\", \"images\": [{\"layer\": \"below\", \"opacity\": 0.05, \"sizex\": 0.7, \"sizey\": 0.7, \"source\": \"https://product-derrick.s3.amazonaws.com/logoWhite.png\", \"x\": 0.15, \"xref\": \"paper\", \"y\": 0.75, \"yref\": \"paper\"}], \"mapbox\": {\"style\": \"light\"}, \"paper_bgcolor\": \"white\", \"plot_bgcolor\": \"white\", \"polar\": {\"angularaxis\": {\"gridcolor\": \"#506784\", \"linecolor\": \"#506784\", \"ticks\": \"\"}, \"bgcolor\": \"white\", \"radialaxis\": {\"gridcolor\": \"#506784\", \"linecolor\": \"#506784\", \"ticks\": \"\"}}, \"scene\": {\"xaxis\": {\"backgroundcolor\": \"white\", \"gridcolor\": \"#506784\", \"gridwidth\": 2, \"linecolor\": \"#506784\", \"showbackground\": true, \"ticks\": \"\", \"zerolinecolor\": \"#C8D4E3\"}, \"yaxis\": {\"backgroundcolor\": \"white\", \"gridcolor\": \"#506784\", \"gridwidth\": 2, \"linecolor\": \"#506784\", \"showbackground\": true, \"ticks\": \"\", \"zerolinecolor\": \"#C8D4E3\"}, \"zaxis\": {\"backgroundcolor\": \"rgb(17,17,17)\", \"gridcolor\": \"#506784\", \"gridwidth\": 2, \"linecolor\": \"#506784\", \"showbackground\": true, \"ticks\": \"\", \"zerolinecolor\": \"#C8D4E3\"}}, \"shapedefaults\": {\"line\": {\"color\": \"#f2f5fa\"}}, \"sliderdefaults\": {\"bgcolor\": \"#C8D4E3\", \"bordercolor\": \"rgb(17,17,17)\", \"borderwidth\": 1, \"tickwidth\": 0}, \"ternary\": {\"aaxis\": {\"gridcolor\": \"#506784\", \"linecolor\": \"#506784\", \"ticks\": \"\"}, \"baxis\": {\"gridcolor\": \"#506784\", \"linecolor\": \"#506784\", \"ticks\": \"\"}, \"bgcolor\": \"rgb(17,17,17)\", \"caxis\": {\"gridcolor\": \"#506784\", \"linecolor\": \"#506784\", \"ticks\": \"\"}}, \"title\": {\"font\": {\"size\": 24}, \"x\": 0.05}, \"updatemenudefaults\": {\"bgcolor\": \"#506784\", \"borderwidth\": 0}, \"xaxis\": {\"automargin\": true, \"gridcolor\": \"#DFE8F3\", \"linecolor\": \"#A2B1C6\", \"tickfont\": {\"color\": \"#2a3f5f\", \"family\": \"InterstateMono\", \"size\": 10}, \"ticks\": \"\", \"title\": {\"font\": {\"family\": \"Plain\", \"size\": 18}}, \"zerolinecolor\": \"#DFE8F3\", \"zerolinewidth\": 2}, \"yaxis\": {\"automargin\": true, \"gridcolor\": \"#DFE8F3\", \"linecolor\": \"#A2B1C6\", \"tickfont\": {\"color\": \"#2a3f5f\", \"family\": \"InterstateMono\", \"size\": 10}, \"ticks\": \"\", \"title\": {\"font\": {\"family\": \"plain\", \"size\": 18}}, \"zerolinecolor\": \"#DFE8F3\", \"zerolinewidth\": 2}}}, \"title\": {\"text\": \"Missing Values per Column\"}, \"xaxis\": {\"title\": {\"text\": \"Column name\"}}, \"yaxis\": {\"tickformat\": \"%\", \"title\": {\"text\": \"Rate of Missing Values\"}}},                        {\"responsive\": true}                    ).then(function(){\n",
       "                            \n",
       "var gd = document.getElementById('0109c347-fb08-4222-a9a5-8e32e69df09c');\n",
       "var x = new MutationObserver(function (mutations, observer) {{\n",
       "        var display = window.getComputedStyle(gd).display;\n",
       "        if (!display || display === 'none') {{\n",
       "            console.log([gd, 'removed!']);\n",
       "            Plotly.purge(gd);\n",
       "            observer.disconnect();\n",
       "        }}\n",
       "}});\n",
       "\n",
       "// Listen for the removal of the full notebook cells\n",
       "var notebookContainer = gd.closest('#notebook-container');\n",
       "if (notebookContainer) {{\n",
       "    x.observe(notebookContainer, {childList: true});\n",
       "}}\n",
       "\n",
       "// Listen for the clearing of the current output cell\n",
       "var outputEl = gd.closest('.output');\n",
       "if (outputEl) {{\n",
       "    x.observe(outputEl, {childList: true});\n",
       "}}\n",
       "\n",
       "                        })                };                });            </script>        </div>"
      ]
     },
     "metadata": {},
     "output_type": "display_data"
    }
   ],
   "source": [
    "fig = plot_missing_values(azdias[azdias_missing_attr])\n",
    "fig.show()\n",
    "# py.plot(fig, filename = 'udsnd_2_missing', auto_open=False)"
   ]
  },
  {
   "cell_type": "markdown",
   "metadata": {},
   "source": [
    "This presents an interesting challenge about what to do with these columns. Given we do not know the meaning of the coded values, it is possible that some features have values that are unknown but represented with a digit\n",
    "\n",
    "I could see above that there were 5 unique value codes associated with being unknown: `[-1,  0, 10,  9]`. While I can see these codes in the data in the columns that we have no values for, it is not **certain** that they mean the same thing and we could be losing data if we choose to convert them to `NaN`. \n",
    "\n",
    "**The real world** - at this point in a real on-the-job scenario, I would stop the process and communicate with someone in the company to solve for this missing information as it might greatly increase our accuracy. \n",
    "\n",
    "In this case, I might have to test both pathways: \n",
    "  \n",
    "  1. Completely Remove the columns I don't understand as the inclusion of `NaN` values may pollute the results.\n",
    "  2. Convert the value codes that seem to match the `unknown` of other columns.  "
   ]
  },
  {
   "cell_type": "code",
   "execution_count": 34,
   "metadata": {},
   "outputs": [
    {
     "data": {
      "text/html": [
       "<div>\n",
       "<style scoped>\n",
       "    .dataframe tbody tr th:only-of-type {\n",
       "        vertical-align: middle;\n",
       "    }\n",
       "\n",
       "    .dataframe tbody tr th {\n",
       "        vertical-align: top;\n",
       "    }\n",
       "\n",
       "    .dataframe thead th {\n",
       "        text-align: right;\n",
       "    }\n",
       "</style>\n",
       "<table border=\"1\" class=\"dataframe\">\n",
       "  <thead>\n",
       "    <tr style=\"text-align: right;\">\n",
       "      <th></th>\n",
       "      <th>LNR</th>\n",
       "      <th>AKT_DAT_KL</th>\n",
       "      <th>ALTER_KIND1</th>\n",
       "      <th>ALTER_KIND2</th>\n",
       "      <th>ALTER_KIND3</th>\n",
       "      <th>ALTER_KIND4</th>\n",
       "      <th>ALTERSKATEGORIE_FEIN</th>\n",
       "      <th>ANZ_KINDER</th>\n",
       "      <th>ANZ_STATISTISCHE_HAUSHALTE</th>\n",
       "      <th>ARBEIT</th>\n",
       "      <th>...</th>\n",
       "      <th>STRUKTURTYP</th>\n",
       "      <th>UMFELD_ALT</th>\n",
       "      <th>UMFELD_JUNG</th>\n",
       "      <th>UNGLEICHENN_FLAG</th>\n",
       "      <th>VERDICHTUNGSRAUM</th>\n",
       "      <th>VHA</th>\n",
       "      <th>VHN</th>\n",
       "      <th>VK_DHT4A</th>\n",
       "      <th>VK_DISTANZ</th>\n",
       "      <th>VK_ZG11</th>\n",
       "    </tr>\n",
       "  </thead>\n",
       "  <tbody>\n",
       "    <tr>\n",
       "      <th>0</th>\n",
       "      <td>910215</td>\n",
       "      <td>NaN</td>\n",
       "      <td>NaN</td>\n",
       "      <td>NaN</td>\n",
       "      <td>NaN</td>\n",
       "      <td>NaN</td>\n",
       "      <td>NaN</td>\n",
       "      <td>NaN</td>\n",
       "      <td>NaN</td>\n",
       "      <td>NaN</td>\n",
       "      <td>...</td>\n",
       "      <td>NaN</td>\n",
       "      <td>NaN</td>\n",
       "      <td>NaN</td>\n",
       "      <td>NaN</td>\n",
       "      <td>NaN</td>\n",
       "      <td>NaN</td>\n",
       "      <td>NaN</td>\n",
       "      <td>NaN</td>\n",
       "      <td>NaN</td>\n",
       "      <td>NaN</td>\n",
       "    </tr>\n",
       "    <tr>\n",
       "      <th>1</th>\n",
       "      <td>910220</td>\n",
       "      <td>9.0</td>\n",
       "      <td>NaN</td>\n",
       "      <td>NaN</td>\n",
       "      <td>NaN</td>\n",
       "      <td>NaN</td>\n",
       "      <td>21.0</td>\n",
       "      <td>0.0</td>\n",
       "      <td>12.0</td>\n",
       "      <td>3.0</td>\n",
       "      <td>...</td>\n",
       "      <td>2.0</td>\n",
       "      <td>3.0</td>\n",
       "      <td>3.0</td>\n",
       "      <td>1.0</td>\n",
       "      <td>0.0</td>\n",
       "      <td>0.0</td>\n",
       "      <td>4.0</td>\n",
       "      <td>8.0</td>\n",
       "      <td>11.0</td>\n",
       "      <td>10.0</td>\n",
       "    </tr>\n",
       "    <tr>\n",
       "      <th>2</th>\n",
       "      <td>910225</td>\n",
       "      <td>9.0</td>\n",
       "      <td>NaN</td>\n",
       "      <td>NaN</td>\n",
       "      <td>NaN</td>\n",
       "      <td>NaN</td>\n",
       "      <td>17.0</td>\n",
       "      <td>0.0</td>\n",
       "      <td>7.0</td>\n",
       "      <td>3.0</td>\n",
       "      <td>...</td>\n",
       "      <td>3.0</td>\n",
       "      <td>2.0</td>\n",
       "      <td>5.0</td>\n",
       "      <td>0.0</td>\n",
       "      <td>1.0</td>\n",
       "      <td>0.0</td>\n",
       "      <td>2.0</td>\n",
       "      <td>9.0</td>\n",
       "      <td>9.0</td>\n",
       "      <td>6.0</td>\n",
       "    </tr>\n",
       "    <tr>\n",
       "      <th>3</th>\n",
       "      <td>910226</td>\n",
       "      <td>1.0</td>\n",
       "      <td>NaN</td>\n",
       "      <td>NaN</td>\n",
       "      <td>NaN</td>\n",
       "      <td>NaN</td>\n",
       "      <td>13.0</td>\n",
       "      <td>0.0</td>\n",
       "      <td>2.0</td>\n",
       "      <td>2.0</td>\n",
       "      <td>...</td>\n",
       "      <td>1.0</td>\n",
       "      <td>4.0</td>\n",
       "      <td>5.0</td>\n",
       "      <td>0.0</td>\n",
       "      <td>0.0</td>\n",
       "      <td>1.0</td>\n",
       "      <td>0.0</td>\n",
       "      <td>7.0</td>\n",
       "      <td>10.0</td>\n",
       "      <td>11.0</td>\n",
       "    </tr>\n",
       "    <tr>\n",
       "      <th>4</th>\n",
       "      <td>910241</td>\n",
       "      <td>1.0</td>\n",
       "      <td>NaN</td>\n",
       "      <td>NaN</td>\n",
       "      <td>NaN</td>\n",
       "      <td>NaN</td>\n",
       "      <td>14.0</td>\n",
       "      <td>0.0</td>\n",
       "      <td>3.0</td>\n",
       "      <td>4.0</td>\n",
       "      <td>...</td>\n",
       "      <td>3.0</td>\n",
       "      <td>4.0</td>\n",
       "      <td>3.0</td>\n",
       "      <td>0.0</td>\n",
       "      <td>1.0</td>\n",
       "      <td>0.0</td>\n",
       "      <td>2.0</td>\n",
       "      <td>3.0</td>\n",
       "      <td>5.0</td>\n",
       "      <td>4.0</td>\n",
       "    </tr>\n",
       "  </tbody>\n",
       "</table>\n",
       "<p>5 rows × 94 columns</p>\n",
       "</div>"
      ],
      "text/plain": [
       "      LNR  AKT_DAT_KL  ALTER_KIND1  ALTER_KIND2  ALTER_KIND3  ALTER_KIND4  \\\n",
       "0  910215         NaN          NaN          NaN          NaN          NaN   \n",
       "1  910220         9.0          NaN          NaN          NaN          NaN   \n",
       "2  910225         9.0          NaN          NaN          NaN          NaN   \n",
       "3  910226         1.0          NaN          NaN          NaN          NaN   \n",
       "4  910241         1.0          NaN          NaN          NaN          NaN   \n",
       "\n",
       "   ALTERSKATEGORIE_FEIN  ANZ_KINDER  ANZ_STATISTISCHE_HAUSHALTE  ARBEIT  ...  \\\n",
       "0                   NaN         NaN                         NaN     NaN  ...   \n",
       "1                  21.0         0.0                        12.0     3.0  ...   \n",
       "2                  17.0         0.0                         7.0     3.0  ...   \n",
       "3                  13.0         0.0                         2.0     2.0  ...   \n",
       "4                  14.0         0.0                         3.0     4.0  ...   \n",
       "\n",
       "   STRUKTURTYP  UMFELD_ALT  UMFELD_JUNG  UNGLEICHENN_FLAG  VERDICHTUNGSRAUM  \\\n",
       "0          NaN         NaN          NaN               NaN               NaN   \n",
       "1          2.0         3.0          3.0               1.0               0.0   \n",
       "2          3.0         2.0          5.0               0.0               1.0   \n",
       "3          1.0         4.0          5.0               0.0               0.0   \n",
       "4          3.0         4.0          3.0               0.0               1.0   \n",
       "\n",
       "   VHA  VHN  VK_DHT4A  VK_DISTANZ  VK_ZG11  \n",
       "0  NaN  NaN       NaN         NaN      NaN  \n",
       "1  0.0  4.0       8.0        11.0     10.0  \n",
       "2  0.0  2.0       9.0         9.0      6.0  \n",
       "3  1.0  0.0       7.0        10.0     11.0  \n",
       "4  0.0  2.0       3.0         5.0      4.0  \n",
       "\n",
       "[5 rows x 94 columns]"
      ]
     },
     "execution_count": 34,
     "metadata": {},
     "output_type": "execute_result"
    }
   ],
   "source": [
    "azdias[azdias_missing_attr].head()"
   ]
  },
  {
   "cell_type": "markdown",
   "metadata": {},
   "source": [
    "I will attempt something perhaps a little onthrodox. I will try the second option of keeping each column we don't know, but take a closer look at the columns values to see if we can make a more informed decision about what might be the liekly value code that represents `unknown`. \n",
    "\n",
    "First, We can see from the visual above there are many columns that have significant `NaN` values already. I will assume that in these cases the data was collected in a way that left the value empty instead of assigning unknown to a code. For instance, `Alter_Kind` describes Other childern and clearly increases in missing values as the number grows. Fewer families have 4 childern than 3, etc.\n",
    "\n",
    "The remaining columns (those with less than 50K `nan` values) are suspect. For these columns, I will look at the distrobution of values by name groups. Perhaps we can see a pattern and one that matchs with our previous codes. "
   ]
  },
  {
   "cell_type": "code",
   "execution_count": 35,
   "metadata": {},
   "outputs": [],
   "source": [
    "temp_missing_values = azdias[azdias_missing_attr].isna().sum()\n",
    "temp_missing_values = temp_missing_values[temp_missing_values<50_000]"
   ]
  },
  {
   "cell_type": "markdown",
   "metadata": {},
   "source": [
    "**D19_**\n",
    "\n",
    "This name group has the most features in view. From the Attributes .xlsx file I learn this data contains unique data regarding the mail-order activity of consumers, differentiated. I will first examine all of these values to see if we can find an obvious place to start when assuming which value code might represent `unkown`. "
   ]
  },
  {
   "cell_type": "code",
   "execution_count": 36,
   "metadata": {},
   "outputs": [],
   "source": [
    "D19_missing = temp_missing_values[temp_missing_values.index.str.contains('D19_')]"
   ]
  },
  {
   "cell_type": "code",
   "execution_count": 37,
   "metadata": {},
   "outputs": [
    {
     "data": {
      "text/plain": [
       "D19_BANKEN_DIREKT          0\n",
       "D19_BANKEN_GROSS           0\n",
       "D19_BANKEN_LOKAL           0\n",
       "D19_BANKEN_REST            0\n",
       "D19_BEKLEIDUNG_GEH         0\n",
       "D19_BEKLEIDUNG_REST        0\n",
       "D19_BILDUNG                0\n",
       "D19_BIO_OEKO               0\n",
       "D19_BUCH_CD                0\n",
       "D19_DIGIT_SERV             0\n",
       "D19_DROGERIEARTIKEL        0\n",
       "D19_ENERGIE                0\n",
       "D19_FREIZEIT               0\n",
       "D19_GARTEN                 0\n",
       "D19_HANDWERK               0\n",
       "D19_HAUS_DEKO              0\n",
       "D19_KINDERARTIKEL          0\n",
       "D19_KONSUMTYP_MAX          0\n",
       "D19_KOSMETIK               0\n",
       "D19_LEBENSMITTEL           0\n",
       "D19_NAHRUNGSERGAENZUNG     0\n",
       "D19_RATGEBER               0\n",
       "D19_REISEN                 0\n",
       "D19_SAMMELARTIKEL          0\n",
       "D19_SCHUHE                 0\n",
       "D19_SONSTIGE               0\n",
       "D19_TECHNIK                0\n",
       "D19_TELKO_MOBILE           0\n",
       "D19_TELKO_REST             0\n",
       "D19_TIERARTIKEL            0\n",
       "D19_VERSAND_REST           0\n",
       "D19_VERSI_DATUM            0\n",
       "D19_VERSI_OFFLINE_DATUM    0\n",
       "D19_VERSI_ONLINE_DATUM     0\n",
       "D19_VERSICHERUNGEN         0\n",
       "D19_VOLLSORTIMENT          0\n",
       "D19_WEIN_FEINKOST          0\n",
       "dtype: int64"
      ]
     },
     "execution_count": 37,
     "metadata": {},
     "output_type": "execute_result"
    }
   ],
   "source": [
    "D19_missing"
   ]
  },
  {
   "cell_type": "markdown",
   "metadata": {},
   "source": [
    "Here are all the columns that begin with `D19_`, do not have explicit information about which value code might represent `unknown` and have less thna 50,000 `NaN` values in across all rows of the dataset. \n",
    "\n",
    "After another visual scan of the `DIAS Information Levels - Attributes 2017.xlsx` file. I can see that all of these `D19_` columns match an Information Level called `125 x 125 grid` **HOWEVER**, they are all missing `_RZ` attached to the column name. Further, in the `DIAS Attributes - Values 2017.xlsx` file there are in fact information about the missing value codes for those columns with the `_RZ` suffix. \n",
    "\n",
    "While this is another unorthodox assumption, a test could be made using the information about the value code for `unknown` values from the near matching column names. Simply droping the `_RZ` suffix from teh `DIAS Attributes - Values 2017.xlsx` list would match up the column names for nearly all but 4 of our missing `D19` numbers. \n",
    "\n",
    "4 `D19_` categories that would still remain. \n",
    "\n",
    "- D19_KONSUMTYP_MAX\n",
    "- D19_VERSI_DATUM\n",
    "- D19_VERSI_OFFLINE_DATUM\n",
    "- D19_VERSI_ONLINE_DATUM\n",
    "\n",
    "**`D19_VERSI_*`** \n",
    "\n",
    "Each of these three columns have nearly identical Matches for `D19_VERSAND_*`. Later I will create a change to the unknowns list to match these columns as well. \n",
    "\n"
   ]
  },
  {
   "cell_type": "code",
   "execution_count": 38,
   "metadata": {},
   "outputs": [
    {
     "data": {
      "text/html": [
       "<div>                            <div id=\"5a53d245-f7f6-4e01-9538-5cd3e032b5b9\" class=\"plotly-graph-div\" style=\"height:525px; width:100%;\"></div>            <script type=\"text/javascript\">                require([\"plotly\"], function(Plotly) {                    window.PLOTLYENV=window.PLOTLYENV || {};                                    if (document.getElementById(\"5a53d245-f7f6-4e01-9538-5cd3e032b5b9\")) {                    Plotly.newPlot(                        \"5a53d245-f7f6-4e01-9538-5cd3e032b5b9\",                        [{\"alignmentgroup\": \"True\", \"hovertemplate\": \"variable=0<br>index=%{x}<br>value=%{y}<extra></extra>\", \"legendgroup\": \"0\", \"marker\": {\"color\": \"rgba(0, 203, 166, 0.7)\"}, \"name\": \"0\", \"offsetgroup\": \"0\", \"orientation\": \"v\", \"showlegend\": true, \"textposition\": \"auto\", \"type\": \"bar\", \"x\": [0.0, 1.0, 2.0, 3.0, 4.0, 5.0, 6.0, 7.0, 8.0, 9.0, 10.0], \"xaxis\": \"x\", \"y\": [25183574, 238649, 262702, 618792, 196992, 433687, 2434796, 540487, 304880, 358102, 2402516], \"yaxis\": \"y\"}],                        {\"barmode\": \"relative\", \"legend\": {\"title\": {\"text\": \"variable\"}, \"tracegroupgap\": 0}, \"margin\": {\"t\": 60}, \"template\": {\"layout\": {\"annotationdefaults\": {\"arrowcolor\": \"#f2f5fa\", \"arrowhead\": 0, \"arrowwidth\": 1}, \"coloraxis\": {\"colorbar\": {\"outlinewidth\": 0, \"ticks\": \"\"}}, \"colorscale\": {\"diverging\": [[0, \"#8e0152\"], [0.1, \"#c51b7d\"], [0.2, \"#de77ae\"], [0.3, \"#f1b6da\"], [0.4, \"#fde0ef\"], [0.5, \"#f7f7f7\"], [0.6, \"#e6f5d0\"], [0.7, \"#b8e186\"], [0.8, \"#7fbc41\"], [0.9, \"#4d9221\"], [1, \"#276419\"]], \"sequential\": [[0.0, \"#0d0887\"], [0.1111111111111111, \"#46039f\"], [0.2222222222222222, \"#7201a8\"], [0.3333333333333333, \"#9c179e\"], [0.4444444444444444, \"#bd3786\"], [0.5555555555555556, \"#d8576b\"], [0.6666666666666666, \"#ed7953\"], [0.7777777777777778, \"#fb9f3a\"], [0.8888888888888888, \"#fdca26\"], [1.0, \"#f0f921\"]], \"sequentialminus\": [[0.0, \"#0d0887\"], [0.1111111111111111, \"#46039f\"], [0.2222222222222222, \"#7201a8\"], [0.3333333333333333, \"#9c179e\"], [0.4444444444444444, \"#bd3786\"], [0.5555555555555556, \"#d8576b\"], [0.6666666666666666, \"#ed7953\"], [0.7777777777777778, \"#fb9f3a\"], [0.8888888888888888, \"#fdca26\"], [1.0, \"#f0f921\"]]}, \"colorway\": [\"rgba(0, 203, 166, 0.7)\", \"rgba(168, 168, 168, 0.7)\", \"#19d3f3\", \"#00cc96\", \"#ab63fa\", \"#00CBA6\", \"#FF6692\", \"#B6E880\", \"#FF97FF\", \"#FECB52\"], \"font\": {\"color\": \"#2a3f5f\", \"family\": \"plain\"}, \"geo\": {\"bgcolor\": \"black\", \"lakecolor\": \"white\", \"landcolor\": \"white\", \"showlakes\": true, \"showland\": true, \"subunitcolor\": \"#506784\"}, \"hoverlabel\": {\"align\": \"left\"}, \"hovermode\": \"closest\", \"images\": [{\"layer\": \"below\", \"opacity\": 0.05, \"sizex\": 0.7, \"sizey\": 0.7, \"source\": \"https://product-derrick.s3.amazonaws.com/logoWhite.png\", \"x\": 0.15, \"xref\": \"paper\", \"y\": 0.75, \"yref\": \"paper\"}], \"mapbox\": {\"style\": \"light\"}, \"paper_bgcolor\": \"white\", \"plot_bgcolor\": \"white\", \"polar\": {\"angularaxis\": {\"gridcolor\": \"#506784\", \"linecolor\": \"#506784\", \"ticks\": \"\"}, \"bgcolor\": \"white\", \"radialaxis\": {\"gridcolor\": \"#506784\", \"linecolor\": \"#506784\", \"ticks\": \"\"}}, \"scene\": {\"xaxis\": {\"backgroundcolor\": \"white\", \"gridcolor\": \"#506784\", \"gridwidth\": 2, \"linecolor\": \"#506784\", \"showbackground\": true, \"ticks\": \"\", \"zerolinecolor\": \"#C8D4E3\"}, \"yaxis\": {\"backgroundcolor\": \"white\", \"gridcolor\": \"#506784\", \"gridwidth\": 2, \"linecolor\": \"#506784\", \"showbackground\": true, \"ticks\": \"\", \"zerolinecolor\": \"#C8D4E3\"}, \"zaxis\": {\"backgroundcolor\": \"rgb(17,17,17)\", \"gridcolor\": \"#506784\", \"gridwidth\": 2, \"linecolor\": \"#506784\", \"showbackground\": true, \"ticks\": \"\", \"zerolinecolor\": \"#C8D4E3\"}}, \"shapedefaults\": {\"line\": {\"color\": \"#f2f5fa\"}}, \"sliderdefaults\": {\"bgcolor\": \"#C8D4E3\", \"bordercolor\": \"rgb(17,17,17)\", \"borderwidth\": 1, \"tickwidth\": 0}, \"ternary\": {\"aaxis\": {\"gridcolor\": \"#506784\", \"linecolor\": \"#506784\", \"ticks\": \"\"}, \"baxis\": {\"gridcolor\": \"#506784\", \"linecolor\": \"#506784\", \"ticks\": \"\"}, \"bgcolor\": \"rgb(17,17,17)\", \"caxis\": {\"gridcolor\": \"#506784\", \"linecolor\": \"#506784\", \"ticks\": \"\"}}, \"title\": {\"font\": {\"size\": 24}, \"x\": 0.05}, \"updatemenudefaults\": {\"bgcolor\": \"#506784\", \"borderwidth\": 0}, \"xaxis\": {\"automargin\": true, \"gridcolor\": \"#DFE8F3\", \"linecolor\": \"#A2B1C6\", \"tickfont\": {\"color\": \"#2a3f5f\", \"family\": \"InterstateMono\", \"size\": 10}, \"ticks\": \"\", \"title\": {\"font\": {\"family\": \"Plain\", \"size\": 18}}, \"zerolinecolor\": \"#DFE8F3\", \"zerolinewidth\": 2}, \"yaxis\": {\"automargin\": true, \"gridcolor\": \"#DFE8F3\", \"linecolor\": \"#A2B1C6\", \"tickfont\": {\"color\": \"#2a3f5f\", \"family\": \"InterstateMono\", \"size\": 10}, \"ticks\": \"\", \"title\": {\"font\": {\"family\": \"plain\", \"size\": 18}}, \"zerolinecolor\": \"#DFE8F3\", \"zerolinewidth\": 2}}}, \"xaxis\": {\"anchor\": \"y\", \"domain\": [0.0, 1.0], \"title\": {\"text\": \"index\"}}, \"yaxis\": {\"anchor\": \"x\", \"domain\": [0.0, 1.0], \"title\": {\"text\": \"value\"}}},                        {\"responsive\": true}                    ).then(function(){\n",
       "                            \n",
       "var gd = document.getElementById('5a53d245-f7f6-4e01-9538-5cd3e032b5b9');\n",
       "var x = new MutationObserver(function (mutations, observer) {{\n",
       "        var display = window.getComputedStyle(gd).display;\n",
       "        if (!display || display === 'none') {{\n",
       "            console.log([gd, 'removed!']);\n",
       "            Plotly.purge(gd);\n",
       "            observer.disconnect();\n",
       "        }}\n",
       "}});\n",
       "\n",
       "// Listen for the removal of the full notebook cells\n",
       "var notebookContainer = gd.closest('#notebook-container');\n",
       "if (notebookContainer) {{\n",
       "    x.observe(notebookContainer, {childList: true});\n",
       "}}\n",
       "\n",
       "// Listen for the clearing of the current output cell\n",
       "var outputEl = gd.closest('.output');\n",
       "if (outputEl) {{\n",
       "    x.observe(outputEl, {childList: true});\n",
       "}}\n",
       "\n",
       "                        })                };                });            </script>        </div>"
      ]
     },
     "metadata": {},
     "output_type": "display_data"
    }
   ],
   "source": [
    "D19_missing = azdias[D19_missing.index].astype('float').stack().value_counts()\n",
    "D19_missing.sort_index().plot.bar()"
   ]
  },
  {
   "cell_type": "markdown",
   "metadata": {},
   "source": [
    "This view shows us that all value codes are in a similar range to the other known `D19_` columns and the distribution of `0` values also mirrors that of the known group of `D19_` columns that had missing values. Thus, I **will** attempt to remove the `_RZ` suffix from the `Attribute` column in final data clean to match these columns with the nearly identical columns in the `DIAS Attributes - Values 2017.xlsx` file.  "
   ]
  },
  {
   "cell_type": "code",
   "execution_count": 39,
   "metadata": {},
   "outputs": [],
   "source": [
    "# Remove _RZ suffix from Attributes and re-run our for loop to \n",
    "# replace value codes known to represent 'missing' with np.nonlocal\n",
    "\n",
    "value_unknown_codes.loc[value_unknown_codes['Attribute'].str.endswith('_RZ'), 'Attribute'] = value_unknown_codes.loc[value_unknown_codes['Attribute'].str.endswith('_RZ'), 'Attribute'].str.replace('_RZ', '')\n",
    "\n",
    "missing_attributes = []\n",
    "for idx, row in value_unknown_codes.iterrows():\n",
    "    try:\n",
    "        azdias.loc[azdias[row['Attribute']] == row['value'], row['Attribute']] = np.nan\n",
    "    except KeyError:\n",
    "        missing_attributes.append(row['Attribute']) "
   ]
  },
  {
   "cell_type": "markdown",
   "metadata": {},
   "source": [
    "Having adjusted the Attribute name in the `DIAS Attributes - Values 2017.xlsx` list of unkown value codes, now lets see how many `NaN` values are in our dataset. "
   ]
  },
  {
   "cell_type": "code",
   "execution_count": 40,
   "metadata": {},
   "outputs": [
    {
     "data": {
      "text/html": [
       "<div>                            <div id=\"4751ff28-3c6b-4c3b-b201-2d4a7d54a1b8\" class=\"plotly-graph-div\" style=\"height:525px; width:100%;\"></div>            <script type=\"text/javascript\">                require([\"plotly\"], function(Plotly) {                    window.PLOTLYENV=window.PLOTLYENV || {};                                    if (document.getElementById(\"4751ff28-3c6b-4c3b-b201-2d4a7d54a1b8\")) {                    Plotly.newPlot(                        \"4751ff28-3c6b-4c3b-b201-2d4a7d54a1b8\",                        [{\"type\": \"bar\", \"x\": [\"ALTER_KIND4\", \"ALTER_KIND3\", \"D19_BANKEN_LOKAL\", \"ALTER_KIND2\", \"D19_DIGIT_SERV\", \"D19_BIO_OEKO\", \"D19_TIERARTIKEL\", \"D19_NAHRUNGSERGAENZUNG\", \"D19_GARTEN\", \"D19_LEBENSMITTEL\", \"D19_WEIN_FEINKOST\", \"D19_ENERGIE\", \"D19_BANKEN_REST\", \"D19_BILDUNG\", \"ALTER_KIND1\", \"D19_BEKLEIDUNG_GEH\", \"D19_RATGEBER\", \"D19_SAMMELARTIKEL\", \"D19_FREIZEIT\", \"D19_BANKEN_GROSS\", \"D19_SCHUHE\", \"D19_HANDWERK\", \"D19_TELKO_REST\", \"D19_DROGERIEARTIKEL\", \"D19_KINDERARTIKEL\", \"D19_LOTTO\", \"D19_KOSMETIK\", \"D19_REISEN\", \"D19_VERSAND_REST\", \"D19_BANKEN_DIREKT\", \"D19_TELKO_MOBILE\", \"D19_HAUS_DEKO\", \"D19_BEKLEIDUNG_REST\", \"D19_VERSICHERUNGEN\", \"EXTSEL992\", \"D19_TECHNIK\", \"D19_VOLLSORTIMENT\", \"KK_KUNDENTYP\", \"D19_SONSTIGE\", \"ALTERSKATEGORIE_FEIN\", \"D19_LETZTER_KAUF_BRANCHE\", \"D19_SOZIALES\", \"D19_VERSI_ONLINE_QUOTE_12\", \"D19_TELKO_ONLINE_QUOTE_12\", \"VHN\", \"HH_DELTA_FLAG\", \"KBA13_HHZ\", \"KBA13_ANTG2\", \"KBA13_ANTG1\", \"KBA13_BAUMAX\", \"KBA13_CCM_1401_2500\", \"KBA13_ANTG4\", \"KBA13_GBZ\", \"KBA13_ANTG3\", \"KBA13_KMH_210\", \"CAMEO_INTL_2015\", \"UMFELD_JUNG\", \"UMFELD_ALT\", \"VERDICHTUNGSRAUM\", \"GEMEINDETYP\", \"STRUKTURTYP\", \"ARBEIT\", \"FIRMENDICHTE\", \"KONSUMZELLE\", \"ANZ_STATISTISCHE_HAUSHALTE\", \"DSL_FLAG\", \"MOBI_RASTER\", \"EINGEFUEGT_AM\", \"VK_DISTANZ\", \"VK_DHT4A\", \"VK_ZG11\", \"EINGEZOGENAM_HH_JAHR\", \"SOHO_KZ\", \"ANZ_KINDER\", \"VHA\", \"AKT_DAT_KL\", \"UNGLEICHENN_FLAG\", \"RT_UEBERGROESSE\", \"CJT_TYP_6\", \"RT_KEIN_ANREIZ\", \"RT_SCHNAEPPCHEN\", \"CJT_TYP_5\", \"CJT_TYP_4\", \"CJT_TYP_3\", \"CJT_TYP_2\", \"CJT_TYP_1\", \"CJT_KATALOGNUTZER\", \"D19_BUCH_CD\", \"D19_VERSI_ONLINE_DATUM\", \"KOMBIALTER\", \"D19_KONSUMTYP_MAX\", \"D19_VERSI_DATUM\", \"D19_VERSI_OFFLINE_DATUM\", \"LNR\"], \"y\": [0.9986479223447383, 0.9930769135826019, 0.9815130029476415, 0.9669004657655059, 0.9623437957588522, 0.9583189803651395, 0.9562386882714837, 0.9561893178010842, 0.9555721869210891, 0.9401865530547417, 0.9381982695650125, 0.9311461466908881, 0.9220608580812166, 0.9124066870058044, 0.9090483729624863, 0.9080845267335487, 0.9033348630698783, 0.8999844034195783, 0.8872636528986637, 0.8812079158816949, 0.8673763297767894, 0.8621666230934864, 0.8594647118952539, 0.8539004354699901, 0.8408296034316965, 0.839248626322764, 0.8368698672944197, 0.8268701029262102, 0.8240851595732147, 0.8177668614182116, 0.8155148947343027, 0.8001382373171189, 0.7770261248332344, 0.7345697644018712, 0.7339963937115486, 0.7070086993012956, 0.6732359313795344, 0.6559674873011295, 0.5677076729565393, 0.29504129727643313, 0.2884952217239046, 0.2884952217239046, 0.2884952217239046, 0.2884952217239046, 0.1359887166034014, 0.12073548536221655, 0.11871354018812394, 0.11871354018812394, 0.11871354018812394, 0.11871354018812394, 0.11871354018812394, 0.11871354018812394, 0.11871354018812394, 0.11871354018812394, 0.11871354018812394, 0.11147852216229195, 0.10972138223852446, 0.10972138223852446, 0.1091468894920564, 0.1091468894920564, 0.1091468894920564, 0.10908181023562057, 0.10452514022896678, 0.10452514022896678, 0.10451728583594866, 0.10451728583594866, 0.10451728583594866, 0.10451728583594866, 0.08518313639377888, 0.08518313639377888, 0.08518313639377888, 0.08247000463409188, 0.08247000463409188, 0.08247000463409188, 0.08247000463409188, 0.08247000463409188, 0.08247000463409188, 0.05747844810658636, 0.005446460529992, 0.005446460529992, 0.005446460529992, 0.005446460529992, 0.005446460529992, 0.005446460529992, 0.005446460529992, 0.005446460529992, 0.005446460529992, 0.0, 0.0, 0.0, 0.0, 0.0, 0.0, 0.0]}],                        {\"template\": {\"layout\": {\"annotationdefaults\": {\"arrowcolor\": \"#f2f5fa\", \"arrowhead\": 0, \"arrowwidth\": 1}, \"coloraxis\": {\"colorbar\": {\"outlinewidth\": 0, \"ticks\": \"\"}}, \"colorscale\": {\"diverging\": [[0, \"#8e0152\"], [0.1, \"#c51b7d\"], [0.2, \"#de77ae\"], [0.3, \"#f1b6da\"], [0.4, \"#fde0ef\"], [0.5, \"#f7f7f7\"], [0.6, \"#e6f5d0\"], [0.7, \"#b8e186\"], [0.8, \"#7fbc41\"], [0.9, \"#4d9221\"], [1, \"#276419\"]], \"sequential\": [[0.0, \"#0d0887\"], [0.1111111111111111, \"#46039f\"], [0.2222222222222222, \"#7201a8\"], [0.3333333333333333, \"#9c179e\"], [0.4444444444444444, \"#bd3786\"], [0.5555555555555556, \"#d8576b\"], [0.6666666666666666, \"#ed7953\"], [0.7777777777777778, \"#fb9f3a\"], [0.8888888888888888, \"#fdca26\"], [1.0, \"#f0f921\"]], \"sequentialminus\": [[0.0, \"#0d0887\"], [0.1111111111111111, \"#46039f\"], [0.2222222222222222, \"#7201a8\"], [0.3333333333333333, \"#9c179e\"], [0.4444444444444444, \"#bd3786\"], [0.5555555555555556, \"#d8576b\"], [0.6666666666666666, \"#ed7953\"], [0.7777777777777778, \"#fb9f3a\"], [0.8888888888888888, \"#fdca26\"], [1.0, \"#f0f921\"]]}, \"colorway\": [\"rgba(0, 203, 166, 0.7)\", \"rgba(168, 168, 168, 0.7)\", \"#19d3f3\", \"#00cc96\", \"#ab63fa\", \"#00CBA6\", \"#FF6692\", \"#B6E880\", \"#FF97FF\", \"#FECB52\"], \"font\": {\"color\": \"#2a3f5f\", \"family\": \"plain\"}, \"geo\": {\"bgcolor\": \"black\", \"lakecolor\": \"white\", \"landcolor\": \"white\", \"showlakes\": true, \"showland\": true, \"subunitcolor\": \"#506784\"}, \"hoverlabel\": {\"align\": \"left\"}, \"hovermode\": \"closest\", \"images\": [{\"layer\": \"below\", \"opacity\": 0.05, \"sizex\": 0.7, \"sizey\": 0.7, \"source\": \"https://product-derrick.s3.amazonaws.com/logoWhite.png\", \"x\": 0.15, \"xref\": \"paper\", \"y\": 0.75, \"yref\": \"paper\"}], \"mapbox\": {\"style\": \"light\"}, \"paper_bgcolor\": \"white\", \"plot_bgcolor\": \"white\", \"polar\": {\"angularaxis\": {\"gridcolor\": \"#506784\", \"linecolor\": \"#506784\", \"ticks\": \"\"}, \"bgcolor\": \"white\", \"radialaxis\": {\"gridcolor\": \"#506784\", \"linecolor\": \"#506784\", \"ticks\": \"\"}}, \"scene\": {\"xaxis\": {\"backgroundcolor\": \"white\", \"gridcolor\": \"#506784\", \"gridwidth\": 2, \"linecolor\": \"#506784\", \"showbackground\": true, \"ticks\": \"\", \"zerolinecolor\": \"#C8D4E3\"}, \"yaxis\": {\"backgroundcolor\": \"white\", \"gridcolor\": \"#506784\", \"gridwidth\": 2, \"linecolor\": \"#506784\", \"showbackground\": true, \"ticks\": \"\", \"zerolinecolor\": \"#C8D4E3\"}, \"zaxis\": {\"backgroundcolor\": \"rgb(17,17,17)\", \"gridcolor\": \"#506784\", \"gridwidth\": 2, \"linecolor\": \"#506784\", \"showbackground\": true, \"ticks\": \"\", \"zerolinecolor\": \"#C8D4E3\"}}, \"shapedefaults\": {\"line\": {\"color\": \"#f2f5fa\"}}, \"sliderdefaults\": {\"bgcolor\": \"#C8D4E3\", \"bordercolor\": \"rgb(17,17,17)\", \"borderwidth\": 1, \"tickwidth\": 0}, \"ternary\": {\"aaxis\": {\"gridcolor\": \"#506784\", \"linecolor\": \"#506784\", \"ticks\": \"\"}, \"baxis\": {\"gridcolor\": \"#506784\", \"linecolor\": \"#506784\", \"ticks\": \"\"}, \"bgcolor\": \"rgb(17,17,17)\", \"caxis\": {\"gridcolor\": \"#506784\", \"linecolor\": \"#506784\", \"ticks\": \"\"}}, \"title\": {\"font\": {\"size\": 24}, \"x\": 0.05}, \"updatemenudefaults\": {\"bgcolor\": \"#506784\", \"borderwidth\": 0}, \"xaxis\": {\"automargin\": true, \"gridcolor\": \"#DFE8F3\", \"linecolor\": \"#A2B1C6\", \"tickfont\": {\"color\": \"#2a3f5f\", \"family\": \"InterstateMono\", \"size\": 10}, \"ticks\": \"\", \"title\": {\"font\": {\"family\": \"Plain\", \"size\": 18}}, \"zerolinecolor\": \"#DFE8F3\", \"zerolinewidth\": 2}, \"yaxis\": {\"automargin\": true, \"gridcolor\": \"#DFE8F3\", \"linecolor\": \"#A2B1C6\", \"tickfont\": {\"color\": \"#2a3f5f\", \"family\": \"InterstateMono\", \"size\": 10}, \"ticks\": \"\", \"title\": {\"font\": {\"family\": \"plain\", \"size\": 18}}, \"zerolinecolor\": \"#DFE8F3\", \"zerolinewidth\": 2}}}, \"title\": {\"text\": \"Missing Values per Column\"}, \"xaxis\": {\"title\": {\"text\": \"Column name\"}}, \"yaxis\": {\"tickformat\": \"%\", \"title\": {\"text\": \"Rate of Missing Values\"}}},                        {\"responsive\": true}                    ).then(function(){\n",
       "                            \n",
       "var gd = document.getElementById('4751ff28-3c6b-4c3b-b201-2d4a7d54a1b8');\n",
       "var x = new MutationObserver(function (mutations, observer) {{\n",
       "        var display = window.getComputedStyle(gd).display;\n",
       "        if (!display || display === 'none') {{\n",
       "            console.log([gd, 'removed!']);\n",
       "            Plotly.purge(gd);\n",
       "            observer.disconnect();\n",
       "        }}\n",
       "}});\n",
       "\n",
       "// Listen for the removal of the full notebook cells\n",
       "var notebookContainer = gd.closest('#notebook-container');\n",
       "if (notebookContainer) {{\n",
       "    x.observe(notebookContainer, {childList: true});\n",
       "}}\n",
       "\n",
       "// Listen for the clearing of the current output cell\n",
       "var outputEl = gd.closest('.output');\n",
       "if (outputEl) {{\n",
       "    x.observe(outputEl, {childList: true});\n",
       "}}\n",
       "\n",
       "                        })                };                });            </script>        </div>"
      ]
     },
     "metadata": {},
     "output_type": "display_data"
    }
   ],
   "source": [
    "fig = plot_missing_values(azdias[azdias_missing_attr])\n",
    "fig.show()"
   ]
  },
  {
   "cell_type": "code",
   "execution_count": 41,
   "metadata": {},
   "outputs": [
    {
     "data": {
      "text/html": [
       "<div>                            <div id=\"91b8c16a-b686-43e3-badd-1283d2648610\" class=\"plotly-graph-div\" style=\"height:525px; width:100%;\"></div>            <script type=\"text/javascript\">                require([\"plotly\"], function(Plotly) {                    window.PLOTLYENV=window.PLOTLYENV || {};                                    if (document.getElementById(\"91b8c16a-b686-43e3-badd-1283d2648610\")) {                    Plotly.newPlot(                        \"91b8c16a-b686-43e3-badd-1283d2648610\",                        [{\"type\": \"bar\", \"x\": [\"ALTER_KIND4\", \"TITEL_KZ\", \"ALTER_KIND3\", \"D19_TELKO_ONLINE_DATUM\", \"D19_BANKEN_LOKAL\", \"D19_BANKEN_OFFLINE_DATUM\", \"ALTER_KIND2\", \"D19_TELKO_ANZ_12\", \"D19_DIGIT_SERV\", \"D19_BIO_OEKO\", \"D19_TIERARTIKEL\", \"D19_NAHRUNGSERGAENZUNG\", \"D19_GARTEN\", \"D19_LEBENSMITTEL\", \"D19_WEIN_FEINKOST\", \"D19_BANKEN_ANZ_12\", \"D19_ENERGIE\", \"D19_TELKO_ANZ_24\", \"D19_BANKEN_REST\", \"D19_VERSI_ANZ_12\", \"D19_TELKO_OFFLINE_DATUM\", \"D19_BILDUNG\", \"ALTER_KIND1\", \"D19_BEKLEIDUNG_GEH\", \"D19_RATGEBER\", \"D19_SAMMELARTIKEL\", \"D19_BANKEN_ANZ_24\", \"D19_FREIZEIT\", \"D19_BANKEN_GROSS\", \"D19_VERSI_ANZ_24\", \"D19_SCHUHE\", \"D19_HANDWERK\", \"D19_TELKO_REST\", \"D19_DROGERIEARTIKEL\", \"D19_KINDERARTIKEL\", \"D19_LOTTO\", \"D19_KOSMETIK\", \"D19_REISEN\", \"D19_VERSAND_REST\", \"D19_BANKEN_DIREKT\", \"D19_BANKEN_ONLINE_DATUM\", \"D19_TELKO_MOBILE\", \"D19_HAUS_DEKO\", \"D19_BEKLEIDUNG_REST\", \"D19_BANKEN_DATUM\", \"AGER_TYP\", \"D19_TELKO_DATUM\", \"D19_VERSICHERUNGEN\", \"EXTSEL992\", \"D19_VERSAND_ANZ_12\", \"D19_VERSAND_OFFLINE_DATUM\", \"D19_TECHNIK\", \"D19_VOLLSORTIMENT\", \"D19_GESAMT_ANZ_12\", \"KK_KUNDENTYP\", \"D19_VERSAND_ANZ_24\", \"D19_GESAMT_OFFLINE_DATUM\", \"D19_SONSTIGE\", \"D19_GESAMT_ANZ_24\", \"D19_VERSAND_ONLINE_DATUM\", \"KBA05_BAUMAX\", \"D19_GESAMT_ONLINE_DATUM\", \"D19_VERSAND_DATUM\", \"D19_GESAMT_DATUM\", \"ALTER_HH\", \"ALTERSKATEGORIE_FEIN\", \"D19_LETZTER_KAUF_BRANCHE\", \"D19_TELKO_ONLINE_QUOTE_12\", \"D19_KONSUMTYP\", \"D19_GESAMT_ONLINE_QUOTE_12\", \"D19_SOZIALES\", \"D19_BANKEN_ONLINE_QUOTE_12\", \"D19_VERSI_ONLINE_QUOTE_12\", \"D19_VERSAND_ONLINE_QUOTE_12\", \"REGIOTYP\", \"KKK\", \"KBA05_AUTOQUOT\", \"KBA05_KRSAQUOT\", \"KBA05_KW3\", \"KBA05_KW2\", \"KBA05_KW1\", \"KBA05_KRSZUL\", \"KBA05_KRSVAN\", \"KBA05_KRSOBER\", \"KBA05_KRSKLEIN\", \"KBA05_KRSHERST3\", \"KBA05_KRSHERST2\", \"KBA05_KRSHERST1\", \"KBA05_SEG6\", \"KBA05_MAXAH\", \"KBA05_HERST4\", \"KBA05_HERST3\", \"KBA05_HERST2\", \"KBA05_HERST1\", \"KBA05_FRAU\", \"KBA05_DIESEL\", \"KBA05_CCM4\", \"KBA05_CCM3\", \"KBA05_CCM2\", \"KBA05_CCM1\", \"KBA05_HERST5\", \"KBA05_MAXBJ\", \"KBA05_SEG5\", \"KBA05_MAXHERST\", \"KBA05_SEG7\", \"KBA05_SEG8\", \"KBA05_SEG9\", \"KBA05_VORB0\", \"KBA05_SEG4\", \"KBA05_VORB1\", \"KBA05_VORB2\", \"KBA05_SEG2\", \"KBA05_ZUL1\", \"KBA05_ZUL2\", \"KBA05_ZUL3\", \"KBA05_MOD4\", \"KBA05_MOD3\", \"KBA05_MOD2\", \"KBA05_SEG10\", \"KBA05_MOD8\", \"KBA05_SEG1\", \"KBA05_MOTOR\", \"KBA05_MOD1\", \"KBA05_MAXVORB\", \"KBA05_MAXSEG\", \"KBA05_ZUL4\", \"KBA05_SEG3\", \"KBA05_ALTER4\", \"KBA05_ALTER3\", \"KBA05_ALTER2\", \"KBA05_ALTER1\", \"W_KEIT_KIND_HH\", \"KBA05_ANHANG\", \"KBA05_MOTRAD\", \"KBA05_GBZ\", \"KBA05_ANTG3\", \"KBA05_ANTG4\", \"KBA05_ANTG1\", \"KBA05_ANTG2\", \"MOBI_REGIO\", \"VHN\", \"PLZ8_HHZ\", \"PLZ8_GBZ\", \"PLZ8_BAUMAX\", \"PLZ8_ANTG4\", \"PLZ8_ANTG3\", \"PLZ8_ANTG2\", \"PLZ8_ANTG1\", \"SHOPPER_TYP\", \"HEALTH_TYP\", \"VERS_TYP\", \"KBA05_HERSTTEMP\", \"NATIONALITAET_KZ\", \"PRAEGENDE_JUGENDJAHRE\", \"HH_DELTA_FLAG\", \"KBA13_KW_50\", \"KBA13_KRSSEG_VAN\", \"KBA13_KRSAQUOT\", \"KBA13_KRSHERST_AUDI_VW\", \"KBA13_KRSHERST_BMW_BENZ\", \"KBA13_KRSHERST_FORD_OPEL\", \"KBA13_KRSSEG_KLEIN\", \"KBA13_KRSSEG_OBER\", \"KBA13_KRSZUL_NEU\", \"KBA13_KW_40\", \"KBA13_KW_0_60\", \"KBA13_KW_110\", \"KBA13_KW_120\", \"KBA13_KMH_250\", \"KBA13_KW_121\", \"KBA13_KW_30\", \"KBA13_KMH_251\", \"KBA13_HERST_BMW_BENZ\", \"KBA13_KMH_211\", \"KBA13_HERST_FORD_OPEL\", \"KBA13_HALTER_60\", \"KBA13_HALTER_65\", \"KBA13_HALTER_66\", \"KBA13_HERST_ASIEN\", \"KBA13_KW_61_120\", \"KBA13_HERST_EUROPA\", \"KBA13_HERST_SONST\", \"KBA13_KMH_210\", \"KBA13_HHZ\", \"KBA13_KMH_0_140\", \"KBA13_KMH_110\", \"KBA13_KMH_140\", \"KBA13_KMH_140_210\", \"KBA13_KMH_180\", \"KBA13_KW_60\", \"KBA13_SEG_KLEINST\", \"KBA13_KW_70\", \"KBA13_KW_80\", \"KBA13_SEG_SONSTIGE\", \"KBA13_SEG_SPORTWAGEN\", \"KBA13_SEG_UTILITIES\", \"KBA13_SEG_VAN\", \"KBA13_SEG_WOHNMOBILE\", \"KBA13_SITZE_4\", \"KBA13_SITZE_5\", \"KBA13_SITZE_6\", \"KBA13_TOYOTA\", \"KBA13_VORB_0\", \"KBA13_VORB_1\", \"KBA13_VORB_1_2\", \"KBA13_VORB_2\", \"KBA13_VORB_3\", \"KBA13_VW\", \"KBA13_SEG_OBERKLASSE\", \"KBA13_SEG_OBEREMITTELKLASSE\", \"KBA13_SEG_MITTELKLASSE\", \"KBA13_PEUGEOT\", \"KBA13_KW_90\", \"KBA13_MAZDA\", \"KBA13_MERCEDES\", \"KBA13_MOTOR\", \"KBA13_NISSAN\", \"KBA13_OPEL\", \"KBA13_RENAULT\", \"KBA13_SEG_MINIWAGEN\", \"KBA13_SEG_GELAENDEWAGEN\", \"KBA13_SEG_GROSSRAUMVANS\", \"KBA13_HALTER_50\", \"KBA13_SEG_KLEINWAGEN\", \"KBA13_SEG_KOMPAKTKLASSE\", \"KBA13_SEG_MINIVANS\", \"KBA13_HALTER_55\", \"KBA13_HERST_AUDI_VW\", \"KBA13_HALTER_45\", \"KBA13_CCM_1000\", \"KBA13_BMW\", \"KBA13_BJ_2009\", \"KBA13_BJ_2008\", \"KBA13_BJ_2006\", \"KBA13_HALTER_40\", \"KBA13_BJ_2000\", \"KBA13_BJ_1999\", \"KBA13_BAUMAX\", \"KBA13_AUTOQUOTE\", \"KBA13_AUDI\", \"KBA13_ANZAHL_PKW\", \"KBA13_ANTG4\", \"KBA13_ANTG3\", \"KBA13_ANTG2\", \"KBA13_ANTG1\", \"KBA13_ALTERHALTER_61\", \"KBA13_ALTERHALTER_60\", \"KBA13_ALTERHALTER_45\", \"KBA13_ALTERHALTER_30\", \"KBA13_CCM_0_1400\", \"KBA13_BJ_2004\", \"KBA13_CCM_1200\", \"KBA13_FAB_ASIEN\", \"KBA13_HALTER_35\", \"KBA13_HALTER_30\", \"KBA13_HALTER_25\", \"KBA13_CCM_1400\", \"KBA13_GBZ\", \"KBA13_FORD\", \"KBA13_FIAT\", \"KBA13_FAB_SONSTIGE\", \"KBA13_HALTER_20\", \"KBA13_CCM_3001\", \"KBA13_CCM_2501\", \"KBA13_CCM_2500\", \"KBA13_CCM_2000\", \"KBA13_CCM_1800\", \"KBA13_CCM_1600\", \"KBA13_CCM_1500\", \"KBA13_CCM_1401_2500\", \"KBA13_CCM_3000\", \"CAMEO_INTL_2015\", \"CAMEO_DEUG_2015\", \"CAMEO_DEU_2015\", \"UMFELD_ALT\", \"UMFELD_JUNG\", \"RELAT_AB\", \"GEMEINDETYP\", \"VERDICHTUNGSRAUM\", \"STRUKTURTYP\", \"ARBEIT\", \"ORTSGR_KLS9\", \"ANZ_HH_TITEL\", \"EWDICHTE\", \"INNENSTADT\", \"BALLRAUM\", \"FIRMENDICHTE\", \"GEBAEUDETYP_RASTER\", \"KONSUMZELLE\", \"MOBI_RASTER\", \"MIN_GEBAEUDEJAHR\", \"KBA05_MODTEMP\", \"ANZ_HAUSHALTE_AKTIV\", \"WOHNLAGE\", \"ANZ_STATISTISCHE_HAUSHALTE\", \"DSL_FLAG\", \"EINGEFUEGT_AM\", \"GEBAEUDETYP\", \"OST_WEST_KZ\", \"VK_DHT4A\", \"VK_DISTANZ\", \"VK_ZG11\", \"KONSUMNAEHE\", \"ANZ_KINDER\", \"EINGEZOGENAM_HH_JAHR\", \"WOHNDAUER_2008\", \"AKT_DAT_KL\", \"ANZ_TITEL\", \"UNGLEICHENN_FLAG\", \"ANZ_PERSONEN\", \"SOHO_KZ\", \"VHA\", \"RT_UEBERGROESSE\", \"HH_EINKOMMEN_SCORE\", \"CJT_TYP_4\", \"GFK_URLAUBERTYP\", \"RETOURTYP_BK_S\", \"RT_SCHNAEPPCHEN\", \"RT_KEIN_ANREIZ\", \"LP_STATUS_GROB\", \"CJT_GESAMTTYP\", \"ONLINE_AFFINITAET\", \"CJT_KATALOGNUTZER\", \"CJT_TYP_5\", \"LP_STATUS_FEIN\", \"LP_LEBENSPHASE_GROB\", \"LP_LEBENSPHASE_FEIN\", \"LP_FAMILIE_GROB\", \"LP_FAMILIE_FEIN\", \"CJT_TYP_1\", \"CJT_TYP_3\", \"CJT_TYP_6\", \"CJT_TYP_2\", \"SEMIO_VERT\", \"SEMIO_TRADV\", \"SEMIO_SOZ\", \"SEMIO_RAT\", \"ZABEOTYP\", \"ANREDE_KZ\", \"SEMIO_REL\", \"LNR\", \"SEMIO_PFLICHT\", \"FINANZ_VORSORGER\", \"D19_BUCH_CD\", \"D19_KONSUMTYP_MAX\", \"D19_VERSI_DATUM\", \"D19_VERSI_OFFLINE_DATUM\", \"D19_VERSI_ONLINE_DATUM\", \"FINANZ_ANLEGER\", \"FINANZ_HAUSBAUER\", \"FINANZ_MINIMALIST\", \"FINANZ_SPARER\", \"FINANZ_UNAUFFAELLIGER\", \"FINANZTYP\", \"SEMIO_MAT\", \"GEBURTSJAHR\", \"GREEN_AVANTGARDE\", \"KOMBIALTER\", \"SEMIO_DOM\", \"SEMIO_ERL\", \"SEMIO_FAM\", \"SEMIO_KAEM\", \"SEMIO_KRIT\", \"SEMIO_KULT\", \"SEMIO_LUST\", \"ALTERSKATEGORIE_GROB\"], \"y\": [0.9986479223447383, 0.9975763587258379, 0.9930769135826019, 0.9907957734389113, 0.9815130029476415, 0.9779112027207617, 0.9669004657655059, 0.9627129522307037, 0.9623437957588522, 0.9583189803651395, 0.9562386882714837, 0.9561893178010842, 0.9555721869210891, 0.9401865530547417, 0.9381982695650125, 0.9332522460758892, 0.9311461466908881, 0.9270517638161578, 0.9220608580812166, 0.9215323696367119, 0.9190918975203681, 0.9124066870058044, 0.9090483729624863, 0.9080845267335487, 0.9033348630698783, 0.8999844034195783, 0.8910247850981967, 0.8872636528986637, 0.8812079158816949, 0.8718791410884618, 0.8673763297767894, 0.8621666230934864, 0.8594647118952539, 0.8539004354699901, 0.8408296034316965, 0.839248626322764, 0.8368698672944197, 0.8268701029262102, 0.8240851595732147, 0.8177668614182116, 0.815714620728192, 0.8155148947343027, 0.8001382373171189, 0.7770261248332344, 0.7611254671961276, 0.7601964047076988, 0.7470627375252603, 0.7345697644018712, 0.7339963937115486, 0.7158404032220964, 0.711645035294276, 0.7070086993012956, 0.6732359313795344, 0.656175067688037, 0.6559674873011295, 0.6326354518127378, 0.626733436487695, 0.5677076729565393, 0.5669783364619999, 0.5548163699015172, 0.5346866826522265, 0.5060417113151507, 0.49133267730450697, 0.39739862503239937, 0.34813699407890975, 0.29504129727643313, 0.2884952217239046, 0.2884952217239046, 0.2884952217239046, 0.2884952217239046, 0.2884952217239046, 0.2884952217239046, 0.2884952217239046, 0.2884952217239046, 0.17735668257368262, 0.17735668257368262, 0.1661933459826463, 0.16618773570191905, 0.16618773570191905, 0.16618773570191905, 0.16618773570191905, 0.16618773570191905, 0.16618773570191905, 0.16618773570191905, 0.16618773570191905, 0.16618773570191905, 0.16618773570191905, 0.16618773570191905, 0.16618773570191905, 0.16618773570191905, 0.16618773570191905, 0.16618773570191905, 0.16618773570191905, 0.16618773570191905, 0.16618773570191905, 0.16618773570191905, 0.16618773570191905, 0.16618773570191905, 0.16618773570191905, 0.16618773570191905, 0.16618773570191905, 0.16618773570191905, 0.16618773570191905, 0.16618773570191905, 0.16618773570191905, 0.16618773570191905, 0.16618773570191905, 0.16618773570191905, 0.16618773570191905, 0.16618773570191905, 0.16618773570191905, 0.16618773570191905, 0.16618773570191905, 0.16618773570191905, 0.16618773570191905, 0.16618773570191905, 0.16618773570191905, 0.16618773570191905, 0.16618773570191905, 0.16618773570191905, 0.16618773570191905, 0.16618773570191905, 0.16618773570191905, 0.16618773570191905, 0.16618773570191905, 0.16618773570191905, 0.16618773570191905, 0.16618773570191905, 0.16618773570191905, 0.16618773570191905, 0.16618773570191905, 0.16605084485217472, 0.16516778666570917, 0.164421619328988, 0.14959701353536328, 0.14959701353536328, 0.14959701353536328, 0.14959701353536328, 0.14959701353536328, 0.14959701353536328, 0.1359887166034014, 0.13073637178657146, 0.13073637178657146, 0.13073637178657146, 0.13073637178657146, 0.13073637178657146, 0.13073637178657146, 0.13073637178657146, 0.12476815514894735, 0.12476815514894735, 0.12476815514894735, 0.12346769207637612, 0.12153551139391913, 0.12136608091595687, 0.12073548536221655, 0.11871354018812394, 0.11871354018812394, 0.11871354018812394, 0.11871354018812394, 0.11871354018812394, 0.11871354018812394, 0.11871354018812394, 0.11871354018812394, 0.11871354018812394, 0.11871354018812394, 0.11871354018812394, 0.11871354018812394, 0.11871354018812394, 0.11871354018812394, 0.11871354018812394, 0.11871354018812394, 0.11871354018812394, 0.11871354018812394, 0.11871354018812394, 0.11871354018812394, 0.11871354018812394, 0.11871354018812394, 0.11871354018812394, 0.11871354018812394, 0.11871354018812394, 0.11871354018812394, 0.11871354018812394, 0.11871354018812394, 0.11871354018812394, 0.11871354018812394, 0.11871354018812394, 0.11871354018812394, 0.11871354018812394, 0.11871354018812394, 0.11871354018812394, 0.11871354018812394, 0.11871354018812394, 0.11871354018812394, 0.11871354018812394, 0.11871354018812394, 0.11871354018812394, 0.11871354018812394, 0.11871354018812394, 0.11871354018812394, 0.11871354018812394, 0.11871354018812394, 0.11871354018812394, 0.11871354018812394, 0.11871354018812394, 0.11871354018812394, 0.11871354018812394, 0.11871354018812394, 0.11871354018812394, 0.11871354018812394, 0.11871354018812394, 0.11871354018812394, 0.11871354018812394, 0.11871354018812394, 0.11871354018812394, 0.11871354018812394, 0.11871354018812394, 0.11871354018812394, 0.11871354018812394, 0.11871354018812394, 0.11871354018812394, 0.11871354018812394, 0.11871354018812394, 0.11871354018812394, 0.11871354018812394, 0.11871354018812394, 0.11871354018812394, 0.11871354018812394, 0.11871354018812394, 0.11871354018812394, 0.11871354018812394, 0.11871354018812394, 0.11871354018812394, 0.11871354018812394, 0.11871354018812394, 0.11871354018812394, 0.11871354018812394, 0.11871354018812394, 0.11871354018812394, 0.11871354018812394, 0.11871354018812394, 0.11871354018812394, 0.11871354018812394, 0.11871354018812394, 0.11871354018812394, 0.11871354018812394, 0.11871354018812394, 0.11871354018812394, 0.11871354018812394, 0.11871354018812394, 0.11871354018812394, 0.11871354018812394, 0.11871354018812394, 0.11871354018812394, 0.11871354018812394, 0.11871354018812394, 0.11871354018812394, 0.11871354018812394, 0.11871354018812394, 0.11871354018812394, 0.11871354018812394, 0.11871354018812394, 0.11871354018812394, 0.11871354018812394, 0.11871354018812394, 0.11871354018812394, 0.11871354018812394, 0.11871354018812394, 0.11871354018812394, 0.11871354018812394, 0.11871354018812394, 0.11871354018812394, 0.11147852216229195, 0.11147852216229195, 0.11105999522004081, 0.10972138223852446, 0.10972138223852446, 0.10926021716274639, 0.1091468894920564, 0.1091468894920564, 0.1091468894920564, 0.10908181023562057, 0.10908181023562057, 0.10884842255736793, 0.10518154307405234, 0.10518154307405234, 0.10518154307405234, 0.10452514022896678, 0.10452514022896678, 0.10452514022896678, 0.10451728583594866, 0.10451728583594866, 0.10451728583594866, 0.10451728583594866, 0.10451728583594866, 0.10451728583594866, 0.10451728583594866, 0.10451728583594866, 0.10451728583594866, 0.10451728583594866, 0.08518313639377888, 0.08518313639377888, 0.08518313639377888, 0.08299737102245122, 0.08247000463409188, 0.08247000463409188, 0.08247000463409188, 0.08247000463409188, 0.08247000463409188, 0.08247000463409188, 0.08247000463409188, 0.08247000463409188, 0.08247000463409188, 0.05747844810658636, 0.020587486156632306, 0.005446460529992, 0.005446460529992, 0.005446460529992, 0.005446460529992, 0.005446460529992, 0.005446460529992, 0.005446460529992, 0.005446460529992, 0.005446460529992, 0.005446460529992, 0.005446460529992, 0.005446460529992, 0.005446460529992, 0.005446460529992, 0.005446460529992, 0.005446460529992, 0.005446460529992, 0.005446460529992, 0.005446460529992, 0.0, 0.0, 0.0, 0.0, 0.0, 0.0, 0.0, 0.0, 0.0, 0.0, 0.0, 0.0, 0.0, 0.0, 0.0, 0.0, 0.0, 0.0, 0.0, 0.0, 0.0, 0.0, 0.0, 0.0, 0.0, 0.0, 0.0, 0.0, 0.0, 0.0, 0.0, 0.0, 0.0]}],                        {\"template\": {\"layout\": {\"annotationdefaults\": {\"arrowcolor\": \"#f2f5fa\", \"arrowhead\": 0, \"arrowwidth\": 1}, \"coloraxis\": {\"colorbar\": {\"outlinewidth\": 0, \"ticks\": \"\"}}, \"colorscale\": {\"diverging\": [[0, \"#8e0152\"], [0.1, \"#c51b7d\"], [0.2, \"#de77ae\"], [0.3, \"#f1b6da\"], [0.4, \"#fde0ef\"], [0.5, \"#f7f7f7\"], [0.6, \"#e6f5d0\"], [0.7, \"#b8e186\"], [0.8, \"#7fbc41\"], [0.9, \"#4d9221\"], [1, \"#276419\"]], \"sequential\": [[0.0, \"#0d0887\"], [0.1111111111111111, \"#46039f\"], [0.2222222222222222, \"#7201a8\"], [0.3333333333333333, \"#9c179e\"], [0.4444444444444444, \"#bd3786\"], [0.5555555555555556, \"#d8576b\"], [0.6666666666666666, \"#ed7953\"], [0.7777777777777778, \"#fb9f3a\"], [0.8888888888888888, \"#fdca26\"], [1.0, \"#f0f921\"]], \"sequentialminus\": [[0.0, \"#0d0887\"], [0.1111111111111111, \"#46039f\"], [0.2222222222222222, \"#7201a8\"], [0.3333333333333333, \"#9c179e\"], [0.4444444444444444, \"#bd3786\"], [0.5555555555555556, \"#d8576b\"], [0.6666666666666666, \"#ed7953\"], [0.7777777777777778, \"#fb9f3a\"], [0.8888888888888888, \"#fdca26\"], [1.0, \"#f0f921\"]]}, \"colorway\": [\"rgba(0, 203, 166, 0.7)\", \"rgba(168, 168, 168, 0.7)\", \"#19d3f3\", \"#00cc96\", \"#ab63fa\", \"#00CBA6\", \"#FF6692\", \"#B6E880\", \"#FF97FF\", \"#FECB52\"], \"font\": {\"color\": \"#2a3f5f\", \"family\": \"plain\"}, \"geo\": {\"bgcolor\": \"black\", \"lakecolor\": \"white\", \"landcolor\": \"white\", \"showlakes\": true, \"showland\": true, \"subunitcolor\": \"#506784\"}, \"hoverlabel\": {\"align\": \"left\"}, \"hovermode\": \"closest\", \"images\": [{\"layer\": \"below\", \"opacity\": 0.05, \"sizex\": 0.7, \"sizey\": 0.7, \"source\": \"https://product-derrick.s3.amazonaws.com/logoWhite.png\", \"x\": 0.15, \"xref\": \"paper\", \"y\": 0.75, \"yref\": \"paper\"}], \"mapbox\": {\"style\": \"light\"}, \"paper_bgcolor\": \"white\", \"plot_bgcolor\": \"white\", \"polar\": {\"angularaxis\": {\"gridcolor\": \"#506784\", \"linecolor\": \"#506784\", \"ticks\": \"\"}, \"bgcolor\": \"white\", \"radialaxis\": {\"gridcolor\": \"#506784\", \"linecolor\": \"#506784\", \"ticks\": \"\"}}, \"scene\": {\"xaxis\": {\"backgroundcolor\": \"white\", \"gridcolor\": \"#506784\", \"gridwidth\": 2, \"linecolor\": \"#506784\", \"showbackground\": true, \"ticks\": \"\", \"zerolinecolor\": \"#C8D4E3\"}, \"yaxis\": {\"backgroundcolor\": \"white\", \"gridcolor\": \"#506784\", \"gridwidth\": 2, \"linecolor\": \"#506784\", \"showbackground\": true, \"ticks\": \"\", \"zerolinecolor\": \"#C8D4E3\"}, \"zaxis\": {\"backgroundcolor\": \"rgb(17,17,17)\", \"gridcolor\": \"#506784\", \"gridwidth\": 2, \"linecolor\": \"#506784\", \"showbackground\": true, \"ticks\": \"\", \"zerolinecolor\": \"#C8D4E3\"}}, \"shapedefaults\": {\"line\": {\"color\": \"#f2f5fa\"}}, \"sliderdefaults\": {\"bgcolor\": \"#C8D4E3\", \"bordercolor\": \"rgb(17,17,17)\", \"borderwidth\": 1, \"tickwidth\": 0}, \"ternary\": {\"aaxis\": {\"gridcolor\": \"#506784\", \"linecolor\": \"#506784\", \"ticks\": \"\"}, \"baxis\": {\"gridcolor\": \"#506784\", \"linecolor\": \"#506784\", \"ticks\": \"\"}, \"bgcolor\": \"rgb(17,17,17)\", \"caxis\": {\"gridcolor\": \"#506784\", \"linecolor\": \"#506784\", \"ticks\": \"\"}}, \"title\": {\"font\": {\"size\": 24}, \"x\": 0.05}, \"updatemenudefaults\": {\"bgcolor\": \"#506784\", \"borderwidth\": 0}, \"xaxis\": {\"automargin\": true, \"gridcolor\": \"#DFE8F3\", \"linecolor\": \"#A2B1C6\", \"tickfont\": {\"color\": \"#2a3f5f\", \"family\": \"InterstateMono\", \"size\": 10}, \"ticks\": \"\", \"title\": {\"font\": {\"family\": \"Plain\", \"size\": 18}}, \"zerolinecolor\": \"#DFE8F3\", \"zerolinewidth\": 2}, \"yaxis\": {\"automargin\": true, \"gridcolor\": \"#DFE8F3\", \"linecolor\": \"#A2B1C6\", \"tickfont\": {\"color\": \"#2a3f5f\", \"family\": \"InterstateMono\", \"size\": 10}, \"ticks\": \"\", \"title\": {\"font\": {\"family\": \"plain\", \"size\": 18}}, \"zerolinecolor\": \"#DFE8F3\", \"zerolinewidth\": 2}}}, \"title\": {\"text\": \"Missing Values per Column\"}, \"xaxis\": {\"title\": {\"text\": \"Column name\"}}, \"yaxis\": {\"tickformat\": \"%\", \"title\": {\"text\": \"Rate of Missing Values\"}}},                        {\"responsive\": true}                    ).then(function(){\n",
       "                            \n",
       "var gd = document.getElementById('91b8c16a-b686-43e3-badd-1283d2648610');\n",
       "var x = new MutationObserver(function (mutations, observer) {{\n",
       "        var display = window.getComputedStyle(gd).display;\n",
       "        if (!display || display === 'none') {{\n",
       "            console.log([gd, 'removed!']);\n",
       "            Plotly.purge(gd);\n",
       "            observer.disconnect();\n",
       "        }}\n",
       "}});\n",
       "\n",
       "// Listen for the removal of the full notebook cells\n",
       "var notebookContainer = gd.closest('#notebook-container');\n",
       "if (notebookContainer) {{\n",
       "    x.observe(notebookContainer, {childList: true});\n",
       "}}\n",
       "\n",
       "// Listen for the clearing of the current output cell\n",
       "var outputEl = gd.closest('.output');\n",
       "if (outputEl) {{\n",
       "    x.observe(outputEl, {childList: true});\n",
       "}}\n",
       "\n",
       "                        })                };                });            </script>        </div>"
      ]
     },
     "metadata": {},
     "output_type": "display_data"
    }
   ],
   "source": [
    "fig = plot_missing_values(azdias)\n",
    "fig.show()\n",
    "# py.plot(fig, filename = 'udsnd_3_missing', auto_open=False)"
   ]
  },
  {
   "cell_type": "markdown",
   "metadata": {},
   "source": []
  },
  {
   "cell_type": "markdown",
   "metadata": {},
   "source": [
    "Next, I will move on to the remaining columns that have no matching name in the \"Value Code\" file and have very few `NaN` values"
   ]
  },
  {
   "cell_type": "code",
   "execution_count": 42,
   "metadata": {},
   "outputs": [],
   "source": [
    "temp_missing_values = azdias[azdias_missing_attr].isna().sum()\n",
    "temp_missing_values = temp_missing_values[temp_missing_values<50_000]"
   ]
  },
  {
   "cell_type": "code",
   "execution_count": 43,
   "metadata": {},
   "outputs": [
    {
     "data": {
      "text/plain": [
       "LNR                           0\n",
       "CJT_KATALOGNUTZER          4854\n",
       "CJT_TYP_1                  4854\n",
       "CJT_TYP_2                  4854\n",
       "CJT_TYP_3                  4854\n",
       "CJT_TYP_4                  4854\n",
       "CJT_TYP_5                  4854\n",
       "CJT_TYP_6                  4854\n",
       "D19_BUCH_CD                   0\n",
       "D19_KONSUMTYP_MAX             0\n",
       "D19_VERSI_DATUM               0\n",
       "D19_VERSI_OFFLINE_DATUM       0\n",
       "D19_VERSI_ONLINE_DATUM        0\n",
       "KOMBIALTER                    0\n",
       "RT_KEIN_ANREIZ             4854\n",
       "RT_SCHNAEPPCHEN            4854\n",
       "dtype: int64"
      ]
     },
     "execution_count": 43,
     "metadata": {},
     "output_type": "execute_result"
    }
   ],
   "source": [
    "temp_missing_values"
   ]
  },
  {
   "cell_type": "markdown",
   "metadata": {},
   "source": [
    "**CJT_ name group**\n",
    "\n",
    "These are values about the Customer-Journey-Typology relating to the preferred information and buying channels of consumers. Interestingly, in the `Attribute` information, we can see that this data source should be just one column with codes to represent 6 types of consumers. But in fact I can see that there are 6 columns with `_typ_x` suffix.  Perhaps these columns represent a one-hot encoded version of the existing and known column: `CJT_GESAMTTYP`? "
   ]
  },
  {
   "cell_type": "code",
   "execution_count": 44,
   "metadata": {},
   "outputs": [
    {
     "data": {
      "text/html": [
       "<div>\n",
       "<style scoped>\n",
       "    .dataframe tbody tr th:only-of-type {\n",
       "        vertical-align: middle;\n",
       "    }\n",
       "\n",
       "    .dataframe tbody tr th {\n",
       "        vertical-align: top;\n",
       "    }\n",
       "\n",
       "    .dataframe thead th {\n",
       "        text-align: right;\n",
       "    }\n",
       "</style>\n",
       "<table border=\"1\" class=\"dataframe\">\n",
       "  <thead>\n",
       "    <tr style=\"text-align: right;\">\n",
       "      <th></th>\n",
       "      <th>CJT_GESAMTTYP</th>\n",
       "      <th>CJT_KATALOGNUTZER</th>\n",
       "      <th>CJT_TYP_1</th>\n",
       "      <th>CJT_TYP_2</th>\n",
       "      <th>CJT_TYP_3</th>\n",
       "      <th>CJT_TYP_4</th>\n",
       "      <th>CJT_TYP_5</th>\n",
       "      <th>CJT_TYP_6</th>\n",
       "    </tr>\n",
       "  </thead>\n",
       "  <tbody>\n",
       "    <tr>\n",
       "      <th>0</th>\n",
       "      <td>2.0</td>\n",
       "      <td>5.0</td>\n",
       "      <td>1.0</td>\n",
       "      <td>1.0</td>\n",
       "      <td>5.0</td>\n",
       "      <td>5.0</td>\n",
       "      <td>5.0</td>\n",
       "      <td>5.0</td>\n",
       "    </tr>\n",
       "    <tr>\n",
       "      <th>1</th>\n",
       "      <td>5.0</td>\n",
       "      <td>1.0</td>\n",
       "      <td>5.0</td>\n",
       "      <td>5.0</td>\n",
       "      <td>2.0</td>\n",
       "      <td>3.0</td>\n",
       "      <td>1.0</td>\n",
       "      <td>1.0</td>\n",
       "    </tr>\n",
       "    <tr>\n",
       "      <th>2</th>\n",
       "      <td>3.0</td>\n",
       "      <td>2.0</td>\n",
       "      <td>4.0</td>\n",
       "      <td>4.0</td>\n",
       "      <td>1.0</td>\n",
       "      <td>3.0</td>\n",
       "      <td>2.0</td>\n",
       "      <td>2.0</td>\n",
       "    </tr>\n",
       "    <tr>\n",
       "      <th>3</th>\n",
       "      <td>2.0</td>\n",
       "      <td>3.0</td>\n",
       "      <td>2.0</td>\n",
       "      <td>2.0</td>\n",
       "      <td>4.0</td>\n",
       "      <td>4.0</td>\n",
       "      <td>5.0</td>\n",
       "      <td>3.0</td>\n",
       "    </tr>\n",
       "    <tr>\n",
       "      <th>4</th>\n",
       "      <td>5.0</td>\n",
       "      <td>3.0</td>\n",
       "      <td>3.0</td>\n",
       "      <td>3.0</td>\n",
       "      <td>3.0</td>\n",
       "      <td>4.0</td>\n",
       "      <td>3.0</td>\n",
       "      <td>3.0</td>\n",
       "    </tr>\n",
       "    <tr>\n",
       "      <th>5</th>\n",
       "      <td>2.0</td>\n",
       "      <td>5.0</td>\n",
       "      <td>2.0</td>\n",
       "      <td>1.0</td>\n",
       "      <td>5.0</td>\n",
       "      <td>5.0</td>\n",
       "      <td>3.0</td>\n",
       "      <td>3.0</td>\n",
       "    </tr>\n",
       "    <tr>\n",
       "      <th>6</th>\n",
       "      <td>5.0</td>\n",
       "      <td>3.0</td>\n",
       "      <td>5.0</td>\n",
       "      <td>5.0</td>\n",
       "      <td>1.0</td>\n",
       "      <td>3.0</td>\n",
       "      <td>1.0</td>\n",
       "      <td>2.0</td>\n",
       "    </tr>\n",
       "    <tr>\n",
       "      <th>7</th>\n",
       "      <td>3.0</td>\n",
       "      <td>5.0</td>\n",
       "      <td>3.0</td>\n",
       "      <td>3.0</td>\n",
       "      <td>2.0</td>\n",
       "      <td>4.0</td>\n",
       "      <td>3.0</td>\n",
       "      <td>4.0</td>\n",
       "    </tr>\n",
       "    <tr>\n",
       "      <th>8</th>\n",
       "      <td>3.0</td>\n",
       "      <td>4.0</td>\n",
       "      <td>4.0</td>\n",
       "      <td>4.0</td>\n",
       "      <td>1.0</td>\n",
       "      <td>3.0</td>\n",
       "      <td>4.0</td>\n",
       "      <td>5.0</td>\n",
       "    </tr>\n",
       "    <tr>\n",
       "      <th>9</th>\n",
       "      <td>4.0</td>\n",
       "      <td>1.0</td>\n",
       "      <td>4.0</td>\n",
       "      <td>4.0</td>\n",
       "      <td>2.0</td>\n",
       "      <td>1.0</td>\n",
       "      <td>4.0</td>\n",
       "      <td>5.0</td>\n",
       "    </tr>\n",
       "  </tbody>\n",
       "</table>\n",
       "</div>"
      ],
      "text/plain": [
       "   CJT_GESAMTTYP  CJT_KATALOGNUTZER  CJT_TYP_1  CJT_TYP_2  CJT_TYP_3  \\\n",
       "0            2.0                5.0        1.0        1.0        5.0   \n",
       "1            5.0                1.0        5.0        5.0        2.0   \n",
       "2            3.0                2.0        4.0        4.0        1.0   \n",
       "3            2.0                3.0        2.0        2.0        4.0   \n",
       "4            5.0                3.0        3.0        3.0        3.0   \n",
       "5            2.0                5.0        2.0        1.0        5.0   \n",
       "6            5.0                3.0        5.0        5.0        1.0   \n",
       "7            3.0                5.0        3.0        3.0        2.0   \n",
       "8            3.0                4.0        4.0        4.0        1.0   \n",
       "9            4.0                1.0        4.0        4.0        2.0   \n",
       "\n",
       "   CJT_TYP_4  CJT_TYP_5  CJT_TYP_6  \n",
       "0        5.0        5.0        5.0  \n",
       "1        3.0        1.0        1.0  \n",
       "2        3.0        2.0        2.0  \n",
       "3        4.0        5.0        3.0  \n",
       "4        4.0        3.0        3.0  \n",
       "5        5.0        3.0        3.0  \n",
       "6        3.0        1.0        2.0  \n",
       "7        4.0        3.0        4.0  \n",
       "8        3.0        4.0        5.0  \n",
       "9        1.0        4.0        5.0  "
      ]
     },
     "execution_count": 44,
     "metadata": {},
     "output_type": "execute_result"
    }
   ],
   "source": [
    "azdias[['CJT_GESAMTTYP', 'CJT_KATALOGNUTZER', 'CJT_TYP_1', 'CJT_TYP_2', 'CJT_TYP_3', 'CJT_TYP_4', 'CJT_TYP_5', 'CJT_TYP_6' ]].head(10)"
   ]
  },
  {
   "cell_type": "code",
   "execution_count": 45,
   "metadata": {},
   "outputs": [
    {
     "data": {
      "text/html": [
       "<div>\n",
       "<style scoped>\n",
       "    .dataframe tbody tr th:only-of-type {\n",
       "        vertical-align: middle;\n",
       "    }\n",
       "\n",
       "    .dataframe tbody tr th {\n",
       "        vertical-align: top;\n",
       "    }\n",
       "\n",
       "    .dataframe thead th {\n",
       "        text-align: right;\n",
       "    }\n",
       "</style>\n",
       "<table border=\"1\" class=\"dataframe\">\n",
       "  <thead>\n",
       "    <tr style=\"text-align: right;\">\n",
       "      <th></th>\n",
       "      <th>CJT_GESAMTTYP</th>\n",
       "      <th>CJT_KATALOGNUTZER</th>\n",
       "      <th>CJT_TYP_1</th>\n",
       "      <th>CJT_TYP_2</th>\n",
       "      <th>CJT_TYP_3</th>\n",
       "      <th>CJT_TYP_4</th>\n",
       "      <th>CJT_TYP_5</th>\n",
       "      <th>CJT_TYP_6</th>\n",
       "    </tr>\n",
       "  </thead>\n",
       "  <tbody>\n",
       "    <tr>\n",
       "      <th>138</th>\n",
       "      <td>NaN</td>\n",
       "      <td>NaN</td>\n",
       "      <td>NaN</td>\n",
       "      <td>NaN</td>\n",
       "      <td>NaN</td>\n",
       "      <td>NaN</td>\n",
       "      <td>NaN</td>\n",
       "      <td>NaN</td>\n",
       "    </tr>\n",
       "    <tr>\n",
       "      <th>184</th>\n",
       "      <td>NaN</td>\n",
       "      <td>NaN</td>\n",
       "      <td>NaN</td>\n",
       "      <td>NaN</td>\n",
       "      <td>NaN</td>\n",
       "      <td>NaN</td>\n",
       "      <td>NaN</td>\n",
       "      <td>NaN</td>\n",
       "    </tr>\n",
       "    <tr>\n",
       "      <th>255</th>\n",
       "      <td>NaN</td>\n",
       "      <td>NaN</td>\n",
       "      <td>NaN</td>\n",
       "      <td>NaN</td>\n",
       "      <td>NaN</td>\n",
       "      <td>NaN</td>\n",
       "      <td>NaN</td>\n",
       "      <td>NaN</td>\n",
       "    </tr>\n",
       "    <tr>\n",
       "      <th>1020</th>\n",
       "      <td>NaN</td>\n",
       "      <td>NaN</td>\n",
       "      <td>NaN</td>\n",
       "      <td>NaN</td>\n",
       "      <td>NaN</td>\n",
       "      <td>NaN</td>\n",
       "      <td>NaN</td>\n",
       "      <td>NaN</td>\n",
       "    </tr>\n",
       "    <tr>\n",
       "      <th>1044</th>\n",
       "      <td>NaN</td>\n",
       "      <td>NaN</td>\n",
       "      <td>NaN</td>\n",
       "      <td>NaN</td>\n",
       "      <td>NaN</td>\n",
       "      <td>NaN</td>\n",
       "      <td>NaN</td>\n",
       "      <td>NaN</td>\n",
       "    </tr>\n",
       "    <tr>\n",
       "      <th>...</th>\n",
       "      <td>...</td>\n",
       "      <td>...</td>\n",
       "      <td>...</td>\n",
       "      <td>...</td>\n",
       "      <td>...</td>\n",
       "      <td>...</td>\n",
       "      <td>...</td>\n",
       "      <td>...</td>\n",
       "    </tr>\n",
       "    <tr>\n",
       "      <th>890128</th>\n",
       "      <td>NaN</td>\n",
       "      <td>NaN</td>\n",
       "      <td>NaN</td>\n",
       "      <td>NaN</td>\n",
       "      <td>NaN</td>\n",
       "      <td>NaN</td>\n",
       "      <td>NaN</td>\n",
       "      <td>NaN</td>\n",
       "    </tr>\n",
       "    <tr>\n",
       "      <th>890290</th>\n",
       "      <td>NaN</td>\n",
       "      <td>NaN</td>\n",
       "      <td>NaN</td>\n",
       "      <td>NaN</td>\n",
       "      <td>NaN</td>\n",
       "      <td>NaN</td>\n",
       "      <td>NaN</td>\n",
       "      <td>NaN</td>\n",
       "    </tr>\n",
       "    <tr>\n",
       "      <th>890367</th>\n",
       "      <td>NaN</td>\n",
       "      <td>NaN</td>\n",
       "      <td>NaN</td>\n",
       "      <td>NaN</td>\n",
       "      <td>NaN</td>\n",
       "      <td>NaN</td>\n",
       "      <td>NaN</td>\n",
       "      <td>NaN</td>\n",
       "    </tr>\n",
       "    <tr>\n",
       "      <th>890701</th>\n",
       "      <td>NaN</td>\n",
       "      <td>NaN</td>\n",
       "      <td>NaN</td>\n",
       "      <td>NaN</td>\n",
       "      <td>NaN</td>\n",
       "      <td>NaN</td>\n",
       "      <td>NaN</td>\n",
       "      <td>NaN</td>\n",
       "    </tr>\n",
       "    <tr>\n",
       "      <th>890903</th>\n",
       "      <td>NaN</td>\n",
       "      <td>NaN</td>\n",
       "      <td>NaN</td>\n",
       "      <td>NaN</td>\n",
       "      <td>NaN</td>\n",
       "      <td>NaN</td>\n",
       "      <td>NaN</td>\n",
       "      <td>NaN</td>\n",
       "    </tr>\n",
       "  </tbody>\n",
       "</table>\n",
       "<p>4854 rows × 8 columns</p>\n",
       "</div>"
      ],
      "text/plain": [
       "        CJT_GESAMTTYP  CJT_KATALOGNUTZER  CJT_TYP_1  CJT_TYP_2  CJT_TYP_3  \\\n",
       "138               NaN                NaN        NaN        NaN        NaN   \n",
       "184               NaN                NaN        NaN        NaN        NaN   \n",
       "255               NaN                NaN        NaN        NaN        NaN   \n",
       "1020              NaN                NaN        NaN        NaN        NaN   \n",
       "1044              NaN                NaN        NaN        NaN        NaN   \n",
       "...               ...                ...        ...        ...        ...   \n",
       "890128            NaN                NaN        NaN        NaN        NaN   \n",
       "890290            NaN                NaN        NaN        NaN        NaN   \n",
       "890367            NaN                NaN        NaN        NaN        NaN   \n",
       "890701            NaN                NaN        NaN        NaN        NaN   \n",
       "890903            NaN                NaN        NaN        NaN        NaN   \n",
       "\n",
       "        CJT_TYP_4  CJT_TYP_5  CJT_TYP_6  \n",
       "138           NaN        NaN        NaN  \n",
       "184           NaN        NaN        NaN  \n",
       "255           NaN        NaN        NaN  \n",
       "1020          NaN        NaN        NaN  \n",
       "1044          NaN        NaN        NaN  \n",
       "...           ...        ...        ...  \n",
       "890128        NaN        NaN        NaN  \n",
       "890290        NaN        NaN        NaN  \n",
       "890367        NaN        NaN        NaN  \n",
       "890701        NaN        NaN        NaN  \n",
       "890903        NaN        NaN        NaN  \n",
       "\n",
       "[4854 rows x 8 columns]"
      ]
     },
     "execution_count": 45,
     "metadata": {},
     "output_type": "execute_result"
    }
   ],
   "source": [
    "# DataFrame values where the Gesamttyp values are NaN.  \n",
    "azdias[['CJT_GESAMTTYP', 'CJT_KATALOGNUTZER', 'CJT_TYP_1', 'CJT_TYP_2', 'CJT_TYP_3', 'CJT_TYP_4', 'CJT_TYP_5', 'CJT_TYP_6' ]].loc[azdias['CJT_GESAMTTYP'].isna()]"
   ]
  },
  {
   "cell_type": "markdown",
   "metadata": {},
   "source": [
    "Ok, Good learning here. I only have verification on the value code that represents `unknown` for one of the `CJT_` columns. It looks like I can see that all of the missing values from the column I **do** know are **also** missing from the remaining columns. The count of `4854` also matches two further columns we did not have value code information on but were not named `CJT_*`. \n",
    "\n",
    "`CJT_` columns are satisified here. \n",
    "\n",
    "**However**, I will note that for the next step in feature engineering the `CJT_GESAMTTYPE` (or `total_type` in english) is a _categorical_ variable and that the others seem to be a _ordinal_ value. "
   ]
  },
  {
   "cell_type": "code",
   "execution_count": 46,
   "metadata": {},
   "outputs": [
    {
     "data": {
      "text/plain": [
       "LNR                           0\n",
       "D19_BUCH_CD                   0\n",
       "D19_KONSUMTYP_MAX             0\n",
       "D19_VERSI_DATUM               0\n",
       "D19_VERSI_OFFLINE_DATUM       0\n",
       "D19_VERSI_ONLINE_DATUM        0\n",
       "KOMBIALTER                    0\n",
       "RT_KEIN_ANREIZ             4854\n",
       "RT_SCHNAEPPCHEN            4854\n",
       "dtype: int64"
      ]
     },
     "execution_count": 46,
     "metadata": {},
     "output_type": "execute_result"
    }
   ],
   "source": [
    "temp_missing_values.loc[~temp_missing_values.index.str.contains('CJT_')]"
   ]
  },
  {
   "cell_type": "markdown",
   "metadata": {},
   "source": [
    "The Remaining columns that have very few `NaN` values and are not represented in our list of value codes to determine if there is a code that represents `unknown` are above.  I will deal with these columns individually: \n",
    "\n",
    "- `LNR`: This is something of a Unique ID that was discovered above when looking at the Pandas Profiling report. I will drop this column before makeing any predictions\n",
    "- `D19_BUCH_CD` - This column was one that should have been included in the `D19_` group process above, but it has added a `_CD` suffix, which I learned from the Value Codes list that the attribute includes consumer interest  in \"books and cds\". I will assume the `azdias` dataset column `D19_BUCH` is equal to `D19_BUCH_CD` and use the value code associated with it to convert to `NaN` \n",
    "- `D19_KONSUMTYP_MAX` - This column nearly matchs with `D19_KONSUMTYP`, but the `_MAX` suffix could be that it has a separate meaning. I will manually match the two as I did above with `D19_BUCH_CD` as the likelihood of the same type of Value Code (`9`) is rare. The final evidence that `9` is the value of `unknown` here and should be converted to `NaN` is that the number if existing `NaN` values in `D19_KONSUMTYP` is 257113. The number of `D19_KONSUMTYP_MAX` values of `9` are 257113. Thus, I will manually add the conversion of all `D19_KONSUMTYP_MAX` values of `9` to `NaN`\n",
    "- `D19_VERSI_DATUM`, `D19_VERSI_OFFLINE_DATUM`, and `D19_VERSI_ONLINE_DATUM` - These were discussed above and will be manually converted to `D19_VERSAND_*`\n",
    "- `RT_KEIN_ANREIZ` and `RT_SCHNAEPPCHEN` have identical missing values to the other `CJT_` named columns and I will assume all `NaN` values are accounted for and no further conversion needs to be done. "
   ]
  },
  {
   "cell_type": "code",
   "execution_count": 47,
   "metadata": {},
   "outputs": [],
   "source": [
    "#TODO Remove LNR from list\n",
    "#TODO add _CD to D19_BUCH on unknowns list\n",
    "#TODO add D19_KONSUMTYP_MAX = 9 to nan list\n",
    "#TODO add D19_VERSI_DATUM, D19_VERSI_OFFLINE_DATUM, and D19_VERSI_ONLINE_DATUM = 10 to the unknowns list. \n",
    "\n",
    "# Remove _RZ suffix from Attributes and re-run our for loop to \n",
    "# replace value codes known to represent 'missing' with np.nonlocal\n",
    "\n",
    "value_unknown_codes.loc[value_unknown_codes['Attribute'].str.endswith('_RZ'), 'Attribute'] = value_unknown_codes.loc[value_unknown_codes['Attribute'].str.endswith('_RZ'), 'Attribute'].str.replace('_RZ', '')\n",
    "value_unknown_codes.loc[value_unknown_codes['Attribute'].str.contains('BUCH'), 'Attribute'] = 'D19_BUCH_CD'\n",
    "value_unknown_codes = value_unknown_codes.append(pd.DataFrame({'Attribute': ['D19_KONSUMTYP_MAX'], 'value': [9]}))\n",
    "value_unknown_codes.loc[value_unknown_codes['Attribute'].str.contains('D19_VERSAND_OFFLINE_DATUM|D19_VERSAND_ONLINE_DATUM|D19_VERSAND_DATUM'), 'Attribute'] = value_unknown_codes.loc[value_unknown_codes['Attribute'].str.contains('D19_VERSAND_OFFLINE_DATUM|D19_VERSAND_ONLINE_DATUM|D19_VERSAND_DATUM'), 'Attribute'].str.replace('_VERSAND_', '_VERSI_')\n",
    "\n",
    "missing_attributes = []\n",
    "for idx, row in value_unknown_codes.iterrows():\n",
    "    try:\n",
    "        azdias.loc[azdias[row['Attribute']] == row['value'], row['Attribute']] = np.nan\n",
    "    except KeyError:\n",
    "        missing_attributes.append(row['Attribute']) "
   ]
  },
  {
   "cell_type": "code",
   "execution_count": 48,
   "metadata": {},
   "outputs": [
    {
     "data": {
      "text/html": [
       "<div>                            <div id=\"4b004688-2210-46d1-9c1a-a6482f2e3885\" class=\"plotly-graph-div\" style=\"height:525px; width:100%;\"></div>            <script type=\"text/javascript\">                require([\"plotly\"], function(Plotly) {                    window.PLOTLYENV=window.PLOTLYENV || {};                                    if (document.getElementById(\"4b004688-2210-46d1-9c1a-a6482f2e3885\")) {                    Plotly.newPlot(                        \"4b004688-2210-46d1-9c1a-a6482f2e3885\",                        [{\"type\": \"bar\", \"x\": [\"ALTER_KIND4\", \"ALTER_KIND3\", \"D19_VERSI_ONLINE_DATUM\", \"D19_BANKEN_LOKAL\", \"ALTER_KIND2\", \"D19_VERSI_OFFLINE_DATUM\", \"D19_DIGIT_SERV\", \"D19_BIO_OEKO\", \"D19_TIERARTIKEL\", \"D19_NAHRUNGSERGAENZUNG\", \"D19_GARTEN\", \"D19_LEBENSMITTEL\", \"D19_WEIN_FEINKOST\", \"D19_ENERGIE\", \"D19_BANKEN_REST\", \"D19_BILDUNG\", \"ALTER_KIND1\", \"D19_BEKLEIDUNG_GEH\", \"D19_RATGEBER\", \"D19_SAMMELARTIKEL\", \"D19_FREIZEIT\", \"D19_BANKEN_GROSS\", \"D19_SCHUHE\", \"D19_HANDWERK\", \"D19_TELKO_REST\", \"D19_DROGERIEARTIKEL\", \"D19_KINDERARTIKEL\", \"D19_LOTTO\", \"D19_KOSMETIK\", \"D19_REISEN\", \"D19_VERSAND_REST\", \"D19_BANKEN_DIREKT\", \"D19_TELKO_MOBILE\", \"D19_HAUS_DEKO\", \"D19_BEKLEIDUNG_REST\", \"D19_VERSI_DATUM\", \"D19_VERSICHERUNGEN\", \"EXTSEL992\", \"D19_TECHNIK\", \"D19_BUCH_CD\", \"D19_VOLLSORTIMENT\", \"KK_KUNDENTYP\", \"D19_SONSTIGE\", \"ALTERSKATEGORIE_FEIN\", \"D19_VERSI_ONLINE_QUOTE_12\", \"D19_TELKO_ONLINE_QUOTE_12\", \"D19_LETZTER_KAUF_BRANCHE\", \"D19_SOZIALES\", \"D19_KONSUMTYP_MAX\", \"VHN\", \"HH_DELTA_FLAG\", \"KBA13_BAUMAX\", \"KBA13_CCM_1401_2500\", \"KBA13_ANTG3\", \"KBA13_ANTG2\", \"KBA13_ANTG1\", \"KBA13_GBZ\", \"KBA13_ANTG4\", \"KBA13_HHZ\", \"KBA13_KMH_210\", \"CAMEO_INTL_2015\", \"UMFELD_JUNG\", \"UMFELD_ALT\", \"GEMEINDETYP\", \"VERDICHTUNGSRAUM\", \"STRUKTURTYP\", \"ARBEIT\", \"FIRMENDICHTE\", \"KONSUMZELLE\", \"DSL_FLAG\", \"EINGEFUEGT_AM\", \"MOBI_RASTER\", \"ANZ_STATISTISCHE_HAUSHALTE\", \"VK_DISTANZ\", \"VK_DHT4A\", \"VK_ZG11\", \"EINGEZOGENAM_HH_JAHR\", \"UNGLEICHENN_FLAG\", \"AKT_DAT_KL\", \"ANZ_KINDER\", \"SOHO_KZ\", \"VHA\", \"RT_UEBERGROESSE\", \"CJT_KATALOGNUTZER\", \"CJT_TYP_1\", \"CJT_TYP_2\", \"CJT_TYP_4\", \"CJT_TYP_3\", \"CJT_TYP_5\", \"RT_SCHNAEPPCHEN\", \"RT_KEIN_ANREIZ\", \"CJT_TYP_6\", \"KOMBIALTER\", \"LNR\"], \"y\": [0.9986479223447383, 0.9930769135826019, 0.9917023948044312, 0.9815130029476415, 0.9669004657655059, 0.9629620486949926, 0.9623437957588522, 0.9583189803651395, 0.9562386882714837, 0.9561893178010842, 0.9555721869210891, 0.9401865530547417, 0.9381982695650125, 0.9311461466908881, 0.9220608580812166, 0.9124066870058044, 0.9090483729624863, 0.9080845267335487, 0.9033348630698783, 0.8999844034195783, 0.8872636528986637, 0.8812079158816949, 0.8673763297767894, 0.8621666230934864, 0.8594647118952539, 0.8539004354699901, 0.8408296034316965, 0.839248626322764, 0.8368698672944197, 0.8268701029262102, 0.8240851595732147, 0.8177668614182116, 0.8155148947343027, 0.8001382373171189, 0.7770261248332344, 0.7410933988314907, 0.7345697644018712, 0.7339963937115486, 0.7070086993012956, 0.6988031027096534, 0.6732359313795344, 0.6559674873011295, 0.5677076729565393, 0.29504129727643313, 0.2884952217239046, 0.2884952217239046, 0.2884952217239046, 0.2884952217239046, 0.2884952217239046, 0.1359887166034014, 0.12073548536221655, 0.11871354018812394, 0.11871354018812394, 0.11871354018812394, 0.11871354018812394, 0.11871354018812394, 0.11871354018812394, 0.11871354018812394, 0.11871354018812394, 0.11871354018812394, 0.11147852216229195, 0.10972138223852446, 0.10972138223852446, 0.1091468894920564, 0.1091468894920564, 0.1091468894920564, 0.10908181023562057, 0.10452514022896678, 0.10452514022896678, 0.10451728583594866, 0.10451728583594866, 0.10451728583594866, 0.10451728583594866, 0.08518313639377888, 0.08518313639377888, 0.08518313639377888, 0.08247000463409188, 0.08247000463409188, 0.08247000463409188, 0.08247000463409188, 0.08247000463409188, 0.08247000463409188, 0.05747844810658636, 0.005446460529992, 0.005446460529992, 0.005446460529992, 0.005446460529992, 0.005446460529992, 0.005446460529992, 0.005446460529992, 0.005446460529992, 0.005446460529992, 0.0, 0.0]}],                        {\"template\": {\"layout\": {\"annotationdefaults\": {\"arrowcolor\": \"#f2f5fa\", \"arrowhead\": 0, \"arrowwidth\": 1}, \"coloraxis\": {\"colorbar\": {\"outlinewidth\": 0, \"ticks\": \"\"}}, \"colorscale\": {\"diverging\": [[0, \"#8e0152\"], [0.1, \"#c51b7d\"], [0.2, \"#de77ae\"], [0.3, \"#f1b6da\"], [0.4, \"#fde0ef\"], [0.5, \"#f7f7f7\"], [0.6, \"#e6f5d0\"], [0.7, \"#b8e186\"], [0.8, \"#7fbc41\"], [0.9, \"#4d9221\"], [1, \"#276419\"]], \"sequential\": [[0.0, \"#0d0887\"], [0.1111111111111111, \"#46039f\"], [0.2222222222222222, \"#7201a8\"], [0.3333333333333333, \"#9c179e\"], [0.4444444444444444, \"#bd3786\"], [0.5555555555555556, \"#d8576b\"], [0.6666666666666666, \"#ed7953\"], [0.7777777777777778, \"#fb9f3a\"], [0.8888888888888888, \"#fdca26\"], [1.0, \"#f0f921\"]], \"sequentialminus\": [[0.0, \"#0d0887\"], [0.1111111111111111, \"#46039f\"], [0.2222222222222222, \"#7201a8\"], [0.3333333333333333, \"#9c179e\"], [0.4444444444444444, \"#bd3786\"], [0.5555555555555556, \"#d8576b\"], [0.6666666666666666, \"#ed7953\"], [0.7777777777777778, \"#fb9f3a\"], [0.8888888888888888, \"#fdca26\"], [1.0, \"#f0f921\"]]}, \"colorway\": [\"rgba(0, 203, 166, 0.7)\", \"rgba(168, 168, 168, 0.7)\", \"#19d3f3\", \"#00cc96\", \"#ab63fa\", \"#00CBA6\", \"#FF6692\", \"#B6E880\", \"#FF97FF\", \"#FECB52\"], \"font\": {\"color\": \"#2a3f5f\", \"family\": \"plain\"}, \"geo\": {\"bgcolor\": \"black\", \"lakecolor\": \"white\", \"landcolor\": \"white\", \"showlakes\": true, \"showland\": true, \"subunitcolor\": \"#506784\"}, \"hoverlabel\": {\"align\": \"left\"}, \"hovermode\": \"closest\", \"images\": [{\"layer\": \"below\", \"opacity\": 0.05, \"sizex\": 0.7, \"sizey\": 0.7, \"source\": \"https://product-derrick.s3.amazonaws.com/logoWhite.png\", \"x\": 0.15, \"xref\": \"paper\", \"y\": 0.75, \"yref\": \"paper\"}], \"mapbox\": {\"style\": \"light\"}, \"paper_bgcolor\": \"white\", \"plot_bgcolor\": \"white\", \"polar\": {\"angularaxis\": {\"gridcolor\": \"#506784\", \"linecolor\": \"#506784\", \"ticks\": \"\"}, \"bgcolor\": \"white\", \"radialaxis\": {\"gridcolor\": \"#506784\", \"linecolor\": \"#506784\", \"ticks\": \"\"}}, \"scene\": {\"xaxis\": {\"backgroundcolor\": \"white\", \"gridcolor\": \"#506784\", \"gridwidth\": 2, \"linecolor\": \"#506784\", \"showbackground\": true, \"ticks\": \"\", \"zerolinecolor\": \"#C8D4E3\"}, \"yaxis\": {\"backgroundcolor\": \"white\", \"gridcolor\": \"#506784\", \"gridwidth\": 2, \"linecolor\": \"#506784\", \"showbackground\": true, \"ticks\": \"\", \"zerolinecolor\": \"#C8D4E3\"}, \"zaxis\": {\"backgroundcolor\": \"rgb(17,17,17)\", \"gridcolor\": \"#506784\", \"gridwidth\": 2, \"linecolor\": \"#506784\", \"showbackground\": true, \"ticks\": \"\", \"zerolinecolor\": \"#C8D4E3\"}}, \"shapedefaults\": {\"line\": {\"color\": \"#f2f5fa\"}}, \"sliderdefaults\": {\"bgcolor\": \"#C8D4E3\", \"bordercolor\": \"rgb(17,17,17)\", \"borderwidth\": 1, \"tickwidth\": 0}, \"ternary\": {\"aaxis\": {\"gridcolor\": \"#506784\", \"linecolor\": \"#506784\", \"ticks\": \"\"}, \"baxis\": {\"gridcolor\": \"#506784\", \"linecolor\": \"#506784\", \"ticks\": \"\"}, \"bgcolor\": \"rgb(17,17,17)\", \"caxis\": {\"gridcolor\": \"#506784\", \"linecolor\": \"#506784\", \"ticks\": \"\"}}, \"title\": {\"font\": {\"size\": 24}, \"x\": 0.05}, \"updatemenudefaults\": {\"bgcolor\": \"#506784\", \"borderwidth\": 0}, \"xaxis\": {\"automargin\": true, \"gridcolor\": \"#DFE8F3\", \"linecolor\": \"#A2B1C6\", \"tickfont\": {\"color\": \"#2a3f5f\", \"family\": \"InterstateMono\", \"size\": 10}, \"ticks\": \"\", \"title\": {\"font\": {\"family\": \"Plain\", \"size\": 18}}, \"zerolinecolor\": \"#DFE8F3\", \"zerolinewidth\": 2}, \"yaxis\": {\"automargin\": true, \"gridcolor\": \"#DFE8F3\", \"linecolor\": \"#A2B1C6\", \"tickfont\": {\"color\": \"#2a3f5f\", \"family\": \"InterstateMono\", \"size\": 10}, \"ticks\": \"\", \"title\": {\"font\": {\"family\": \"plain\", \"size\": 18}}, \"zerolinecolor\": \"#DFE8F3\", \"zerolinewidth\": 2}}}, \"title\": {\"text\": \"Missing Values per Column\"}, \"xaxis\": {\"title\": {\"text\": \"Column name\"}}, \"yaxis\": {\"tickformat\": \"%\", \"title\": {\"text\": \"Rate of Missing Values\"}}},                        {\"responsive\": true}                    ).then(function(){\n",
       "                            \n",
       "var gd = document.getElementById('4b004688-2210-46d1-9c1a-a6482f2e3885');\n",
       "var x = new MutationObserver(function (mutations, observer) {{\n",
       "        var display = window.getComputedStyle(gd).display;\n",
       "        if (!display || display === 'none') {{\n",
       "            console.log([gd, 'removed!']);\n",
       "            Plotly.purge(gd);\n",
       "            observer.disconnect();\n",
       "        }}\n",
       "}});\n",
       "\n",
       "// Listen for the removal of the full notebook cells\n",
       "var notebookContainer = gd.closest('#notebook-container');\n",
       "if (notebookContainer) {{\n",
       "    x.observe(notebookContainer, {childList: true});\n",
       "}}\n",
       "\n",
       "// Listen for the clearing of the current output cell\n",
       "var outputEl = gd.closest('.output');\n",
       "if (outputEl) {{\n",
       "    x.observe(outputEl, {childList: true});\n",
       "}}\n",
       "\n",
       "                        })                };                });            </script>        </div>"
      ]
     },
     "metadata": {},
     "output_type": "display_data"
    }
   ],
   "source": [
    "fig = plot_missing_values(azdias[azdias_missing_attr])\n",
    "fig.show()"
   ]
  },
  {
   "cell_type": "markdown",
   "metadata": {},
   "source": [
    "## Part 0.3 Store unknown value codes list to file\n",
    "\n",
    "I can use this list of `attributes -> Unknow Value Code` for a future cleaning process. "
   ]
  },
  {
   "cell_type": "code",
   "execution_count": 49,
   "metadata": {},
   "outputs": [],
   "source": [
    "value_unknown_codes.to_csv('value_unknown_codes.csv', index=False)"
   ]
  },
  {
   "cell_type": "markdown",
   "metadata": {},
   "source": [
    "## Row based cleaning \n",
    "\n",
    "Next we will look for rows that are missing data.  If a single row is missing most of the data fields it won't help me make predictions.\n",
    "\n",
    "First I will plot a histogram to see the distribution of missing values per row. \n",
    "\n",
    "There are 366 columns in the DataFrame. I will count the missing values in each row and look for an obivous pattern. \n",
    "\n",
    "As our data set was built from serveral sources. It is likely that certain individuals might be missing an entire portion of the columns. This would present a pattern."
   ]
  },
  {
   "cell_type": "code",
   "execution_count": 50,
   "metadata": {},
   "outputs": [
    {
     "data": {
      "text/plain": [
       "366"
      ]
     },
     "execution_count": 50,
     "metadata": {},
     "output_type": "execute_result"
    }
   ],
   "source": [
    "len(azdias.columns)"
   ]
  },
  {
   "cell_type": "code",
   "execution_count": 51,
   "metadata": {},
   "outputs": [],
   "source": [
    "rownulls = azdias.isnull().sum(axis=1) \n",
    "rownullsmax = rownulls.max()"
   ]
  },
  {
   "cell_type": "code",
   "execution_count": 52,
   "metadata": {},
   "outputs": [],
   "source": [
    "rownulls = np.histogram(rownulls, bins=range(0, rownulls.max(), 1))"
   ]
  },
  {
   "cell_type": "code",
   "execution_count": 53,
   "metadata": {},
   "outputs": [
    {
     "data": {
      "text/html": [
       "<div>                            <div id=\"d9e2066c-7fdc-4c4e-9129-2506172ebf1c\" class=\"plotly-graph-div\" style=\"height:525px; width:100%;\"></div>            <script type=\"text/javascript\">                require([\"plotly\"], function(Plotly) {                    window.PLOTLYENV=window.PLOTLYENV || {};                                    if (document.getElementById(\"d9e2066c-7fdc-4c4e-9129-2506172ebf1c\")) {                    Plotly.newPlot(                        \"d9e2066c-7fdc-4c4e-9129-2506172ebf1c\",                        [{\"type\": \"bar\", \"x\": [0, 1, 2, 3, 4, 5, 6, 7, 8, 9, 10, 11, 12, 13, 14, 15, 16, 17, 18, 19, 20, 21, 22, 23, 24, 25, 26, 27, 28, 29, 30, 31, 32, 33, 34, 35, 36, 37, 38, 39, 40, 41, 42, 43, 44, 45, 46, 47, 48, 49, 50, 51, 52, 53, 54, 55, 56, 57, 58, 59, 60, 61, 62, 63, 64, 65, 66, 67, 68, 69, 70, 71, 72, 73, 74, 75, 76, 77, 78, 79, 80, 81, 82, 83, 84, 85, 86, 87, 88, 89, 90, 91, 92, 93, 94, 95, 96, 97, 98, 99, 100, 101, 102, 103, 104, 105, 106, 107, 108, 109, 110, 111, 112, 113, 114, 115, 116, 117, 118, 119, 120, 121, 122, 123, 124, 125, 126, 127, 128, 129, 130, 131, 132, 133, 134, 135, 136, 137, 138, 139, 140, 141, 142, 143, 144, 145, 146, 147, 148, 149, 150, 151, 152, 153, 154, 155, 156, 157, 158, 159, 160, 161, 162, 163, 164, 165, 166, 167, 168, 169, 170, 171, 172, 173, 174, 175, 176, 177, 178, 179, 180, 181, 182, 183, 184, 185, 186, 187, 188, 189, 190, 191, 192, 193, 194, 195, 196, 197, 198, 199, 200, 201, 202, 203, 204, 205, 206, 207, 208, 209, 210, 211, 212, 213, 214, 215, 216, 217, 218, 219, 220, 221, 222, 223, 224, 225, 226, 227, 228, 229, 230, 231, 232, 233, 234, 235, 236, 237, 238, 239, 240, 241, 242, 243, 244, 245, 246, 247, 248, 249, 250, 251, 252, 253, 254, 255, 256, 257, 258, 259, 260, 261, 262, 263, 264, 265, 266, 267, 268, 269, 270, 271, 272, 273, 274, 275, 276, 277, 278, 279, 280, 281, 282, 283, 284, 285, 286, 287, 288, 289, 290, 291, 292, 293, 294, 295, 296, 297, 298, 299, 300, 301, 302, 303, 304, 305, 306, 307, 308, 309, 310, 311, 312, 313, 314, 315, 316, 317, 318, 319, 320, 321, 322], \"y\": [0, 0, 0, 0, 0, 0, 0, 0, 0, 0, 0, 1, 1, 7, 19, 25, 55, 95, 159, 235, 352, 477, 698, 908, 1169, 1429, 1748, 2084, 2510, 2819, 3320, 3778, 4381, 5146, 5813, 6592, 7404, 8373, 9249, 10111, 11313, 12119, 12904, 13789, 14716, 15453, 15950, 16627, 17040, 17156, 17682, 17571, 17912, 17972, 17793, 17647, 17310, 17286, 17330, 17258, 17256, 17233, 18152, 17658, 18672, 19141, 17874, 15111, 13078, 7929, 2615, 1708, 1214, 970, 1393, 9561, 26634, 25281, 40879, 34005, 6144, 5181, 3259, 2852, 5384, 3918, 818, 447, 237, 194, 195, 197, 200, 194, 227, 267, 328, 388, 473, 586, 601, 656, 695, 727, 814, 888, 993, 969, 1060, 1065, 1145, 1189, 1197, 1175, 1205, 1237, 1205, 1199, 1211, 1251, 1210, 1209, 1244, 1199, 1162, 1166, 1105, 966, 833, 703, 598, 586, 690, 1114, 1066, 1108, 1602, 1688, 634, 541, 566, 463, 874, 684, 288, 603, 246, 148, 147, 171, 153, 144, 168, 79, 38, 51, 31, 40, 67, 29, 29, 38, 39, 39, 48, 46, 64, 51, 69, 87, 82, 80, 86, 89, 84, 85, 98, 103, 122, 123, 109, 132, 123, 131, 152, 114, 127, 140, 169, 166, 133, 146, 138, 59, 63, 96, 23, 36, 83, 247, 285, 491, 518, 78, 84, 65, 66, 152, 58, 23, 21, 11, 17, 13, 7, 11, 16, 28, 19, 30, 34, 43, 57, 63, 69, 75, 91, 115, 96, 122, 144, 147, 163, 193, 188, 191, 186, 200, 200, 200, 199, 199, 229, 207, 225, 217, 211, 238, 222, 232, 189, 221, 232, 194, 268, 266, 286, 264, 308, 342, 437, 404, 368, 416, 404, 560, 509, 438, 614, 519, 504, 538, 502, 500, 518, 448, 513, 479, 459, 443, 438, 431, 438, 418, 467, 526, 504, 407, 396, 342, 205, 42, 25, 26, 37, 64, 519, 815, 590, 1248, 1033, 80, 57, 47, 254, 12, 1, 0, 2, 0, 1, 1, 0, 2, 0, 0, 0, 27921, 45580, 4, 7, 3]}],                        {\"showlegend\": false, \"template\": {\"layout\": {\"annotationdefaults\": {\"arrowcolor\": \"#f2f5fa\", \"arrowhead\": 0, \"arrowwidth\": 1}, \"coloraxis\": {\"colorbar\": {\"outlinewidth\": 0, \"ticks\": \"\"}}, \"colorscale\": {\"diverging\": [[0, \"#8e0152\"], [0.1, \"#c51b7d\"], [0.2, \"#de77ae\"], [0.3, \"#f1b6da\"], [0.4, \"#fde0ef\"], [0.5, \"#f7f7f7\"], [0.6, \"#e6f5d0\"], [0.7, \"#b8e186\"], [0.8, \"#7fbc41\"], [0.9, \"#4d9221\"], [1, \"#276419\"]], \"sequential\": [[0.0, \"#0d0887\"], [0.1111111111111111, \"#46039f\"], [0.2222222222222222, \"#7201a8\"], [0.3333333333333333, \"#9c179e\"], [0.4444444444444444, \"#bd3786\"], [0.5555555555555556, \"#d8576b\"], [0.6666666666666666, \"#ed7953\"], [0.7777777777777778, \"#fb9f3a\"], [0.8888888888888888, \"#fdca26\"], [1.0, \"#f0f921\"]], \"sequentialminus\": [[0.0, \"#0d0887\"], [0.1111111111111111, \"#46039f\"], [0.2222222222222222, \"#7201a8\"], [0.3333333333333333, \"#9c179e\"], [0.4444444444444444, \"#bd3786\"], [0.5555555555555556, \"#d8576b\"], [0.6666666666666666, \"#ed7953\"], [0.7777777777777778, \"#fb9f3a\"], [0.8888888888888888, \"#fdca26\"], [1.0, \"#f0f921\"]]}, \"colorway\": [\"rgba(0, 203, 166, 0.7)\", \"rgba(168, 168, 168, 0.7)\", \"#19d3f3\", \"#00cc96\", \"#ab63fa\", \"#00CBA6\", \"#FF6692\", \"#B6E880\", \"#FF97FF\", \"#FECB52\"], \"font\": {\"color\": \"#2a3f5f\", \"family\": \"plain\"}, \"geo\": {\"bgcolor\": \"black\", \"lakecolor\": \"white\", \"landcolor\": \"white\", \"showlakes\": true, \"showland\": true, \"subunitcolor\": \"#506784\"}, \"hoverlabel\": {\"align\": \"left\"}, \"hovermode\": \"closest\", \"images\": [{\"layer\": \"below\", \"opacity\": 0.05, \"sizex\": 0.7, \"sizey\": 0.7, \"source\": \"https://product-derrick.s3.amazonaws.com/logoWhite.png\", \"x\": 0.15, \"xref\": \"paper\", \"y\": 0.75, \"yref\": \"paper\"}], \"mapbox\": {\"style\": \"light\"}, \"paper_bgcolor\": \"white\", \"plot_bgcolor\": \"white\", \"polar\": {\"angularaxis\": {\"gridcolor\": \"#506784\", \"linecolor\": \"#506784\", \"ticks\": \"\"}, \"bgcolor\": \"white\", \"radialaxis\": {\"gridcolor\": \"#506784\", \"linecolor\": \"#506784\", \"ticks\": \"\"}}, \"scene\": {\"xaxis\": {\"backgroundcolor\": \"white\", \"gridcolor\": \"#506784\", \"gridwidth\": 2, \"linecolor\": \"#506784\", \"showbackground\": true, \"ticks\": \"\", \"zerolinecolor\": \"#C8D4E3\"}, \"yaxis\": {\"backgroundcolor\": \"white\", \"gridcolor\": \"#506784\", \"gridwidth\": 2, \"linecolor\": \"#506784\", \"showbackground\": true, \"ticks\": \"\", \"zerolinecolor\": \"#C8D4E3\"}, \"zaxis\": {\"backgroundcolor\": \"rgb(17,17,17)\", \"gridcolor\": \"#506784\", \"gridwidth\": 2, \"linecolor\": \"#506784\", \"showbackground\": true, \"ticks\": \"\", \"zerolinecolor\": \"#C8D4E3\"}}, \"shapedefaults\": {\"line\": {\"color\": \"#f2f5fa\"}}, \"sliderdefaults\": {\"bgcolor\": \"#C8D4E3\", \"bordercolor\": \"rgb(17,17,17)\", \"borderwidth\": 1, \"tickwidth\": 0}, \"ternary\": {\"aaxis\": {\"gridcolor\": \"#506784\", \"linecolor\": \"#506784\", \"ticks\": \"\"}, \"baxis\": {\"gridcolor\": \"#506784\", \"linecolor\": \"#506784\", \"ticks\": \"\"}, \"bgcolor\": \"rgb(17,17,17)\", \"caxis\": {\"gridcolor\": \"#506784\", \"linecolor\": \"#506784\", \"ticks\": \"\"}}, \"title\": {\"font\": {\"size\": 24}, \"x\": 0.05}, \"updatemenudefaults\": {\"bgcolor\": \"#506784\", \"borderwidth\": 0}, \"xaxis\": {\"automargin\": true, \"gridcolor\": \"#DFE8F3\", \"linecolor\": \"#A2B1C6\", \"tickfont\": {\"color\": \"#2a3f5f\", \"family\": \"InterstateMono\", \"size\": 10}, \"ticks\": \"\", \"title\": {\"font\": {\"family\": \"Plain\", \"size\": 18}}, \"zerolinecolor\": \"#DFE8F3\", \"zerolinewidth\": 2}, \"yaxis\": {\"automargin\": true, \"gridcolor\": \"#DFE8F3\", \"linecolor\": \"#A2B1C6\", \"tickfont\": {\"color\": \"#2a3f5f\", \"family\": \"InterstateMono\", \"size\": 10}, \"ticks\": \"\", \"title\": {\"font\": {\"family\": \"plain\", \"size\": 18}}, \"zerolinecolor\": \"#DFE8F3\", \"zerolinewidth\": 2}}}, \"title\": {\"text\": \"Distribution of Missing Values per Row\"}, \"xaxis\": {\"title\": {\"text\": \"Number of Missing Values\"}}, \"yaxis\": {\"title\": {\"text\": \"Count of Rows\"}}},                        {\"responsive\": true}                    ).then(function(){\n",
       "                            \n",
       "var gd = document.getElementById('d9e2066c-7fdc-4c4e-9129-2506172ebf1c');\n",
       "var x = new MutationObserver(function (mutations, observer) {{\n",
       "        var display = window.getComputedStyle(gd).display;\n",
       "        if (!display || display === 'none') {{\n",
       "            console.log([gd, 'removed!']);\n",
       "            Plotly.purge(gd);\n",
       "            observer.disconnect();\n",
       "        }}\n",
       "}});\n",
       "\n",
       "// Listen for the removal of the full notebook cells\n",
       "var notebookContainer = gd.closest('#notebook-container');\n",
       "if (notebookContainer) {{\n",
       "    x.observe(notebookContainer, {childList: true});\n",
       "}}\n",
       "\n",
       "// Listen for the clearing of the current output cell\n",
       "var outputEl = gd.closest('.output');\n",
       "if (outputEl) {{\n",
       "    x.observe(outputEl, {childList: true});\n",
       "}}\n",
       "\n",
       "                        })                };                });            </script>        </div>"
      ]
     },
     "metadata": {},
     "output_type": "display_data"
    }
   ],
   "source": [
    "fig = go.Figure()\n",
    "fig.add_trace(\n",
    "    go.Bar(\n",
    "        x=rownulls[1], y=rownulls[0]\n",
    "    ))\n",
    "fig.update_xaxes(title='Number of Missing Values')\n",
    "fig.update_yaxes(title='Count of Rows')\n",
    "fig.update_layout(showlegend=False, title = 'Distribution of Missing Values per Row')"
   ]
  },
  {
   "cell_type": "code",
   "execution_count": 54,
   "metadata": {},
   "outputs": [],
   "source": [
    "# py.plot(fig, filename = 'udsnd_4_missing', auto_open=False)"
   ]
  },
  {
   "cell_type": "markdown",
   "metadata": {},
   "source": [
    "There are three \"shapes\" visible in the distrobution. The first shape on the right has a steady curve. The next two shapes are skyscraper like spikes in count of individuals who are all missing that same amount of values in the row. The first curved shape to the left indicates that all of these individuals have data present in nearly 300 columns and likely some from all the disparate sources but the gradual curve of fewer and fewer missing data above 300 columns leads me to believe that the remaining data fields are truely `not applicable` such as \"Age_Child_4\". Fewer and fewer individuals with have data on a fourth child, becuase they have no fourth child and thus the `NaN` here is a value.\n",
    "\n",
    "Alternatively, the large spikes both lead me to believe that individuals in these bins are missing all the data from an single data source. \n",
    "\n",
    "For now, I will remove rows that represent the first spike (and a little further). The second spike of missing data may present itself as a pattern in it's value in the future PCA portion. If so, I can re-adjust."
   ]
  },
  {
   "cell_type": "code",
   "execution_count": 55,
   "metadata": {},
   "outputs": [
    {
     "name": "stdout",
     "output_type": "stream",
     "text": [
      "After left spike: 73517\n",
      "Middle ground: 106189\n",
      "Before second spike: 154831\n",
      "After second spike: 320824\n"
     ]
    }
   ],
   "source": [
    "# A very crude way to count the number of individuals that would be removed by threshold: \n",
    "temp_len = len(azdias)\n",
    "for i in [(50, \"After left spike\"), (215, 'Middle ground'), (278, \"Before second spike\"), (293, 'After second spike')]:\n",
    "    print(f\"{i[1]}: {temp_len - len(azdias.dropna(axis=0, how='any', thresh=i[0]))}\" )"
   ]
  },
  {
   "cell_type": "code",
   "execution_count": 56,
   "metadata": {},
   "outputs": [
    {
     "name": "stdout",
     "output_type": "stream",
     "text": [
      "570397\n",
      "736390\n"
     ]
    }
   ],
   "source": [
    "print(len(azdias.dropna(axis=0, how='any', thresh=293)))\n",
    "print(len(azdias.dropna(axis=0, how='any', thresh=278)))"
   ]
  },
  {
   "cell_type": "code",
   "execution_count": 57,
   "metadata": {},
   "outputs": [
    {
     "name": "stdout",
     "output_type": "stream",
     "text": [
      "0.6400174591936232\n",
      "0.8262709249445424\n"
     ]
    }
   ],
   "source": [
    "print(len(azdias.dropna(axis=0, how='any', thresh=293))/temp_len)\n",
    "print(len(azdias.dropna(axis=0, how='any', thresh=278))/temp_len)"
   ]
  },
  {
   "cell_type": "markdown",
   "metadata": {},
   "source": [
    "Tough call. 160,000 rows will be lost in order to be sure that each data field is truly represented. In the more strict scenario we are left with 64% of the data, but this will likely produce better results.  \n",
    "\n",
    "**In the real world** part of this decision would be made by understanding the business case for the value of predicitons in the future. Is it more important to make a less accurate prediction with fewer data, or a more accurate prediction with fewer overall predictions possible due to missing data? \n",
    "\n",
    "I will start the process by including more rows and set the threshold at **278 columns**. Then, drop individual columns with a similar ratio of missing values per row. "
   ]
  },
  {
   "cell_type": "code",
   "execution_count": 58,
   "metadata": {},
   "outputs": [],
   "source": [
    "azdias.dropna(axis=0, how='any', thresh=278, inplace=True)"
   ]
  },
  {
   "cell_type": "code",
   "execution_count": 59,
   "metadata": {},
   "outputs": [
    {
     "data": {
      "text/html": [
       "<div>                            <div id=\"146ddf65-7742-42df-a569-f4997e63209a\" class=\"plotly-graph-div\" style=\"height:525px; width:100%;\"></div>            <script type=\"text/javascript\">                require([\"plotly\"], function(Plotly) {                    window.PLOTLYENV=window.PLOTLYENV || {};                                    if (document.getElementById(\"146ddf65-7742-42df-a569-f4997e63209a\")) {                    Plotly.newPlot(                        \"146ddf65-7742-42df-a569-f4997e63209a\",                        [{\"type\": \"bar\", \"x\": [\"ALTER_KIND4\", \"TITEL_KZ\", \"ALTER_KIND3\", \"D19_VERSI_ONLINE_DATUM\", \"D19_TELKO_ONLINE_DATUM\", \"D19_BANKEN_LOKAL\", \"D19_BANKEN_OFFLINE_DATUM\", \"ALTER_KIND2\", \"D19_VERSI_OFFLINE_DATUM\", \"D19_DIGIT_SERV\", \"D19_TELKO_ANZ_12\", \"D19_BIO_OEKO\", \"D19_TIERARTIKEL\", \"D19_GARTEN\", \"D19_NAHRUNGSERGAENZUNG\", \"D19_LEBENSMITTEL\", \"D19_WEIN_FEINKOST\", \"D19_BANKEN_ANZ_12\", \"D19_ENERGIE\", \"D19_TELKO_ANZ_24\", \"D19_BANKEN_REST\", \"D19_VERSI_ANZ_12\", \"D19_TELKO_OFFLINE_DATUM\", \"ALTER_KIND1\", \"D19_BILDUNG\", \"D19_BEKLEIDUNG_GEH\", \"D19_RATGEBER\", \"D19_SAMMELARTIKEL\", \"D19_BANKEN_ANZ_24\", \"D19_FREIZEIT\", \"D19_BANKEN_GROSS\", \"D19_VERSI_ANZ_24\", \"D19_SCHUHE\", \"D19_TELKO_REST\", \"D19_HANDWERK\", \"D19_DROGERIEARTIKEL\", \"D19_KINDERARTIKEL\", \"D19_LOTTO\", \"D19_KOSMETIK\", \"D19_VERSAND_REST\", \"D19_REISEN\", \"D19_BANKEN_DIREKT\", \"D19_BANKEN_ONLINE_DATUM\", \"D19_TELKO_MOBILE\", \"D19_HAUS_DEKO\", \"D19_BEKLEIDUNG_REST\", \"D19_BANKEN_DATUM\", \"AGER_TYP\", \"D19_TELKO_DATUM\", \"D19_VERSI_DATUM\", \"D19_VERSICHERUNGEN\", \"EXTSEL992\", \"D19_VERSAND_ANZ_12\", \"D19_VERSAND_OFFLINE_DATUM\", \"D19_TECHNIK\", \"D19_BUCH_CD\", \"D19_VOLLSORTIMENT\", \"D19_GESAMT_ANZ_12\", \"KK_KUNDENTYP\", \"D19_VERSAND_ANZ_24\", \"D19_GESAMT_OFFLINE_DATUM\", \"D19_GESAMT_ANZ_24\", \"D19_SONSTIGE\", \"D19_VERSAND_ONLINE_DATUM\", \"D19_GESAMT_ONLINE_DATUM\", \"KBA05_BAUMAX\", \"D19_VERSAND_DATUM\", \"D19_GESAMT_DATUM\", \"ALTER_HH\", \"ALTERSKATEGORIE_FEIN\", \"D19_LETZTER_KAUF_BRANCHE\", \"D19_BANKEN_ONLINE_QUOTE_12\", \"D19_SOZIALES\", \"D19_VERSAND_ONLINE_QUOTE_12\", \"D19_GESAMT_ONLINE_QUOTE_12\", \"D19_KONSUMTYP_MAX\", \"D19_TELKO_ONLINE_QUOTE_12\", \"D19_KONSUMTYP\", \"D19_VERSI_ONLINE_QUOTE_12\", \"W_KEIT_KIND_HH\", \"KKK\", \"REGIOTYP\", \"VERS_TYP\", \"SHOPPER_TYP\", \"HEALTH_TYP\", \"NATIONALITAET_KZ\", \"HH_DELTA_FLAG\", \"PRAEGENDE_JUGENDJAHRE\", \"VHN\", \"RT_UEBERGROESSE\", \"RELAT_AB\", \"KBA05_HERSTTEMP\", \"GEMEINDETYP\", \"VERDICHTUNGSRAUM\", \"STRUKTURTYP\", \"ARBEIT\", \"ORTSGR_KLS9\", \"CJT_TYP_1\", \"CJT_GESAMTTYP\", \"GFK_URLAUBERTYP\", \"CJT_KATALOGNUTZER\", \"ONLINE_AFFINITAET\", \"CJT_TYP_2\", \"CJT_TYP_3\", \"RT_KEIN_ANREIZ\", \"CJT_TYP_4\", \"CJT_TYP_5\", \"RETOURTYP_BK_S\", \"LP_FAMILIE_FEIN\", \"LP_STATUS_FEIN\", \"LP_LEBENSPHASE_FEIN\", \"LP_FAMILIE_GROB\", \"CJT_TYP_6\", \"RT_SCHNAEPPCHEN\", \"LP_STATUS_GROB\", \"LP_LEBENSPHASE_GROB\", \"PLZ8_ANTG4\", \"PLZ8_ANTG3\", \"PLZ8_HHZ\", \"PLZ8_GBZ\", \"PLZ8_BAUMAX\", \"PLZ8_ANTG1\", \"PLZ8_ANTG2\", \"ANZ_HH_TITEL\", \"CAMEO_INTL_2015\", \"CAMEO_DEUG_2015\", \"UMFELD_JUNG\", \"UMFELD_ALT\", \"CAMEO_DEU_2015\", \"VK_DHT4A\", \"VK_DISTANZ\", \"VK_ZG11\", \"INNENSTADT\", \"EWDICHTE\", \"BALLRAUM\", \"KBA05_AUTOQUOT\", \"KBA05_SEG6\", \"KBA05_MOD4\", \"KBA05_MOD8\", \"KBA05_MOTOR\", \"KBA05_SEG1\", \"KBA05_SEG10\", \"KBA05_MOD3\", \"KBA05_SEG2\", \"KBA05_SEG3\", \"KBA05_SEG4\", \"KBA05_SEG5\", \"KBA05_ZUL4\", \"KBA05_SEG7\", \"KBA05_SEG8\", \"KBA05_SEG9\", \"KBA05_VORB0\", \"KBA05_VORB1\", \"KBA05_VORB2\", \"KBA05_ZUL1\", \"KBA05_ZUL2\", \"KBA05_ZUL3\", \"KBA05_MOD1\", \"KBA05_MOD2\", \"KBA05_CCM2\", \"KBA05_MAXVORB\", \"KBA05_KRSAQUOT\", \"KBA05_MAXSEG\", \"KBA05_ALTER2\", \"KBA05_ALTER3\", \"KBA05_ALTER4\", \"KBA05_CCM1\", \"KBA05_CCM3\", \"KBA05_CCM4\", \"KBA05_DIESEL\", \"KBA05_FRAU\", \"KBA05_HERST1\", \"KBA05_HERST2\", \"KBA05_HERST3\", \"KBA05_HERST4\", \"KBA05_HERST5\", \"KBA05_ALTER1\", \"KBA05_KRSHERST1\", \"KBA05_MAXHERST\", \"KBA05_KW2\", \"KBA05_KW3\", \"KBA05_MAXAH\", \"KBA05_KRSZUL\", \"KBA05_MAXBJ\", \"KBA05_KRSHERST2\", \"KBA05_KRSVAN\", \"KBA05_KRSOBER\", \"KBA05_KRSKLEIN\", \"KBA05_KRSHERST3\", \"KBA05_KW1\", \"KBA05_MOTRAD\", \"KBA05_ANHANG\", \"MOBI_REGIO\", \"KBA05_ANTG1\", \"KBA05_ANTG3\", \"KBA05_ANTG4\", \"KBA05_ANTG2\", \"KBA05_GBZ\", \"KONSUMNAEHE\", \"KONSUMZELLE\", \"GEBAEUDETYP_RASTER\", \"FIRMENDICHTE\", \"KBA13_SEG_SONSTIGE\", \"KBA13_SEG_SPORTWAGEN\", \"KBA13_SEG_UTILITIES\", \"KBA13_SEG_KLEINST\", \"KBA13_SEG_OBEREMITTELKLASSE\", \"KBA13_SEG_VAN\", \"KBA13_SEG_WOHNMOBILE\", \"KBA13_SITZE_4\", \"KBA13_SITZE_5\", \"KBA13_SITZE_6\", \"KBA13_TOYOTA\", \"KBA13_SEG_OBERKLASSE\", \"KBA13_KW_80\", \"KBA13_SEG_GROSSRAUMVANS\", \"KBA13_NISSAN\", \"KBA13_SEG_GELAENDEWAGEN\", \"KBA13_SEG_KLEINWAGEN\", \"KBA13_RENAULT\", \"KBA13_PEUGEOT\", \"KBA13_OPEL\", \"KBA13_VORB_1\", \"KBA13_MOTOR\", \"KBA13_SEG_MITTELKLASSE\", \"KBA13_MERCEDES\", \"KBA13_SEG_KOMPAKTKLASSE\", \"KBA13_MAZDA\", \"KBA13_SEG_MINIVANS\", \"KBA13_KW_90\", \"KBA13_SEG_MINIWAGEN\", \"KBA13_VORB_0\", \"VHA\", \"KBA13_VORB_1_2\", \"KBA13_VORB_2\", \"SEMIO_SOZ\", \"SEMIO_REL\", \"SEMIO_RAT\", \"SEMIO_PFLICHT\", \"SEMIO_MAT\", \"SEMIO_LUST\", \"SEMIO_KULT\", \"SEMIO_KRIT\", \"SEMIO_KAEM\", \"SEMIO_FAM\", \"SEMIO_ERL\", \"SEMIO_DOM\", \"KBA13_KW_61_120\", \"SEMIO_TRADV\", \"OST_WEST_KZ\", \"SEMIO_VERT\", \"SOHO_KZ\", \"MOBI_RASTER\", \"MIN_GEBAEUDEJAHR\", \"UNGLEICHENN_FLAG\", \"WOHNDAUER_2008\", \"WOHNLAGE\", \"KOMBIALTER\", \"ZABEOTYP\", \"ANREDE_KZ\", \"KBA13_VW\", \"KBA13_VORB_3\", \"KBA13_KW_70\", \"LNR\", \"KBA13_KW_60\", \"KBA13_BJ_2006\", \"KBA13_ANTG2\", \"KBA13_ANTG3\", \"KBA13_ANTG4\", \"KBA13_ANZAHL_PKW\", \"KBA13_AUDI\", \"KBA13_AUTOQUOTE\", \"KBA13_BAUMAX\", \"KBA13_BJ_1999\", \"KBA13_BJ_2000\", \"KBA13_BJ_2004\", \"KBA13_BJ_2008\", \"KBA13_ALTERHALTER_61\", \"KBA13_BJ_2009\", \"KBA13_BMW\", \"KBA13_CCM_0_1400\", \"KBA13_CCM_1000\", \"KBA13_CCM_1200\", \"KBA13_CCM_1400\", \"KBA13_CCM_1401_2500\", \"KBA13_CCM_1500\", \"KBA13_CCM_1600\", \"KBA13_CCM_1800\", \"KBA13_ANTG1\", \"KBA13_ALTERHALTER_60\", \"KBA13_KW_50\", \"FINANZ_HAUSBAUER\", \"AKT_DAT_KL\", \"ANZ_HAUSHALTE_AKTIV\", \"ANZ_KINDER\", \"ANZ_PERSONEN\", \"ANZ_STATISTISCHE_HAUSHALTE\", \"ANZ_TITEL\", \"DSL_FLAG\", \"EINGEFUEGT_AM\", \"EINGEZOGENAM_HH_JAHR\", \"FINANZ_ANLEGER\", \"FINANZ_MINIMALIST\", \"KBA13_ALTERHALTER_45\", \"FINANZ_SPARER\", \"FINANZ_UNAUFFAELLIGER\", \"FINANZ_VORSORGER\", \"FINANZTYP\", \"GEBAEUDETYP\", \"GEBURTSJAHR\", \"GREEN_AVANTGARDE\", \"HH_EINKOMMEN_SCORE\", \"KBA05_MODTEMP\", \"KBA13_ALTERHALTER_30\", \"KBA13_CCM_2000\", \"KBA13_CCM_2500\", \"KBA13_CCM_2501\", \"KBA13_KRSHERST_BMW_BENZ\", \"KBA13_KMH_110\", \"KBA13_KMH_140\", \"KBA13_KMH_140_210\", \"KBA13_KMH_180\", \"KBA13_KMH_210\", \"KBA13_KMH_211\", \"KBA13_KMH_250\", \"KBA13_KMH_251\", \"KBA13_KRSAQUOT\", \"KBA13_KRSHERST_AUDI_VW\", \"KBA13_KRSHERST_FORD_OPEL\", \"KBA13_CCM_3000\", \"KBA13_KRSSEG_KLEIN\", \"KBA13_KRSSEG_OBER\", \"KBA13_KRSSEG_VAN\", \"KBA13_KRSZUL_NEU\", \"KBA13_KW_0_60\", \"KBA13_KW_110\", \"KBA13_KW_120\", \"KBA13_KW_121\", \"KBA13_KW_30\", \"KBA13_KW_40\", \"KBA13_KMH_0_140\", \"KBA13_HHZ\", \"KBA13_HERST_SONST\", \"KBA13_HERST_FORD_OPEL\", \"KBA13_CCM_3001\", \"KBA13_FAB_ASIEN\", \"KBA13_FAB_SONSTIGE\", \"KBA13_FIAT\", \"KBA13_FORD\", \"KBA13_GBZ\", \"KBA13_HALTER_20\", \"KBA13_HALTER_25\", \"KBA13_HALTER_30\", \"KBA13_HALTER_35\", \"KBA13_HALTER_40\", \"KBA13_HALTER_45\", \"KBA13_HALTER_50\", \"KBA13_HALTER_55\", \"KBA13_HALTER_60\", \"KBA13_HALTER_65\", \"KBA13_HALTER_66\", \"KBA13_HERST_ASIEN\", \"KBA13_HERST_AUDI_VW\", \"KBA13_HERST_BMW_BENZ\", \"KBA13_HERST_EUROPA\", \"ALTERSKATEGORIE_GROB\"], \"y\": [0.9985944947650023, 0.9973926859408737, 0.9928584038349244, 0.9908974863862898, 0.9900704789581608, 0.9801871291027852, 0.9756161816428794, 0.9663602167329811, 0.9596070017246296, 0.95932590067763, 0.95923763223292, 0.9539333776938851, 0.9526636700661334, 0.952024063336004, 0.9512405111421937, 0.9349176387512051, 0.9313828270345876, 0.9276375290267386, 0.9238718613778025, 0.920281372642214, 0.9160539931286411, 0.914853542280585, 0.9118103179021986, 0.9052947487065278, 0.9037004847974579, 0.9011515637094475, 0.8945355042844145, 0.887694020831353, 0.8820529882263475, 0.8797444289031627, 0.8709393120493217, 0.8610165808878447, 0.8593435543665721, 0.8475916294354894, 0.8468189410502587, 0.843130678037453, 0.828789092736186, 0.8192710384443026, 0.8189817895408683, 0.8101291435244911, 0.8068279036923369, 0.8017436412770407, 0.800229497956246, 0.7983649968087563, 0.7838292209291272, 0.7595689783946007, 0.740759651814935, 0.7323225464767311, 0.7245780089354825, 0.7185472371976805, 0.7112046605738807, 0.7022583142085036, 0.6937967653009954, 0.6863306128546015, 0.6761892475454583, 0.6692228302937302, 0.6418134412471652, 0.6279675172123467, 0.6278317196051005, 0.602935944268662, 0.593401594263909, 0.5301212672632708, 0.5234169393935278, 0.517612949659827, 0.46356957590407255, 0.45422670052553676, 0.4469180733035484, 0.3427504447371637, 0.28608753513763086, 0.22696804682301497, 0.22155379622211058, 0.22155379622211058, 0.22155379622211058, 0.22155379622211058, 0.22155379622211058, 0.22155379622211058, 0.22155379622211058, 0.22155379622211058, 0.22155379622211058, 0.07349094908947704, 0.055637637664824345, 0.055637637664824345, 0.045842556254158805, 0.045842556254158805, 0.045842556254158805, 0.042355273700077405, 0.041222721655644425, 0.028448240741998126, 0.009776069745651081, 0.005756460571164736, 0.005186110620730862, 0.0051358655060497835, 0.005077472534933934, 0.005077472534933934, 0.005077472534933934, 0.005076114558861473, 0.005076114558861473, 0.004807235296514075, 0.004807235296514075, 0.004807235296514075, 0.004807235296514075, 0.004807235296514075, 0.004807235296514075, 0.004807235296514075, 0.004807235296514075, 0.004807235296514075, 0.004807235296514075, 0.004807235296514075, 0.004807235296514075, 0.004807235296514075, 0.004807235296514075, 0.004807235296514075, 0.004807235296514075, 0.004807235296514075, 0.004807235296514075, 0.004807235296514075, 0.004603538885644835, 0.004603538885644835, 0.004603538885644835, 0.004603538885644835, 0.004603538885644835, 0.004603538885644835, 0.004603538885644835, 0.004498974728065291, 0.004413422235500211, 0.004413422235500211, 0.004162196662094814, 0.004162196662094814, 0.0040291150069935765, 0.001947337687909939, 0.001947337687909939, 0.001947337687909939, 0.0006409647062018768, 0.0006409647062018768, 0.0006409647062018768, 0.000256657477695243, 0.000249867597332935, 0.000249867597332935, 0.000249867597332935, 0.000249867597332935, 0.000249867597332935, 0.000249867597332935, 0.000249867597332935, 0.000249867597332935, 0.000249867597332935, 0.000249867597332935, 0.000249867597332935, 0.000249867597332935, 0.000249867597332935, 0.000249867597332935, 0.000249867597332935, 0.000249867597332935, 0.000249867597332935, 0.000249867597332935, 0.000249867597332935, 0.000249867597332935, 0.000249867597332935, 0.000249867597332935, 0.000249867597332935, 0.000249867597332935, 0.000249867597332935, 0.000249867597332935, 0.000249867597332935, 0.000249867597332935, 0.000249867597332935, 0.000249867597332935, 0.000249867597332935, 0.000249867597332935, 0.000249867597332935, 0.000249867597332935, 0.000249867597332935, 0.000249867597332935, 0.000249867597332935, 0.000249867597332935, 0.000249867597332935, 0.000249867597332935, 0.000249867597332935, 0.000249867597332935, 0.000249867597332935, 0.000249867597332935, 0.000249867597332935, 0.000249867597332935, 0.000249867597332935, 0.000249867597332935, 0.000249867597332935, 0.000249867597332935, 0.000249867597332935, 0.000249867597332935, 0.000249867597332935, 0.000249867597332935, 0.00024036176482570377, 0.00022813998017354935, 0.0001615991526229308, 0.0001615991526229308, 0.0001615991526229308, 0.0001615991526229308, 0.0001615991526229308, 0.0001615991526229308, 6.110892326077214e-05, 6.7898803623080164e-06, 6.7898803623080164e-06, 6.7898803623080164e-06, 0.0, 0.0, 0.0, 0.0, 0.0, 0.0, 0.0, 0.0, 0.0, 0.0, 0.0, 0.0, 0.0, 0.0, 0.0, 0.0, 0.0, 0.0, 0.0, 0.0, 0.0, 0.0, 0.0, 0.0, 0.0, 0.0, 0.0, 0.0, 0.0, 0.0, 0.0, 0.0, 0.0, 0.0, 0.0, 0.0, 0.0, 0.0, 0.0, 0.0, 0.0, 0.0, 0.0, 0.0, 0.0, 0.0, 0.0, 0.0, 0.0, 0.0, 0.0, 0.0, 0.0, 0.0, 0.0, 0.0, 0.0, 0.0, 0.0, 0.0, 0.0, 0.0, 0.0, 0.0, 0.0, 0.0, 0.0, 0.0, 0.0, 0.0, 0.0, 0.0, 0.0, 0.0, 0.0, 0.0, 0.0, 0.0, 0.0, 0.0, 0.0, 0.0, 0.0, 0.0, 0.0, 0.0, 0.0, 0.0, 0.0, 0.0, 0.0, 0.0, 0.0, 0.0, 0.0, 0.0, 0.0, 0.0, 0.0, 0.0, 0.0, 0.0, 0.0, 0.0, 0.0, 0.0, 0.0, 0.0, 0.0, 0.0, 0.0, 0.0, 0.0, 0.0, 0.0, 0.0, 0.0, 0.0, 0.0, 0.0, 0.0, 0.0, 0.0, 0.0, 0.0, 0.0, 0.0, 0.0, 0.0, 0.0, 0.0, 0.0, 0.0, 0.0, 0.0, 0.0, 0.0, 0.0, 0.0, 0.0, 0.0, 0.0, 0.0, 0.0, 0.0, 0.0, 0.0, 0.0, 0.0, 0.0, 0.0, 0.0, 0.0, 0.0, 0.0, 0.0, 0.0, 0.0, 0.0, 0.0, 0.0, 0.0, 0.0, 0.0]}],                        {\"template\": {\"layout\": {\"annotationdefaults\": {\"arrowcolor\": \"#f2f5fa\", \"arrowhead\": 0, \"arrowwidth\": 1}, \"coloraxis\": {\"colorbar\": {\"outlinewidth\": 0, \"ticks\": \"\"}}, \"colorscale\": {\"diverging\": [[0, \"#8e0152\"], [0.1, \"#c51b7d\"], [0.2, \"#de77ae\"], [0.3, \"#f1b6da\"], [0.4, \"#fde0ef\"], [0.5, \"#f7f7f7\"], [0.6, \"#e6f5d0\"], [0.7, \"#b8e186\"], [0.8, \"#7fbc41\"], [0.9, \"#4d9221\"], [1, \"#276419\"]], \"sequential\": [[0.0, \"#0d0887\"], [0.1111111111111111, \"#46039f\"], [0.2222222222222222, \"#7201a8\"], [0.3333333333333333, \"#9c179e\"], [0.4444444444444444, \"#bd3786\"], [0.5555555555555556, \"#d8576b\"], [0.6666666666666666, \"#ed7953\"], [0.7777777777777778, \"#fb9f3a\"], [0.8888888888888888, \"#fdca26\"], [1.0, \"#f0f921\"]], \"sequentialminus\": [[0.0, \"#0d0887\"], [0.1111111111111111, \"#46039f\"], [0.2222222222222222, \"#7201a8\"], [0.3333333333333333, \"#9c179e\"], [0.4444444444444444, \"#bd3786\"], [0.5555555555555556, \"#d8576b\"], [0.6666666666666666, \"#ed7953\"], [0.7777777777777778, \"#fb9f3a\"], [0.8888888888888888, \"#fdca26\"], [1.0, \"#f0f921\"]]}, \"colorway\": [\"rgba(0, 203, 166, 0.7)\", \"rgba(168, 168, 168, 0.7)\", \"#19d3f3\", \"#00cc96\", \"#ab63fa\", \"#00CBA6\", \"#FF6692\", \"#B6E880\", \"#FF97FF\", \"#FECB52\"], \"font\": {\"color\": \"#2a3f5f\", \"family\": \"plain\"}, \"geo\": {\"bgcolor\": \"black\", \"lakecolor\": \"white\", \"landcolor\": \"white\", \"showlakes\": true, \"showland\": true, \"subunitcolor\": \"#506784\"}, \"hoverlabel\": {\"align\": \"left\"}, \"hovermode\": \"closest\", \"images\": [{\"layer\": \"below\", \"opacity\": 0.05, \"sizex\": 0.7, \"sizey\": 0.7, \"source\": \"https://product-derrick.s3.amazonaws.com/logoWhite.png\", \"x\": 0.15, \"xref\": \"paper\", \"y\": 0.75, \"yref\": \"paper\"}], \"mapbox\": {\"style\": \"light\"}, \"paper_bgcolor\": \"white\", \"plot_bgcolor\": \"white\", \"polar\": {\"angularaxis\": {\"gridcolor\": \"#506784\", \"linecolor\": \"#506784\", \"ticks\": \"\"}, \"bgcolor\": \"white\", \"radialaxis\": {\"gridcolor\": \"#506784\", \"linecolor\": \"#506784\", \"ticks\": \"\"}}, \"scene\": {\"xaxis\": {\"backgroundcolor\": \"white\", \"gridcolor\": \"#506784\", \"gridwidth\": 2, \"linecolor\": \"#506784\", \"showbackground\": true, \"ticks\": \"\", \"zerolinecolor\": \"#C8D4E3\"}, \"yaxis\": {\"backgroundcolor\": \"white\", \"gridcolor\": \"#506784\", \"gridwidth\": 2, \"linecolor\": \"#506784\", \"showbackground\": true, \"ticks\": \"\", \"zerolinecolor\": \"#C8D4E3\"}, \"zaxis\": {\"backgroundcolor\": \"rgb(17,17,17)\", \"gridcolor\": \"#506784\", \"gridwidth\": 2, \"linecolor\": \"#506784\", \"showbackground\": true, \"ticks\": \"\", \"zerolinecolor\": \"#C8D4E3\"}}, \"shapedefaults\": {\"line\": {\"color\": \"#f2f5fa\"}}, \"sliderdefaults\": {\"bgcolor\": \"#C8D4E3\", \"bordercolor\": \"rgb(17,17,17)\", \"borderwidth\": 1, \"tickwidth\": 0}, \"ternary\": {\"aaxis\": {\"gridcolor\": \"#506784\", \"linecolor\": \"#506784\", \"ticks\": \"\"}, \"baxis\": {\"gridcolor\": \"#506784\", \"linecolor\": \"#506784\", \"ticks\": \"\"}, \"bgcolor\": \"rgb(17,17,17)\", \"caxis\": {\"gridcolor\": \"#506784\", \"linecolor\": \"#506784\", \"ticks\": \"\"}}, \"title\": {\"font\": {\"size\": 24}, \"x\": 0.05}, \"updatemenudefaults\": {\"bgcolor\": \"#506784\", \"borderwidth\": 0}, \"xaxis\": {\"automargin\": true, \"gridcolor\": \"#DFE8F3\", \"linecolor\": \"#A2B1C6\", \"tickfont\": {\"color\": \"#2a3f5f\", \"family\": \"InterstateMono\", \"size\": 10}, \"ticks\": \"\", \"title\": {\"font\": {\"family\": \"Plain\", \"size\": 18}}, \"zerolinecolor\": \"#DFE8F3\", \"zerolinewidth\": 2}, \"yaxis\": {\"automargin\": true, \"gridcolor\": \"#DFE8F3\", \"linecolor\": \"#A2B1C6\", \"tickfont\": {\"color\": \"#2a3f5f\", \"family\": \"InterstateMono\", \"size\": 10}, \"ticks\": \"\", \"title\": {\"font\": {\"family\": \"plain\", \"size\": 18}}, \"zerolinecolor\": \"#DFE8F3\", \"zerolinewidth\": 2}}}, \"title\": {\"text\": \"Missing Values per Column\"}, \"xaxis\": {\"title\": {\"text\": \"Column name\"}}, \"yaxis\": {\"tickformat\": \"%\", \"title\": {\"text\": \"Rate of Missing Values\"}}},                        {\"responsive\": true}                    ).then(function(){\n",
       "                            \n",
       "var gd = document.getElementById('146ddf65-7742-42df-a569-f4997e63209a');\n",
       "var x = new MutationObserver(function (mutations, observer) {{\n",
       "        var display = window.getComputedStyle(gd).display;\n",
       "        if (!display || display === 'none') {{\n",
       "            console.log([gd, 'removed!']);\n",
       "            Plotly.purge(gd);\n",
       "            observer.disconnect();\n",
       "        }}\n",
       "}});\n",
       "\n",
       "// Listen for the removal of the full notebook cells\n",
       "var notebookContainer = gd.closest('#notebook-container');\n",
       "if (notebookContainer) {{\n",
       "    x.observe(notebookContainer, {childList: true});\n",
       "}}\n",
       "\n",
       "// Listen for the clearing of the current output cell\n",
       "var outputEl = gd.closest('.output');\n",
       "if (outputEl) {{\n",
       "    x.observe(outputEl, {childList: true});\n",
       "}}\n",
       "\n",
       "                        })                };                });            </script>        </div>"
      ]
     },
     "metadata": {},
     "output_type": "display_data"
    }
   ],
   "source": [
    "# Plot missing values now that rows have been removed.\n",
    "fig = plot_missing_values(azdias)\n",
    "fig.show()\n",
    "# py.plot(fig, filename = 'udsnd_5_missing', auto_open=False)"
   ]
  },
  {
   "cell_type": "markdown",
   "metadata": {},
   "source": [
    "Using Plotly, I can hover over data to see the value of each bar as a tooltip. Thus, I can simply look at the shape of this visual and see the drop off in rate of missing values. The first 'plateau' of values after the slow downward curve on the left are all at 22% approximately. After this 'plateau', the next level of values are at `18%`\n",
    "\n",
    "Seeing the plateau at 22%, leads me to believe a 23% cutoff is appropriate to drop all columns with more missing values than this. "
   ]
  },
  {
   "cell_type": "code",
   "execution_count": 60,
   "metadata": {},
   "outputs": [],
   "source": [
    "temp_col_na = azdias.isna().sum()/len(azdias)\n",
    "temp_col_na = temp_col_na.loc[temp_col_na > .23].index"
   ]
  },
  {
   "cell_type": "markdown",
   "metadata": {},
   "source": [
    "I will use this specific list in the future cleaning function to drop these columns. I don't have enough data to train on them, therefore I will not be able to use these columns for predictions"
   ]
  },
  {
   "cell_type": "code",
   "execution_count": 61,
   "metadata": {},
   "outputs": [
    {
     "data": {
      "text/plain": [
       "Index(['AGER_TYP', 'ALTER_HH', 'ALTER_KIND1', 'ALTER_KIND2', 'ALTER_KIND3',\n",
       "       'ALTER_KIND4', 'D19_BANKEN_ANZ_12', 'D19_BANKEN_ANZ_24',\n",
       "       'D19_BANKEN_DATUM', 'D19_BANKEN_DIREKT', 'D19_BANKEN_GROSS',\n",
       "       'D19_BANKEN_LOKAL', 'D19_BANKEN_OFFLINE_DATUM',\n",
       "       'D19_BANKEN_ONLINE_DATUM', 'D19_BANKEN_REST', 'D19_BEKLEIDUNG_GEH',\n",
       "       'D19_BEKLEIDUNG_REST', 'D19_BILDUNG', 'D19_BIO_OEKO', 'D19_BUCH_CD',\n",
       "       'D19_DIGIT_SERV', 'D19_DROGERIEARTIKEL', 'D19_ENERGIE', 'D19_FREIZEIT',\n",
       "       'D19_GARTEN', 'D19_GESAMT_ANZ_12', 'D19_GESAMT_ANZ_24',\n",
       "       'D19_GESAMT_DATUM', 'D19_GESAMT_OFFLINE_DATUM',\n",
       "       'D19_GESAMT_ONLINE_DATUM', 'D19_HANDWERK', 'D19_HAUS_DEKO',\n",
       "       'D19_KINDERARTIKEL', 'D19_KOSMETIK', 'D19_LEBENSMITTEL', 'D19_LOTTO',\n",
       "       'D19_NAHRUNGSERGAENZUNG', 'D19_RATGEBER', 'D19_REISEN',\n",
       "       'D19_SAMMELARTIKEL', 'D19_SCHUHE', 'D19_SONSTIGE', 'D19_TECHNIK',\n",
       "       'D19_TELKO_ANZ_12', 'D19_TELKO_ANZ_24', 'D19_TELKO_DATUM',\n",
       "       'D19_TELKO_MOBILE', 'D19_TELKO_OFFLINE_DATUM', 'D19_TELKO_ONLINE_DATUM',\n",
       "       'D19_TELKO_REST', 'D19_TIERARTIKEL', 'D19_VERSAND_ANZ_12',\n",
       "       'D19_VERSAND_ANZ_24', 'D19_VERSAND_DATUM', 'D19_VERSAND_OFFLINE_DATUM',\n",
       "       'D19_VERSAND_ONLINE_DATUM', 'D19_VERSAND_REST', 'D19_VERSI_ANZ_12',\n",
       "       'D19_VERSI_ANZ_24', 'D19_VERSI_DATUM', 'D19_VERSI_OFFLINE_DATUM',\n",
       "       'D19_VERSI_ONLINE_DATUM', 'D19_VERSICHERUNGEN', 'D19_VOLLSORTIMENT',\n",
       "       'D19_WEIN_FEINKOST', 'EXTSEL992', 'KBA05_BAUMAX', 'KK_KUNDENTYP',\n",
       "       'TITEL_KZ'],\n",
       "      dtype='object')"
      ]
     },
     "execution_count": 61,
     "metadata": {},
     "output_type": "execute_result"
    }
   ],
   "source": [
    "# List of columns with more that 23% of values missing (after row cleaning)\n",
    "temp_col_na"
   ]
  },
  {
   "cell_type": "code",
   "execution_count": 62,
   "metadata": {},
   "outputs": [],
   "source": [
    "azdias.drop(temp_col_na, axis=1, inplace=True)"
   ]
  },
  {
   "cell_type": "markdown",
   "metadata": {},
   "source": [
    "## Feature Engineering\n",
    "\n",
    "Next is a very important and challenging portion of the data cleaning needed for this project. I will need to identify columns that require transformations. Such as: \n",
    "\n",
    "1. Categorical columns\n",
    "    - Multi-label fields\n",
    "    - boolean\n",
    "2. Ordinal columns\n",
    "3. Date columns\n",
    "\n",
    "Here I used the HTML file created by the Pandas Profiling tool to visually inspect columns quickly to determine which were categorical versus ordinal. This allowed me to create a file to help determine which columns should be engineered and how. \n",
    "\n",
    "First, I'll look at any column with an `object` datatype.\n"
   ]
  },
  {
   "cell_type": "code",
   "execution_count": 63,
   "metadata": {},
   "outputs": [
    {
     "data": {
      "text/html": [
       "<div>\n",
       "<style scoped>\n",
       "    .dataframe tbody tr th:only-of-type {\n",
       "        vertical-align: middle;\n",
       "    }\n",
       "\n",
       "    .dataframe tbody tr th {\n",
       "        vertical-align: top;\n",
       "    }\n",
       "\n",
       "    .dataframe thead th {\n",
       "        text-align: right;\n",
       "    }\n",
       "</style>\n",
       "<table border=\"1\" class=\"dataframe\">\n",
       "  <thead>\n",
       "    <tr style=\"text-align: right;\">\n",
       "      <th></th>\n",
       "      <th>CAMEO_DEU_2015</th>\n",
       "      <th>D19_LETZTER_KAUF_BRANCHE</th>\n",
       "      <th>EINGEFUEGT_AM</th>\n",
       "      <th>OST_WEST_KZ</th>\n",
       "    </tr>\n",
       "  </thead>\n",
       "  <tbody>\n",
       "    <tr>\n",
       "      <th>1</th>\n",
       "      <td>8A</td>\n",
       "      <td>None</td>\n",
       "      <td>1992-02-10 00:00:00</td>\n",
       "      <td>W</td>\n",
       "    </tr>\n",
       "    <tr>\n",
       "      <th>2</th>\n",
       "      <td>4C</td>\n",
       "      <td>D19_UNBEKANNT</td>\n",
       "      <td>1992-02-12 00:00:00</td>\n",
       "      <td>W</td>\n",
       "    </tr>\n",
       "    <tr>\n",
       "      <th>3</th>\n",
       "      <td>2A</td>\n",
       "      <td>D19_UNBEKANNT</td>\n",
       "      <td>1997-04-21 00:00:00</td>\n",
       "      <td>W</td>\n",
       "    </tr>\n",
       "    <tr>\n",
       "      <th>4</th>\n",
       "      <td>6B</td>\n",
       "      <td>D19_SCHUHE</td>\n",
       "      <td>1992-02-12 00:00:00</td>\n",
       "      <td>W</td>\n",
       "    </tr>\n",
       "    <tr>\n",
       "      <th>5</th>\n",
       "      <td>8C</td>\n",
       "      <td>D19_ENERGIE</td>\n",
       "      <td>1992-02-12 00:00:00</td>\n",
       "      <td>W</td>\n",
       "    </tr>\n",
       "    <tr>\n",
       "      <th>...</th>\n",
       "      <td>...</td>\n",
       "      <td>...</td>\n",
       "      <td>...</td>\n",
       "      <td>...</td>\n",
       "    </tr>\n",
       "    <tr>\n",
       "      <th>891216</th>\n",
       "      <td>7A</td>\n",
       "      <td>D19_HAUS_DEKO</td>\n",
       "      <td>1992-02-10 00:00:00</td>\n",
       "      <td>W</td>\n",
       "    </tr>\n",
       "    <tr>\n",
       "      <th>891217</th>\n",
       "      <td>9D</td>\n",
       "      <td>D19_UNBEKANNT</td>\n",
       "      <td>1992-02-10 00:00:00</td>\n",
       "      <td>W</td>\n",
       "    </tr>\n",
       "    <tr>\n",
       "      <th>891218</th>\n",
       "      <td>4C</td>\n",
       "      <td>D19_BEKLEIDUNG_GEH</td>\n",
       "      <td>1992-02-10 00:00:00</td>\n",
       "      <td>W</td>\n",
       "    </tr>\n",
       "    <tr>\n",
       "      <th>891219</th>\n",
       "      <td>9D</td>\n",
       "      <td>D19_UNBEKANNT</td>\n",
       "      <td>1992-02-12 00:00:00</td>\n",
       "      <td>W</td>\n",
       "    </tr>\n",
       "    <tr>\n",
       "      <th>891220</th>\n",
       "      <td>6B</td>\n",
       "      <td>None</td>\n",
       "      <td>1992-02-10 00:00:00</td>\n",
       "      <td>W</td>\n",
       "    </tr>\n",
       "  </tbody>\n",
       "</table>\n",
       "<p>736390 rows × 4 columns</p>\n",
       "</div>"
      ],
      "text/plain": [
       "       CAMEO_DEU_2015 D19_LETZTER_KAUF_BRANCHE        EINGEFUEGT_AM  \\\n",
       "1                  8A                     None  1992-02-10 00:00:00   \n",
       "2                  4C            D19_UNBEKANNT  1992-02-12 00:00:00   \n",
       "3                  2A            D19_UNBEKANNT  1997-04-21 00:00:00   \n",
       "4                  6B               D19_SCHUHE  1992-02-12 00:00:00   \n",
       "5                  8C              D19_ENERGIE  1992-02-12 00:00:00   \n",
       "...               ...                      ...                  ...   \n",
       "891216             7A            D19_HAUS_DEKO  1992-02-10 00:00:00   \n",
       "891217             9D            D19_UNBEKANNT  1992-02-10 00:00:00   \n",
       "891218             4C       D19_BEKLEIDUNG_GEH  1992-02-10 00:00:00   \n",
       "891219             9D            D19_UNBEKANNT  1992-02-12 00:00:00   \n",
       "891220             6B                     None  1992-02-10 00:00:00   \n",
       "\n",
       "       OST_WEST_KZ  \n",
       "1                W  \n",
       "2                W  \n",
       "3                W  \n",
       "4                W  \n",
       "5                W  \n",
       "...            ...  \n",
       "891216           W  \n",
       "891217           W  \n",
       "891218           W  \n",
       "891219           W  \n",
       "891220           W  \n",
       "\n",
       "[736390 rows x 4 columns]"
      ]
     },
     "execution_count": 63,
     "metadata": {},
     "output_type": "execute_result"
    }
   ],
   "source": [
    "azdias.select_dtypes(include=['object'])"
   ]
  },
  {
   "cell_type": "markdown",
   "metadata": {},
   "source": [
    "Looks like the `EINGEFUEGT_AM` column is a date like object. I will start with this one. As long as all values. The meaning roughly translates \"inserted\" and there is no information in the data attributes file about this column. I don't know what it means, but `inserted` leads me to possibly believe this is when the data was collected? It may add to the model best to separate the date into smaller chunks and test it. "
   ]
  },
  {
   "cell_type": "code",
   "execution_count": 64,
   "metadata": {},
   "outputs": [
    {
     "data": {
      "text/plain": [
       "0"
      ]
     },
     "execution_count": 64,
     "metadata": {},
     "output_type": "execute_result"
    }
   ],
   "source": [
    "azdias['EINGEFUEGT_AM'].isna().sum()"
   ]
  },
  {
   "cell_type": "code",
   "execution_count": 65,
   "metadata": {},
   "outputs": [],
   "source": [
    "# Add to cleaning function\n",
    "azdias['EINGEFUEGT_AM'] = pd.to_datetime(azdias['EINGEFUEGT_AM'])\n",
    "azdias['EINGEFUEGT_AM_year'] = azdias['EINGEFUEGT_AM'].dt.year\n",
    "azdias['EINGEFUEGT_AM_month'] = azdias['EINGEFUEGT_AM'].dt.month\n",
    "azdias.drop('EINGEFUEGT_AM', axis=1, inplace=True)"
   ]
  },
  {
   "cell_type": "markdown",
   "metadata": {},
   "source": [
    "Next I will look at a categorical columns that has been combined. I noticed this one by looking through the Values .xlsx file and saw that the first value in the number pair represent one category and the second value in the number pair represents another category. For cleaning model training I will separate these values into their own columns to allow for the model to be slightly more general."
   ]
  },
  {
   "cell_type": "code",
   "execution_count": 66,
   "metadata": {},
   "outputs": [
    {
     "name": "stdout",
     "output_type": "stream",
     "text": [
      "3250\n",
      "float64\n"
     ]
    }
   ],
   "source": [
    "# Combined Category \n",
    "print(azdias['CAMEO_INTL_2015'].isna().sum())\n",
    "print(azdias['CAMEO_INTL_2015'].dtype)"
   ]
  },
  {
   "cell_type": "code",
   "execution_count": 67,
   "metadata": {},
   "outputs": [],
   "source": [
    "azdias['CAMEO_INTL_2015_0'] = azdias['CAMEO_INTL_2015']//10 \n",
    "azdias['CAMEO_INTL_2015_1'] = azdias['CAMEO_INTL_2015']%10\n",
    "azdias.drop('CAMEO_INTL_2015', axis=1, inplace=True)\n"
   ]
  },
  {
   "cell_type": "markdown",
   "metadata": {},
   "source": [
    "The remaining features are categorical features which I will separate into dummie columns."
   ]
  },
  {
   "cell_type": "code",
   "execution_count": 68,
   "metadata": {},
   "outputs": [],
   "source": [
    "categorical_features = ['CAMEO_DEU_2015',\n",
    "                        'CJT_GESAMTTYP',\n",
    "                        'D19_KONSUMTYP',\n",
    "                        'D19_LETZTER_KAUF_BRANCHE',\n",
    "                        'FINANZTYP',\n",
    "                        'GEBAEUDETYP',\n",
    "                        'GFK_URLAUBERTYP',\n",
    "                        'KBA05_MAXHERST',\n",
    "                        'LP_FAMILIE_FEIN',\n",
    "                        'LP_LEBENSPHASE_FEIN',\n",
    "                        'LP_LEBENSPHASE_GROB',\n",
    "                        'NATIONALITAET_KZ',\n",
    "                        'OST_WEST_KZ',\n",
    "                        'RETOURTYP_BK_S',\n",
    "                        'SHOPPER_TYP',\n",
    "                        'WOHNLAGE',\n",
    "                        'ZABEOTYP']\n",
    "                \n",
    "\n",
    "azdias = pd.get_dummies(azdias, columns=categorical_features)"
   ]
  },
  {
   "cell_type": "code",
   "execution_count": null,
   "metadata": {},
   "outputs": [],
   "source": []
  },
  {
   "cell_type": "markdown",
   "metadata": {},
   "source": [
    "## Cleaning Function"
   ]
  },
  {
   "cell_type": "code",
   "execution_count": 69,
   "metadata": {},
   "outputs": [],
   "source": [
    "def clean_AZ_dataset(dff, codes='value_unknown_codes.csv', impute=True, first_clean=False): \n",
    "    \"\"\"\n",
    "    Function to prepare the AZ Consumer dataset for machine learning models\n",
    "\n",
    "    INPUT\n",
    "    dff - Pandas DataFrame to be cleaned.\n",
    "    codes = A file path to a predifined .csv file with list of value codes in the data that\n",
    "            represent \"unknown\" or \"missing\" values. File should be formatted as such: \n",
    "            attribute, value,\n",
    "            'CAMEO_DEU_2015', -1,\n",
    "\n",
    "    RETURNS \n",
    "    LNR - Pandas series with customer numbers \n",
    "    df - Pandas DataFrame ready to be used in supervised and unsupervised models. \n",
    "\n",
    "    \"\"\"\n",
    "\n",
    "    print(\"Starting Cleaning.\")\n",
    "    # Read in special file to map codes to missing values.\n",
    "    value_unknown_codes = pd.read_csv(codes)\n",
    "    print(\"Loaded Missing Value codes.\")\n",
    "\n",
    "    # This is wierd, but I did this next step manually for the azdias file so that I could store it as .parquet\n",
    "    # Thus, I am adding this step below for the mailout CSV's and a flag to signal that it needs to be run. \n",
    "    if first_clean == True:\n",
    "        # According to data map supplied \"-1\" means unknown. Fill non-integer numbers with np.nan and convert to float\n",
    "        dff.CAMEO_DEUG_2015 = dff.CAMEO_DEUG_2015.replace('X', np.NaN).astype(float)\n",
    "        dff.CAMEO_INTL_2015 = dff.CAMEO_INTL_2015.replace('XX', np.NaN).astype(float)\n",
    "\n",
    "    # Loop through values replaceing values with NaN.\n",
    "    missing_attributes = []\n",
    "    for idx, row in value_unknown_codes.iterrows():\n",
    "        try:\n",
    "            dff.loc[dff[row['Attribute']] == row['value'], row['Attribute']] = np.nan\n",
    "        except KeyError:\n",
    "            missing_attributes.append(row['Attribute']) \n",
    "    print(\"Finished converting missing value codes to NaN.\")\n",
    "    print(f\"These fields were not found in the data {missing_attributes}\")\n",
    "\n",
    "    temp_len = len(dff)\n",
    "    dff.dropna(axis=0, how='any', thresh=278, inplace=True)\n",
    "    print(f\"Dropped {temp_len-len(dff)} rows from the orginal {temp_len} rows in the dataset\")\n",
    "\n",
    "    try:\n",
    "        dff.drop(['CUSTOMER_GROUP', 'ONLINE_PURCHASE', 'PRODUCT_GROUP'], axis=1, inplace=True)\n",
    "    except KeyError:\n",
    "        pass\n",
    "\n",
    "    LNR = dff['LNR']\n",
    "\n",
    "    temp_col_na = ['LNR', 'AGER_TYP', 'ALTER_HH', 'ALTER_KIND1', 'ALTER_KIND2', 'ALTER_KIND3',\n",
    "        'ALTER_KIND4', 'D19_BANKEN_ANZ_12', 'D19_BANKEN_ANZ_24',\n",
    "        'D19_BANKEN_DATUM', 'D19_BANKEN_DIREKT', 'D19_BANKEN_GROSS',\n",
    "        'D19_BANKEN_LOKAL', 'D19_BANKEN_OFFLINE_DATUM',\n",
    "        'D19_BANKEN_ONLINE_DATUM', 'D19_BANKEN_REST', 'D19_BEKLEIDUNG_GEH',\n",
    "        'D19_BEKLEIDUNG_REST', 'D19_BILDUNG', 'D19_BIO_OEKO', 'D19_BUCH_CD',\n",
    "        'D19_DIGIT_SERV', 'D19_DROGERIEARTIKEL', 'D19_ENERGIE', 'D19_FREIZEIT',\n",
    "        'D19_GARTEN', 'D19_GESAMT_ANZ_12', 'D19_GESAMT_ANZ_24',\n",
    "        'D19_GESAMT_DATUM', 'D19_GESAMT_OFFLINE_DATUM',\n",
    "        'D19_GESAMT_ONLINE_DATUM', 'D19_HANDWERK', 'D19_HAUS_DEKO',\n",
    "        'D19_KINDERARTIKEL', 'D19_KOSMETIK', 'D19_LEBENSMITTEL', 'D19_LOTTO',\n",
    "        'D19_NAHRUNGSERGAENZUNG', 'D19_RATGEBER', 'D19_REISEN',\n",
    "        'D19_SAMMELARTIKEL', 'D19_SCHUHE', 'D19_SONSTIGE', 'D19_TECHNIK',\n",
    "        'D19_TELKO_ANZ_12', 'D19_TELKO_ANZ_24', 'D19_TELKO_DATUM',\n",
    "        'D19_TELKO_MOBILE', 'D19_TELKO_OFFLINE_DATUM', 'D19_TELKO_ONLINE_DATUM',\n",
    "        'D19_TELKO_REST', 'D19_TIERARTIKEL', 'D19_VERSAND_ANZ_12',\n",
    "        'D19_VERSAND_ANZ_24', 'D19_VERSAND_DATUM', 'D19_VERSAND_OFFLINE_DATUM',\n",
    "        'D19_VERSAND_ONLINE_DATUM', 'D19_VERSAND_REST', 'D19_VERSI_ANZ_12',\n",
    "        'D19_VERSI_ANZ_24', 'D19_VERSI_DATUM', 'D19_VERSI_OFFLINE_DATUM',\n",
    "        'D19_VERSI_ONLINE_DATUM', 'D19_VERSICHERUNGEN', 'D19_VOLLSORTIMENT',\n",
    "        'D19_WEIN_FEINKOST', 'EXTSEL992', 'KBA05_BAUMAX', 'KK_KUNDENTYP',\n",
    "        'TITEL_KZ']\n",
    "\n",
    "\n",
    "    dff.drop(temp_col_na, axis=1, inplace=True)\n",
    "    print(\"Dropped columns with missing data.\")\n",
    "\n",
    "    dff['EINGEFUEGT_AM'] = pd.to_datetime(dff['EINGEFUEGT_AM'])\n",
    "    dff['EINGEFUEGT_AM_year'] = dff['EINGEFUEGT_AM'].dt.year\n",
    "    dff['EINGEFUEGT_AM_month'] = dff['EINGEFUEGT_AM'].dt.month\n",
    "    dff.drop('EINGEFUEGT_AM', axis=1, inplace=True)\n",
    "    print('Converted EINGEFUEGT_AM to year and month')\n",
    "\n",
    "    dff['CAMEO_INTL_2015_0'] = dff['CAMEO_INTL_2015']//10 \n",
    "    dff['CAMEO_INTL_2015_1'] = dff['CAMEO_INTL_2015']%10\n",
    "    dff.drop('CAMEO_INTL_2015', axis=1, inplace=True)\n",
    "    print('Split CAMEO_INTL_2015 into two columns')\n",
    "\n",
    "    categorical_features = ['CAMEO_DEU_2015',\n",
    "                        'CJT_GESAMTTYP',\n",
    "                        'D19_KONSUMTYP',\n",
    "                        'D19_LETZTER_KAUF_BRANCHE',\n",
    "                        'FINANZTYP',\n",
    "                        # 'GEBAEUDETYP',\n",
    "                        'GFK_URLAUBERTYP',\n",
    "                        'KBA05_MAXHERST',\n",
    "                        'LP_FAMILIE_FEIN',\n",
    "                        'LP_LEBENSPHASE_FEIN',\n",
    "                        'LP_LEBENSPHASE_GROB',\n",
    "                        'NATIONALITAET_KZ',\n",
    "                        'OST_WEST_KZ',\n",
    "                        'RETOURTYP_BK_S',\n",
    "                        'SHOPPER_TYP',\n",
    "                        'WOHNLAGE',\n",
    "                        'ZABEOTYP']\n",
    "                \n",
    "\n",
    "    dff = pd.get_dummies(dff, columns=categorical_features)\n",
    "    print('Converted Categorical columns to dummy columns.')\n",
    "\n",
    "    if impute == True:\n",
    "        imp_median = SimpleImputer(missing_values=np.nan, strategy='median')\n",
    "        dff_imp = imp_median.fit_transform(dff)\n",
    "        print(\"Imputed NaN values with Median\")\n",
    "        return LNR, pd.DataFrame(dff_imp, index=dff.index, columns=dff.columns)\n",
    "    else:\n",
    "        return LNR, dff"
   ]
  },
  {
   "cell_type": "markdown",
   "metadata": {},
   "source": []
  },
  {
   "cell_type": "markdown",
   "metadata": {},
   "source": [
    "## Part 1: Customer Segmentation Report\n",
    "\n",
    "The main bulk of your analysis will come in this part of the project. Here, you should use unsupervised learning techniques to describe the relationship between the demographics of the company's existing customers and the general population of Germany. By the end of this part, you should be able to describe parts of the general population that are more likely to be part of the mail-order company's main customer base, and which parts of the general population are less so."
   ]
  },
  {
   "cell_type": "code",
   "execution_count": 70,
   "metadata": {},
   "outputs": [
    {
     "name": "stdout",
     "output_type": "stream",
     "text": [
      "Starting Cleaning.\n",
      "Loaded Missing Value codes.\n",
      "Finished converting missing value codes to NaN.\n",
      "These fields were not found in the data ['BIP_FLAG', 'CAMEO_DEUINTL_2015', 'D19_KK_KUNDENTYP', 'GEOSCORE_KLS7', 'HAUSHALTSSTRUKTUR', 'KBA13_CCM_1400_2500', 'SOHO_FLAG', 'WACHSTUMSGEBIET_NB', 'GEOSCORE_KLS7', 'HAUSHALTSSTRUKTUR', 'WACHSTUMSGEBIET_NB']\n",
      "Dropped 154538 rows from the orginal 891221 rows in the dataset\n",
      "Dropped columns with missing data.\n",
      "Converted EINGEFUEGT_AM to year and month\n",
      "Split CAMEO_INTL_2015 into two columns\n",
      "Converted Categorical columns to dummy columns.\n",
      "Imputed NaN values with Median\n"
     ]
    }
   ],
   "source": [
    "azdias_neu = pd.read_parquet('Udacity_AZDIAS_052018.parquet')\n",
    "LNR, azdias_neu = clean_AZ_dataset(azdias_neu, impute=True) "
   ]
  },
  {
   "cell_type": "code",
   "execution_count": 71,
   "metadata": {},
   "outputs": [
    {
     "name": "stdout",
     "output_type": "stream",
     "text": [
      "original shape:    (736683, 492)\n",
      "scaled shape: (736683, 492)\n"
     ]
    }
   ],
   "source": [
    "scaler = StandardScaler()\n",
    "\n",
    "# fit transform\n",
    "scaled = scaler.fit_transform(azdias_neu.astype(float))\n",
    "\n",
    "azdias_scaled = pd.DataFrame(data=scaled, index=azdias_neu.index, columns=azdias_neu.columns)\n",
    "print(\"original shape:   \", azdias_neu.shape)\n",
    "print(\"scaled shape:\", azdias_scaled.shape)"
   ]
  },
  {
   "cell_type": "markdown",
   "metadata": {},
   "source": [
    "### PCA Refresher: \n",
    "\n",
    "Eigenvalues - sum of squared distances from origin for the best fit line \n",
    "\n",
    "Singular Value of PC1 - The square root of the Eigenvalue\n",
    "\n",
    "Eigenvector - Single unit of a PC\n",
    "\n",
    "Loading scores - proportion of each value to get the eigenvector for the PC. \n",
    "\n",
    "Scree plot - Graphical representation of the percentages of variation for each Principal Component\n"
   ]
  },
  {
   "cell_type": "code",
   "execution_count": 72,
   "metadata": {},
   "outputs": [],
   "source": [
    "pca = PCA()\n",
    "pca.fit(azdias_scaled)\n",
    "pca_data = pca.transform(azdias_scaled)"
   ]
  },
  {
   "cell_type": "code",
   "execution_count": 73,
   "metadata": {},
   "outputs": [],
   "source": [
    "total_var = pca.explained_variance_ratio_.sum() * 100\n",
    "pc_var = pca.explained_variance_ratio_"
   ]
  },
  {
   "cell_type": "code",
   "execution_count": 74,
   "metadata": {},
   "outputs": [
    {
     "data": {
      "text/html": [
       "<div>                            <div id=\"4a4bf07a-3cf7-4267-9451-6b42c451f7f3\" class=\"plotly-graph-div\" style=\"height:525px; width:100%;\"></div>            <script type=\"text/javascript\">                require([\"plotly\"], function(Plotly) {                    window.PLOTLYENV=window.PLOTLYENV || {};                                    if (document.getElementById(\"4a4bf07a-3cf7-4267-9451-6b42c451f7f3\")) {                    Plotly.newPlot(                        \"4a4bf07a-3cf7-4267-9451-6b42c451f7f3\",                        [{\"fill\": \"tozeroy\", \"line\": {\"color\": \"indigo\"}, \"mode\": \"lines\", \"type\": \"scatter\", \"x\": [1, 2, 3, 4, 5, 6, 7, 8, 9, 10, 11, 12, 13, 14, 15, 16, 17, 18, 19, 20, 21, 22, 23, 24, 25, 26, 27, 28, 29, 30, 31, 32, 33, 34, 35, 36, 37, 38, 39, 40, 41, 42, 43, 44, 45, 46, 47, 48, 49, 50, 51, 52, 53, 54, 55, 56, 57, 58, 59, 60, 61, 62, 63, 64, 65, 66, 67, 68, 69, 70, 71, 72, 73, 74, 75, 76, 77, 78, 79, 80, 81, 82, 83, 84, 85, 86, 87, 88, 89, 90, 91, 92, 93, 94, 95, 96, 97, 98, 99, 100, 101, 102, 103, 104, 105, 106, 107, 108, 109, 110, 111, 112, 113, 114, 115, 116, 117, 118, 119, 120, 121, 122, 123, 124, 125, 126, 127, 128, 129, 130, 131, 132, 133, 134, 135, 136, 137, 138, 139, 140, 141, 142, 143, 144, 145, 146, 147, 148, 149, 150, 151, 152, 153, 154, 155, 156, 157, 158, 159, 160, 161, 162, 163, 164, 165, 166, 167, 168, 169, 170, 171, 172, 173, 174, 175, 176, 177, 178, 179, 180, 181, 182, 183, 184, 185, 186, 187, 188, 189, 190, 191, 192, 193, 194, 195, 196, 197, 198, 199, 200, 201, 202, 203, 204, 205, 206, 207, 208, 209, 210, 211, 212, 213, 214, 215, 216, 217, 218, 219, 220, 221, 222, 223, 224, 225, 226, 227, 228, 229, 230, 231, 232, 233, 234, 235, 236, 237, 238, 239, 240, 241, 242, 243, 244, 245, 246, 247, 248, 249, 250, 251, 252, 253, 254, 255, 256, 257, 258, 259, 260, 261, 262, 263, 264, 265, 266, 267, 268, 269, 270, 271, 272, 273, 274, 275, 276, 277, 278, 279, 280, 281, 282, 283, 284, 285, 286, 287, 288, 289, 290, 291, 292, 293, 294, 295, 296, 297, 298, 299, 300, 301, 302, 303, 304, 305, 306, 307, 308, 309, 310, 311, 312, 313, 314, 315, 316, 317, 318, 319, 320, 321, 322, 323, 324, 325, 326, 327, 328, 329, 330, 331, 332, 333, 334, 335, 336, 337, 338, 339, 340, 341, 342, 343, 344, 345, 346, 347, 348, 349, 350, 351, 352, 353, 354, 355, 356, 357, 358, 359, 360, 361, 362, 363, 364, 365, 366, 367, 368, 369, 370, 371, 372, 373, 374, 375, 376, 377, 378, 379, 380, 381, 382, 383, 384, 385, 386, 387, 388, 389, 390, 391, 392, 393, 394, 395, 396, 397, 398, 399, 400, 401, 402, 403, 404, 405, 406, 407, 408, 409, 410, 411, 412, 413, 414, 415, 416, 417, 418, 419, 420, 421, 422, 423, 424, 425, 426, 427, 428, 429, 430, 431, 432, 433, 434, 435, 436, 437, 438, 439, 440, 441, 442, 443, 444, 445, 446, 447, 448, 449, 450, 451, 452, 453, 454, 455, 456, 457, 458, 459, 460, 461, 462, 463, 464, 465, 466, 467, 468, 469, 470, 471, 472, 473, 474, 475, 476, 477, 478, 479, 480, 481, 482, 483, 484, 485, 486, 487, 488, 489, 490, 491], \"y\": [0.06043759618420401, 0.09811722747523358, 0.13572699782424363, 0.15563768018740276, 0.17271363762090378, 0.1882452102794242, 0.20266320789611644, 0.2151545854798958, 0.22709555700616274, 0.23769549064466253, 0.24768440544208326, 0.2564460446129071, 0.264795375228031, 0.272691789585068, 0.2803685804647897, 0.2876056129173203, 0.29472200315311303, 0.3017586643934974, 0.3084585893180234, 0.31499275342135175, 0.32134100433649254, 0.3276391380054595, 0.33375769733979543, 0.33962270661550065, 0.34533228243363895, 0.35079955737955865, 0.3562341812097648, 0.36148299635862297, 0.36664353661226734, 0.3716655503700709, 0.37651045296538166, 0.38121410286189156, 0.3858940866294108, 0.3905290186416437, 0.394978478219381, 0.3993466056045928, 0.40366672798933373, 0.40795054944578935, 0.41215694188968593, 0.4162958511450627, 0.42039924685730784, 0.424433599473173, 0.4283655625507148, 0.43220434135274843, 0.43598508579127415, 0.4396702485203429, 0.4432736898849376, 0.446834442257392, 0.45036891846054594, 0.45388311790551283, 0.45732418481794945, 0.4607522565043762, 0.4640684254999832, 0.4673644727069216, 0.47061230297378276, 0.47381434799929073, 0.4769825370814386, 0.4801186785661789, 0.48320305154876886, 0.4862593037620329, 0.48926916808802173, 0.4922304512126882, 0.4951703333267836, 0.4980960231578514, 0.5009703463212472, 0.5038216268997012, 0.506625657522477, 0.5094096893494993, 0.5121890164866186, 0.5149259460693659, 0.5176431266276935, 0.520314837206804, 0.5229821046684646, 0.5256395602930508, 0.5282693404509748, 0.530860550741444, 0.533437447967379, 0.5359985693022205, 0.5385523629512994, 0.5410667430675022, 0.5435740795162494, 0.5460678677837799, 0.548554931717525, 0.5510209588234319, 0.5534677324878888, 0.5559066524755795, 0.5583174745513912, 0.560708194574411, 0.5630780946696103, 0.5654297755189818, 0.5677731000885824, 0.5701048281771914, 0.5724162420943434, 0.5747168376796165, 0.5770063387158316, 0.57929020108692, 0.5815696464886988, 0.5838298135373529, 0.5860817587704329, 0.5883183752197001, 0.5905468644369843, 0.5927685586843018, 0.5949856498642926, 0.5971964892395821, 0.5994011223830108, 0.6015899406642571, 0.6037725227188533, 0.605952677552935, 0.6081269281308609, 0.6102982483680337, 0.6124583269726118, 0.614614882407944, 0.6167646470862875, 0.6189121177190222, 0.6210583648704161, 0.623199524017432, 0.6253388636208156, 0.627473549380418, 0.6296045616385917, 0.6317282881085754, 0.633848491903418, 0.6359668777311687, 0.6380826795107348, 0.6401954455743184, 0.6423029905396392, 0.6444098144782837, 0.646512674744839, 0.6486142890117229, 0.6507131822297859, 0.6528100157743822, 0.6549021991784406, 0.6569929975748745, 0.6590820145967752, 0.6611705207224113, 0.6632565453881617, 0.6653406021120234, 0.6674227024475112, 0.6695032958654661, 0.6715809519587855, 0.6736576224897952, 0.6757339558996021, 0.6778065449413264, 0.6798775501054963, 0.6819481675394975, 0.6840166103897085, 0.6860840815180204, 0.6881502442925953, 0.6902151709454935, 0.6922777783794299, 0.694338615503359, 0.6963972456831652, 0.6984539503610809, 0.7005098920429289, 0.7025643095846561, 0.7046178915255464, 0.7066704488649865, 0.7087209861024176, 0.7107708146314541, 0.7128188734436954, 0.7148654459203582, 0.7169113866562965, 0.7189565151119925, 0.7210012024727787, 0.7230441810360272, 0.7250863845123621, 0.7271278769700953, 0.7291670709349632, 0.731204898823116, 0.7332419105790007, 0.735278254378901, 0.7373137094619752, 0.7393487370566092, 0.7413808041487093, 0.7434125988173599, 0.7454434152360956, 0.7474728780151176, 0.7495018380076682, 0.7515291414387067, 0.7535553428095813, 0.7555795300662855, 0.7576020587617125, 0.7596233374703307, 0.7616434239704212, 0.7636622433391111, 0.7656766529048438, 0.7676885640357021, 0.7696979224167426, 0.771705226264289, 0.7737104415129294, 0.7757130274533566, 0.7777139717909509, 0.7797102044810268, 0.7816999394299181, 0.7836866426737846, 0.7856676267906602, 0.7876413342740184, 0.7896139546244902, 0.7915803232019787, 0.7935427725070869, 0.7954976081840202, 0.7974355728583519, 0.7993628482426753, 0.8012876904398958, 0.8032070691112667, 0.8051142056289955, 0.8070081716036466, 0.8088983986483989, 0.8107779246617995, 0.812644421749949, 0.8145031533035938, 0.8163548048729701, 0.8182029519240956, 0.8200466933628694, 0.8218846197613522, 0.8237178284737968, 0.8255332733280283, 0.82733875422048, 0.8291281075942099, 0.8309146429591967, 0.8326921708982435, 0.834463849081135, 0.836230559636376, 0.837988797789829, 0.8397317028195933, 0.841458236795352, 0.8431761172861716, 0.8448873955147115, 0.8465867508068579, 0.8482752706182256, 0.84995659508462, 0.8516332960939769, 0.8532960293066839, 0.8549419501794656, 0.8565739567854909, 0.8582016958695983, 0.8598189461927268, 0.8614272357978991, 0.863026952627143, 0.8646211297008487, 0.8661894330705648, 0.8677466854404492, 0.8692978166757684, 0.8708484174010048, 0.872382951588419, 0.8738994526270707, 0.8753964655078499, 0.8768779889134845, 0.8783545759889824, 0.8798228591019259, 0.8812601093232897, 0.8826871195868891, 0.8841050309635992, 0.8854974256677763, 0.8868769350452835, 0.888246889263894, 0.8896025131538206, 0.8909546912453497, 0.8922831192026784, 0.8935973268786005, 0.8949011660523812, 0.8961950325587049, 0.8974808390516418, 0.8987437006655407, 0.8999938282023738, 0.9012353702232839, 0.9024691990915683, 0.9036964062278658, 0.904915732626038, 0.906123659453891, 0.9073283334574505, 0.9085088484042573, 0.9096839602806418, 0.9108443075440052, 0.9119845024681251, 0.913121029258544, 0.9142537308833133, 0.9153780213195122, 0.9164998809179351, 0.917610039874433, 0.9187082999609866, 0.9198026550581937, 0.9208806072669444, 0.9219515619408332, 0.9230153704755659, 0.9240715021768475, 0.9251060460916858, 0.9261280635616929, 0.9271425313255786, 0.9281504872351803, 0.929143237500252, 0.9301294113123341, 0.9311108114242711, 0.932071862288614, 0.9330310376041958, 0.933976376291096, 0.9349189246698526, 0.9358462962520452, 0.936769591067093, 0.9376650221286943, 0.938558588221835, 0.9394212901529251, 0.9402778459308158, 0.9411193905674177, 0.9419471362911875, 0.9427641152413326, 0.9435769045884704, 0.9443842626223646, 0.9451860713037864, 0.9459814729199527, 0.946766705704689, 0.9475452252725846, 0.9483029095817281, 0.9490521624545231, 0.9497991448711094, 0.9505386131613021, 0.9512682967873954, 0.9519907477372761, 0.9526964687938589, 0.9533922574321427, 0.9540790929902513, 0.9547552495641756, 0.9554244376947925, 0.9560905443355643, 0.9567521395914801, 0.9574109714834189, 0.9580637492910934, 0.9587084451633052, 0.9593513981145563, 0.959988531902906, 0.9606236551726689, 0.9612550668107905, 0.9618806741999557, 0.9624993955597257, 0.96311264550913, 0.9637209786596838, 0.9643258603020725, 0.9649239746692316, 0.9655080371479376, 0.9660821257266574, 0.9666473211220735, 0.9672115910030927, 0.9677724851452715, 0.9683283647441754, 0.9688809868886834, 0.9694178667249227, 0.9699497322357947, 0.9704727828650069, 0.9709882601638613, 0.9714990530921395, 0.9720020847083631, 0.9725014660431824, 0.972997222310671, 0.9734893103545761, 0.9739787438457524, 0.9744601538927943, 0.9749352331789581, 0.975406991541014, 0.9758716352986664, 0.9763323133312811, 0.9767866829660184, 0.9772356865495869, 0.9776825194246255, 0.9781257269824924, 0.9785573010001576, 0.9789836799170575, 0.9794019001167598, 0.9798092192349036, 0.9802116857265326, 0.9806085889037319, 0.9810002456313192, 0.9813889041342237, 0.9817714692145747, 0.9821527053046682, 0.9825220573579945, 0.9828895904944065, 0.9832516670231363, 0.9836105023309545, 0.983967871353427, 0.9843236783316751, 0.9846704446720128, 0.985012305307078, 0.9853530027893092, 0.9856878469474903, 0.9860204883041542, 0.9863483583286691, 0.9866705960964649, 0.9869914967532514, 0.9873068831046709, 0.9876136591179664, 0.9879121039896142, 0.9882089049449821, 0.9885031751367657, 0.9887857201608063, 0.9890656565863416, 0.9893403453024946, 0.9896067200634222, 0.9898708939489628, 0.9901325667193714, 0.9903924301283137, 0.990650685368456, 0.9909054255437544, 0.9911544891426289, 0.9914025899775345, 0.9916411338240567, 0.9918750530001391, 0.9921066304998216, 0.9923365557941458, 0.992564893868399, 0.992790352068811, 0.9930145831814243, 0.9932344152921876, 0.9934463401222584, 0.9936544354721635, 0.9938568024718873, 0.9940559777111277, 0.9942539218110708, 0.9944504374926135, 0.9946464053072451, 0.9948397137190026, 0.9950317201757017, 0.9952188647015202, 0.9954010473014971, 0.9955812363486216, 0.9957603634012464, 0.9959371791163458, 0.9961105417213476, 0.9962834272046283, 0.9964544840499133, 0.9966213592076026, 0.9967868660106686, 0.9969489100596034, 0.9971071668678242, 0.9972645601269874, 0.9974197278008925, 0.9975729309206953, 0.997725497107683, 0.9978768722659079, 0.9980270278690306, 0.9981743293083484, 0.9983159942666429, 0.9984556100158131, 0.9985925508388283, 0.9987253450239526, 0.9988413371250493, 0.9989482498894526, 0.9990476398381622, 0.99914216932947, 0.9992316327410152, 0.999320345058329, 0.9994088738954995, 0.9994952320342845, 0.9995793618490598, 0.9996566438529099, 0.999728219953512, 0.9997993174965609, 0.9998479234650989, 0.9998898117955773, 0.999929157262064, 0.9999630880029541, 0.9999749801686514, 0.999984762117501, 0.9999936580064581, 0.9999968048671133, 0.9999993448101002, 0.9999999999999998, 0.9999999999999998, 0.9999999999999998, 0.9999999999999998, 0.9999999999999998, 0.9999999999999998, 0.9999999999999998, 0.9999999999999998, 0.9999999999999998, 0.9999999999999998, 0.9999999999999998, 0.9999999999999998, 0.9999999999999998, 0.9999999999999998, 0.9999999999999998, 0.9999999999999998, 0.9999999999999998, 0.9999999999999998, 0.9999999999999998, 0.9999999999999998, 0.9999999999999998, 0.9999999999999998, 0.9999999999999998, 0.9999999999999998, 0.9999999999999998, 0.9999999999999998, 0.9999999999999998, 0.9999999999999998]}],                        {\"template\": {\"layout\": {\"annotationdefaults\": {\"arrowcolor\": \"#f2f5fa\", \"arrowhead\": 0, \"arrowwidth\": 1}, \"coloraxis\": {\"colorbar\": {\"outlinewidth\": 0, \"ticks\": \"\"}}, \"colorscale\": {\"diverging\": [[0, \"#8e0152\"], [0.1, \"#c51b7d\"], [0.2, \"#de77ae\"], [0.3, \"#f1b6da\"], [0.4, \"#fde0ef\"], [0.5, \"#f7f7f7\"], [0.6, \"#e6f5d0\"], [0.7, \"#b8e186\"], [0.8, \"#7fbc41\"], [0.9, \"#4d9221\"], [1, \"#276419\"]], \"sequential\": [[0.0, \"#0d0887\"], [0.1111111111111111, \"#46039f\"], [0.2222222222222222, \"#7201a8\"], [0.3333333333333333, \"#9c179e\"], [0.4444444444444444, \"#bd3786\"], [0.5555555555555556, \"#d8576b\"], [0.6666666666666666, \"#ed7953\"], [0.7777777777777778, \"#fb9f3a\"], [0.8888888888888888, \"#fdca26\"], [1.0, \"#f0f921\"]], \"sequentialminus\": [[0.0, \"#0d0887\"], [0.1111111111111111, \"#46039f\"], [0.2222222222222222, \"#7201a8\"], [0.3333333333333333, \"#9c179e\"], [0.4444444444444444, \"#bd3786\"], [0.5555555555555556, \"#d8576b\"], [0.6666666666666666, \"#ed7953\"], [0.7777777777777778, \"#fb9f3a\"], [0.8888888888888888, \"#fdca26\"], [1.0, \"#f0f921\"]]}, \"colorway\": [\"rgba(0, 203, 166, 0.7)\", \"rgba(168, 168, 168, 0.7)\", \"#19d3f3\", \"#00cc96\", \"#ab63fa\", \"#00CBA6\", \"#FF6692\", \"#B6E880\", \"#FF97FF\", \"#FECB52\"], \"font\": {\"color\": \"#2a3f5f\", \"family\": \"plain\"}, \"geo\": {\"bgcolor\": \"black\", \"lakecolor\": \"white\", \"landcolor\": \"white\", \"showlakes\": true, \"showland\": true, \"subunitcolor\": \"#506784\"}, \"hoverlabel\": {\"align\": \"left\"}, \"hovermode\": \"closest\", \"images\": [{\"layer\": \"below\", \"opacity\": 0.05, \"sizex\": 0.7, \"sizey\": 0.7, \"source\": \"https://product-derrick.s3.amazonaws.com/logoWhite.png\", \"x\": 0.15, \"xref\": \"paper\", \"y\": 0.75, \"yref\": \"paper\"}], \"mapbox\": {\"style\": \"light\"}, \"paper_bgcolor\": \"white\", \"plot_bgcolor\": \"white\", \"polar\": {\"angularaxis\": {\"gridcolor\": \"#506784\", \"linecolor\": \"#506784\", \"ticks\": \"\"}, \"bgcolor\": \"white\", \"radialaxis\": {\"gridcolor\": \"#506784\", \"linecolor\": \"#506784\", \"ticks\": \"\"}}, \"scene\": {\"xaxis\": {\"backgroundcolor\": \"white\", \"gridcolor\": \"#506784\", \"gridwidth\": 2, \"linecolor\": \"#506784\", \"showbackground\": true, \"ticks\": \"\", \"zerolinecolor\": \"#C8D4E3\"}, \"yaxis\": {\"backgroundcolor\": \"white\", \"gridcolor\": \"#506784\", \"gridwidth\": 2, \"linecolor\": \"#506784\", \"showbackground\": true, \"ticks\": \"\", \"zerolinecolor\": \"#C8D4E3\"}, \"zaxis\": {\"backgroundcolor\": \"rgb(17,17,17)\", \"gridcolor\": \"#506784\", \"gridwidth\": 2, \"linecolor\": \"#506784\", \"showbackground\": true, \"ticks\": \"\", \"zerolinecolor\": \"#C8D4E3\"}}, \"shapedefaults\": {\"line\": {\"color\": \"#f2f5fa\"}}, \"sliderdefaults\": {\"bgcolor\": \"#C8D4E3\", \"bordercolor\": \"rgb(17,17,17)\", \"borderwidth\": 1, \"tickwidth\": 0}, \"ternary\": {\"aaxis\": {\"gridcolor\": \"#506784\", \"linecolor\": \"#506784\", \"ticks\": \"\"}, \"baxis\": {\"gridcolor\": \"#506784\", \"linecolor\": \"#506784\", \"ticks\": \"\"}, \"bgcolor\": \"rgb(17,17,17)\", \"caxis\": {\"gridcolor\": \"#506784\", \"linecolor\": \"#506784\", \"ticks\": \"\"}}, \"title\": {\"font\": {\"size\": 24}, \"x\": 0.05}, \"updatemenudefaults\": {\"bgcolor\": \"#506784\", \"borderwidth\": 0}, \"xaxis\": {\"automargin\": true, \"gridcolor\": \"#DFE8F3\", \"linecolor\": \"#A2B1C6\", \"tickfont\": {\"color\": \"#2a3f5f\", \"family\": \"InterstateMono\", \"size\": 10}, \"ticks\": \"\", \"title\": {\"font\": {\"family\": \"Plain\", \"size\": 18}}, \"zerolinecolor\": \"#DFE8F3\", \"zerolinewidth\": 2}, \"yaxis\": {\"automargin\": true, \"gridcolor\": \"#DFE8F3\", \"linecolor\": \"#A2B1C6\", \"tickfont\": {\"color\": \"#2a3f5f\", \"family\": \"InterstateMono\", \"size\": 10}, \"ticks\": \"\", \"title\": {\"font\": {\"family\": \"plain\", \"size\": 18}}, \"zerolinecolor\": \"#DFE8F3\", \"zerolinewidth\": 2}}}, \"title\": {\"text\": \"Cumulative Sum of Explained Variance\"}, \"xaxis\": {\"showspikes\": true, \"title\": {\"text\": \"Count of Principal Components\"}}, \"yaxis\": {\"showspikes\": true, \"tickformat\": \"%\", \"title\": {\"text\": \"Explained Variance\"}}},                        {\"responsive\": true}                    ).then(function(){\n",
       "                            \n",
       "var gd = document.getElementById('4a4bf07a-3cf7-4267-9451-6b42c451f7f3');\n",
       "var x = new MutationObserver(function (mutations, observer) {{\n",
       "        var display = window.getComputedStyle(gd).display;\n",
       "        if (!display || display === 'none') {{\n",
       "            console.log([gd, 'removed!']);\n",
       "            Plotly.purge(gd);\n",
       "            observer.disconnect();\n",
       "        }}\n",
       "}});\n",
       "\n",
       "// Listen for the removal of the full notebook cells\n",
       "var notebookContainer = gd.closest('#notebook-container');\n",
       "if (notebookContainer) {{\n",
       "    x.observe(notebookContainer, {childList: true});\n",
       "}}\n",
       "\n",
       "// Listen for the clearing of the current output cell\n",
       "var outputEl = gd.closest('.output');\n",
       "if (outputEl) {{\n",
       "    x.observe(outputEl, {childList: true});\n",
       "}}\n",
       "\n",
       "                        })                };                });            </script>        </div>"
      ]
     },
     "metadata": {},
     "output_type": "display_data"
    }
   ],
   "source": [
    "exp_var_cumul = np.cumsum(pc_var)\n",
    "\n",
    "fig = go.Figure()\n",
    "fig.add_trace(go.Scatter(\n",
    "    x=list(range(1, len(exp_var_cumul))),\n",
    "    y=exp_var_cumul,\n",
    "    fill='tozeroy', # fill area between trace0 and trace1\n",
    "    mode='lines', line_color='indigo'))\n",
    "fig.update_layout(title = 'Cumulative Sum of Explained Variance')\n",
    "fig.update_yaxes(tickformat='%', title='Explained Variance', showspikes=True)\n",
    "fig.update_xaxes(title='Count of Principal Components', showspikes=True)\n",
    "fig.show()\n",
    "# py.plot(fig, filename='udsnd_6_pca', auto_open=False)"
   ]
  },
  {
   "cell_type": "code",
   "execution_count": 75,
   "metadata": {},
   "outputs": [
    {
     "data": {
      "text/html": [
       "<div>                            <div id=\"4841a212-a154-47ba-b3f6-dd75ce68f076\" class=\"plotly-graph-div\" style=\"height:525px; width:100%;\"></div>            <script type=\"text/javascript\">                require([\"plotly\"], function(Plotly) {                    window.PLOTLYENV=window.PLOTLYENV || {};                                    if (document.getElementById(\"4841a212-a154-47ba-b3f6-dd75ce68f076\")) {                    Plotly.newPlot(                        \"4841a212-a154-47ba-b3f6-dd75ce68f076\",                        [{\"type\": \"bar\", \"x\": [0, 1, 2, 3, 4, 5, 6, 7, 8, 9, 10, 11, 12, 13, 14, 15, 16, 17, 18, 19, 20, 21, 22, 23, 24, 25, 26, 27, 28, 29, 30, 31, 32, 33, 34, 35, 36, 37, 38, 39, 40, 41, 42, 43, 44, 45, 46, 47, 48, 49, 50, 51, 52, 53, 54, 55, 56, 57, 58, 59, 60, 61, 62, 63, 64, 65, 66, 67, 68, 69, 70, 71, 72, 73, 74, 75, 76, 77, 78, 79, 80, 81, 82, 83, 84, 85, 86, 87, 88, 89, 90, 91, 92, 93, 94, 95, 96, 97, 98, 99, 100, 101, 102, 103, 104, 105, 106, 107, 108, 109, 110, 111, 112, 113, 114, 115, 116, 117, 118, 119, 120, 121, 122, 123, 124, 125, 126, 127, 128, 129, 130, 131, 132, 133, 134, 135, 136, 137, 138, 139, 140, 141, 142, 143, 144, 145, 146, 147, 148, 149, 150, 151, 152, 153, 154, 155, 156, 157, 158, 159, 160, 161, 162, 163, 164, 165, 166, 167, 168, 169, 170, 171, 172, 173, 174, 175, 176, 177, 178, 179, 180, 181, 182, 183, 184, 185, 186, 187, 188, 189, 190, 191, 192, 193, 194, 195, 196, 197, 198, 199, 200, 201, 202, 203, 204, 205, 206, 207, 208, 209, 210, 211, 212, 213, 214, 215, 216, 217, 218, 219, 220, 221, 222, 223, 224, 225, 226, 227, 228, 229, 230, 231, 232, 233, 234, 235, 236, 237, 238, 239, 240, 241, 242, 243, 244, 245, 246, 247, 248, 249, 250, 251, 252, 253, 254, 255, 256, 257, 258, 259, 260, 261, 262, 263, 264, 265, 266, 267, 268, 269, 270, 271, 272, 273, 274, 275, 276, 277, 278, 279, 280, 281, 282, 283, 284, 285, 286, 287, 288, 289, 290, 291, 292, 293, 294, 295, 296, 297, 298, 299, 300, 301, 302, 303, 304, 305, 306, 307, 308, 309, 310, 311, 312, 313, 314, 315, 316, 317, 318, 319, 320, 321, 322, 323, 324, 325, 326, 327, 328, 329, 330, 331, 332, 333, 334, 335, 336, 337, 338, 339, 340, 341, 342, 343, 344, 345, 346, 347, 348, 349, 350, 351, 352, 353, 354, 355, 356, 357, 358, 359, 360, 361, 362, 363, 364, 365, 366, 367, 368, 369, 370, 371, 372, 373, 374, 375, 376, 377, 378, 379, 380, 381, 382, 383, 384, 385, 386, 387, 388, 389, 390, 391, 392, 393, 394, 395, 396, 397, 398, 399, 400, 401, 402, 403, 404, 405, 406, 407, 408, 409, 410, 411, 412, 413, 414, 415, 416, 417, 418, 419, 420, 421, 422, 423, 424, 425, 426, 427, 428, 429, 430, 431, 432, 433, 434, 435, 436, 437, 438, 439, 440, 441, 442, 443, 444, 445, 446, 447, 448, 449, 450, 451, 452, 453, 454, 455, 456, 457, 458, 459, 460, 461, 462, 463, 464, 465, 466, 467, 468, 469, 470, 471, 472, 473, 474, 475, 476, 477, 478, 479, 480, 481, 482, 483, 484, 485, 486, 487, 488, 489, 490, 491], \"y\": [0.06043759618420401, 0.037679631291029574, 0.03760977034901007, 0.01991068236315912, 0.017075957433501026, 0.015531572658520437, 0.014417997616692244, 0.012491377583779347, 0.01194097152626694, 0.010599933638499783, 0.00998891479742074, 0.008761639170823862, 0.008349330615123907, 0.007896414357037022, 0.007676790879721674, 0.007237032452530619, 0.00711639023579277, 0.007036661240384388, 0.006699924924525991, 0.006534164103328344, 0.006348250915140776, 0.006298133668966993, 0.006118559334335926, 0.005865009275705225, 0.005709575818138293, 0.005467274945919688, 0.005434623830206166, 0.005248815148858154, 0.005160540253644371, 0.005022013757803511, 0.004844902595310766, 0.004703649896509884, 0.004679983767519253, 0.0046349320122328844, 0.004449459577737287, 0.00436812738521178, 0.004320122384740925, 0.004283821456455608, 0.0042063924438965694, 0.0041389092553767316, 0.004103395712245167, 0.0040343526158651685, 0.003931963077541809, 0.003838778802033625, 0.0037807444385257083, 0.003685162729068767, 0.003603441364594652, 0.003560752372454404, 0.0035344762031539563, 0.0035141994449668875, 0.0034410669124366375, 0.0034280716864267383, 0.003316168995606989, 0.0032960472069384445, 0.003247830266861167, 0.0032020450255079874, 0.0031681890821478815, 0.0031361414847402803, 0.003084372982589983, 0.003056252213264028, 0.0030098643259887955, 0.002961283124666499, 0.002939882114095393, 0.0029256898310677628, 0.0028743231633957932, 0.0028512805784541204, 0.0028040306227757445, 0.0027840318270222534, 0.0027793271371193795, 0.0027369295827473217, 0.0027171805583276394, 0.0026717105791105797, 0.0026672674616605384, 0.002657455624586247, 0.0026297801579240757, 0.0025912102904691206, 0.00257689722593503, 0.00256112133484147, 0.0025537936490789333, 0.002514380116202903, 0.002507336448747096, 0.002493788267530557, 0.0024870639337451175, 0.0024660271059069564, 0.0024467736644569406, 0.002438919987690582, 0.0024108220758117934, 0.00239072002301976, 0.0023699000951993565, 0.0023516808493714656, 0.0023433245696006426, 0.002331728088609031, 0.002311413917151947, 0.002300595585273023, 0.002289501036215224, 0.0022838623710883374, 0.0022794454017788235, 0.002260167048654076, 0.0022519452330800197, 0.0022366164492672288, 0.0022284892172842368, 0.0022216942473174406, 0.0022170911799907537, 0.0022108393752895143, 0.0022046331434287018, 0.0021888182812463282, 0.0021825820545961767, 0.0021801548340817903, 0.002174250577925903, 0.0021713202371728014, 0.002160078604578163, 0.0021565554353322096, 0.0021497646783435005, 0.0021474706327346983, 0.002146247151393878, 0.0021411591470158376, 0.0021393396033836908, 0.002134685759602428, 0.002131012258173652, 0.002123726469983741, 0.00212020379484256, 0.0021183858277506666, 0.002115801779566132, 0.0021127660635835615, 0.002107544965320877, 0.0021068239386444476, 0.0021028602665552555, 0.0021016142668839667, 0.0020988932180629727, 0.002096833544596382, 0.002092183404058355, 0.0020907983964339287, 0.002089017021900723, 0.0020885061256362106, 0.002086024665750385, 0.0020840567238616632, 0.0020821003354878236, 0.0020805934179548287, 0.002077656093319408, 0.0020766705310097003, 0.002076333409806872, 0.0020725890417243806, 0.0020710051641698907, 0.0020706174340012133, 0.0020684428502110355, 0.0020674711283118386, 0.002066162774574956, 0.0020649266528981873, 0.002062607433936456, 0.002060837123929069, 0.0020586301798062325, 0.0020567046779157412, 0.002055941681847984, 0.0020544175417271807, 0.002053581940890297, 0.0020525573394401028, 0.0020505372374310686, 0.0020498285290364224, 0.0020480588122413637, 0.002046572476662737, 0.0020459407359383723, 0.002045128455696098, 0.0020446873607860693, 0.0020429785632485498, 0.0020422034763348997, 0.002041492457733232, 0.0020391939648679285, 0.0020378278881528137, 0.0020370117558846474, 0.0020363437999003776, 0.0020354550830740687, 0.002035027594634055, 0.002032067092100181, 0.0020317946686505633, 0.0020308164187357036, 0.002029462779022086, 0.0020289599925506397, 0.002027303431038489, 0.002026201370874532, 0.0020241872567042336, 0.002022528695427007, 0.002021278708618226, 0.0020200865000903996, 0.002018819368689928, 0.002014409565732618, 0.0020119111308582573, 0.0020093583810405448, 0.0020073038475463562, 0.002005215248640503, 0.0020025859404270868, 0.002000944337594376, 0.001996232690075913, 0.0019897349488913105, 0.001986703243866491, 0.001980984116875571, 0.0019737074833582127, 0.001972620350471814, 0.0019663685774884195, 0.001962449305108215, 0.0019548356769332354, 0.0019379646743317423, 0.0019272753843234667, 0.0019248421972204318, 0.0019193786713709333, 0.0019071365177287549, 0.0018939659746510717, 0.0018902270447522787, 0.0018795260134006463, 0.0018664970881494816, 0.0018587315536447836, 0.0018516515693762843, 0.0018481470511255698, 0.0018437414387737728, 0.0018379263984828044, 0.0018332087124446202, 0.0018154448542314241, 0.0018054808924516425, 0.0017893533737298563, 0.0017865353649868954, 0.0017775279390468955, 0.001771678182891446, 0.0017667105552410653, 0.0017582381534530073, 0.001742905029764228, 0.0017265339757587127, 0.0017178804908195664, 0.0017112782285398948, 0.001699355292146426, 0.001688519811367791, 0.001681324466394327, 0.0016767010093569612, 0.0016627332127070217, 0.0016459208727817012, 0.0016320066060252765, 0.0016277390841073825, 0.0016172503231285558, 0.0016082896051723816, 0.001599716829243833, 0.001594177073705644, 0.0015683033697161453, 0.0015572523698843235, 0.0015511312353192466, 0.0015506007252364092, 0.001534534187414257, 0.0015165010386516769, 0.0014970128807791894, 0.0014815234056345587, 0.001476587075497899, 0.001468283112943543, 0.0014372502213638092, 0.0014270102635994244, 0.0014179113767100566, 0.0013923947041771512, 0.001379509377507177, 0.0013699542186103794, 0.0013556238899265645, 0.0013521780915290457, 0.0013284279573288098, 0.001314207675922065, 0.0013038391737806986, 0.001293866506323697, 0.0012858064929369103, 0.0012628616138988396, 0.0012501275368331556, 0.0012415420209100812, 0.0012338288682843279, 0.0012272071362975665, 0.0012193263981721376, 0.0012079268278530038, 0.0012046740035594667, 0.0011805149468068525, 0.0011751118763845207, 0.0011603472633634193, 0.0011401949241199294, 0.0011365267904188227, 0.001132701624769331, 0.0011242904361988427, 0.001121859598422904, 0.0011101589564979305, 0.001098260086553562, 0.0010943550972071423, 0.0010779522087506995, 0.0010709546738887398, 0.0010638085347327046, 0.0010561317012816505, 0.0010345439148382216, 0.0010220174700071142, 0.0010144677638856822, 0.0010079559096018017, 0.0009927502650716284, 0.0009861738120821384, 0.0009814001119369939, 0.0009610508643429786, 0.0009591753155817905, 0.0009453386869001808, 0.0009425483787566412, 0.0009273715821925272, 0.000923294815047808, 0.0008954310616012592, 0.0008935660931406911, 0.0008627019310900908, 0.0008565557778906305, 0.0008415446366018792, 0.0008277457237698576, 0.000816978950145076, 0.0008127893471378409, 0.0008073580338942307, 0.0008018086814218104, 0.000795401616166271, 0.0007852327847362934, 0.0007785195678955658, 0.000757684309143551, 0.0007492528727949034, 0.0007469824165863109, 0.0007394682901926514, 0.0007296836260933482, 0.0007224509498807032, 0.0007057210565828009, 0.000695788638283752, 0.0006868355581085373, 0.0006761565739242464, 0.0006691881306168542, 0.0006661066407717797, 0.0006615952559158517, 0.000658831891938866, 0.0006527778076744822, 0.0006446958722118145, 0.0006429529512510574, 0.0006371337883497634, 0.0006351232697628483, 0.0006314116381216207, 0.0006256073891651681, 0.0006187213597700419, 0.0006132499494042267, 0.0006083331505537136, 0.000604881642388666, 0.0005981143671591603, 0.0005840624787060253, 0.0005740885787198195, 0.0005651953954161012, 0.0005642698810192628, 0.0005608941421787942, 0.0005558795989038637, 0.0005526221445079686, 0.0005368798362392576, 0.0005318655108719907, 0.0005230506292122065, 0.0005154772988543232, 0.0005107929282781423, 0.0005030316162236337, 0.0004993813348193361, 0.0004957562674885876, 0.0004920880439051487, 0.0004894334911763704, 0.0004814100470418614, 0.00047507928616387476, 0.0004717583620558343, 0.00046464375765239106, 0.0004606780326147837, 0.00045436963473729185, 0.0004490035835684568, 0.0004468328750385803, 0.0004432075578669567, 0.0004315740176651503, 0.00042637891689986727, 0.00041822019970229324, 0.00040731911814389566, 0.00040246649162903526, 0.00039690317719931576, 0.00039165672758719654, 0.00038865850290459856, 0.00038256508035099395, 0.0003812360900935323, 0.0003693520533261903, 0.00036753313641203794, 0.0003620765287297234, 0.0003588353078181755, 0.00035736902247254494, 0.0003558069782481137, 0.0003467663403376789, 0.00034186063506510135, 0.00034069748223118575, 0.0003348441581811572, 0.00033264135666393813, 0.0003278700245148318, 0.00032223776779586114, 0.00032090065678652485, 0.0003153863514194807, 0.0003067760132955632, 0.00029844487164776615, 0.0002968009553679662, 0.00029427019178348743, 0.0002825450240406978, 0.00027993642553523145, 0.0002746887161530407, 0.0002663747609275923, 0.00026417388554052213, 0.00026167277040864585, 0.0002598634089422242, 0.00025825524014231775, 0.0002547401752983697, 0.00024906359887459157, 0.00024810083490554787, 0.00023854384652219793, 0.0002339191760824291, 0.00023157749968246143, 0.00022992529432419728, 0.00022833807425318, 0.0002254582004121292, 0.00022423111261325415, 0.00021983211076328913, 0.00021192483007083946, 0.0002080953499050499, 0.00020236699972385157, 0.00019917523924041283, 0.00019794409994297076, 0.00019651568154282657, 0.00019596781463155594, 0.00019330841175746225, 0.00019200645669916917, 0.00018714452581851827, 0.00018218259997694505, 0.00018018904712447192, 0.00017912705262484573, 0.00017681571509939705, 0.0001733626050018018, 0.0001728854832806433, 0.00017105684528507124, 0.0001668751576893002, 0.00016550680306588451, 0.00016204404893482266, 0.00015825680822075834, 0.0001573932591632159, 0.0001551676739051038, 0.00015320311980279158, 0.0001525661869876983, 0.00015137515822489847, 0.00015015560312271053, 0.0001473014393177841, 0.0001416649582944649, 0.00013961574917016435, 0.00013694082301516212, 0.0001327941851243376, 0.00011599210109672653, 0.00010691276440330434, 9.938994870965484e-05, 9.45294913077684e-05, 8.946341154526718e-05, 8.871231731376177e-05, 8.852883717051705e-05, 8.635813878495971e-05, 8.412981477534941e-05, 7.728200385006909e-05, 7.157610060219408e-05, 7.10975430488721e-05, 4.860596853793563e-05, 4.188833047841465e-05, 3.934546648669055e-05, 3.393074089010966e-05, 1.1892165697279633e-05, 9.781948849629716e-06, 8.895888957176193e-06, 3.146860655137167e-06, 2.539942986902185e-06, 6.551898995220079e-07, 6.458877076105186e-18, 5.252148689424493e-18, 3.1732522669537915e-18, 2.695471689275846e-18, 2.571551680565823e-18, 2.489820650238948e-18, 2.063034005534515e-18, 1.916062863210513e-18, 1.8476392541712732e-18, 1.5180962037181874e-18, 1.2269394398686507e-18, 1.2170567012935106e-18, 1.0210556683406335e-18, 7.215944755455513e-19, 5.949274910591662e-19, 5.627152541100324e-19, 3.6395487619538463e-19, 2.8727687158281636e-19, 0.0, 0.0, 0.0, 0.0, 0.0, 0.0, 0.0, 0.0, 0.0]}],                        {\"template\": {\"layout\": {\"annotationdefaults\": {\"arrowcolor\": \"#f2f5fa\", \"arrowhead\": 0, \"arrowwidth\": 1}, \"coloraxis\": {\"colorbar\": {\"outlinewidth\": 0, \"ticks\": \"\"}}, \"colorscale\": {\"diverging\": [[0, \"#8e0152\"], [0.1, \"#c51b7d\"], [0.2, \"#de77ae\"], [0.3, \"#f1b6da\"], [0.4, \"#fde0ef\"], [0.5, \"#f7f7f7\"], [0.6, \"#e6f5d0\"], [0.7, \"#b8e186\"], [0.8, \"#7fbc41\"], [0.9, \"#4d9221\"], [1, \"#276419\"]], \"sequential\": [[0.0, \"#0d0887\"], [0.1111111111111111, \"#46039f\"], [0.2222222222222222, \"#7201a8\"], [0.3333333333333333, \"#9c179e\"], [0.4444444444444444, \"#bd3786\"], [0.5555555555555556, \"#d8576b\"], [0.6666666666666666, \"#ed7953\"], [0.7777777777777778, \"#fb9f3a\"], [0.8888888888888888, \"#fdca26\"], [1.0, \"#f0f921\"]], \"sequentialminus\": [[0.0, \"#0d0887\"], [0.1111111111111111, \"#46039f\"], [0.2222222222222222, \"#7201a8\"], [0.3333333333333333, \"#9c179e\"], [0.4444444444444444, \"#bd3786\"], [0.5555555555555556, \"#d8576b\"], [0.6666666666666666, \"#ed7953\"], [0.7777777777777778, \"#fb9f3a\"], [0.8888888888888888, \"#fdca26\"], [1.0, \"#f0f921\"]]}, \"colorway\": [\"rgba(0, 203, 166, 0.7)\", \"rgba(168, 168, 168, 0.7)\", \"#19d3f3\", \"#00cc96\", \"#ab63fa\", \"#00CBA6\", \"#FF6692\", \"#B6E880\", \"#FF97FF\", \"#FECB52\"], \"font\": {\"color\": \"#2a3f5f\", \"family\": \"plain\"}, \"geo\": {\"bgcolor\": \"black\", \"lakecolor\": \"white\", \"landcolor\": \"white\", \"showlakes\": true, \"showland\": true, \"subunitcolor\": \"#506784\"}, \"hoverlabel\": {\"align\": \"left\"}, \"hovermode\": \"closest\", \"images\": [{\"layer\": \"below\", \"opacity\": 0.05, \"sizex\": 0.7, \"sizey\": 0.7, \"source\": \"https://product-derrick.s3.amazonaws.com/logoWhite.png\", \"x\": 0.15, \"xref\": \"paper\", \"y\": 0.75, \"yref\": \"paper\"}], \"mapbox\": {\"style\": \"light\"}, \"paper_bgcolor\": \"white\", \"plot_bgcolor\": \"white\", \"polar\": {\"angularaxis\": {\"gridcolor\": \"#506784\", \"linecolor\": \"#506784\", \"ticks\": \"\"}, \"bgcolor\": \"white\", \"radialaxis\": {\"gridcolor\": \"#506784\", \"linecolor\": \"#506784\", \"ticks\": \"\"}}, \"scene\": {\"xaxis\": {\"backgroundcolor\": \"white\", \"gridcolor\": \"#506784\", \"gridwidth\": 2, \"linecolor\": \"#506784\", \"showbackground\": true, \"ticks\": \"\", \"zerolinecolor\": \"#C8D4E3\"}, \"yaxis\": {\"backgroundcolor\": \"white\", \"gridcolor\": \"#506784\", \"gridwidth\": 2, \"linecolor\": \"#506784\", \"showbackground\": true, \"ticks\": \"\", \"zerolinecolor\": \"#C8D4E3\"}, \"zaxis\": {\"backgroundcolor\": \"rgb(17,17,17)\", \"gridcolor\": \"#506784\", \"gridwidth\": 2, \"linecolor\": \"#506784\", \"showbackground\": true, \"ticks\": \"\", \"zerolinecolor\": \"#C8D4E3\"}}, \"shapedefaults\": {\"line\": {\"color\": \"#f2f5fa\"}}, \"sliderdefaults\": {\"bgcolor\": \"#C8D4E3\", \"bordercolor\": \"rgb(17,17,17)\", \"borderwidth\": 1, \"tickwidth\": 0}, \"ternary\": {\"aaxis\": {\"gridcolor\": \"#506784\", \"linecolor\": \"#506784\", \"ticks\": \"\"}, \"baxis\": {\"gridcolor\": \"#506784\", \"linecolor\": \"#506784\", \"ticks\": \"\"}, \"bgcolor\": \"rgb(17,17,17)\", \"caxis\": {\"gridcolor\": \"#506784\", \"linecolor\": \"#506784\", \"ticks\": \"\"}}, \"title\": {\"font\": {\"size\": 24}, \"x\": 0.05}, \"updatemenudefaults\": {\"bgcolor\": \"#506784\", \"borderwidth\": 0}, \"xaxis\": {\"automargin\": true, \"gridcolor\": \"#DFE8F3\", \"linecolor\": \"#A2B1C6\", \"tickfont\": {\"color\": \"#2a3f5f\", \"family\": \"InterstateMono\", \"size\": 10}, \"ticks\": \"\", \"title\": {\"font\": {\"family\": \"Plain\", \"size\": 18}}, \"zerolinecolor\": \"#DFE8F3\", \"zerolinewidth\": 2}, \"yaxis\": {\"automargin\": true, \"gridcolor\": \"#DFE8F3\", \"linecolor\": \"#A2B1C6\", \"tickfont\": {\"color\": \"#2a3f5f\", \"family\": \"InterstateMono\", \"size\": 10}, \"ticks\": \"\", \"title\": {\"font\": {\"family\": \"plain\", \"size\": 18}}, \"zerolinecolor\": \"#DFE8F3\", \"zerolinewidth\": 2}}}, \"title\": {\"text\": \"Principal Component Analysis\"}, \"xaxis\": {\"title\": {\"text\": \"PCA Components\"}}, \"yaxis\": {\"tickformat\": \".2%\", \"title\": {\"text\": \"Percent of Explained Variance\"}}},                        {\"responsive\": true}                    ).then(function(){\n",
       "                            \n",
       "var gd = document.getElementById('4841a212-a154-47ba-b3f6-dd75ce68f076');\n",
       "var x = new MutationObserver(function (mutations, observer) {{\n",
       "        var display = window.getComputedStyle(gd).display;\n",
       "        if (!display || display === 'none') {{\n",
       "            console.log([gd, 'removed!']);\n",
       "            Plotly.purge(gd);\n",
       "            observer.disconnect();\n",
       "        }}\n",
       "}});\n",
       "\n",
       "// Listen for the removal of the full notebook cells\n",
       "var notebookContainer = gd.closest('#notebook-container');\n",
       "if (notebookContainer) {{\n",
       "    x.observe(notebookContainer, {childList: true});\n",
       "}}\n",
       "\n",
       "// Listen for the clearing of the current output cell\n",
       "var outputEl = gd.closest('.output');\n",
       "if (outputEl) {{\n",
       "    x.observe(outputEl, {childList: true});\n",
       "}}\n",
       "\n",
       "                        })                };                });            </script>        </div>"
      ]
     },
     "metadata": {},
     "output_type": "display_data"
    }
   ],
   "source": [
    "fig = go.Figure()\n",
    "\n",
    "fig.add_trace(\n",
    "    go.Bar(\n",
    "        x=np.arange(len(pca.explained_variance_ratio_)),\n",
    "        y=pca.explained_variance_ratio_\n",
    "    )\n",
    ")\n",
    "fig.update_yaxes(tickformat=\".2%\", title=\"Percent of Explained Variance\")\n",
    "fig.update_xaxes(title = 'PCA Components')\n",
    "fig.update_layout(title = 'Principal Component Analysis')\n",
    "fig.show()\n",
    "# py.plot(fig, filename='udsnd_7_pca', auto_open=False)"
   ]
  },
  {
   "cell_type": "markdown",
   "metadata": {},
   "source": [
    "## Principle Component Analysis\n",
    "\n",
    "We can see for our visuals above that like many large datasets a few components account for a large explanation of the variance. While there are a few components that are larger than the rest the largest components only account for about 25% of the total variance. \n",
    "\n",
    "I have seen some information about 85% being a good start, however that would be about 250 dimensions.  At 180 dimensions I get to about 75% of variance explained. I will start there. "
   ]
  },
  {
   "cell_type": "code",
   "execution_count": 76,
   "metadata": {},
   "outputs": [],
   "source": [
    "n_components = 180\n",
    "pca = PCA(n_components = n_components)\n",
    "pca.fit(azdias_scaled)\n",
    "pca_data = pca.transform(azdias_scaled)"
   ]
  },
  {
   "cell_type": "code",
   "execution_count": 77,
   "metadata": {},
   "outputs": [],
   "source": [
    "def load_score_viz(pc):\n",
    "    '''\n",
    "    Creates visualization of Loading scores for each feature in a principal component.\n",
    "\n",
    "    INPUT - \n",
    "        'pc' - An integer representing the element in the list of principle components\n",
    "    \n",
    "    OUTPUT -\n",
    "        'fig' - Plotly figure with visualization of the top 50 most impactful feature for \n",
    "                that specific component.\n",
    "    '''\n",
    "    loading_scores = pd.Series(pca.components_[pc], index=azdias_scaled.columns)\n",
    "    sorted_loading_scores = loading_scores.abs().sort_values(ascending=False)\n",
    "    fig = go.Figure(\n",
    "        go.Bar(\n",
    "            x = sorted_loading_scores.head(50).index,\n",
    "            y= sorted_loading_scores.head(50)\n",
    "        )\n",
    "    )\n",
    "    fig.update_yaxes(title = \"Proportion of Eigenvector\")\n",
    "    fig.update_layout(title= f\"Absolute Value of Load Score - Principle Component {pc} <br><sub>{round((pca.explained_variance_ratio_[pc] * 100), 2)}% of explained variance\")\n",
    "    return fig"
   ]
  },
  {
   "cell_type": "code",
   "execution_count": 78,
   "metadata": {},
   "outputs": [
    {
     "data": {
      "text/html": [
       "<div>                            <div id=\"496ef679-ec7f-4322-a48b-71d48583ed12\" class=\"plotly-graph-div\" style=\"height:525px; width:100%;\"></div>            <script type=\"text/javascript\">                require([\"plotly\"], function(Plotly) {                    window.PLOTLYENV=window.PLOTLYENV || {};                                    if (document.getElementById(\"496ef679-ec7f-4322-a48b-71d48583ed12\")) {                    Plotly.newPlot(                        \"496ef679-ec7f-4322-a48b-71d48583ed12\",                        [{\"type\": \"bar\", \"x\": [\"MOBI_REGIO\", \"PLZ8_ANTG1\", \"KBA13_ANTG1\", \"PLZ8_ANTG3\", \"KBA13_ANTG3\", \"LP_STATUS_FEIN\", \"KBA13_ANTG4\", \"LP_STATUS_GROB\", \"KBA13_BAUMAX\", \"KBA05_ANTG1\", \"PLZ8_ANTG4\", \"CAMEO_DEUG_2015\", \"PLZ8_BAUMAX\", \"CAMEO_INTL_2015_0\", \"MOBI_RASTER\", \"HH_EINKOMMEN_SCORE\", \"KBA05_AUTOQUOT\", \"KBA05_GBZ\", \"KBA13_AUTOQUOTE\", \"FINANZ_MINIMALIST\", \"ORTSGR_KLS9\", \"EWDICHTE\", \"GEMEINDETYP\", \"KBA13_GBZ\", \"PLZ8_GBZ\", \"KBA05_ANHANG\", \"FINANZ_HAUSBAUER\", \"KBA13_ALTERHALTER_60\", \"KONSUMNAEHE\", \"INNENSTADT\", \"KBA13_HALTER_55\", \"PLZ8_ANTG2\", \"ARBEIT\", \"KBA13_HALTER_30\", \"KBA13_HALTER_50\", \"KBA05_ANTG4\", \"KBA13_HALTER_35\", \"KBA05_ANTG3\", \"KBA05_KRSAQUOT\", \"FIRMENDICHTE\", \"KBA13_SEG_GELAENDEWAGEN\", \"KBA13_KRSAQUOT\", \"STRUKTURTYP\", \"RELAT_AB\", \"WOHNLAGE_7.0\", \"CJT_TYP_2\", \"ANZ_HAUSHALTE_AKTIV\", \"ANZ_STATISTISCHE_HAUSHALTE\", \"CAMEO_INTL_2015_1\", \"KONSUMZELLE\"], \"y\": [0.1453244102209221, 0.14132940061278543, 0.14070080351629347, 0.14021513252660622, 0.13942123067283355, 0.13737199693076033, 0.1360891687977858, 0.13548834150730377, 0.13531441080342185, 0.13508235713785946, 0.1347585444410823, 0.1341760402191595, 0.13359494608689135, 0.13196726461822622, 0.1316419782150849, 0.1285663667103223, 0.128351870533887, 0.12818039507397505, 0.12646013125481984, 0.12103890618565316, 0.1145162611035301, 0.11432546140382452, 0.1094839338334536, 0.10684256750510848, 0.10594326107010058, 0.10127260863891312, 0.10057203659382777, 0.09858049350642752, 0.0973049917604763, 0.09485898087504857, 0.09433237301023657, 0.09405485791110195, 0.0933589703008509, 0.09115944451368528, 0.08792952645352038, 0.08781342735482857, 0.08603963004672702, 0.08469421035156446, 0.08426736241211065, 0.0810753546090761, 0.08090373592135837, 0.08049288243691707, 0.08010187027115406, 0.07997230134788816, 0.07950952103918904, 0.07940198621517866, 0.07910550422331443, 0.07787331614179223, 0.077464343015483, 0.07629815317442924]}],                        {\"template\": {\"layout\": {\"annotationdefaults\": {\"arrowcolor\": \"#f2f5fa\", \"arrowhead\": 0, \"arrowwidth\": 1}, \"coloraxis\": {\"colorbar\": {\"outlinewidth\": 0, \"ticks\": \"\"}}, \"colorscale\": {\"diverging\": [[0, \"#8e0152\"], [0.1, \"#c51b7d\"], [0.2, \"#de77ae\"], [0.3, \"#f1b6da\"], [0.4, \"#fde0ef\"], [0.5, \"#f7f7f7\"], [0.6, \"#e6f5d0\"], [0.7, \"#b8e186\"], [0.8, \"#7fbc41\"], [0.9, \"#4d9221\"], [1, \"#276419\"]], \"sequential\": [[0.0, \"#0d0887\"], [0.1111111111111111, \"#46039f\"], [0.2222222222222222, \"#7201a8\"], [0.3333333333333333, \"#9c179e\"], [0.4444444444444444, \"#bd3786\"], [0.5555555555555556, \"#d8576b\"], [0.6666666666666666, \"#ed7953\"], [0.7777777777777778, \"#fb9f3a\"], [0.8888888888888888, \"#fdca26\"], [1.0, \"#f0f921\"]], \"sequentialminus\": [[0.0, \"#0d0887\"], [0.1111111111111111, \"#46039f\"], [0.2222222222222222, \"#7201a8\"], [0.3333333333333333, \"#9c179e\"], [0.4444444444444444, \"#bd3786\"], [0.5555555555555556, \"#d8576b\"], [0.6666666666666666, \"#ed7953\"], [0.7777777777777778, \"#fb9f3a\"], [0.8888888888888888, \"#fdca26\"], [1.0, \"#f0f921\"]]}, \"colorway\": [\"rgba(0, 203, 166, 0.7)\", \"rgba(168, 168, 168, 0.7)\", \"#19d3f3\", \"#00cc96\", \"#ab63fa\", \"#00CBA6\", \"#FF6692\", \"#B6E880\", \"#FF97FF\", \"#FECB52\"], \"font\": {\"color\": \"#2a3f5f\", \"family\": \"plain\"}, \"geo\": {\"bgcolor\": \"black\", \"lakecolor\": \"white\", \"landcolor\": \"white\", \"showlakes\": true, \"showland\": true, \"subunitcolor\": \"#506784\"}, \"hoverlabel\": {\"align\": \"left\"}, \"hovermode\": \"closest\", \"images\": [{\"layer\": \"below\", \"opacity\": 0.05, \"sizex\": 0.7, \"sizey\": 0.7, \"source\": \"https://product-derrick.s3.amazonaws.com/logoWhite.png\", \"x\": 0.15, \"xref\": \"paper\", \"y\": 0.75, \"yref\": \"paper\"}], \"mapbox\": {\"style\": \"light\"}, \"paper_bgcolor\": \"white\", \"plot_bgcolor\": \"white\", \"polar\": {\"angularaxis\": {\"gridcolor\": \"#506784\", \"linecolor\": \"#506784\", \"ticks\": \"\"}, \"bgcolor\": \"white\", \"radialaxis\": {\"gridcolor\": \"#506784\", \"linecolor\": \"#506784\", \"ticks\": \"\"}}, \"scene\": {\"xaxis\": {\"backgroundcolor\": \"white\", \"gridcolor\": \"#506784\", \"gridwidth\": 2, \"linecolor\": \"#506784\", \"showbackground\": true, \"ticks\": \"\", \"zerolinecolor\": \"#C8D4E3\"}, \"yaxis\": {\"backgroundcolor\": \"white\", \"gridcolor\": \"#506784\", \"gridwidth\": 2, \"linecolor\": \"#506784\", \"showbackground\": true, \"ticks\": \"\", \"zerolinecolor\": \"#C8D4E3\"}, \"zaxis\": {\"backgroundcolor\": \"rgb(17,17,17)\", \"gridcolor\": \"#506784\", \"gridwidth\": 2, \"linecolor\": \"#506784\", \"showbackground\": true, \"ticks\": \"\", \"zerolinecolor\": \"#C8D4E3\"}}, \"shapedefaults\": {\"line\": {\"color\": \"#f2f5fa\"}}, \"sliderdefaults\": {\"bgcolor\": \"#C8D4E3\", \"bordercolor\": \"rgb(17,17,17)\", \"borderwidth\": 1, \"tickwidth\": 0}, \"ternary\": {\"aaxis\": {\"gridcolor\": \"#506784\", \"linecolor\": \"#506784\", \"ticks\": \"\"}, \"baxis\": {\"gridcolor\": \"#506784\", \"linecolor\": \"#506784\", \"ticks\": \"\"}, \"bgcolor\": \"rgb(17,17,17)\", \"caxis\": {\"gridcolor\": \"#506784\", \"linecolor\": \"#506784\", \"ticks\": \"\"}}, \"title\": {\"font\": {\"size\": 24}, \"x\": 0.05}, \"updatemenudefaults\": {\"bgcolor\": \"#506784\", \"borderwidth\": 0}, \"xaxis\": {\"automargin\": true, \"gridcolor\": \"#DFE8F3\", \"linecolor\": \"#A2B1C6\", \"tickfont\": {\"color\": \"#2a3f5f\", \"family\": \"InterstateMono\", \"size\": 10}, \"ticks\": \"\", \"title\": {\"font\": {\"family\": \"Plain\", \"size\": 18}}, \"zerolinecolor\": \"#DFE8F3\", \"zerolinewidth\": 2}, \"yaxis\": {\"automargin\": true, \"gridcolor\": \"#DFE8F3\", \"linecolor\": \"#A2B1C6\", \"tickfont\": {\"color\": \"#2a3f5f\", \"family\": \"InterstateMono\", \"size\": 10}, \"ticks\": \"\", \"title\": {\"font\": {\"family\": \"plain\", \"size\": 18}}, \"zerolinecolor\": \"#DFE8F3\", \"zerolinewidth\": 2}}}, \"title\": {\"text\": \"Absolute Value of Load Score - Principle Component 0 <br><sub>6.04% of explained variance\"}, \"yaxis\": {\"title\": {\"text\": \"Proportion of Eigenvector\"}}},                        {\"responsive\": true}                    ).then(function(){\n",
       "                            \n",
       "var gd = document.getElementById('496ef679-ec7f-4322-a48b-71d48583ed12');\n",
       "var x = new MutationObserver(function (mutations, observer) {{\n",
       "        var display = window.getComputedStyle(gd).display;\n",
       "        if (!display || display === 'none') {{\n",
       "            console.log([gd, 'removed!']);\n",
       "            Plotly.purge(gd);\n",
       "            observer.disconnect();\n",
       "        }}\n",
       "}});\n",
       "\n",
       "// Listen for the removal of the full notebook cells\n",
       "var notebookContainer = gd.closest('#notebook-container');\n",
       "if (notebookContainer) {{\n",
       "    x.observe(notebookContainer, {childList: true});\n",
       "}}\n",
       "\n",
       "// Listen for the clearing of the current output cell\n",
       "var outputEl = gd.closest('.output');\n",
       "if (outputEl) {{\n",
       "    x.observe(outputEl, {childList: true});\n",
       "}}\n",
       "\n",
       "                        })                };                });            </script>        </div>"
      ]
     },
     "metadata": {},
     "output_type": "display_data"
    }
   ],
   "source": [
    "fig = load_score_viz(0)\n",
    "fig.show()\n",
    "# py.plot(fig, filename='udsnd_8_loading', auto_open=False)"
   ]
  },
  {
   "cell_type": "code",
   "execution_count": 79,
   "metadata": {},
   "outputs": [
    {
     "data": {
      "text/html": [
       "<div>                            <div id=\"7e25047c-0c5a-4fbc-8382-8600d83779a2\" class=\"plotly-graph-div\" style=\"height:525px; width:100%;\"></div>            <script type=\"text/javascript\">                require([\"plotly\"], function(Plotly) {                    window.PLOTLYENV=window.PLOTLYENV || {};                                    if (document.getElementById(\"7e25047c-0c5a-4fbc-8382-8600d83779a2\")) {                    Plotly.newPlot(                        \"7e25047c-0c5a-4fbc-8382-8600d83779a2\",                        [{\"type\": \"bar\", \"x\": [\"PRAEGENDE_JUGENDJAHRE\", \"CJT_TYP_1\", \"FINANZ_SPARER\", \"CJT_TYP_2\", \"FINANZ_VORSORGER\", \"FINANZ_UNAUFFAELLIGER\", \"CJT_TYP_5\", \"ALTERSKATEGORIE_GROB\", \"CJT_TYP_4\", \"CJT_TYP_3\", \"SEMIO_PFLICHT\", \"FINANZ_ANLEGER\", \"SEMIO_TRADV\", \"CJT_TYP_6\", \"ALTERSKATEGORIE_FEIN\", \"ZABEOTYP_3.0\", \"SEMIO_REL\", \"KOMBIALTER\", \"SEMIO_RAT\", \"RT_KEIN_ANREIZ\", \"CJT_KATALOGNUTZER\", \"ONLINE_AFFINITAET\", \"RETOURTYP_BK_S_5.0\", \"RT_UEBERGROESSE\", \"SEMIO_LUST\", \"FINANZTYP_1.0\", \"SEMIO_ERL\", \"LP_LEBENSPHASE_GROB_2.0\", \"W_KEIT_KIND_HH\", \"RETOURTYP_BK_S_1.0\", \"SEMIO_KULT\", \"FINANZ_MINIMALIST\", \"LP_LEBENSPHASE_GROB_1.0\", \"ZABEOTYP_4.0\", \"CJT_GESAMTTYP_2.0\", \"SEMIO_MAT\", \"LP_LEBENSPHASE_FEIN_6.0\", \"ZABEOTYP_5.0\", \"FINANZTYP_5.0\", \"UMFELD_ALT\", \"SEMIO_FAM\", \"FINANZTYP_2.0\", \"EINGEZOGENAM_HH_JAHR\", \"FINANZTYP_4.0\", \"LP_LEBENSPHASE_GROB_9.0\", \"ANZ_KINDER\", \"RETOURTYP_BK_S_4.0\", \"VK_DHT4A\", \"LP_LEBENSPHASE_FEIN_1.0\", \"D19_GESAMT_ONLINE_QUOTE_12\"], \"y\": [0.2004628017925836, 0.1865693204282085, 0.18357616993385664, 0.18172721486233628, 0.17482071317326373, 0.17184083051831409, 0.169640917473132, 0.16570701110756503, 0.1647738872082789, 0.16116434022815984, 0.15901723020014133, 0.15844468699960662, 0.15621582137028833, 0.15511958282195135, 0.15043489467331572, 0.1477978273189915, 0.14433884907111705, 0.14404538359588778, 0.1381154869831526, 0.1347928606286567, 0.1314126568078585, 0.12808951782801523, 0.1266713746105059, 0.12642927550932326, 0.12307234756222833, 0.11453264489209498, 0.11384896036943036, 0.10431829160229318, 0.10342829909984111, 0.10014520978478585, 0.09746512804434258, 0.09319422456717193, 0.09056938115836383, 0.08970810510757031, 0.08854285916538655, 0.08794353102667624, 0.08296734822522565, 0.07827701500748183, 0.07602159500089357, 0.07533382495907683, 0.07465186291972994, 0.07260040066435945, 0.06858779099094704, 0.06803708597167542, 0.06771597873815043, 0.06732561941978461, 0.06603384843128118, 0.06532272170322417, 0.0639800395020464, 0.05932338630747071]}],                        {\"template\": {\"layout\": {\"annotationdefaults\": {\"arrowcolor\": \"#f2f5fa\", \"arrowhead\": 0, \"arrowwidth\": 1}, \"coloraxis\": {\"colorbar\": {\"outlinewidth\": 0, \"ticks\": \"\"}}, \"colorscale\": {\"diverging\": [[0, \"#8e0152\"], [0.1, \"#c51b7d\"], [0.2, \"#de77ae\"], [0.3, \"#f1b6da\"], [0.4, \"#fde0ef\"], [0.5, \"#f7f7f7\"], [0.6, \"#e6f5d0\"], [0.7, \"#b8e186\"], [0.8, \"#7fbc41\"], [0.9, \"#4d9221\"], [1, \"#276419\"]], \"sequential\": [[0.0, \"#0d0887\"], [0.1111111111111111, \"#46039f\"], [0.2222222222222222, \"#7201a8\"], [0.3333333333333333, \"#9c179e\"], [0.4444444444444444, \"#bd3786\"], [0.5555555555555556, \"#d8576b\"], [0.6666666666666666, \"#ed7953\"], [0.7777777777777778, \"#fb9f3a\"], [0.8888888888888888, \"#fdca26\"], [1.0, \"#f0f921\"]], \"sequentialminus\": [[0.0, \"#0d0887\"], [0.1111111111111111, \"#46039f\"], [0.2222222222222222, \"#7201a8\"], [0.3333333333333333, \"#9c179e\"], [0.4444444444444444, \"#bd3786\"], [0.5555555555555556, \"#d8576b\"], [0.6666666666666666, \"#ed7953\"], [0.7777777777777778, \"#fb9f3a\"], [0.8888888888888888, \"#fdca26\"], [1.0, \"#f0f921\"]]}, \"colorway\": [\"rgba(0, 203, 166, 0.7)\", \"rgba(168, 168, 168, 0.7)\", \"#19d3f3\", \"#00cc96\", \"#ab63fa\", \"#00CBA6\", \"#FF6692\", \"#B6E880\", \"#FF97FF\", \"#FECB52\"], \"font\": {\"color\": \"#2a3f5f\", \"family\": \"plain\"}, \"geo\": {\"bgcolor\": \"black\", \"lakecolor\": \"white\", \"landcolor\": \"white\", \"showlakes\": true, \"showland\": true, \"subunitcolor\": \"#506784\"}, \"hoverlabel\": {\"align\": \"left\"}, \"hovermode\": \"closest\", \"images\": [{\"layer\": \"below\", \"opacity\": 0.05, \"sizex\": 0.7, \"sizey\": 0.7, \"source\": \"https://product-derrick.s3.amazonaws.com/logoWhite.png\", \"x\": 0.15, \"xref\": \"paper\", \"y\": 0.75, \"yref\": \"paper\"}], \"mapbox\": {\"style\": \"light\"}, \"paper_bgcolor\": \"white\", \"plot_bgcolor\": \"white\", \"polar\": {\"angularaxis\": {\"gridcolor\": \"#506784\", \"linecolor\": \"#506784\", \"ticks\": \"\"}, \"bgcolor\": \"white\", \"radialaxis\": {\"gridcolor\": \"#506784\", \"linecolor\": \"#506784\", \"ticks\": \"\"}}, \"scene\": {\"xaxis\": {\"backgroundcolor\": \"white\", \"gridcolor\": \"#506784\", \"gridwidth\": 2, \"linecolor\": \"#506784\", \"showbackground\": true, \"ticks\": \"\", \"zerolinecolor\": \"#C8D4E3\"}, \"yaxis\": {\"backgroundcolor\": \"white\", \"gridcolor\": \"#506784\", \"gridwidth\": 2, \"linecolor\": \"#506784\", \"showbackground\": true, \"ticks\": \"\", \"zerolinecolor\": \"#C8D4E3\"}, \"zaxis\": {\"backgroundcolor\": \"rgb(17,17,17)\", \"gridcolor\": \"#506784\", \"gridwidth\": 2, \"linecolor\": \"#506784\", \"showbackground\": true, \"ticks\": \"\", \"zerolinecolor\": \"#C8D4E3\"}}, \"shapedefaults\": {\"line\": {\"color\": \"#f2f5fa\"}}, \"sliderdefaults\": {\"bgcolor\": \"#C8D4E3\", \"bordercolor\": \"rgb(17,17,17)\", \"borderwidth\": 1, \"tickwidth\": 0}, \"ternary\": {\"aaxis\": {\"gridcolor\": \"#506784\", \"linecolor\": \"#506784\", \"ticks\": \"\"}, \"baxis\": {\"gridcolor\": \"#506784\", \"linecolor\": \"#506784\", \"ticks\": \"\"}, \"bgcolor\": \"rgb(17,17,17)\", \"caxis\": {\"gridcolor\": \"#506784\", \"linecolor\": \"#506784\", \"ticks\": \"\"}}, \"title\": {\"font\": {\"size\": 24}, \"x\": 0.05}, \"updatemenudefaults\": {\"bgcolor\": \"#506784\", \"borderwidth\": 0}, \"xaxis\": {\"automargin\": true, \"gridcolor\": \"#DFE8F3\", \"linecolor\": \"#A2B1C6\", \"tickfont\": {\"color\": \"#2a3f5f\", \"family\": \"InterstateMono\", \"size\": 10}, \"ticks\": \"\", \"title\": {\"font\": {\"family\": \"Plain\", \"size\": 18}}, \"zerolinecolor\": \"#DFE8F3\", \"zerolinewidth\": 2}, \"yaxis\": {\"automargin\": true, \"gridcolor\": \"#DFE8F3\", \"linecolor\": \"#A2B1C6\", \"tickfont\": {\"color\": \"#2a3f5f\", \"family\": \"InterstateMono\", \"size\": 10}, \"ticks\": \"\", \"title\": {\"font\": {\"family\": \"plain\", \"size\": 18}}, \"zerolinecolor\": \"#DFE8F3\", \"zerolinewidth\": 2}}}, \"title\": {\"text\": \"Absolute Value of Load Score - Principle Component 1 <br><sub>3.77% of explained variance\"}, \"yaxis\": {\"title\": {\"text\": \"Proportion of Eigenvector\"}}},                        {\"responsive\": true}                    ).then(function(){\n",
       "                            \n",
       "var gd = document.getElementById('7e25047c-0c5a-4fbc-8382-8600d83779a2');\n",
       "var x = new MutationObserver(function (mutations, observer) {{\n",
       "        var display = window.getComputedStyle(gd).display;\n",
       "        if (!display || display === 'none') {{\n",
       "            console.log([gd, 'removed!']);\n",
       "            Plotly.purge(gd);\n",
       "            observer.disconnect();\n",
       "        }}\n",
       "}});\n",
       "\n",
       "// Listen for the removal of the full notebook cells\n",
       "var notebookContainer = gd.closest('#notebook-container');\n",
       "if (notebookContainer) {{\n",
       "    x.observe(notebookContainer, {childList: true});\n",
       "}}\n",
       "\n",
       "// Listen for the clearing of the current output cell\n",
       "var outputEl = gd.closest('.output');\n",
       "if (outputEl) {{\n",
       "    x.observe(outputEl, {childList: true});\n",
       "}}\n",
       "\n",
       "                        })                };                });            </script>        </div>"
      ]
     },
     "metadata": {},
     "output_type": "display_data"
    }
   ],
   "source": [
    "fig = load_score_viz(1)\n",
    "fig.show()\n",
    "# py.plot(fig, filename='udsnd_9_loading', auto_open=False)"
   ]
  },
  {
   "cell_type": "code",
   "execution_count": 80,
   "metadata": {},
   "outputs": [
    {
     "data": {
      "text/html": [
       "<div>                            <div id=\"811abb88-d123-4ac5-9514-8fe7d9331aee\" class=\"plotly-graph-div\" style=\"height:525px; width:100%;\"></div>            <script type=\"text/javascript\">                require([\"plotly\"], function(Plotly) {                    window.PLOTLYENV=window.PLOTLYENV || {};                                    if (document.getElementById(\"811abb88-d123-4ac5-9514-8fe7d9331aee\")) {                    Plotly.newPlot(                        \"811abb88-d123-4ac5-9514-8fe7d9331aee\",                        [{\"type\": \"bar\", \"x\": [\"KBA13_HERST_BMW_BENZ\", \"KBA13_SEG_OBEREMITTELKLASSE\", \"KBA13_MERCEDES\", \"KBA13_BMW\", \"KBA13_SITZE_5\", \"KBA13_SITZE_4\", \"KBA13_SEG_SPORTWAGEN\", \"KBA05_HERST1\", \"KBA13_KMH_140_210\", \"KBA13_SEG_KLEINWAGEN\", \"KBA13_KMH_211\", \"KBA13_KMH_250\", \"KBA13_SEG_OBERKLASSE\", \"KBA13_KW_121\", \"KBA13_HALTER_25\", \"KBA05_KW3\", \"KBA13_CCM_2501\", \"KBA13_HALTER_20\", \"KBA13_KMH_180\", \"KBA13_SEG_KOMPAKTKLASSE\", \"OST_WEST_KZ_W\", \"OST_WEST_KZ_O\", \"KBA13_CCM_3000\", \"KBA05_MOTOR\", \"EWDICHTE\", \"KBA13_KRSHERST_BMW_BENZ\", \"KBA05_MOD1\", \"KBA05_CCM4\", \"KBA13_CCM_3001\", \"KBA13_HERST_FORD_OPEL\", \"KBA13_KW_0_60\", \"KBA13_HERST_ASIEN\", \"KBA13_HALTER_65\", \"KBA13_ALTERHALTER_60\", \"STRUKTURTYP\", \"KBA13_FAB_ASIEN\", \"KBA05_SEG5\", \"ORTSGR_KLS9\", \"KBA13_SEG_KLEINST\", \"GEMEINDETYP\", \"KBA05_MAXHERST_1.0\", \"BALLRAUM\", \"KBA05_KW1\", \"KKK\", \"KONSUMNAEHE\", \"KBA13_HALTER_50\", \"FIRMENDICHTE\", \"KBA13_ALTERHALTER_30\", \"KBA13_KRSHERST_FORD_OPEL\", \"KBA13_HALTER_55\"], \"y\": [0.18137285200970735, 0.15550496207011283, 0.15521022636661702, 0.15133893921131764, 0.15051802600504008, 0.1478059215888789, 0.1409216702441693, 0.12816600112250795, 0.1276295540638592, 0.12692459763989394, 0.12348014454711993, 0.12122394895023621, 0.12092446292130737, 0.12066136313054704, 0.1205518876177631, 0.11711545529576012, 0.11488303629648201, 0.11405472900258046, 0.11352225936046557, 0.11156255226354478, 0.10789238978985366, 0.10789238978985366, 0.1073869367459554, 0.10726156512560636, 0.1059704526995719, 0.10520367936910917, 0.1038957826005659, 0.1026839204404527, 0.10181861697020873, 0.10170645826858671, 0.1011759910702865, 0.1009381695960115, 0.10069598751639112, 0.09883660289022689, 0.09810993910381073, 0.0967958762165548, 0.09402151492730847, 0.0936522787940451, 0.09354366475362917, 0.09047249469835339, 0.08916768691799108, 0.0889772902791263, 0.08805989934990457, 0.08782149102827516, 0.08703024099503905, 0.08691131009782833, 0.08560998831050266, 0.0854692967873241, 0.08489742830664089, 0.0847339968751334]}],                        {\"template\": {\"layout\": {\"annotationdefaults\": {\"arrowcolor\": \"#f2f5fa\", \"arrowhead\": 0, \"arrowwidth\": 1}, \"coloraxis\": {\"colorbar\": {\"outlinewidth\": 0, \"ticks\": \"\"}}, \"colorscale\": {\"diverging\": [[0, \"#8e0152\"], [0.1, \"#c51b7d\"], [0.2, \"#de77ae\"], [0.3, \"#f1b6da\"], [0.4, \"#fde0ef\"], [0.5, \"#f7f7f7\"], [0.6, \"#e6f5d0\"], [0.7, \"#b8e186\"], [0.8, \"#7fbc41\"], [0.9, \"#4d9221\"], [1, \"#276419\"]], \"sequential\": [[0.0, \"#0d0887\"], [0.1111111111111111, \"#46039f\"], [0.2222222222222222, \"#7201a8\"], [0.3333333333333333, \"#9c179e\"], [0.4444444444444444, \"#bd3786\"], [0.5555555555555556, \"#d8576b\"], [0.6666666666666666, \"#ed7953\"], [0.7777777777777778, \"#fb9f3a\"], [0.8888888888888888, \"#fdca26\"], [1.0, \"#f0f921\"]], \"sequentialminus\": [[0.0, \"#0d0887\"], [0.1111111111111111, \"#46039f\"], [0.2222222222222222, \"#7201a8\"], [0.3333333333333333, \"#9c179e\"], [0.4444444444444444, \"#bd3786\"], [0.5555555555555556, \"#d8576b\"], [0.6666666666666666, \"#ed7953\"], [0.7777777777777778, \"#fb9f3a\"], [0.8888888888888888, \"#fdca26\"], [1.0, \"#f0f921\"]]}, \"colorway\": [\"rgba(0, 203, 166, 0.7)\", \"rgba(168, 168, 168, 0.7)\", \"#19d3f3\", \"#00cc96\", \"#ab63fa\", \"#00CBA6\", \"#FF6692\", \"#B6E880\", \"#FF97FF\", \"#FECB52\"], \"font\": {\"color\": \"#2a3f5f\", \"family\": \"plain\"}, \"geo\": {\"bgcolor\": \"black\", \"lakecolor\": \"white\", \"landcolor\": \"white\", \"showlakes\": true, \"showland\": true, \"subunitcolor\": \"#506784\"}, \"hoverlabel\": {\"align\": \"left\"}, \"hovermode\": \"closest\", \"images\": [{\"layer\": \"below\", \"opacity\": 0.05, \"sizex\": 0.7, \"sizey\": 0.7, \"source\": \"https://product-derrick.s3.amazonaws.com/logoWhite.png\", \"x\": 0.15, \"xref\": \"paper\", \"y\": 0.75, \"yref\": \"paper\"}], \"mapbox\": {\"style\": \"light\"}, \"paper_bgcolor\": \"white\", \"plot_bgcolor\": \"white\", \"polar\": {\"angularaxis\": {\"gridcolor\": \"#506784\", \"linecolor\": \"#506784\", \"ticks\": \"\"}, \"bgcolor\": \"white\", \"radialaxis\": {\"gridcolor\": \"#506784\", \"linecolor\": \"#506784\", \"ticks\": \"\"}}, \"scene\": {\"xaxis\": {\"backgroundcolor\": \"white\", \"gridcolor\": \"#506784\", \"gridwidth\": 2, \"linecolor\": \"#506784\", \"showbackground\": true, \"ticks\": \"\", \"zerolinecolor\": \"#C8D4E3\"}, \"yaxis\": {\"backgroundcolor\": \"white\", \"gridcolor\": \"#506784\", \"gridwidth\": 2, \"linecolor\": \"#506784\", \"showbackground\": true, \"ticks\": \"\", \"zerolinecolor\": \"#C8D4E3\"}, \"zaxis\": {\"backgroundcolor\": \"rgb(17,17,17)\", \"gridcolor\": \"#506784\", \"gridwidth\": 2, \"linecolor\": \"#506784\", \"showbackground\": true, \"ticks\": \"\", \"zerolinecolor\": \"#C8D4E3\"}}, \"shapedefaults\": {\"line\": {\"color\": \"#f2f5fa\"}}, \"sliderdefaults\": {\"bgcolor\": \"#C8D4E3\", \"bordercolor\": \"rgb(17,17,17)\", \"borderwidth\": 1, \"tickwidth\": 0}, \"ternary\": {\"aaxis\": {\"gridcolor\": \"#506784\", \"linecolor\": \"#506784\", \"ticks\": \"\"}, \"baxis\": {\"gridcolor\": \"#506784\", \"linecolor\": \"#506784\", \"ticks\": \"\"}, \"bgcolor\": \"rgb(17,17,17)\", \"caxis\": {\"gridcolor\": \"#506784\", \"linecolor\": \"#506784\", \"ticks\": \"\"}}, \"title\": {\"font\": {\"size\": 24}, \"x\": 0.05}, \"updatemenudefaults\": {\"bgcolor\": \"#506784\", \"borderwidth\": 0}, \"xaxis\": {\"automargin\": true, \"gridcolor\": \"#DFE8F3\", \"linecolor\": \"#A2B1C6\", \"tickfont\": {\"color\": \"#2a3f5f\", \"family\": \"InterstateMono\", \"size\": 10}, \"ticks\": \"\", \"title\": {\"font\": {\"family\": \"Plain\", \"size\": 18}}, \"zerolinecolor\": \"#DFE8F3\", \"zerolinewidth\": 2}, \"yaxis\": {\"automargin\": true, \"gridcolor\": \"#DFE8F3\", \"linecolor\": \"#A2B1C6\", \"tickfont\": {\"color\": \"#2a3f5f\", \"family\": \"InterstateMono\", \"size\": 10}, \"ticks\": \"\", \"title\": {\"font\": {\"family\": \"plain\", \"size\": 18}}, \"zerolinecolor\": \"#DFE8F3\", \"zerolinewidth\": 2}}}, \"title\": {\"text\": \"Absolute Value of Load Score - Principle Component 2 <br><sub>3.76% of explained variance\"}, \"yaxis\": {\"title\": {\"text\": \"Proportion of Eigenvector\"}}},                        {\"responsive\": true}                    ).then(function(){\n",
       "                            \n",
       "var gd = document.getElementById('811abb88-d123-4ac5-9514-8fe7d9331aee');\n",
       "var x = new MutationObserver(function (mutations, observer) {{\n",
       "        var display = window.getComputedStyle(gd).display;\n",
       "        if (!display || display === 'none') {{\n",
       "            console.log([gd, 'removed!']);\n",
       "            Plotly.purge(gd);\n",
       "            observer.disconnect();\n",
       "        }}\n",
       "}});\n",
       "\n",
       "// Listen for the removal of the full notebook cells\n",
       "var notebookContainer = gd.closest('#notebook-container');\n",
       "if (notebookContainer) {{\n",
       "    x.observe(notebookContainer, {childList: true});\n",
       "}}\n",
       "\n",
       "// Listen for the clearing of the current output cell\n",
       "var outputEl = gd.closest('.output');\n",
       "if (outputEl) {{\n",
       "    x.observe(outputEl, {childList: true});\n",
       "}}\n",
       "\n",
       "                        })                };                });            </script>        </div>"
      ]
     },
     "metadata": {},
     "output_type": "display_data"
    }
   ],
   "source": [
    "fig = load_score_viz(2)\n",
    "fig.show()\n",
    "# py.plot(fig, filename='udsnd_10_loading', auto_open=False)"
   ]
  },
  {
   "cell_type": "markdown",
   "metadata": {},
   "source": [
    "## Optimal Clusters\n",
    "\n",
    "Next I will test several Kmeans centers to find a starting point of least SSE versus trainging time  "
   ]
  },
  {
   "cell_type": "code",
   "execution_count": 81,
   "metadata": {},
   "outputs": [],
   "source": [
    "n_clusters = range(5,50)\n",
    "scores = [MiniBatchKMeans(i, random_state=42).fit(pca_data).score(pca_data) for i in n_clusters]"
   ]
  },
  {
   "cell_type": "code",
   "execution_count": 82,
   "metadata": {},
   "outputs": [
    {
     "data": {
      "text/html": [
       "<div>                            <div id=\"1edf7994-1faa-42cf-a7c4-bc95ecf601b6\" class=\"plotly-graph-div\" style=\"height:525px; width:100%;\"></div>            <script type=\"text/javascript\">                require([\"plotly\"], function(Plotly) {                    window.PLOTLYENV=window.PLOTLYENV || {};                                    if (document.getElementById(\"1edf7994-1faa-42cf-a7c4-bc95ecf601b6\")) {                    Plotly.newPlot(                        \"1edf7994-1faa-42cf-a7c4-bc95ecf601b6\",                        [{\"mode\": \"lines+markers\", \"type\": \"scatter\", \"x\": [5, 6, 7, 8, 9, 10, 11, 12, 13, 14, 15, 16, 17, 18, 19, 20, 21, 22, 23, 24, 25, 26, 27, 28, 29, 30, 31, 32, 33, 34, 35, 36, 37, 38, 39, 40, 41, 42, 43, 44, 45, 46, 47, 48, 49], \"y\": [242450761.09817326, 239945166.95103934, 238085861.5397202, 236853579.27300185, 236210454.4050307, 233408794.64315724, 232632615.67599794, 233178398.27063364, 231637993.60941055, 228256298.42659917, 226810632.86246222, 225137563.42576227, 224169137.49455652, 224057207.23670778, 222666968.142067, 228854378.2906699, 220348767.3314617, 218778540.8252791, 220344623.95536694, 218802785.00294605, 216848718.0835978, 219613442.0529913, 224737223.3386684, 218232158.5312889, 213760181.52886018, 213509447.11514613, 213316769.95598507, 213136598.85408184, 213044178.8556868, 211918678.07903564, 211521225.50679335, 213144212.173436, 211363929.01586476, 208308724.902942, 208870133.6456377, 210747544.83321503, 205677544.1509292, 208434182.66432002, 208051417.8394477, 206869199.51025543, 205827069.7111766, 206064184.68258005, 204248049.303903, 204386089.28572527, 204306395.2952752]}],                        {\"template\": {\"layout\": {\"annotationdefaults\": {\"arrowcolor\": \"#f2f5fa\", \"arrowhead\": 0, \"arrowwidth\": 1}, \"coloraxis\": {\"colorbar\": {\"outlinewidth\": 0, \"ticks\": \"\"}}, \"colorscale\": {\"diverging\": [[0, \"#8e0152\"], [0.1, \"#c51b7d\"], [0.2, \"#de77ae\"], [0.3, \"#f1b6da\"], [0.4, \"#fde0ef\"], [0.5, \"#f7f7f7\"], [0.6, \"#e6f5d0\"], [0.7, \"#b8e186\"], [0.8, \"#7fbc41\"], [0.9, \"#4d9221\"], [1, \"#276419\"]], \"sequential\": [[0.0, \"#0d0887\"], [0.1111111111111111, \"#46039f\"], [0.2222222222222222, \"#7201a8\"], [0.3333333333333333, \"#9c179e\"], [0.4444444444444444, \"#bd3786\"], [0.5555555555555556, \"#d8576b\"], [0.6666666666666666, \"#ed7953\"], [0.7777777777777778, \"#fb9f3a\"], [0.8888888888888888, \"#fdca26\"], [1.0, \"#f0f921\"]], \"sequentialminus\": [[0.0, \"#0d0887\"], [0.1111111111111111, \"#46039f\"], [0.2222222222222222, \"#7201a8\"], [0.3333333333333333, \"#9c179e\"], [0.4444444444444444, \"#bd3786\"], [0.5555555555555556, \"#d8576b\"], [0.6666666666666666, \"#ed7953\"], [0.7777777777777778, \"#fb9f3a\"], [0.8888888888888888, \"#fdca26\"], [1.0, \"#f0f921\"]]}, \"colorway\": [\"rgba(0, 203, 166, 0.7)\", \"rgba(168, 168, 168, 0.7)\", \"#19d3f3\", \"#00cc96\", \"#ab63fa\", \"#00CBA6\", \"#FF6692\", \"#B6E880\", \"#FF97FF\", \"#FECB52\"], \"font\": {\"color\": \"#2a3f5f\", \"family\": \"plain\"}, \"geo\": {\"bgcolor\": \"black\", \"lakecolor\": \"white\", \"landcolor\": \"white\", \"showlakes\": true, \"showland\": true, \"subunitcolor\": \"#506784\"}, \"hoverlabel\": {\"align\": \"left\"}, \"hovermode\": \"closest\", \"images\": [{\"layer\": \"below\", \"opacity\": 0.05, \"sizex\": 0.7, \"sizey\": 0.7, \"source\": \"https://product-derrick.s3.amazonaws.com/logoWhite.png\", \"x\": 0.15, \"xref\": \"paper\", \"y\": 0.75, \"yref\": \"paper\"}], \"mapbox\": {\"style\": \"light\"}, \"paper_bgcolor\": \"white\", \"plot_bgcolor\": \"white\", \"polar\": {\"angularaxis\": {\"gridcolor\": \"#506784\", \"linecolor\": \"#506784\", \"ticks\": \"\"}, \"bgcolor\": \"white\", \"radialaxis\": {\"gridcolor\": \"#506784\", \"linecolor\": \"#506784\", \"ticks\": \"\"}}, \"scene\": {\"xaxis\": {\"backgroundcolor\": \"white\", \"gridcolor\": \"#506784\", \"gridwidth\": 2, \"linecolor\": \"#506784\", \"showbackground\": true, \"ticks\": \"\", \"zerolinecolor\": \"#C8D4E3\"}, \"yaxis\": {\"backgroundcolor\": \"white\", \"gridcolor\": \"#506784\", \"gridwidth\": 2, \"linecolor\": \"#506784\", \"showbackground\": true, \"ticks\": \"\", \"zerolinecolor\": \"#C8D4E3\"}, \"zaxis\": {\"backgroundcolor\": \"rgb(17,17,17)\", \"gridcolor\": \"#506784\", \"gridwidth\": 2, \"linecolor\": \"#506784\", \"showbackground\": true, \"ticks\": \"\", \"zerolinecolor\": \"#C8D4E3\"}}, \"shapedefaults\": {\"line\": {\"color\": \"#f2f5fa\"}}, \"sliderdefaults\": {\"bgcolor\": \"#C8D4E3\", \"bordercolor\": \"rgb(17,17,17)\", \"borderwidth\": 1, \"tickwidth\": 0}, \"ternary\": {\"aaxis\": {\"gridcolor\": \"#506784\", \"linecolor\": \"#506784\", \"ticks\": \"\"}, \"baxis\": {\"gridcolor\": \"#506784\", \"linecolor\": \"#506784\", \"ticks\": \"\"}, \"bgcolor\": \"rgb(17,17,17)\", \"caxis\": {\"gridcolor\": \"#506784\", \"linecolor\": \"#506784\", \"ticks\": \"\"}}, \"title\": {\"font\": {\"size\": 24}, \"x\": 0.05}, \"updatemenudefaults\": {\"bgcolor\": \"#506784\", \"borderwidth\": 0}, \"xaxis\": {\"automargin\": true, \"gridcolor\": \"#DFE8F3\", \"linecolor\": \"#A2B1C6\", \"tickfont\": {\"color\": \"#2a3f5f\", \"family\": \"InterstateMono\", \"size\": 10}, \"ticks\": \"\", \"title\": {\"font\": {\"family\": \"Plain\", \"size\": 18}}, \"zerolinecolor\": \"#DFE8F3\", \"zerolinewidth\": 2}, \"yaxis\": {\"automargin\": true, \"gridcolor\": \"#DFE8F3\", \"linecolor\": \"#A2B1C6\", \"tickfont\": {\"color\": \"#2a3f5f\", \"family\": \"InterstateMono\", \"size\": 10}, \"ticks\": \"\", \"title\": {\"font\": {\"family\": \"plain\", \"size\": 18}}, \"zerolinecolor\": \"#DFE8F3\", \"zerolinewidth\": 2}}}, \"title\": {\"text\": \"K-means Optimal Number of Cluster Centers\"}, \"xaxis\": {\"title\": {\"text\": \"Number of Clusters\"}}, \"yaxis\": {\"title\": {\"text\": \"Sum of Squared Errors\"}}},                        {\"responsive\": true}                    ).then(function(){\n",
       "                            \n",
       "var gd = document.getElementById('1edf7994-1faa-42cf-a7c4-bc95ecf601b6');\n",
       "var x = new MutationObserver(function (mutations, observer) {{\n",
       "        var display = window.getComputedStyle(gd).display;\n",
       "        if (!display || display === 'none') {{\n",
       "            console.log([gd, 'removed!']);\n",
       "            Plotly.purge(gd);\n",
       "            observer.disconnect();\n",
       "        }}\n",
       "}});\n",
       "\n",
       "// Listen for the removal of the full notebook cells\n",
       "var notebookContainer = gd.closest('#notebook-container');\n",
       "if (notebookContainer) {{\n",
       "    x.observe(notebookContainer, {childList: true});\n",
       "}}\n",
       "\n",
       "// Listen for the clearing of the current output cell\n",
       "var outputEl = gd.closest('.output');\n",
       "if (outputEl) {{\n",
       "    x.observe(outputEl, {childList: true});\n",
       "}}\n",
       "\n",
       "                        })                };                });            </script>        </div>"
      ]
     },
     "metadata": {},
     "output_type": "display_data"
    }
   ],
   "source": [
    "fig = go.Figure()\n",
    "fig.add_trace(\n",
    "    go.Scatter(\n",
    "       x=list(n_clusters),\n",
    "       y=np.abs(scores),\n",
    "       mode='lines+markers'\n",
    "    )\n",
    ")\n",
    "fig.update_xaxes(title='Number of Clusters')\n",
    "fig.update_yaxes(title='Sum of Squared Errors')\n",
    "fig.update_layout(title='K-means Optimal Number of Cluster Centers')\n",
    "fig.show()\n",
    "# py.plot(fig, filename='udsnd_11_kmeans', auto_open=False)"
   ]
  },
  {
   "cell_type": "code",
   "execution_count": 83,
   "metadata": {},
   "outputs": [],
   "source": [
    "# re-fith with 11 clusters\n",
    "kmeans = KMeans(n_clusters=19, random_state=42)\n",
    "# general population predictions\n",
    "azdias_predictions = kmeans.fit_predict(pca_data)"
   ]
  },
  {
   "cell_type": "markdown",
   "metadata": {},
   "source": [
    "## Read in Custome data and fit it to current clusters\n",
    "\n",
    "Run this now on scaler, pca, and Kmeans for analysis, but later store into a single pipeline for future use."
   ]
  },
  {
   "cell_type": "code",
   "execution_count": 84,
   "metadata": {},
   "outputs": [
    {
     "name": "stdout",
     "output_type": "stream",
     "text": [
      "Starting Cleaning.\n",
      "Loaded Missing Value codes.\n",
      "Finished converting missing value codes to NaN.\n",
      "These fields were not found in the data ['BIP_FLAG', 'CAMEO_DEUINTL_2015', 'D19_KK_KUNDENTYP', 'GEOSCORE_KLS7', 'HAUSHALTSSTRUKTUR', 'KBA13_CCM_1400_2500', 'SOHO_FLAG', 'WACHSTUMSGEBIET_NB', 'GEOSCORE_KLS7', 'HAUSHALTSSTRUKTUR', 'WACHSTUMSGEBIET_NB']\n",
      "Dropped 57391 rows from the orginal 191652 rows in the dataset\n",
      "Dropped columns with missing data.\n",
      "Converted EINGEFUEGT_AM to year and month\n",
      "Split CAMEO_INTL_2015 into two columns\n",
      "Converted Categorical columns to dummy columns.\n",
      "Imputed NaN values with Median\n"
     ]
    }
   ],
   "source": [
    "cust_neu = pd.read_parquet('Udacity_CUSTOMERS_052018.parquet')\n",
    "LNR, cust_neu = clean_AZ_dataset(cust_neu, impute=True)\n",
    "cust_scaled = scaler.transform(cust_neu.astype(float))\n",
    "cust_pca_data = pca.transform(cust_scaled)\n",
    "cust_cluster_predictions = kmeans.predict(cust_pca_data)"
   ]
  },
  {
   "cell_type": "code",
   "execution_count": 85,
   "metadata": {},
   "outputs": [],
   "source": [
    "# Cant upload Histograms to free Plotly embed site. Convert to Bar Chart\n",
    "x_ax = np.unique(cust_cluster_predictions, return_counts=True)[0]\n",
    "cust_clust = np.unique(cust_cluster_predictions, return_counts=True)[1]/len(cust_cluster_predictions)\n",
    "az_clust = np.unique(azdias_predictions, return_counts=True)[1]/len(azdias_predictions)"
   ]
  },
  {
   "cell_type": "code",
   "execution_count": 86,
   "metadata": {},
   "outputs": [
    {
     "data": {
      "text/html": [
       "<div>                            <div id=\"74032c80-02d6-40ac-9827-8561dcf9d5fe\" class=\"plotly-graph-div\" style=\"height:525px; width:100%;\"></div>            <script type=\"text/javascript\">                require([\"plotly\"], function(Plotly) {                    window.PLOTLYENV=window.PLOTLYENV || {};                                    if (document.getElementById(\"74032c80-02d6-40ac-9827-8561dcf9d5fe\")) {                    Plotly.newPlot(                        \"74032c80-02d6-40ac-9827-8561dcf9d5fe\",                        [{\"name\": \"Customers\", \"opacity\": 0.75, \"type\": \"bar\", \"x\": [0, 1, 2, 3, 4, 5, 6, 7, 8, 9, 10, 11, 12, 13, 14, 15, 16, 17, 18], \"y\": [0.019894086890459628, 0.04539665278822592, 0.0022865910428195827, 0.11960286308012007, 0.006785291335533029, 0.03736751551083338, 0.1237068098703272, 0.13111774826643627, 0.03560229701849383, 0.0056978571588175275, 0.034738308220555486, 0.01894071994101042, 0.0607920393859721, 0.006129851557786699, 0.01149254064843849, 0.04023506453847357, 0.008572854365750292, 0.017734114895613766, 0.2739067934843328]}, {\"name\": \"Population\", \"opacity\": 0.75, \"type\": \"bar\", \"x\": [0, 1, 2, 3, 4, 5, 6, 7, 8, 9, 10, 11, 12, 13, 14, 15, 16, 17, 18], \"y\": [0.03526075666195636, 0.03678787212410223, 0.040188249219813676, 0.042061510853379266, 0.025541515142876923, 0.030198877943430215, 0.08183981441135468, 0.04643245466503231, 0.07283051190267727, 0.060431691786019225, 0.04460534585432269, 0.0427320842207571, 0.0852890592018548, 0.09096314154120565, 0.08173800671387829, 0.02995046716158782, 0.030242315894353472, 0.0501138210057786, 0.07279250369561942]}],                        {\"barmode\": \"overlay\", \"template\": {\"layout\": {\"annotationdefaults\": {\"arrowcolor\": \"#f2f5fa\", \"arrowhead\": 0, \"arrowwidth\": 1}, \"coloraxis\": {\"colorbar\": {\"outlinewidth\": 0, \"ticks\": \"\"}}, \"colorscale\": {\"diverging\": [[0, \"#8e0152\"], [0.1, \"#c51b7d\"], [0.2, \"#de77ae\"], [0.3, \"#f1b6da\"], [0.4, \"#fde0ef\"], [0.5, \"#f7f7f7\"], [0.6, \"#e6f5d0\"], [0.7, \"#b8e186\"], [0.8, \"#7fbc41\"], [0.9, \"#4d9221\"], [1, \"#276419\"]], \"sequential\": [[0.0, \"#0d0887\"], [0.1111111111111111, \"#46039f\"], [0.2222222222222222, \"#7201a8\"], [0.3333333333333333, \"#9c179e\"], [0.4444444444444444, \"#bd3786\"], [0.5555555555555556, \"#d8576b\"], [0.6666666666666666, \"#ed7953\"], [0.7777777777777778, \"#fb9f3a\"], [0.8888888888888888, \"#fdca26\"], [1.0, \"#f0f921\"]], \"sequentialminus\": [[0.0, \"#0d0887\"], [0.1111111111111111, \"#46039f\"], [0.2222222222222222, \"#7201a8\"], [0.3333333333333333, \"#9c179e\"], [0.4444444444444444, \"#bd3786\"], [0.5555555555555556, \"#d8576b\"], [0.6666666666666666, \"#ed7953\"], [0.7777777777777778, \"#fb9f3a\"], [0.8888888888888888, \"#fdca26\"], [1.0, \"#f0f921\"]]}, \"colorway\": [\"rgba(0, 203, 166, 0.7)\", \"rgba(168, 168, 168, 0.7)\", \"#19d3f3\", \"#00cc96\", \"#ab63fa\", \"#00CBA6\", \"#FF6692\", \"#B6E880\", \"#FF97FF\", \"#FECB52\"], \"font\": {\"color\": \"#2a3f5f\", \"family\": \"plain\"}, \"geo\": {\"bgcolor\": \"black\", \"lakecolor\": \"white\", \"landcolor\": \"white\", \"showlakes\": true, \"showland\": true, \"subunitcolor\": \"#506784\"}, \"hoverlabel\": {\"align\": \"left\"}, \"hovermode\": \"closest\", \"images\": [{\"layer\": \"below\", \"opacity\": 0.05, \"sizex\": 0.7, \"sizey\": 0.7, \"source\": \"https://product-derrick.s3.amazonaws.com/logoWhite.png\", \"x\": 0.15, \"xref\": \"paper\", \"y\": 0.75, \"yref\": \"paper\"}], \"mapbox\": {\"style\": \"light\"}, \"paper_bgcolor\": \"white\", \"plot_bgcolor\": \"white\", \"polar\": {\"angularaxis\": {\"gridcolor\": \"#506784\", \"linecolor\": \"#506784\", \"ticks\": \"\"}, \"bgcolor\": \"white\", \"radialaxis\": {\"gridcolor\": \"#506784\", \"linecolor\": \"#506784\", \"ticks\": \"\"}}, \"scene\": {\"xaxis\": {\"backgroundcolor\": \"white\", \"gridcolor\": \"#506784\", \"gridwidth\": 2, \"linecolor\": \"#506784\", \"showbackground\": true, \"ticks\": \"\", \"zerolinecolor\": \"#C8D4E3\"}, \"yaxis\": {\"backgroundcolor\": \"white\", \"gridcolor\": \"#506784\", \"gridwidth\": 2, \"linecolor\": \"#506784\", \"showbackground\": true, \"ticks\": \"\", \"zerolinecolor\": \"#C8D4E3\"}, \"zaxis\": {\"backgroundcolor\": \"rgb(17,17,17)\", \"gridcolor\": \"#506784\", \"gridwidth\": 2, \"linecolor\": \"#506784\", \"showbackground\": true, \"ticks\": \"\", \"zerolinecolor\": \"#C8D4E3\"}}, \"shapedefaults\": {\"line\": {\"color\": \"#f2f5fa\"}}, \"sliderdefaults\": {\"bgcolor\": \"#C8D4E3\", \"bordercolor\": \"rgb(17,17,17)\", \"borderwidth\": 1, \"tickwidth\": 0}, \"ternary\": {\"aaxis\": {\"gridcolor\": \"#506784\", \"linecolor\": \"#506784\", \"ticks\": \"\"}, \"baxis\": {\"gridcolor\": \"#506784\", \"linecolor\": \"#506784\", \"ticks\": \"\"}, \"bgcolor\": \"rgb(17,17,17)\", \"caxis\": {\"gridcolor\": \"#506784\", \"linecolor\": \"#506784\", \"ticks\": \"\"}}, \"title\": {\"font\": {\"size\": 24}, \"x\": 0.05}, \"updatemenudefaults\": {\"bgcolor\": \"#506784\", \"borderwidth\": 0}, \"xaxis\": {\"automargin\": true, \"gridcolor\": \"#DFE8F3\", \"linecolor\": \"#A2B1C6\", \"tickfont\": {\"color\": \"#2a3f5f\", \"family\": \"InterstateMono\", \"size\": 10}, \"ticks\": \"\", \"title\": {\"font\": {\"family\": \"Plain\", \"size\": 18}}, \"zerolinecolor\": \"#DFE8F3\", \"zerolinewidth\": 2}, \"yaxis\": {\"automargin\": true, \"gridcolor\": \"#DFE8F3\", \"linecolor\": \"#A2B1C6\", \"tickfont\": {\"color\": \"#2a3f5f\", \"family\": \"InterstateMono\", \"size\": 10}, \"ticks\": \"\", \"title\": {\"font\": {\"family\": \"plain\", \"size\": 18}}, \"zerolinecolor\": \"#DFE8F3\", \"zerolinewidth\": 2}}}, \"title\": {\"text\": \"Customer Segmentation\"}, \"xaxis\": {\"title\": {\"text\": \"Customer Groups\"}}, \"yaxis\": {\"tickformat\": \".2%\", \"title\": {\"text\": \"Frequency\"}}},                        {\"responsive\": true}                    ).then(function(){\n",
       "                            \n",
       "var gd = document.getElementById('74032c80-02d6-40ac-9827-8561dcf9d5fe');\n",
       "var x = new MutationObserver(function (mutations, observer) {{\n",
       "        var display = window.getComputedStyle(gd).display;\n",
       "        if (!display || display === 'none') {{\n",
       "            console.log([gd, 'removed!']);\n",
       "            Plotly.purge(gd);\n",
       "            observer.disconnect();\n",
       "        }}\n",
       "}});\n",
       "\n",
       "// Listen for the removal of the full notebook cells\n",
       "var notebookContainer = gd.closest('#notebook-container');\n",
       "if (notebookContainer) {{\n",
       "    x.observe(notebookContainer, {childList: true});\n",
       "}}\n",
       "\n",
       "// Listen for the clearing of the current output cell\n",
       "var outputEl = gd.closest('.output');\n",
       "if (outputEl) {{\n",
       "    x.observe(outputEl, {childList: true});\n",
       "}}\n",
       "\n",
       "                        })                };                });            </script>        </div>"
      ]
     },
     "metadata": {},
     "output_type": "display_data"
    }
   ],
   "source": [
    "fig = go.Figure()\n",
    "fig.add_trace(\n",
    "    go.Bar(\n",
    "        x=x_ax,\n",
    "        y=cust_clust,\n",
    "        name='Customers'\n",
    "    )\n",
    ")\n",
    "fig.add_trace(\n",
    "    go.Bar(\n",
    "        x=x_ax,\n",
    "        y=az_clust,\n",
    "        name='Population'\n",
    "    )\n",
    ")\n",
    "fig.update_yaxes(tickformat='.2%', title='Frequency')\n",
    "fig.update_xaxes(title='Customer Groups')\n",
    "fig.update_layout(barmode='overlay', title='Customer Segmentation')\n",
    "fig.update_traces(opacity=0.75)\n",
    "fig.show()\n",
    "# py.plot(fig, filname='udsnd_12_segments', auto_open=False)"
   ]
  },
  {
   "cell_type": "markdown",
   "metadata": {},
   "source": [
    "## Understand our clusters\n",
    "\n",
    "Now that I can see how our customer group differs from the population, I will take a look to determine some individual features that differ. \n",
    "\n",
    "With 366 different columns of data to start it is too exhuastive to analyse each feature. However, with PCA and our Loading Score visual, we might start with those features that had the largest proportion of the eigenvector in the components that had the greatest explained variance. \n",
    "\n",
    "**Cluster 18**\n",
    "\n",
    "One cluster had more than 25% of our customer population.  Cluster 18 is a great example to start to see the features that most qualify our customers. "
   ]
  },
  {
   "cell_type": "code",
   "execution_count": 87,
   "metadata": {},
   "outputs": [],
   "source": [
    "# Add cluster column to both dataframes to filter by cluster\n",
    "cust_neu['cluster'] = cust_cluster_predictions"
   ]
  },
  {
   "cell_type": "code",
   "execution_count": 88,
   "metadata": {},
   "outputs": [],
   "source": [
    "def plot_feature_compare(feature, cluster):\n",
    "    '''\n",
    "    Builds a plot compare features of the customer group versus the population for a specific cluster.cust_neu\n",
    "    \n",
    "    INPUT - feature: String of column name\n",
    "            cluster: integer of customer cluster to filter on\n",
    "    \n",
    "    OUTPUT - Plotly figure with distribution of values for each group.\n",
    "    '''\n",
    "    x_ax = np.unique(azdias_neu[feature], return_counts=True)[0]\n",
    "    cust_mobi_reg = np.unique(cust_neu.loc[cust_neu['cluster'] == cluster, feature], return_counts=True)[1]/len(cust_neu.loc[cust_neu['cluster'] == cluster])\n",
    "    az_mobi_reg = np.unique(azdias_neu[feature], return_counts=True)[1]/len(azdias_neu)\n",
    "    fig = go.Figure()\n",
    "    fig.add_trace(\n",
    "        go.Bar(\n",
    "            x=x_ax,\n",
    "            y=cust_mobi_reg,\n",
    "            name='Customers'\n",
    "        )\n",
    "    )\n",
    "    fig.add_trace(\n",
    "        go.Bar(\n",
    "            x=x_ax,\n",
    "            y=az_mobi_reg,\n",
    "            name='Population'\n",
    "        )\n",
    "    )\n",
    "    fig.update_yaxes(tickformat='.2%', title='Frequency')\n",
    "    fig.update_xaxes(title='Value')\n",
    "    fig.update_layout(barmode='overlay', title=f'Customer Segmentation by Feature<br><sub><b>Cluster:</b> {cluster}  - <b>Feature:</b> {feature}')\n",
    "    fig.update_traces(opacity=0.75)\n",
    "    return fig"
   ]
  },
  {
   "cell_type": "markdown",
   "metadata": {},
   "source": [
    "`MOBI_REGIO` - This feature had the highest loading score in the Principle component with the most explained variance. The freature describes moving patterns. Lower numbers are high mobility and high numbers are very low mobility. It is clear the Arvato Customers have lower mobility regionally."
   ]
  },
  {
   "cell_type": "code",
   "execution_count": 89,
   "metadata": {},
   "outputs": [
    {
     "data": {
      "text/html": [
       "<div>                            <div id=\"75bc2850-06a8-4405-9e1e-3fd6125e36f8\" class=\"plotly-graph-div\" style=\"height:525px; width:100%;\"></div>            <script type=\"text/javascript\">                require([\"plotly\"], function(Plotly) {                    window.PLOTLYENV=window.PLOTLYENV || {};                                    if (document.getElementById(\"75bc2850-06a8-4405-9e1e-3fd6125e36f8\")) {                    Plotly.newPlot(                        \"75bc2850-06a8-4405-9e1e-3fd6125e36f8\",                        [{\"name\": \"Customers\", \"opacity\": 0.75, \"type\": \"bar\", \"x\": [1.0, 2.0, 3.0, 4.0, 5.0, 6.0], \"y\": [0.0014140040788579197, 0.008891910265125764, 0.17030591434398368, 0.36445955132562885, 0.45386811692726037, 0.00106050305914344]}, {\"name\": \"Population\", \"opacity\": 0.75, \"type\": \"bar\", \"x\": [1.0, 2.0, 3.0, 4.0, 5.0, 6.0], \"y\": [0.20465654833897348, 0.19489794117686984, 0.20125209893536297, 0.19913585626382038, 0.1996801880863275, 0.0003773671986458219]}],                        {\"barmode\": \"overlay\", \"template\": {\"layout\": {\"annotationdefaults\": {\"arrowcolor\": \"#f2f5fa\", \"arrowhead\": 0, \"arrowwidth\": 1}, \"coloraxis\": {\"colorbar\": {\"outlinewidth\": 0, \"ticks\": \"\"}}, \"colorscale\": {\"diverging\": [[0, \"#8e0152\"], [0.1, \"#c51b7d\"], [0.2, \"#de77ae\"], [0.3, \"#f1b6da\"], [0.4, \"#fde0ef\"], [0.5, \"#f7f7f7\"], [0.6, \"#e6f5d0\"], [0.7, \"#b8e186\"], [0.8, \"#7fbc41\"], [0.9, \"#4d9221\"], [1, \"#276419\"]], \"sequential\": [[0.0, \"#0d0887\"], [0.1111111111111111, \"#46039f\"], [0.2222222222222222, \"#7201a8\"], [0.3333333333333333, \"#9c179e\"], [0.4444444444444444, \"#bd3786\"], [0.5555555555555556, \"#d8576b\"], [0.6666666666666666, \"#ed7953\"], [0.7777777777777778, \"#fb9f3a\"], [0.8888888888888888, \"#fdca26\"], [1.0, \"#f0f921\"]], \"sequentialminus\": [[0.0, \"#0d0887\"], [0.1111111111111111, \"#46039f\"], [0.2222222222222222, \"#7201a8\"], [0.3333333333333333, \"#9c179e\"], [0.4444444444444444, \"#bd3786\"], [0.5555555555555556, \"#d8576b\"], [0.6666666666666666, \"#ed7953\"], [0.7777777777777778, \"#fb9f3a\"], [0.8888888888888888, \"#fdca26\"], [1.0, \"#f0f921\"]]}, \"colorway\": [\"rgba(0, 203, 166, 0.7)\", \"rgba(168, 168, 168, 0.7)\", \"#19d3f3\", \"#00cc96\", \"#ab63fa\", \"#00CBA6\", \"#FF6692\", \"#B6E880\", \"#FF97FF\", \"#FECB52\"], \"font\": {\"color\": \"#2a3f5f\", \"family\": \"plain\"}, \"geo\": {\"bgcolor\": \"black\", \"lakecolor\": \"white\", \"landcolor\": \"white\", \"showlakes\": true, \"showland\": true, \"subunitcolor\": \"#506784\"}, \"hoverlabel\": {\"align\": \"left\"}, \"hovermode\": \"closest\", \"images\": [{\"layer\": \"below\", \"opacity\": 0.05, \"sizex\": 0.7, \"sizey\": 0.7, \"source\": \"https://product-derrick.s3.amazonaws.com/logoWhite.png\", \"x\": 0.15, \"xref\": \"paper\", \"y\": 0.75, \"yref\": \"paper\"}], \"mapbox\": {\"style\": \"light\"}, \"paper_bgcolor\": \"white\", \"plot_bgcolor\": \"white\", \"polar\": {\"angularaxis\": {\"gridcolor\": \"#506784\", \"linecolor\": \"#506784\", \"ticks\": \"\"}, \"bgcolor\": \"white\", \"radialaxis\": {\"gridcolor\": \"#506784\", \"linecolor\": \"#506784\", \"ticks\": \"\"}}, \"scene\": {\"xaxis\": {\"backgroundcolor\": \"white\", \"gridcolor\": \"#506784\", \"gridwidth\": 2, \"linecolor\": \"#506784\", \"showbackground\": true, \"ticks\": \"\", \"zerolinecolor\": \"#C8D4E3\"}, \"yaxis\": {\"backgroundcolor\": \"white\", \"gridcolor\": \"#506784\", \"gridwidth\": 2, \"linecolor\": \"#506784\", \"showbackground\": true, \"ticks\": \"\", \"zerolinecolor\": \"#C8D4E3\"}, \"zaxis\": {\"backgroundcolor\": \"rgb(17,17,17)\", \"gridcolor\": \"#506784\", \"gridwidth\": 2, \"linecolor\": \"#506784\", \"showbackground\": true, \"ticks\": \"\", \"zerolinecolor\": \"#C8D4E3\"}}, \"shapedefaults\": {\"line\": {\"color\": \"#f2f5fa\"}}, \"sliderdefaults\": {\"bgcolor\": \"#C8D4E3\", \"bordercolor\": \"rgb(17,17,17)\", \"borderwidth\": 1, \"tickwidth\": 0}, \"ternary\": {\"aaxis\": {\"gridcolor\": \"#506784\", \"linecolor\": \"#506784\", \"ticks\": \"\"}, \"baxis\": {\"gridcolor\": \"#506784\", \"linecolor\": \"#506784\", \"ticks\": \"\"}, \"bgcolor\": \"rgb(17,17,17)\", \"caxis\": {\"gridcolor\": \"#506784\", \"linecolor\": \"#506784\", \"ticks\": \"\"}}, \"title\": {\"font\": {\"size\": 24}, \"x\": 0.05}, \"updatemenudefaults\": {\"bgcolor\": \"#506784\", \"borderwidth\": 0}, \"xaxis\": {\"automargin\": true, \"gridcolor\": \"#DFE8F3\", \"linecolor\": \"#A2B1C6\", \"tickfont\": {\"color\": \"#2a3f5f\", \"family\": \"InterstateMono\", \"size\": 10}, \"ticks\": \"\", \"title\": {\"font\": {\"family\": \"Plain\", \"size\": 18}}, \"zerolinecolor\": \"#DFE8F3\", \"zerolinewidth\": 2}, \"yaxis\": {\"automargin\": true, \"gridcolor\": \"#DFE8F3\", \"linecolor\": \"#A2B1C6\", \"tickfont\": {\"color\": \"#2a3f5f\", \"family\": \"InterstateMono\", \"size\": 10}, \"ticks\": \"\", \"title\": {\"font\": {\"family\": \"plain\", \"size\": 18}}, \"zerolinecolor\": \"#DFE8F3\", \"zerolinewidth\": 2}}}, \"title\": {\"text\": \"Customer Segmentation by Feature<br><sub><b>Cluster:</b> 18  - <b>Feature:</b> MOBI_REGIO\"}, \"xaxis\": {\"title\": {\"text\": \"Value\"}}, \"yaxis\": {\"tickformat\": \".2%\", \"title\": {\"text\": \"Frequency\"}}},                        {\"responsive\": true}                    ).then(function(){\n",
       "                            \n",
       "var gd = document.getElementById('75bc2850-06a8-4405-9e1e-3fd6125e36f8');\n",
       "var x = new MutationObserver(function (mutations, observer) {{\n",
       "        var display = window.getComputedStyle(gd).display;\n",
       "        if (!display || display === 'none') {{\n",
       "            console.log([gd, 'removed!']);\n",
       "            Plotly.purge(gd);\n",
       "            observer.disconnect();\n",
       "        }}\n",
       "}});\n",
       "\n",
       "// Listen for the removal of the full notebook cells\n",
       "var notebookContainer = gd.closest('#notebook-container');\n",
       "if (notebookContainer) {{\n",
       "    x.observe(notebookContainer, {childList: true});\n",
       "}}\n",
       "\n",
       "// Listen for the clearing of the current output cell\n",
       "var outputEl = gd.closest('.output');\n",
       "if (outputEl) {{\n",
       "    x.observe(outputEl, {childList: true});\n",
       "}}\n",
       "\n",
       "                        })                };                });            </script>        </div>"
      ]
     },
     "metadata": {},
     "output_type": "display_data"
    }
   ],
   "source": [
    "fig = plot_feature_compare('MOBI_REGIO', 18)\n",
    "fig.show()\n",
    "# py.plot(fig, filname='udsnd_13_features', auto_open=False)"
   ]
  },
  {
   "cell_type": "markdown",
   "metadata": {},
   "source": [
    "In PC2 the largest loading score was `PRAEGENDE_JUGENDJAHRE`"
   ]
  },
  {
   "cell_type": "code",
   "execution_count": 90,
   "metadata": {},
   "outputs": [
    {
     "data": {
      "text/html": [
       "<div>                            <div id=\"98dc5a2a-e136-4b1c-88df-0d80728a27ed\" class=\"plotly-graph-div\" style=\"height:525px; width:100%;\"></div>            <script type=\"text/javascript\">                require([\"plotly\"], function(Plotly) {                    window.PLOTLYENV=window.PLOTLYENV || {};                                    if (document.getElementById(\"98dc5a2a-e136-4b1c-88df-0d80728a27ed\")) {                    Plotly.newPlot(                        \"98dc5a2a-e136-4b1c-88df-0d80728a27ed\",                        [{\"name\": \"Customers\", \"opacity\": 0.75, \"type\": \"bar\", \"x\": [1.0, 2.0, 3.0, 4.0, 5.0, 6.0, 7.0, 8.0, 9.0, 10.0, 11.0, 12.0, 13.0, 14.0, 15.0], \"y\": [0.034724677090414685, 0.06925900747790618, 0.10556084296397009, 0.20609109449354182, 0.12587355540448675, 0.1831135282121006, 0.005955132562882393, 0.10061182868796736, 0.1254656696125085, 0.01193745751189667, 0.027138001359619305, 0.0002991162474507138, 0.0013868116927260366, 0.0006526172671651937, 0.0019306594153636982]}, {\"name\": \"Population\", \"opacity\": 0.75, \"type\": \"bar\", \"x\": [1.0, 2.0, 3.0, 4.0, 5.0, 6.0, 7.0, 8.0, 9.0, 10.0, 11.0, 12.0, 13.0, 14.0, 15.0], \"y\": [0.02527817256540466, 0.010009732815878743, 0.06940162865167243, 0.027279033179807326, 0.10983693121736215, 0.03414358686164877, 0.005217983854656616, 0.17732050284857936, 0.07226174623277583, 0.10663609720870443, 0.04394291710274297, 0.030489369240229516, 0.0068726982976395545, 0.2287428921259212, 0.05256670779697645]}],                        {\"barmode\": \"overlay\", \"template\": {\"layout\": {\"annotationdefaults\": {\"arrowcolor\": \"#f2f5fa\", \"arrowhead\": 0, \"arrowwidth\": 1}, \"coloraxis\": {\"colorbar\": {\"outlinewidth\": 0, \"ticks\": \"\"}}, \"colorscale\": {\"diverging\": [[0, \"#8e0152\"], [0.1, \"#c51b7d\"], [0.2, \"#de77ae\"], [0.3, \"#f1b6da\"], [0.4, \"#fde0ef\"], [0.5, \"#f7f7f7\"], [0.6, \"#e6f5d0\"], [0.7, \"#b8e186\"], [0.8, \"#7fbc41\"], [0.9, \"#4d9221\"], [1, \"#276419\"]], \"sequential\": [[0.0, \"#0d0887\"], [0.1111111111111111, \"#46039f\"], [0.2222222222222222, \"#7201a8\"], [0.3333333333333333, \"#9c179e\"], [0.4444444444444444, \"#bd3786\"], [0.5555555555555556, \"#d8576b\"], [0.6666666666666666, \"#ed7953\"], [0.7777777777777778, \"#fb9f3a\"], [0.8888888888888888, \"#fdca26\"], [1.0, \"#f0f921\"]], \"sequentialminus\": [[0.0, \"#0d0887\"], [0.1111111111111111, \"#46039f\"], [0.2222222222222222, \"#7201a8\"], [0.3333333333333333, \"#9c179e\"], [0.4444444444444444, \"#bd3786\"], [0.5555555555555556, \"#d8576b\"], [0.6666666666666666, \"#ed7953\"], [0.7777777777777778, \"#fb9f3a\"], [0.8888888888888888, \"#fdca26\"], [1.0, \"#f0f921\"]]}, \"colorway\": [\"rgba(0, 203, 166, 0.7)\", \"rgba(168, 168, 168, 0.7)\", \"#19d3f3\", \"#00cc96\", \"#ab63fa\", \"#00CBA6\", \"#FF6692\", \"#B6E880\", \"#FF97FF\", \"#FECB52\"], \"font\": {\"color\": \"#2a3f5f\", \"family\": \"plain\"}, \"geo\": {\"bgcolor\": \"black\", \"lakecolor\": \"white\", \"landcolor\": \"white\", \"showlakes\": true, \"showland\": true, \"subunitcolor\": \"#506784\"}, \"hoverlabel\": {\"align\": \"left\"}, \"hovermode\": \"closest\", \"images\": [{\"layer\": \"below\", \"opacity\": 0.05, \"sizex\": 0.7, \"sizey\": 0.7, \"source\": \"https://product-derrick.s3.amazonaws.com/logoWhite.png\", \"x\": 0.15, \"xref\": \"paper\", \"y\": 0.75, \"yref\": \"paper\"}], \"mapbox\": {\"style\": \"light\"}, \"paper_bgcolor\": \"white\", \"plot_bgcolor\": \"white\", \"polar\": {\"angularaxis\": {\"gridcolor\": \"#506784\", \"linecolor\": \"#506784\", \"ticks\": \"\"}, \"bgcolor\": \"white\", \"radialaxis\": {\"gridcolor\": \"#506784\", \"linecolor\": \"#506784\", \"ticks\": \"\"}}, \"scene\": {\"xaxis\": {\"backgroundcolor\": \"white\", \"gridcolor\": \"#506784\", \"gridwidth\": 2, \"linecolor\": \"#506784\", \"showbackground\": true, \"ticks\": \"\", \"zerolinecolor\": \"#C8D4E3\"}, \"yaxis\": {\"backgroundcolor\": \"white\", \"gridcolor\": \"#506784\", \"gridwidth\": 2, \"linecolor\": \"#506784\", \"showbackground\": true, \"ticks\": \"\", \"zerolinecolor\": \"#C8D4E3\"}, \"zaxis\": {\"backgroundcolor\": \"rgb(17,17,17)\", \"gridcolor\": \"#506784\", \"gridwidth\": 2, \"linecolor\": \"#506784\", \"showbackground\": true, \"ticks\": \"\", \"zerolinecolor\": \"#C8D4E3\"}}, \"shapedefaults\": {\"line\": {\"color\": \"#f2f5fa\"}}, \"sliderdefaults\": {\"bgcolor\": \"#C8D4E3\", \"bordercolor\": \"rgb(17,17,17)\", \"borderwidth\": 1, \"tickwidth\": 0}, \"ternary\": {\"aaxis\": {\"gridcolor\": \"#506784\", \"linecolor\": \"#506784\", \"ticks\": \"\"}, \"baxis\": {\"gridcolor\": \"#506784\", \"linecolor\": \"#506784\", \"ticks\": \"\"}, \"bgcolor\": \"rgb(17,17,17)\", \"caxis\": {\"gridcolor\": \"#506784\", \"linecolor\": \"#506784\", \"ticks\": \"\"}}, \"title\": {\"font\": {\"size\": 24}, \"x\": 0.05}, \"updatemenudefaults\": {\"bgcolor\": \"#506784\", \"borderwidth\": 0}, \"xaxis\": {\"automargin\": true, \"gridcolor\": \"#DFE8F3\", \"linecolor\": \"#A2B1C6\", \"tickfont\": {\"color\": \"#2a3f5f\", \"family\": \"InterstateMono\", \"size\": 10}, \"ticks\": \"\", \"title\": {\"font\": {\"family\": \"Plain\", \"size\": 18}}, \"zerolinecolor\": \"#DFE8F3\", \"zerolinewidth\": 2}, \"yaxis\": {\"automargin\": true, \"gridcolor\": \"#DFE8F3\", \"linecolor\": \"#A2B1C6\", \"tickfont\": {\"color\": \"#2a3f5f\", \"family\": \"InterstateMono\", \"size\": 10}, \"ticks\": \"\", \"title\": {\"font\": {\"family\": \"plain\", \"size\": 18}}, \"zerolinecolor\": \"#DFE8F3\", \"zerolinewidth\": 2}}}, \"title\": {\"text\": \"Customer Segmentation by Feature<br><sub><b>Cluster:</b> 18  - <b>Feature:</b> PRAEGENDE_JUGENDJAHRE\"}, \"xaxis\": {\"title\": {\"text\": \"Value\"}}, \"yaxis\": {\"tickformat\": \".2%\", \"title\": {\"text\": \"Frequency\"}}},                        {\"responsive\": true}                    ).then(function(){\n",
       "                            \n",
       "var gd = document.getElementById('98dc5a2a-e136-4b1c-88df-0d80728a27ed');\n",
       "var x = new MutationObserver(function (mutations, observer) {{\n",
       "        var display = window.getComputedStyle(gd).display;\n",
       "        if (!display || display === 'none') {{\n",
       "            console.log([gd, 'removed!']);\n",
       "            Plotly.purge(gd);\n",
       "            observer.disconnect();\n",
       "        }}\n",
       "}});\n",
       "\n",
       "// Listen for the removal of the full notebook cells\n",
       "var notebookContainer = gd.closest('#notebook-container');\n",
       "if (notebookContainer) {{\n",
       "    x.observe(notebookContainer, {childList: true});\n",
       "}}\n",
       "\n",
       "// Listen for the clearing of the current output cell\n",
       "var outputEl = gd.closest('.output');\n",
       "if (outputEl) {{\n",
       "    x.observe(outputEl, {childList: true});\n",
       "}}\n",
       "\n",
       "                        })                };                });            </script>        </div>"
      ]
     },
     "metadata": {},
     "output_type": "display_data"
    }
   ],
   "source": [
    "fig = plot_feature_compare('PRAEGENDE_JUGENDJAHRE', 18)\n",
    "fig.show() \n",
    "# py.plot(fig, filname='udsnd_14_features', auto_open=False)"
   ]
  },
  {
   "cell_type": "markdown",
   "metadata": {},
   "source": [
    "In PC3 the largest loading score was car based `KBA13_HERST_BMW_BENZ`, In the third Principle Component we can see the highest loading scores are all regarding automobiles and generally those of a luxury class. This feature is the share of BMW & Mercedes Benz within the neighborhood. A score of 5 is high."
   ]
  },
  {
   "cell_type": "code",
   "execution_count": 91,
   "metadata": {},
   "outputs": [
    {
     "data": {
      "text/html": [
       "<div>                            <div id=\"1b567f67-87d6-4992-9d1c-a71779bc3664\" class=\"plotly-graph-div\" style=\"height:525px; width:100%;\"></div>            <script type=\"text/javascript\">                require([\"plotly\"], function(Plotly) {                    window.PLOTLYENV=window.PLOTLYENV || {};                                    if (document.getElementById(\"1b567f67-87d6-4992-9d1c-a71779bc3664\")) {                    Plotly.newPlot(                        \"1b567f67-87d6-4992-9d1c-a71779bc3664\",                        [{\"name\": \"Customers\", \"opacity\": 0.75, \"type\": \"bar\", \"x\": [1.0, 2.0, 3.0, 4.0, 5.0], \"y\": [0.0062270564242012235, 0.09351461590754588, 0.5255472467709041, 0.30058463630183546, 0.07412644459551325]}, {\"name\": \"Population\", \"opacity\": 0.75, \"type\": \"bar\", \"x\": [1.0, 2.0, 3.0, 4.0, 5.0], \"y\": [0.058269296291620684, 0.16909444089248699, 0.4319714178282925, 0.22965780396724236, 0.11100704102035747]}],                        {\"barmode\": \"overlay\", \"template\": {\"layout\": {\"annotationdefaults\": {\"arrowcolor\": \"#f2f5fa\", \"arrowhead\": 0, \"arrowwidth\": 1}, \"coloraxis\": {\"colorbar\": {\"outlinewidth\": 0, \"ticks\": \"\"}}, \"colorscale\": {\"diverging\": [[0, \"#8e0152\"], [0.1, \"#c51b7d\"], [0.2, \"#de77ae\"], [0.3, \"#f1b6da\"], [0.4, \"#fde0ef\"], [0.5, \"#f7f7f7\"], [0.6, \"#e6f5d0\"], [0.7, \"#b8e186\"], [0.8, \"#7fbc41\"], [0.9, \"#4d9221\"], [1, \"#276419\"]], \"sequential\": [[0.0, \"#0d0887\"], [0.1111111111111111, \"#46039f\"], [0.2222222222222222, \"#7201a8\"], [0.3333333333333333, \"#9c179e\"], [0.4444444444444444, \"#bd3786\"], [0.5555555555555556, \"#d8576b\"], [0.6666666666666666, \"#ed7953\"], [0.7777777777777778, \"#fb9f3a\"], [0.8888888888888888, \"#fdca26\"], [1.0, \"#f0f921\"]], \"sequentialminus\": [[0.0, \"#0d0887\"], [0.1111111111111111, \"#46039f\"], [0.2222222222222222, \"#7201a8\"], [0.3333333333333333, \"#9c179e\"], [0.4444444444444444, \"#bd3786\"], [0.5555555555555556, \"#d8576b\"], [0.6666666666666666, \"#ed7953\"], [0.7777777777777778, \"#fb9f3a\"], [0.8888888888888888, \"#fdca26\"], [1.0, \"#f0f921\"]]}, \"colorway\": [\"rgba(0, 203, 166, 0.7)\", \"rgba(168, 168, 168, 0.7)\", \"#19d3f3\", \"#00cc96\", \"#ab63fa\", \"#00CBA6\", \"#FF6692\", \"#B6E880\", \"#FF97FF\", \"#FECB52\"], \"font\": {\"color\": \"#2a3f5f\", \"family\": \"plain\"}, \"geo\": {\"bgcolor\": \"black\", \"lakecolor\": \"white\", \"landcolor\": \"white\", \"showlakes\": true, \"showland\": true, \"subunitcolor\": \"#506784\"}, \"hoverlabel\": {\"align\": \"left\"}, \"hovermode\": \"closest\", \"images\": [{\"layer\": \"below\", \"opacity\": 0.05, \"sizex\": 0.7, \"sizey\": 0.7, \"source\": \"https://product-derrick.s3.amazonaws.com/logoWhite.png\", \"x\": 0.15, \"xref\": \"paper\", \"y\": 0.75, \"yref\": \"paper\"}], \"mapbox\": {\"style\": \"light\"}, \"paper_bgcolor\": \"white\", \"plot_bgcolor\": \"white\", \"polar\": {\"angularaxis\": {\"gridcolor\": \"#506784\", \"linecolor\": \"#506784\", \"ticks\": \"\"}, \"bgcolor\": \"white\", \"radialaxis\": {\"gridcolor\": \"#506784\", \"linecolor\": \"#506784\", \"ticks\": \"\"}}, \"scene\": {\"xaxis\": {\"backgroundcolor\": \"white\", \"gridcolor\": \"#506784\", \"gridwidth\": 2, \"linecolor\": \"#506784\", \"showbackground\": true, \"ticks\": \"\", \"zerolinecolor\": \"#C8D4E3\"}, \"yaxis\": {\"backgroundcolor\": \"white\", \"gridcolor\": \"#506784\", \"gridwidth\": 2, \"linecolor\": \"#506784\", \"showbackground\": true, \"ticks\": \"\", \"zerolinecolor\": \"#C8D4E3\"}, \"zaxis\": {\"backgroundcolor\": \"rgb(17,17,17)\", \"gridcolor\": \"#506784\", \"gridwidth\": 2, \"linecolor\": \"#506784\", \"showbackground\": true, \"ticks\": \"\", \"zerolinecolor\": \"#C8D4E3\"}}, \"shapedefaults\": {\"line\": {\"color\": \"#f2f5fa\"}}, \"sliderdefaults\": {\"bgcolor\": \"#C8D4E3\", \"bordercolor\": \"rgb(17,17,17)\", \"borderwidth\": 1, \"tickwidth\": 0}, \"ternary\": {\"aaxis\": {\"gridcolor\": \"#506784\", \"linecolor\": \"#506784\", \"ticks\": \"\"}, \"baxis\": {\"gridcolor\": \"#506784\", \"linecolor\": \"#506784\", \"ticks\": \"\"}, \"bgcolor\": \"rgb(17,17,17)\", \"caxis\": {\"gridcolor\": \"#506784\", \"linecolor\": \"#506784\", \"ticks\": \"\"}}, \"title\": {\"font\": {\"size\": 24}, \"x\": 0.05}, \"updatemenudefaults\": {\"bgcolor\": \"#506784\", \"borderwidth\": 0}, \"xaxis\": {\"automargin\": true, \"gridcolor\": \"#DFE8F3\", \"linecolor\": \"#A2B1C6\", \"tickfont\": {\"color\": \"#2a3f5f\", \"family\": \"InterstateMono\", \"size\": 10}, \"ticks\": \"\", \"title\": {\"font\": {\"family\": \"Plain\", \"size\": 18}}, \"zerolinecolor\": \"#DFE8F3\", \"zerolinewidth\": 2}, \"yaxis\": {\"automargin\": true, \"gridcolor\": \"#DFE8F3\", \"linecolor\": \"#A2B1C6\", \"tickfont\": {\"color\": \"#2a3f5f\", \"family\": \"InterstateMono\", \"size\": 10}, \"ticks\": \"\", \"title\": {\"font\": {\"family\": \"plain\", \"size\": 18}}, \"zerolinecolor\": \"#DFE8F3\", \"zerolinewidth\": 2}}}, \"title\": {\"text\": \"Customer Segmentation by Feature<br><sub><b>Cluster:</b> 18  - <b>Feature:</b> KBA13_HERST_BMW_BENZ\"}, \"xaxis\": {\"title\": {\"text\": \"Value\"}}, \"yaxis\": {\"tickformat\": \".2%\", \"title\": {\"text\": \"Frequency\"}}},                        {\"responsive\": true}                    ).then(function(){\n",
       "                            \n",
       "var gd = document.getElementById('1b567f67-87d6-4992-9d1c-a71779bc3664');\n",
       "var x = new MutationObserver(function (mutations, observer) {{\n",
       "        var display = window.getComputedStyle(gd).display;\n",
       "        if (!display || display === 'none') {{\n",
       "            console.log([gd, 'removed!']);\n",
       "            Plotly.purge(gd);\n",
       "            observer.disconnect();\n",
       "        }}\n",
       "}});\n",
       "\n",
       "// Listen for the removal of the full notebook cells\n",
       "var notebookContainer = gd.closest('#notebook-container');\n",
       "if (notebookContainer) {{\n",
       "    x.observe(notebookContainer, {childList: true});\n",
       "}}\n",
       "\n",
       "// Listen for the clearing of the current output cell\n",
       "var outputEl = gd.closest('.output');\n",
       "if (outputEl) {{\n",
       "    x.observe(outputEl, {childList: true});\n",
       "}}\n",
       "\n",
       "                        })                };                });            </script>        </div>"
      ]
     },
     "metadata": {},
     "output_type": "display_data"
    }
   ],
   "source": [
    "fig = plot_feature_compare('KBA13_HERST_BMW_BENZ', 18)\n",
    "fig.show() \n",
    "# py.plot(fig, filname='udsnd_15_features', auto_open=False)"
   ]
  },
  {
   "cell_type": "markdown",
   "metadata": {},
   "source": [
    "`PLZ8_ANTG1` - Finally, the number of 1–2 family houses in the neighborhood of the individuals is lower for the customers in Cluster 18"
   ]
  },
  {
   "cell_type": "code",
   "execution_count": 92,
   "metadata": {},
   "outputs": [
    {
     "data": {
      "text/html": [
       "<div>                            <div id=\"ba9f8576-b87a-45f5-afa4-67fc94bb06b5\" class=\"plotly-graph-div\" style=\"height:525px; width:100%;\"></div>            <script type=\"text/javascript\">                require([\"plotly\"], function(Plotly) {                    window.PLOTLYENV=window.PLOTLYENV || {};                                    if (document.getElementById(\"ba9f8576-b87a-45f5-afa4-67fc94bb06b5\")) {                    Plotly.newPlot(                        \"ba9f8576-b87a-45f5-afa4-67fc94bb06b5\",                        [{\"name\": \"Customers\", \"opacity\": 0.75, \"type\": \"bar\", \"x\": [0.0, 1.0, 2.0, 3.0, 4.0], \"y\": [0.014276002719238613, 0.3081169272603671, 0.4557443915703603, 0.221862678450034]}, {\"name\": \"Population\", \"opacity\": 0.75, \"type\": \"bar\", \"x\": [0.0, 1.0, 2.0, 3.0, 4.0], \"y\": [0.007205270109395765, 0.24464253959980073, 0.35212024710764334, 0.28396610210904827, 0.11206584107411194]}],                        {\"barmode\": \"overlay\", \"template\": {\"layout\": {\"annotationdefaults\": {\"arrowcolor\": \"#f2f5fa\", \"arrowhead\": 0, \"arrowwidth\": 1}, \"coloraxis\": {\"colorbar\": {\"outlinewidth\": 0, \"ticks\": \"\"}}, \"colorscale\": {\"diverging\": [[0, \"#8e0152\"], [0.1, \"#c51b7d\"], [0.2, \"#de77ae\"], [0.3, \"#f1b6da\"], [0.4, \"#fde0ef\"], [0.5, \"#f7f7f7\"], [0.6, \"#e6f5d0\"], [0.7, \"#b8e186\"], [0.8, \"#7fbc41\"], [0.9, \"#4d9221\"], [1, \"#276419\"]], \"sequential\": [[0.0, \"#0d0887\"], [0.1111111111111111, \"#46039f\"], [0.2222222222222222, \"#7201a8\"], [0.3333333333333333, \"#9c179e\"], [0.4444444444444444, \"#bd3786\"], [0.5555555555555556, \"#d8576b\"], [0.6666666666666666, \"#ed7953\"], [0.7777777777777778, \"#fb9f3a\"], [0.8888888888888888, \"#fdca26\"], [1.0, \"#f0f921\"]], \"sequentialminus\": [[0.0, \"#0d0887\"], [0.1111111111111111, \"#46039f\"], [0.2222222222222222, \"#7201a8\"], [0.3333333333333333, \"#9c179e\"], [0.4444444444444444, \"#bd3786\"], [0.5555555555555556, \"#d8576b\"], [0.6666666666666666, \"#ed7953\"], [0.7777777777777778, \"#fb9f3a\"], [0.8888888888888888, \"#fdca26\"], [1.0, \"#f0f921\"]]}, \"colorway\": [\"rgba(0, 203, 166, 0.7)\", \"rgba(168, 168, 168, 0.7)\", \"#19d3f3\", \"#00cc96\", \"#ab63fa\", \"#00CBA6\", \"#FF6692\", \"#B6E880\", \"#FF97FF\", \"#FECB52\"], \"font\": {\"color\": \"#2a3f5f\", \"family\": \"plain\"}, \"geo\": {\"bgcolor\": \"black\", \"lakecolor\": \"white\", \"landcolor\": \"white\", \"showlakes\": true, \"showland\": true, \"subunitcolor\": \"#506784\"}, \"hoverlabel\": {\"align\": \"left\"}, \"hovermode\": \"closest\", \"images\": [{\"layer\": \"below\", \"opacity\": 0.05, \"sizex\": 0.7, \"sizey\": 0.7, \"source\": \"https://product-derrick.s3.amazonaws.com/logoWhite.png\", \"x\": 0.15, \"xref\": \"paper\", \"y\": 0.75, \"yref\": \"paper\"}], \"mapbox\": {\"style\": \"light\"}, \"paper_bgcolor\": \"white\", \"plot_bgcolor\": \"white\", \"polar\": {\"angularaxis\": {\"gridcolor\": \"#506784\", \"linecolor\": \"#506784\", \"ticks\": \"\"}, \"bgcolor\": \"white\", \"radialaxis\": {\"gridcolor\": \"#506784\", \"linecolor\": \"#506784\", \"ticks\": \"\"}}, \"scene\": {\"xaxis\": {\"backgroundcolor\": \"white\", \"gridcolor\": \"#506784\", \"gridwidth\": 2, \"linecolor\": \"#506784\", \"showbackground\": true, \"ticks\": \"\", \"zerolinecolor\": \"#C8D4E3\"}, \"yaxis\": {\"backgroundcolor\": \"white\", \"gridcolor\": \"#506784\", \"gridwidth\": 2, \"linecolor\": \"#506784\", \"showbackground\": true, \"ticks\": \"\", \"zerolinecolor\": \"#C8D4E3\"}, \"zaxis\": {\"backgroundcolor\": \"rgb(17,17,17)\", \"gridcolor\": \"#506784\", \"gridwidth\": 2, \"linecolor\": \"#506784\", \"showbackground\": true, \"ticks\": \"\", \"zerolinecolor\": \"#C8D4E3\"}}, \"shapedefaults\": {\"line\": {\"color\": \"#f2f5fa\"}}, \"sliderdefaults\": {\"bgcolor\": \"#C8D4E3\", \"bordercolor\": \"rgb(17,17,17)\", \"borderwidth\": 1, \"tickwidth\": 0}, \"ternary\": {\"aaxis\": {\"gridcolor\": \"#506784\", \"linecolor\": \"#506784\", \"ticks\": \"\"}, \"baxis\": {\"gridcolor\": \"#506784\", \"linecolor\": \"#506784\", \"ticks\": \"\"}, \"bgcolor\": \"rgb(17,17,17)\", \"caxis\": {\"gridcolor\": \"#506784\", \"linecolor\": \"#506784\", \"ticks\": \"\"}}, \"title\": {\"font\": {\"size\": 24}, \"x\": 0.05}, \"updatemenudefaults\": {\"bgcolor\": \"#506784\", \"borderwidth\": 0}, \"xaxis\": {\"automargin\": true, \"gridcolor\": \"#DFE8F3\", \"linecolor\": \"#A2B1C6\", \"tickfont\": {\"color\": \"#2a3f5f\", \"family\": \"InterstateMono\", \"size\": 10}, \"ticks\": \"\", \"title\": {\"font\": {\"family\": \"Plain\", \"size\": 18}}, \"zerolinecolor\": \"#DFE8F3\", \"zerolinewidth\": 2}, \"yaxis\": {\"automargin\": true, \"gridcolor\": \"#DFE8F3\", \"linecolor\": \"#A2B1C6\", \"tickfont\": {\"color\": \"#2a3f5f\", \"family\": \"InterstateMono\", \"size\": 10}, \"ticks\": \"\", \"title\": {\"font\": {\"family\": \"plain\", \"size\": 18}}, \"zerolinecolor\": \"#DFE8F3\", \"zerolinewidth\": 2}}}, \"title\": {\"text\": \"Customer Segmentation by Feature<br><sub><b>Cluster:</b> 18  - <b>Feature:</b> PLZ8_ANTG1\"}, \"xaxis\": {\"title\": {\"text\": \"Value\"}}, \"yaxis\": {\"tickformat\": \".2%\", \"title\": {\"text\": \"Frequency\"}}},                        {\"responsive\": true}                    ).then(function(){\n",
       "                            \n",
       "var gd = document.getElementById('ba9f8576-b87a-45f5-afa4-67fc94bb06b5');\n",
       "var x = new MutationObserver(function (mutations, observer) {{\n",
       "        var display = window.getComputedStyle(gd).display;\n",
       "        if (!display || display === 'none') {{\n",
       "            console.log([gd, 'removed!']);\n",
       "            Plotly.purge(gd);\n",
       "            observer.disconnect();\n",
       "        }}\n",
       "}});\n",
       "\n",
       "// Listen for the removal of the full notebook cells\n",
       "var notebookContainer = gd.closest('#notebook-container');\n",
       "if (notebookContainer) {{\n",
       "    x.observe(notebookContainer, {childList: true});\n",
       "}}\n",
       "\n",
       "// Listen for the clearing of the current output cell\n",
       "var outputEl = gd.closest('.output');\n",
       "if (outputEl) {{\n",
       "    x.observe(outputEl, {childList: true});\n",
       "}}\n",
       "\n",
       "                        })                };                });            </script>        </div>"
      ]
     },
     "metadata": {},
     "output_type": "display_data"
    }
   ],
   "source": [
    "fig = plot_feature_compare('PLZ8_ANTG1', 18)\n",
    "fig.show() \n",
    "# py.plot(fig, filname='udsnd_16_features', auto_open=False)"
   ]
  },
  {
   "cell_type": "markdown",
   "metadata": {},
   "source": [
    "## Build reusable Pipeline for Customer segmentation\n",
    "\n",
    "I will move all the components into a single pipeline to be saved for future use on new data. \n",
    "\n",
    "Create a function that could be used on future customer data. \n",
    "\n",
    "This includes the imputed values for each column. Why? While imputed values leads to data leak in a traditional train/test data set scenario. In this case I am considering the one off scenario.  If this cluster segmentation needed to be productionized and a single user mapped to it, I could not impute values for that user. \n",
    "\n",
    "The transformer in this pipeline will store the median value for each feature to be able to reproduce a prediction in the case that it is used against a single row of data and that row has missing values. Of course, in our cleaning step rows with less than 70% of fields will be dropped. "
   ]
  },
  {
   "cell_type": "code",
   "execution_count": 93,
   "metadata": {},
   "outputs": [
    {
     "name": "stdout",
     "output_type": "stream",
     "text": [
      "Starting Cleaning.\n",
      "Loaded Missing Value codes.\n",
      "Finished converting missing value codes to NaN.\n",
      "These fields were not found in the data ['BIP_FLAG', 'CAMEO_DEUINTL_2015', 'D19_KK_KUNDENTYP', 'GEOSCORE_KLS7', 'HAUSHALTSSTRUKTUR', 'KBA13_CCM_1400_2500', 'SOHO_FLAG', 'WACHSTUMSGEBIET_NB', 'GEOSCORE_KLS7', 'HAUSHALTSSTRUKTUR', 'WACHSTUMSGEBIET_NB']\n",
      "Dropped 154538 rows from the orginal 891221 rows in the dataset\n",
      "Dropped columns with missing data.\n",
      "Converted EINGEFUEGT_AM to year and month\n",
      "Split CAMEO_INTL_2015 into two columns\n",
      "Converted Categorical columns to dummy columns.\n",
      "Imputed NaN values with Median\n",
      "Starting Cleaning.\n",
      "Loaded Missing Value codes.\n",
      "Finished converting missing value codes to NaN.\n",
      "These fields were not found in the data ['BIP_FLAG', 'CAMEO_DEUINTL_2015', 'D19_KK_KUNDENTYP', 'GEOSCORE_KLS7', 'HAUSHALTSSTRUKTUR', 'KBA13_CCM_1400_2500', 'SOHO_FLAG', 'WACHSTUMSGEBIET_NB', 'GEOSCORE_KLS7', 'HAUSHALTSSTRUKTUR', 'WACHSTUMSGEBIET_NB']\n",
      "Dropped 57391 rows from the orginal 191652 rows in the dataset\n",
      "Dropped columns with missing data.\n",
      "Converted EINGEFUEGT_AM to year and month\n",
      "Split CAMEO_INTL_2015 into two columns\n",
      "Converted Categorical columns to dummy columns.\n",
      "Imputed NaN values with Median\n"
     ]
    }
   ],
   "source": [
    "azdias_neu = pd.read_parquet('Udacity_AZDIAS_052018.parquet')\n",
    "LNR, azdias_neu = clean_AZ_dataset(azdias_neu, impute=True) \n",
    "\n",
    "cust_neu = pd.read_parquet('Udacity_CUSTOMERS_052018.parquet')\n",
    "LNR, cust_neu = clean_AZ_dataset(cust_neu, impute=True)"
   ]
  },
  {
   "cell_type": "code",
   "execution_count": 94,
   "metadata": {},
   "outputs": [
    {
     "data": {
      "text/plain": [
       "Pipeline(steps=[('featureunion',\n",
       "                 FeatureUnion(transformer_list=[('features',\n",
       "                                                 SimpleImputer(strategy='median')),\n",
       "                                                ('indicators',\n",
       "                                                 MissingIndicator(features='all'))])),\n",
       "                ('standardscaler', StandardScaler()),\n",
       "                ('pca', PCA(n_components=180)),\n",
       "                ('kmeans', KMeans(n_clusters=11, random_state=42))])"
      ]
     },
     "execution_count": 94,
     "metadata": {},
     "output_type": "execute_result"
    }
   ],
   "source": [
    "def build_model():\n",
    "    \"\"\"\n",
    "    Builds an Sklearn Pipeline with a Simple Imputer, Scaler, PCA, and Kmeans. \n",
    "    Input - None\n",
    "    Output - Sklearn Pipeline object to be fit on Population data and reused with future data. \n",
    "    \"\"\"\n",
    "    transformer = FeatureUnion(\n",
    "    transformer_list=[\n",
    "        ('features', SimpleImputer(strategy='median')),\n",
    "        ('indicators', MissingIndicator(features=\"all\"))])\n",
    "    pipeline = make_pipeline(transformer, StandardScaler(), PCA(n_components = 180), KMeans(n_clusters=19, random_state=42))\n",
    "    return pipeline\n",
    "\n",
    "pipe = build_model()\n",
    "pipe.fit(azdias_neu)"
   ]
  },
  {
   "cell_type": "code",
   "execution_count": 95,
   "metadata": {},
   "outputs": [],
   "source": [
    "def save_model(model, model_filepath):\n",
    "    \"\"\"\n",
    "    Saves model as pickle object.\n",
    "    Input - model : model object\n",
    "            model_filepath : filepath destination for output\n",
    "    Output - None, file stored \n",
    "    \"\"\"\n",
    "    pkl.dump(model, open(model_filepath, 'wb'))\n",
    "    pass\n",
    "\n",
    "save_model(pipe, 'customer_segmentation/clusters.pkl')"
   ]
  },
  {
   "cell_type": "markdown",
   "metadata": {},
   "source": [
    "# Part 2: Supervised Learning Model\n",
    "\n",
    "---\n",
    "\n",
    "Now that you've found which parts of the population are more likely to be customers of the mail-order company, it's time to build a prediction model. Each of the rows in the \"MAILOUT\" data files represents an individual that was targeted for a mailout campaign. Ideally, we should be able to use the demographic information from each individual to decide whether or not it will be worth it to include that person in the campaign.\n",
    "\n",
    "The \"MAILOUT\" data has been split into two approximately equal parts, each with almost 43 000 data rows. In this part, you can verify your model with the \"TRAIN\" partition, which includes a column, \"RESPONSE\", that states whether or not a person became a customer of the company following the campaign. In the next part, you'll need to create predictions on the \"TEST\" partition, where the \"RESPONSE\" column has been withheld."
   ]
  },
  {
   "cell_type": "code",
   "execution_count": 3,
   "metadata": {},
   "outputs": [
    {
     "name": "stderr",
     "output_type": "stream",
     "text": [
      "/Users/derricklewis/.local/lib/python3.7/site-packages/IPython/core/interactiveshell.py:3146: DtypeWarning:\n",
      "\n",
      "Columns (18,19) have mixed types.Specify dtype option on import or set low_memory=False.\n",
      "\n"
     ]
    },
    {
     "name": "stdout",
     "output_type": "stream",
     "text": [
      "Starting Cleaning.\n",
      "Loaded Missing Value codes.\n",
      "Finished converting missing value codes to NaN.\n",
      "These fields were not found in the data ['BIP_FLAG', 'CAMEO_DEUINTL_2015', 'D19_KK_KUNDENTYP', 'GEOSCORE_KLS7', 'HAUSHALTSSTRUKTUR', 'KBA13_CCM_1400_2500', 'SOHO_FLAG', 'WACHSTUMSGEBIET_NB', 'GEOSCORE_KLS7', 'HAUSHALTSSTRUKTUR', 'WACHSTUMSGEBIET_NB']\n",
      "Dropped 9144 rows from the orginal 42962 rows in the dataset\n",
      "Dropped columns with missing data.\n",
      "Converted EINGEFUEGT_AM to year and month\n",
      "Split CAMEO_INTL_2015 into two columns\n",
      "Converted Categorical columns to dummy columns.\n",
      "Imputed NaN values with Median\n"
     ]
    }
   ],
   "source": [
    "X = pd.read_csv('Udacity_MAILOUT_052018_TRAIN.csv')\n",
    "LNR, X = clean_AZ_dataset(X, first_clean=True, impute=True)\n",
    "y = X['RESPONSE']\n",
    "X = X.drop('RESPONSE', axis=1)"
   ]
  },
  {
   "cell_type": "markdown",
   "metadata": {},
   "source": [
    "## Split\n",
    "\n",
    "For several quick trials I will split the data  into train and test sets to verify results. "
   ]
  },
  {
   "cell_type": "code",
   "execution_count": 7,
   "metadata": {},
   "outputs": [],
   "source": [
    "X_train, X_test, y_train, y_test =  train_test_split(X, y, stratify=y)"
   ]
  },
  {
   "cell_type": "markdown",
   "metadata": {},
   "source": [
    "## Evaluate Several Baseline Models\n",
    "\n",
    "Here I will trial several types of models to determine a rough idea of feasibilty of sucess.  Below is a function to produce a ROC curve visualization for the predictions of each traine algorithm. "
   ]
  },
  {
   "cell_type": "code",
   "execution_count": 8,
   "metadata": {},
   "outputs": [],
   "source": [
    "def evaluate_model(MODEL, X_test, y_test, name):\n",
    "    '''\n",
    "    Function to gather basic results for printing to standard out. \n",
    "    Input - Model : trained model object\n",
    "            X_test : Unseen Input features to evaluate model\n",
    "            y_test : Unseen labels to evaluate model\n",
    "    \n",
    "    Output - Roc_auc_score for predictions\n",
    "    '''\n",
    "    y_pred = MODEL.predict_proba(X_test)[:, 1]\n",
    "    fpr, tpr, thresholds = roc_curve(y_test, y_pred, pos_label=1)\n",
    "    fig = px.area(\n",
    "    x=fpr, y=tpr,\n",
    "    title=f'{name}<br><sub>ROC Curve (AUC={auc(fpr, tpr):.4f})',\n",
    "    labels=dict(x='False Positive Rate', y='True Positive Rate'),\n",
    "    )\n",
    "    fig.add_shape(\n",
    "    type='line', line=dict(dash='dash'),\n",
    "    x0=0, x1=1, y0=0, y1=1\n",
    "    )\n",
    "\n",
    "    fig.update_yaxes(scaleanchor=\"x\", scaleratio=1)\n",
    "    fig.update_xaxes(constrain='domain')\n",
    "    return fig"
   ]
  },
  {
   "cell_type": "markdown",
   "metadata": {},
   "source": [
    "Some models have built in adjustments for class imbalance. I will do a quick determination of class imbalance to be used when evaluating these models. "
   ]
  },
  {
   "cell_type": "code",
   "execution_count": 9,
   "metadata": {},
   "outputs": [
    {
     "name": "stdout",
     "output_type": "stream",
     "text": [
      "80\n"
     ]
    }
   ],
   "source": [
    "# sum(negative instances) / sum(positive instances)\n",
    "class_weight = int(y.value_counts()[0]/y.value_counts()[1])\n",
    "print(class_weight)"
   ]
  },
  {
   "cell_type": "markdown",
   "metadata": {},
   "source": [
    "## Logistic Regression"
   ]
  },
  {
   "cell_type": "code",
   "execution_count": 10,
   "metadata": {},
   "outputs": [
    {
     "data": {
      "text/plain": [
       "'https://plotly.com/~lewi0332/2145/'"
      ]
     },
     "execution_count": 10,
     "metadata": {},
     "output_type": "execute_result"
    }
   ],
   "source": [
    "from sklearn.linear_model import LogisticRegression\n",
    "LGR = make_pipeline(StandardScaler(), LogisticRegression(max_iter=1000, class_weight={0:1, 1:class_weight}, random_state=42))\n",
    "LGR.fit(X_train, y_train)\n",
    "fig = evaluate_model(LGR, X_test, y_test, 'Logistic Regression')\n",
    "fig.show()\n",
    "py.plot(fig, filname='udsnd_17_log', auto_open=False)"
   ]
  },
  {
   "cell_type": "markdown",
   "metadata": {},
   "source": [
    "## Support Vector Machines"
   ]
  },
  {
   "cell_type": "code",
   "execution_count": 11,
   "metadata": {
    "tags": []
   },
   "outputs": [],
   "source": [
    "from sklearn.svm import SVC\n",
    "clf = make_pipeline(StandardScaler(), SVC(gamma = 'auto', class_weight={0:1, 1:class_weight}, probability=True, random_state=42))\n",
    "clf.fit(X_train, y_train)\n",
    "fig = evaluate_model(clf, X_test, y_test, 'Support Vector Classifier')\n",
    "fig.show()\n",
    "py.plot(fig, filname='udsnd_18_svm', auto_open=False)"
   ]
  },
  {
   "cell_type": "markdown",
   "metadata": {},
   "source": [
    "## ADABoost"
   ]
  },
  {
   "cell_type": "code",
   "execution_count": 1,
   "metadata": {},
   "outputs": [
    {
     "ename": "NameError",
     "evalue": "name 'AdaBoostClassifier' is not defined",
     "output_type": "error",
     "traceback": [
      "\u001b[0;31m---------------------------------------------------------------------------\u001b[0m",
      "\u001b[0;31mNameError\u001b[0m                                 Traceback (most recent call last)",
      "\u001b[0;32m<ipython-input-1-69de7e2d1d98>\u001b[0m in \u001b[0;36m<module>\u001b[0;34m\u001b[0m\n\u001b[0;32m----> 1\u001b[0;31m \u001b[0mmodel\u001b[0m \u001b[0;34m=\u001b[0m \u001b[0mAdaBoostClassifier\u001b[0m\u001b[0;34m(\u001b[0m\u001b[0mrandom_state\u001b[0m\u001b[0;34m=\u001b[0m\u001b[0;36m42\u001b[0m\u001b[0;34m)\u001b[0m\u001b[0;34m\u001b[0m\u001b[0;34m\u001b[0m\u001b[0m\n\u001b[0m\u001b[1;32m      2\u001b[0m \u001b[0mmodel\u001b[0m\u001b[0;34m.\u001b[0m\u001b[0mfit\u001b[0m\u001b[0;34m(\u001b[0m\u001b[0mX_train\u001b[0m\u001b[0;34m,\u001b[0m \u001b[0my_train\u001b[0m\u001b[0;34m)\u001b[0m\u001b[0;34m\u001b[0m\u001b[0;34m\u001b[0m\u001b[0m\n\u001b[1;32m      3\u001b[0m \u001b[0mfig\u001b[0m \u001b[0;34m=\u001b[0m \u001b[0mevaluate_model\u001b[0m\u001b[0;34m(\u001b[0m\u001b[0mmodel\u001b[0m\u001b[0;34m,\u001b[0m \u001b[0mX_test\u001b[0m\u001b[0;34m,\u001b[0m \u001b[0my_test\u001b[0m\u001b[0;34m,\u001b[0m \u001b[0mname\u001b[0m\u001b[0;34m=\u001b[0m\u001b[0;34m'AdaBoost'\u001b[0m\u001b[0;34m)\u001b[0m\u001b[0;34m\u001b[0m\u001b[0;34m\u001b[0m\u001b[0m\n\u001b[1;32m      4\u001b[0m \u001b[0mfig\u001b[0m\u001b[0;34m.\u001b[0m\u001b[0mshow\u001b[0m\u001b[0;34m(\u001b[0m\u001b[0;34m)\u001b[0m\u001b[0;34m\u001b[0m\u001b[0;34m\u001b[0m\u001b[0m\n\u001b[1;32m      5\u001b[0m \u001b[0mpy\u001b[0m\u001b[0;34m.\u001b[0m\u001b[0mplot\u001b[0m\u001b[0;34m(\u001b[0m\u001b[0mfig\u001b[0m\u001b[0;34m,\u001b[0m \u001b[0mfilname\u001b[0m\u001b[0;34m=\u001b[0m\u001b[0;34m'udsnd_19_ada'\u001b[0m\u001b[0;34m,\u001b[0m \u001b[0mauto_open\u001b[0m\u001b[0;34m=\u001b[0m\u001b[0;32mFalse\u001b[0m\u001b[0;34m)\u001b[0m\u001b[0;34m\u001b[0m\u001b[0;34m\u001b[0m\u001b[0m\n",
      "\u001b[0;31mNameError\u001b[0m: name 'AdaBoostClassifier' is not defined"
     ]
    }
   ],
   "source": [
    "model = AdaBoostClassifier(random_state=42)\n",
    "model.fit(X_train, y_train)\n",
    "fig = evaluate_model(model, X_test, y_test, name='AdaBoost')\n",
    "fig.show()\n",
    "py.plot(fig, filname='udsnd_19_ada', auto_open=False)"
   ]
  },
  {
   "cell_type": "markdown",
   "metadata": {},
   "source": [
    "## XGBoost"
   ]
  },
  {
   "cell_type": "code",
   "execution_count": null,
   "metadata": {},
   "outputs": [],
   "source": [
    "model = xgb.XGBClassifier(use_label_encoder=False, eval_metric='auc', scale_pos_weight = 80, random_state=42)\n",
    "model.fit(X_train, y_train)\n",
    "fig = evaluate_model(model, X_test, y_test, name = 'XGBoost')\n",
    "fig.show()\n",
    "py.plot(fig, filname='udsnd_20_xgb', auto_open=False)"
   ]
  },
  {
   "cell_type": "markdown",
   "metadata": {},
   "source": [
    "## Use XGBoost\n",
    "\n",
    "going to use XGboost Algorithm and optimize for the best parameters. "
   ]
  },
  {
   "cell_type": "code",
   "execution_count": 238,
   "metadata": {
    "tags": [
     "outputPrepend"
    ]
   },
   "outputs": [
    {
     "name": "stdout",
     "output_type": "stream",
     "text": [
      " END learning_rate=0.9, max_depth=3, n_estimators=20;, score=0.710 total time=   1.5s\n",
      "[CV 1/4] END learning_rate=0.9, max_depth=3, n_estimators=40;, score=0.670 total time=   2.6s\n",
      "[CV 2/4] END learning_rate=0.9, max_depth=3, n_estimators=40;, score=0.660 total time=   2.7s\n",
      "[CV 3/4] END learning_rate=0.9, max_depth=3, n_estimators=40;, score=0.655 total time=   3.3s\n",
      "[CV 4/4] END learning_rate=0.9, max_depth=3, n_estimators=40;, score=0.674 total time=   3.4s\n",
      "[CV 1/4] END learning_rate=0.9, max_depth=3, n_estimators=60;, score=0.642 total time=   4.8s\n",
      "[CV 2/4] END learning_rate=0.9, max_depth=3, n_estimators=60;, score=0.662 total time=   5.8s\n",
      "[CV 3/4] END learning_rate=0.9, max_depth=3, n_estimators=60;, score=0.662 total time=   5.5s\n",
      "[CV 4/4] END learning_rate=0.9, max_depth=3, n_estimators=60;, score=0.671 total time=   4.1s\n",
      "[CV 1/4] END learning_rate=0.9, max_depth=6, n_estimators=20;, score=0.663 total time=   2.6s\n",
      "[CV 2/4] END learning_rate=0.9, max_depth=6, n_estimators=20;, score=0.567 total time=   2.7s\n",
      "[CV 3/4] END learning_rate=0.9, max_depth=6, n_estimators=20;, score=0.679 total time=   2.6s\n",
      "[CV 4/4] END learning_rate=0.9, max_depth=6, n_estimators=20;, score=0.590 total time=   2.5s\n",
      "[CV 1/4] END learning_rate=0.9, max_depth=6, n_estimators=40;, score=0.669 total time=   4.7s\n",
      "[CV 2/4] END learning_rate=0.9, max_depth=6, n_estimators=40;, score=0.543 total time=   4.8s\n",
      "[CV 3/4] END learning_rate=0.9, max_depth=6, n_estimators=40;, score=0.678 total time=   4.9s\n",
      "[CV 4/4] END learning_rate=0.9, max_depth=6, n_estimators=40;, score=0.611 total time=   4.8s\n",
      "[CV 1/4] END learning_rate=0.9, max_depth=6, n_estimators=60;, score=0.684 total time=   6.9s\n",
      "[CV 2/4] END learning_rate=0.9, max_depth=6, n_estimators=60;, score=0.546 total time=   6.8s\n",
      "[CV 3/4] END learning_rate=0.9, max_depth=6, n_estimators=60;, score=0.679 total time=   6.8s\n",
      "[CV 4/4] END learning_rate=0.9, max_depth=6, n_estimators=60;, score=0.617 total time=   6.9s\n",
      "ROC AUC Score: 0.7234140545121266\n"
     ]
    }
   ],
   "source": [
    "model = xgb.XGBClassifier(\n",
    "    use_label_encoder=False,\n",
    "    eval_metric='auc',\n",
    "    # learning_rate = 0.01,\n",
    "    scale_pos_weight = 80,\n",
    "    n_estimators = 20,\n",
    "    max_delta_step=5\n",
    "    )\n",
    "param_grid = {\n",
    "    'learning_rate': [.01, 0.1, 0.5, .9],\n",
    "    # 'num_leaves': [2],      \n",
    "    'max_depth': [2, 3, 6],\n",
    "    # 'colsample_bytree':[0.5, 1.0],\n",
    "    # \"min_data_in_leaf\":[20, 100],\n",
    "    # 'min_child_samples': [0, 50],\n",
    "    # 'max_bin': [100, 1000],\n",
    "    # 'reg_lambda': [1e-9, 1.0],\n",
    "    # 'reg_alpha': [1e-9, 1.0],\n",
    "    # 'scale_pos_weight': [80],\n",
    "    'n_estimators': [20,40,60]\n",
    "}\n",
    "grid = GridSearchCV(model, param_grid, cv=4, scoring='roc_auc', verbose=3)\n",
    "grid.fit(X, y)\n",
    "# evaluate_model(grid, X_test, y_test)"
   ]
  },
  {
   "cell_type": "code",
   "execution_count": 175,
   "metadata": {},
   "outputs": [
    {
     "data": {
      "text/plain": [
       "1.0"
      ]
     },
     "execution_count": 175,
     "metadata": {},
     "output_type": "execute_result"
    }
   ],
   "source": [
    "LGR.predict(X_test)"
   ]
  },
  {
   "cell_type": "code",
   "execution_count": null,
   "metadata": {},
   "outputs": [],
   "source": []
  },
  {
   "cell_type": "markdown",
   "metadata": {},
   "source": [
    "## Part 3: Kaggle Competition\n",
    "\n",
    "Now that you've created a model to predict which individuals are most likely to respond to a mailout campaign, it's time to test that model in competition through Kaggle. If you click on the link [here](http://www.kaggle.com/t/21e6d45d4c574c7fa2d868f0e8c83140), you'll be taken to the competition page where, if you have a Kaggle account, you can enter.\n",
    "\n",
    "Your entry to the competition should be a CSV file with two columns. The first column should be a copy of \"LNR\", which acts as an ID number for each individual in the \"TEST\" partition. The second column, \"RESPONSE\", should be some measure of how likely each individual became a customer – this might not be a straightforward probability. As you should have found in Part 2, there is a large output class imbalance, where most individuals did not respond to the mailout. Thus, predicting individual classes and using accuracy does not seem to be an appropriate performance evaluation method. Instead, the competition will be using AUC to evaluate performance. The exact values of the \"RESPONSE\" column do not matter as much: only that the higher values try to capture as many of the actual customers as possible, early in the ROC curve sweep."
   ]
  },
  {
   "cell_type": "code",
   "execution_count": null,
   "metadata": {},
   "outputs": [],
   "source": [
    "mailout_test = pd.read_csv('Udacity_MAILOUT_052018_TEST.csv', sep=';')\n",
    "LNR, X = clean_AZ_dataset(mailout_test, first_clean=True, impute=True)"
   ]
  },
  {
   "cell_type": "code",
   "execution_count": null,
   "metadata": {},
   "outputs": [],
   "source": [
    "y_pred = grid.predict_proba(X)[:, 1]"
   ]
  },
  {
   "cell_type": "code",
   "execution_count": null,
   "metadata": {},
   "outputs": [],
   "source": [
    "kaggle_sub = pd.DataFrame(index=mailout_test['LNR'].astype('int32'), data=preds)\n",
    "kaggle_sub.rename(columns={0: \"RESPONSE\"}, inplace=True)\n",
    "kaggle_sub.to_csv('kaggle_sub.csv')"
   ]
  }
 ],
 "metadata": {
  "interpreter": {
   "hash": "c73586b2bbcbea29e3f937324674846c062a90b5fff9256e67fa617aeaa688aa"
  },
  "kernelspec": {
   "display_name": "Python 3.7.6 64-bit ('udacity': conda)",
   "name": "python3"
  },
  "language_info": {
   "codemirror_mode": {
    "name": "ipython",
    "version": 3
   },
   "file_extension": ".py",
   "mimetype": "text/x-python",
   "name": "python",
   "nbconvert_exporter": "python",
   "pygments_lexer": "ipython3",
   "version": "3.7.6"
  }
 },
 "nbformat": 4,
 "nbformat_minor": 2
}